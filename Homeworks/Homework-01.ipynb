{
 "cells": [
  {
   "cell_type": "markdown",
   "metadata": {},
   "source": [
    "# Homework 1"
   ]
  },
  {
   "cell_type": "markdown",
   "metadata": {},
   "source": [
    "_**[Energy Systems Optimization](https://github.com/nspatank/energy_system_optimization)**_\n",
    "\n",
    "_by Neha Patankar (last updated: September 23, 2023)_\n",
    "\n",
    "This Notebook will walk you through defining a simple transport flow model and then ask you to interact with the solutions and modify to model to add additional constraints..."
   ]
  },
  {
   "cell_type": "markdown",
   "metadata": {},
   "source": [
    "## Setting up the model"
   ]
  },
  {
   "cell_type": "markdown",
   "metadata": {},
   "source": [
    "### Load packages"
   ]
  },
  {
   "cell_type": "code",
   "execution_count": 1,
   "metadata": {},
   "outputs": [],
   "source": [
    "using JuMP\n",
    "using HiGHS\n",
    "using DataFrames\n",
    "using CSV"
   ]
  },
  {
   "cell_type": "markdown",
   "metadata": {},
   "source": [
    "### Define sets"
   ]
  },
  {
   "cell_type": "markdown",
   "metadata": {},
   "source": [
    "We will define two sets, both as arrays of strings"
   ]
  },
  {
   "cell_type": "markdown",
   "metadata": {},
   "source": [
    "***Production plants, $P$***"
   ]
  },
  {
   "cell_type": "code",
   "execution_count": 2,
   "metadata": {},
   "outputs": [
    {
     "data": {
      "text/plain": [
       "2-element Vector{String}:\n",
       " \"trenton\"\n",
       " \"newark\""
      ]
     },
     "metadata": {},
     "output_type": "display_data"
    }
   ],
   "source": [
    "P=[\"trenton\", \"newark\"] # production plants"
   ]
  },
  {
   "cell_type": "markdown",
   "metadata": {},
   "source": [
    "***Markets for products, $M$***"
   ]
  },
  {
   "cell_type": "code",
   "execution_count": 3,
   "metadata": {},
   "outputs": [
    {
     "data": {
      "text/plain": [
       "3-element Vector{String}:\n",
       " \"newyork\"\n",
       " \"princeton\"\n",
       " \"philadelphia\""
      ]
     },
     "metadata": {},
     "output_type": "display_data"
    }
   ],
   "source": [
    "M=[\"newyork\", \"princeton\", \"philadelphia\"] # markets for products"
   ]
  },
  {
   "cell_type": "markdown",
   "metadata": {},
   "source": [
    "Note that sets can also be defined over intervals (as in `i=1:10`) or numerical vectors (as in `x=[2, 4, 5, 11]`) "
   ]
  },
  {
   "cell_type": "markdown",
   "metadata": {},
   "source": [
    "### Define parameters"
   ]
  },
  {
   "cell_type": "markdown",
   "metadata": {},
   "source": [
    "We'll make use of the defined sets as indexes for our parameters...\n",
    "\n",
    "***Plant production capacities***"
   ]
  },
  {
   "cell_type": "code",
   "execution_count": 4,
   "metadata": {},
   "outputs": [
    {
     "data": {
      "text/html": [
       "<div><div style = \"float: left;\"><span>2×2 DataFrame</span></div><div style = \"clear: both;\"></div></div><div class = \"data-frame\" style = \"overflow-x: scroll;\"><table class = \"data-frame\" style = \"margin-bottom: 6px;\"><thead><tr class = \"header\"><th class = \"rowNumber\" style = \"font-weight: bold; text-align: right;\">Row</th><th style = \"text-align: left;\">plant</th><th style = \"text-align: left;\">capacity</th></tr><tr class = \"subheader headerLastRow\"><th class = \"rowNumber\" style = \"font-weight: bold; text-align: right;\"></th><th title = \"String\" style = \"text-align: left;\">String</th><th title = \"Int64\" style = \"text-align: left;\">Int64</th></tr></thead><tbody><tr><td class = \"rowNumber\" style = \"font-weight: bold; text-align: right;\">1</td><td style = \"text-align: left;\">trenton</td><td style = \"text-align: right;\">350</td></tr><tr><td class = \"rowNumber\" style = \"font-weight: bold; text-align: right;\">2</td><td style = \"text-align: left;\">newark</td><td style = \"text-align: right;\">650</td></tr></tbody></table></div>"
      ],
      "text/latex": [
       "\\begin{tabular}{r|cc}\n",
       "\t& plant & capacity\\\\\n",
       "\t\\hline\n",
       "\t& String & Int64\\\\\n",
       "\t\\hline\n",
       "\t1 & trenton & 350 \\\\\n",
       "\t2 & newark & 650 \\\\\n",
       "\\end{tabular}\n"
      ],
      "text/plain": [
       "\u001b[1m2×2 DataFrame\u001b[0m\n",
       "\u001b[1m Row \u001b[0m│\u001b[1m plant   \u001b[0m\u001b[1m capacity \u001b[0m\n",
       "     │\u001b[90m String  \u001b[0m\u001b[90m Int64    \u001b[0m\n",
       "─────┼───────────────────\n",
       "   1 │ trenton       350\n",
       "   2 │ newark        650"
      ]
     },
     "metadata": {},
     "output_type": "display_data"
    }
   ],
   "source": [
    "plants = DataFrame(plant=P, capacity=[350,650])"
   ]
  },
  {
   "cell_type": "markdown",
   "metadata": {},
   "source": [
    "***Demand for products***\n",
    "\n",
    "Stored in a [DataFrame](https://juliadata.github.io/DataFrames.jl/stable/)"
   ]
  },
  {
   "cell_type": "code",
   "execution_count": 5,
   "metadata": {},
   "outputs": [
    {
     "data": {
      "text/html": [
       "<div><div style = \"float: left;\"><span>3×2 DataFrame</span></div><div style = \"clear: both;\"></div></div><div class = \"data-frame\" style = \"overflow-x: scroll;\"><table class = \"data-frame\" style = \"margin-bottom: 6px;\"><thead><tr class = \"header\"><th class = \"rowNumber\" style = \"font-weight: bold; text-align: right;\">Row</th><th style = \"text-align: left;\">market</th><th style = \"text-align: left;\">demand</th></tr><tr class = \"subheader headerLastRow\"><th class = \"rowNumber\" style = \"font-weight: bold; text-align: right;\"></th><th title = \"String\" style = \"text-align: left;\">String</th><th title = \"Int64\" style = \"text-align: left;\">Int64</th></tr></thead><tbody><tr><td class = \"rowNumber\" style = \"font-weight: bold; text-align: right;\">1</td><td style = \"text-align: left;\">newyork</td><td style = \"text-align: right;\">325</td></tr><tr><td class = \"rowNumber\" style = \"font-weight: bold; text-align: right;\">2</td><td style = \"text-align: left;\">princeton</td><td style = \"text-align: right;\">300</td></tr><tr><td class = \"rowNumber\" style = \"font-weight: bold; text-align: right;\">3</td><td style = \"text-align: left;\">philadelphia</td><td style = \"text-align: right;\">275</td></tr></tbody></table></div>"
      ],
      "text/latex": [
       "\\begin{tabular}{r|cc}\n",
       "\t& market & demand\\\\\n",
       "\t\\hline\n",
       "\t& String & Int64\\\\\n",
       "\t\\hline\n",
       "\t1 & newyork & 325 \\\\\n",
       "\t2 & princeton & 300 \\\\\n",
       "\t3 & philadelphia & 275 \\\\\n",
       "\\end{tabular}\n"
      ],
      "text/plain": [
       "\u001b[1m3×2 DataFrame\u001b[0m\n",
       "\u001b[1m Row \u001b[0m│\u001b[1m market       \u001b[0m\u001b[1m demand \u001b[0m\n",
       "     │\u001b[90m String       \u001b[0m\u001b[90m Int64  \u001b[0m\n",
       "─────┼──────────────────────\n",
       "   1 │ newyork          325\n",
       "   2 │ princeton        300\n",
       "   3 │ philadelphia     275"
      ]
     },
     "metadata": {},
     "output_type": "display_data"
    }
   ],
   "source": [
    "markets = DataFrame(\n",
    "    market=M, \n",
    "    demand=[325, 300, 275]\n",
    ")"
   ]
  },
  {
   "cell_type": "markdown",
   "metadata": {},
   "source": [
    "A few different ways to index into our DataFrames to access parameters (all of the below are equivalent)"
   ]
  },
  {
   "cell_type": "code",
   "execution_count": 6,
   "metadata": {},
   "outputs": [
    {
     "data": {
      "text/plain": [
       "1-element Vector{Int64}:\n",
       " 650"
      ]
     },
     "metadata": {},
     "output_type": "display_data"
    }
   ],
   "source": [
    "plants[plants.plant.==\"newark\",:capacity] # option 1"
   ]
  },
  {
   "cell_type": "code",
   "execution_count": 7,
   "metadata": {},
   "outputs": [
    {
     "data": {
      "text/plain": [
       "1-element Vector{Int64}:\n",
       " 650"
      ]
     },
     "metadata": {},
     "output_type": "display_data"
    }
   ],
   "source": [
    "plants[plants.plant.==\"newark\",:].capacity # option 2"
   ]
  },
  {
   "cell_type": "code",
   "execution_count": 8,
   "metadata": {},
   "outputs": [
    {
     "data": {
      "text/plain": [
       "1-element Vector{Int64}:\n",
       " 650"
      ]
     },
     "metadata": {},
     "output_type": "display_data"
    }
   ],
   "source": [
    "plants.capacity[plants.plant.==\"newark\"] # option 3"
   ]
  },
  {
   "cell_type": "code",
   "execution_count": 9,
   "metadata": {},
   "outputs": [
    {
     "data": {
      "text/plain": [
       "1-element Vector{Int64}:\n",
       " 650"
      ]
     },
     "metadata": {},
     "output_type": "display_data"
    }
   ],
   "source": [
    "plants[:,:capacity][plants.plant.==\"newark\"] # option 4"
   ]
  },
  {
   "cell_type": "markdown",
   "metadata": {},
   "source": [
    "Note that DataFrame indexing returns an Array by default, in this case, a 1-element Array of type Int64 (64-bit integer), as indicated by `Array{Int64,1}` above. \n",
    "\n",
    "To access the single Int64 value, append `[1]` to any of the above to reference the first (and only) element in this array. "
   ]
  },
  {
   "cell_type": "code",
   "execution_count": 10,
   "metadata": {},
   "outputs": [
    {
     "data": {
      "text/plain": [
       "650"
      ]
     },
     "metadata": {},
     "output_type": "display_data"
    }
   ],
   "source": [
    "plants.capacity[plants.plant.==\"newark\"][1]"
   ]
  },
  {
   "cell_type": "code",
   "execution_count": 11,
   "metadata": {},
   "outputs": [
    {
     "data": {
      "text/plain": [
       "Int64"
      ]
     },
     "metadata": {},
     "output_type": "display_data"
    }
   ],
   "source": [
    "typeof(plants.capacity[plants.plant.==\"newark\"][1])"
   ]
  },
  {
   "cell_type": "code",
   "execution_count": 12,
   "metadata": {},
   "outputs": [
    {
     "data": {
      "text/plain": [
       "Vector{Int64}\u001b[90m (alias for \u001b[39m\u001b[90mArray{Int64, 1}\u001b[39m\u001b[90m)\u001b[39m"
      ]
     },
     "metadata": {},
     "output_type": "display_data"
    }
   ],
   "source": [
    "typeof(plants.capacity[plants.plant.==\"newark\"])"
   ]
  },
  {
   "cell_type": "markdown",
   "metadata": {},
   "source": [
    "***Distance from plants to markets***\n",
    "\n",
    "Stored in a JuMP [DenseAxisArray](https://jump.dev/JuMP.jl/v0.19/containers/) with data array and symbolic references across each of our sets (plants and markets), converted to Symbols for referencing"
   ]
  },
  {
   "cell_type": "code",
   "execution_count": 13,
   "metadata": {},
   "outputs": [
    {
     "data": {
      "text/plain": [
       "2-dimensional DenseAxisArray{Float64,2,...} with index sets:\n",
       "    Dimension 1, [:trenton, :newark]\n",
       "    Dimension 2, [:newyork, :princeton, :philadelphia]\n",
       "And data, a 2×3 Matrix{Float64}:\n",
       " 2.5  0.5  1.5\n",
       " 0.5  1.5  3.5"
      ]
     },
     "metadata": {},
     "output_type": "display_data"
    }
   ],
   "source": [
    "# two dimensional symbolic DenseAxisArray, with from/to distance pairs\n",
    "distances = JuMP.Containers.DenseAxisArray(\n",
    "    [2.5 0.5 1.5;\n",
    "     0.5 1.5 3.5],\n",
    "    Symbol.(P),\n",
    "    Symbol.(M),\n",
    ")"
   ]
  },
  {
   "cell_type": "markdown",
   "metadata": {},
   "source": [
    "A couple example references to our DenseAxisArray to access parameters..."
   ]
  },
  {
   "cell_type": "code",
   "execution_count": 14,
   "metadata": {},
   "outputs": [
    {
     "data": {
      "text/plain": [
       "2.5"
      ]
     },
     "metadata": {},
     "output_type": "display_data"
    }
   ],
   "source": [
    "distances[:trenton, :newyork] #example of distance references"
   ]
  },
  {
   "cell_type": "code",
   "execution_count": 15,
   "metadata": {},
   "outputs": [
    {
     "data": {
      "text/plain": [
       "0.5"
      ]
     },
     "metadata": {},
     "output_type": "display_data"
    }
   ],
   "source": [
    "distances[:newark, :newyork] #example of distance references"
   ]
  },
  {
   "cell_type": "code",
   "execution_count": 16,
   "metadata": {},
   "outputs": [
    {
     "data": {
      "text/plain": [
       "0.5"
      ]
     },
     "metadata": {},
     "output_type": "display_data"
    }
   ],
   "source": [
    "distances[Symbol(P[2]),Symbol(M[1])] # another way to find distance from newark to trenton"
   ]
  },
  {
   "cell_type": "code",
   "execution_count": 17,
   "metadata": {},
   "outputs": [
    {
     "data": {
      "text/plain": [
       "0.5"
      ]
     },
     "metadata": {},
     "output_type": "display_data"
    }
   ],
   "source": [
    "distances[Symbol(\"newark\"), Symbol(\"newyork\")] # and a third..."
   ]
  },
  {
   "cell_type": "markdown",
   "metadata": {},
   "source": [
    "***Costs of transport***"
   ]
  },
  {
   "cell_type": "code",
   "execution_count": 18,
   "metadata": {},
   "outputs": [
    {
     "data": {
      "text/plain": [
       "90"
      ]
     },
     "metadata": {},
     "output_type": "display_data"
    }
   ],
   "source": [
    "freight_cost = 90 # Cost of freight shipment per unit of distance"
   ]
  },
  {
   "cell_type": "markdown",
   "metadata": {},
   "source": [
    "### Create model\n",
    "(and specify the Clp solver)"
   ]
  },
  {
   "cell_type": "code",
   "execution_count": 19,
   "metadata": {},
   "outputs": [],
   "source": [
    "transport = Model(HiGHS.Optimizer);"
   ]
  },
  {
   "cell_type": "markdown",
   "metadata": {},
   "source": [
    "### Define variables"
   ]
  },
  {
   "cell_type": "markdown",
   "metadata": {},
   "source": [
    "***Quantities of product to transport from plant $p \\in P$ to market $m \\in M$***"
   ]
  },
  {
   "cell_type": "code",
   "execution_count": 20,
   "metadata": {},
   "outputs": [
    {
     "data": {
      "text/plain": [
       "2-dimensional DenseAxisArray{VariableRef,2,...} with index sets:\n",
       "    Dimension 1, [\"trenton\", \"newark\"]\n",
       "    Dimension 2, [\"newyork\", \"princeton\", \"philadelphia\"]\n",
       "And data, a 2×3 Matrix{VariableRef}:\n",
       " X[trenton,newyork]  X[trenton,princeton]  X[trenton,philadelphia]\n",
       " X[newark,newyork]   X[newark,princeton]   X[newark,philadelphia]"
      ]
     },
     "metadata": {},
     "output_type": "display_data"
    }
   ],
   "source": [
    "@variable(transport, X[P,M] >= 0)"
   ]
  },
  {
   "cell_type": "markdown",
   "metadata": {},
   "source": [
    "Example reference to single quantity decision variable, the quantity shipped from Newark to Philadelphia:"
   ]
  },
  {
   "cell_type": "code",
   "execution_count": 23,
   "metadata": {},
   "outputs": [
    {
     "data": {
      "text/latex": [
       "$ X_{newark,philadelphia} $"
      ],
      "text/plain": [
       "X[newark,philadelphia]"
      ]
     },
     "metadata": {},
     "output_type": "display_data"
    }
   ],
   "source": [
    "X[\"newark\",\"philadelphia\"]"
   ]
  },
  {
   "cell_type": "markdown",
   "metadata": {},
   "source": [
    "### Define constraints"
   ]
  },
  {
   "cell_type": "markdown",
   "metadata": {},
   "source": [
    "***Supply capacity constraint***"
   ]
  },
  {
   "cell_type": "code",
   "execution_count": 22,
   "metadata": {},
   "outputs": [
    {
     "data": {
      "text/plain": [
       "1-dimensional DenseAxisArray{ConstraintRef{Model, MathOptInterface.ConstraintIndex{MathOptInterface.ScalarAffineFunction{Float64}, MathOptInterface.LessThan{Float64}}, ScalarShape},1,...} with index sets:\n",
       "    Dimension 1, [\"trenton\", \"newark\"]\n",
       "And data, a 2-element Vector{ConstraintRef{Model, MathOptInterface.ConstraintIndex{MathOptInterface.ScalarAffineFunction{Float64}, MathOptInterface.LessThan{Float64}}, ScalarShape}}:\n",
       " cSupply[trenton] : X[trenton,newyork] + X[trenton,princeton] + X[trenton,philadelphia] <= 350\n",
       " cSupply[newark] : X[newark,newyork] + X[newark,princeton] + X[newark,philadelphia] <= 650"
      ]
     },
     "metadata": {},
     "output_type": "display_data"
    }
   ],
   "source": [
    "@constraint(transport, cSupply[p in P], \n",
    "    sum(X[p,m] for m in M) \n",
    "    <= plants.capacity[plants.plant.==p][1])"
   ]
  },
  {
   "cell_type": "markdown",
   "metadata": {},
   "source": [
    "***Demand balance constraint***\n",
    "\n",
    "Ensure all demand is satisfied at each market"
   ]
  },
  {
   "cell_type": "code",
   "execution_count": 25,
   "metadata": {},
   "outputs": [
    {
     "ename": "ErrorException",
     "evalue": "An object of name cDemand is already attached to this model. If this\n    is intended, consider using the anonymous construction syntax, for example,\n    `x = @variable(model, [1:N], ...)` where the name of the object does\n    not appear inside the macro.\n\n    Alternatively, use `unregister(model, :cDemand)` to first unregister\n    the existing name from the model. Note that this will not delete the\n    object; it will just remove the reference at `model[:cDemand]`.\n",
     "output_type": "error",
     "traceback": [
      "An object of name cDemand is already attached to this model. If this\n",
      "    is intended, consider using the anonymous construction syntax, for example,\n",
      "    `x = @variable(model, [1:N], ...)` where the name of the object does\n",
      "    not appear inside the macro.\n",
      "\n",
      "    Alternatively, use `unregister(model, :cDemand)` to first unregister\n",
      "    the existing name from the model. Note that this will not delete the\n",
      "    object; it will just remove the reference at `model[:cDemand]`.\n",
      "\n",
      "\n",
      "Stacktrace:\n",
      " [1] error(s::String)\n",
      "   @ Base .\\error.jl:35\n",
      " [2] _error_if_cannot_register(model::Model, name::Symbol)\n",
      "   @ JuMP C:\\Users\\Srikanth\\.julia\\packages\\JuMP\\6RAQ9\\src\\macros.jl:411\n",
      " [3] macro expansion\n",
      "   @ C:\\Users\\Srikanth\\.julia\\packages\\JuMP\\6RAQ9\\src\\macros.jl:400 [inlined]\n",
      " [4] top-level scope\n",
      "   @ c:\\Users\\Srikanth\\My Drive (siyer5@binghamton.edu)\\Binghamton\\Fall 2024\\SSIE 516 - Energy Sys Analytics - Neha Patankar\\HW\\hw5\\jl_notebook_cell_df34fa98e69747e1a8f8a730347b8e2f_X64sZmlsZQ==.jl:1"
     ]
    }
   ],
   "source": [
    "@constraint(transport, cDemand[m in M], \n",
    "    sum(X[p,m] for p in P) \n",
    "    >= markets.demand[markets.market.==m][1])"
   ]
  },
  {
   "cell_type": "markdown",
   "metadata": {},
   "source": [
    "### Define objective function\n",
    "\n",
    "Minimize total cost of transport to satisfy all demand.\n",
    "\n",
    "First we'll define an expression for total cost of shipments..."
   ]
  },
  {
   "cell_type": "code",
   "execution_count": 26,
   "metadata": {},
   "outputs": [
    {
     "data": {
      "text/latex": [
       "$ 225 X_{trenton,newyork} + 45 X_{trenton,princeton} + 135 X_{trenton,philadelphia} + 45 X_{newark,newyork} + 135 X_{newark,princeton} + 315 X_{newark,philadelphia} $"
      ],
      "text/plain": [
       "225 X[trenton,newyork] + 45 X[trenton,princeton] + 135 X[trenton,philadelphia] + 45 X[newark,newyork] + 135 X[newark,princeton] + 315 X[newark,philadelphia]"
      ]
     },
     "metadata": {},
     "output_type": "display_data"
    }
   ],
   "source": [
    "@expression(transport, eCost, \n",
    "    sum(freight_cost*distances[Symbol(p),Symbol(m)]*X[p,m] \n",
    "        for p in P, m in M)\n",
    "    )"
   ]
  },
  {
   "cell_type": "markdown",
   "metadata": {},
   "source": [
    "Now we'll minimize this total cost"
   ]
  },
  {
   "cell_type": "code",
   "execution_count": 27,
   "metadata": {},
   "outputs": [
    {
     "data": {
      "text/latex": [
       "$ 225 X_{trenton,newyork} + 45 X_{trenton,princeton} + 135 X_{trenton,philadelphia} + 45 X_{newark,newyork} + 135 X_{newark,princeton} + 315 X_{newark,philadelphia} $"
      ],
      "text/plain": [
       "225 X[trenton,newyork] + 45 X[trenton,princeton] + 135 X[trenton,philadelphia] + 45 X[newark,newyork] + 135 X[newark,princeton] + 315 X[newark,philadelphia]"
      ]
     },
     "metadata": {},
     "output_type": "display_data"
    }
   ],
   "source": [
    "@objective(transport, Min, eCost)"
   ]
  },
  {
   "cell_type": "markdown",
   "metadata": {},
   "source": [
    "## Interact with the model"
   ]
  },
  {
   "cell_type": "markdown",
   "metadata": {},
   "source": [
    "**(a)** Now let's solve the model. In the blank cell below, enter the command for JuMP to solve a model and run the cell"
   ]
  },
  {
   "cell_type": "code",
   "execution_count": 28,
   "metadata": {},
   "outputs": [
    {
     "name": "stdout",
     "output_type": "stream",
     "text": [
      "Running HiGHS 1.7.2 (git hash: 5ce7a2753): Copyright (c) 2024 HiGHS under MIT licence terms\n",
      "Coefficient ranges:\n",
      "  Matrix [1e+00, 1e+00]\n",
      "  Cost   [4e+01, 3e+02]\n",
      "  Bound  [0e+00, 0e+00]\n",
      "  RHS    [3e+02, 6e+02]\n",
      "Presolving model\n",
      "5 rows, 6 cols, 12 nonzeros  0s\n",
      "5 rows, 6 cols, 12 nonzeros  0s\n",
      "Presolve : Reductions: rows 5(-0); columns 6(-0); elements 12(-0) - Not reduced\n",
      "Problem not reduced by presolve: solving the LP\n",
      "Using EKK dual simplex solver - serial\n",
      "  Iteration        Objective     Infeasibilities num(sum)\n",
      "          0     0.0000000000e+00 Pr: 3(900) 0s\n",
      "          4     8.5500000000e+04 Pr: 0(0) 0s\n",
      "Model   status      : Optimal\n",
      "Simplex   iterations: 4\n",
      "Objective value     :  8.5500000000e+04\n",
      "HiGHS run time      :          0.02\n"
     ]
    }
   ],
   "source": [
    "optimize!(transport)"
   ]
  },
  {
   "cell_type": "markdown",
   "metadata": {},
   "source": [
    "**(b)** You've got a solution. Now query the objective function in the empty cell below and save it to a variable (name of your choice)"
   ]
  },
  {
   "cell_type": "code",
   "execution_count": 29,
   "metadata": {},
   "outputs": [
    {
     "data": {
      "text/plain": [
       "85500.0"
      ]
     },
     "metadata": {},
     "output_type": "display_data"
    }
   ],
   "source": [
    "total_cost = objective_value(transport)"
   ]
  },
  {
   "cell_type": "markdown",
   "metadata": {},
   "source": [
    "**(c)** Now query and save the optimal solution for X (the decisions about shipment quantities from plant to market) to an Array or DataFrame"
   ]
  },
  {
   "cell_type": "code",
   "execution_count": 42,
   "metadata": {},
   "outputs": [
    {
     "data": {
      "text/html": [
       "<div><div style = \"float: left;\"><span>4×3 DataFrame</span></div><div style = \"clear: both;\"></div></div><div class = \"data-frame\" style = \"overflow-x: scroll;\"><table class = \"data-frame\" style = \"margin-bottom: 6px;\"><thead><tr class = \"header\"><th class = \"rowNumber\" style = \"font-weight: bold; text-align: right;\">Row</th><th style = \"text-align: left;\">Plant</th><th style = \"text-align: left;\">Market</th><th style = \"text-align: left;\">Quantity</th></tr><tr class = \"subheader headerLastRow\"><th class = \"rowNumber\" style = \"font-weight: bold; text-align: right;\"></th><th title = \"String\" style = \"text-align: left;\">String</th><th title = \"String\" style = \"text-align: left;\">String</th><th title = \"Float64\" style = \"text-align: left;\">Float64</th></tr></thead><tbody><tr><td class = \"rowNumber\" style = \"font-weight: bold; text-align: right;\">1</td><td style = \"text-align: left;\">trenton</td><td style = \"text-align: left;\">princeton</td><td style = \"text-align: right;\">75.0</td></tr><tr><td class = \"rowNumber\" style = \"font-weight: bold; text-align: right;\">2</td><td style = \"text-align: left;\">trenton</td><td style = \"text-align: left;\">philadelphia</td><td style = \"text-align: right;\">275.0</td></tr><tr><td class = \"rowNumber\" style = \"font-weight: bold; text-align: right;\">3</td><td style = \"text-align: left;\">newark</td><td style = \"text-align: left;\">newyork</td><td style = \"text-align: right;\">325.0</td></tr><tr><td class = \"rowNumber\" style = \"font-weight: bold; text-align: right;\">4</td><td style = \"text-align: left;\">newark</td><td style = \"text-align: left;\">princeton</td><td style = \"text-align: right;\">225.0</td></tr></tbody></table></div>"
      ],
      "text/latex": [
       "\\begin{tabular}{r|ccc}\n",
       "\t& Plant & Market & Quantity\\\\\n",
       "\t\\hline\n",
       "\t& String & String & Float64\\\\\n",
       "\t\\hline\n",
       "\t1 & trenton & princeton & 75.0 \\\\\n",
       "\t2 & trenton & philadelphia & 275.0 \\\\\n",
       "\t3 & newark & newyork & 325.0 \\\\\n",
       "\t4 & newark & princeton & 225.0 \\\\\n",
       "\\end{tabular}\n"
      ],
      "text/plain": [
       "\u001b[1m4×3 DataFrame\u001b[0m\n",
       "\u001b[1m Row \u001b[0m│\u001b[1m Plant   \u001b[0m\u001b[1m Market       \u001b[0m\u001b[1m Quantity \u001b[0m\n",
       "     │\u001b[90m String  \u001b[0m\u001b[90m String       \u001b[0m\u001b[90m Float64  \u001b[0m\n",
       "─────┼─────────────────────────────────\n",
       "   1 │ trenton  princeton         75.0\n",
       "   2 │ trenton  philadelphia     275.0\n",
       "   3 │ newark   newyork          325.0\n",
       "   4 │ newark   princeton        225.0"
      ]
     },
     "metadata": {},
     "output_type": "display_data"
    }
   ],
   "source": [
    "\n",
    "optimal_solution = DataFrame([(p, m, value(X[p, m])) for p in P for m in M if value(X[p, m]) > 0], [:Plant, :Market, :Quantity])\n"
   ]
  },
  {
   "cell_type": "markdown",
   "metadata": {},
   "source": [
    "**(d)** Please interpret your results by writing an explanation in the markdown cell below. \n",
    "\n",
    "Which facility or facilities supplies the most demand in New York? Does this result make sense? Why?\n",
    "\n",
    "Which facility or facilities supplies the most demand in Philadelphia? Does this result make sense? Why?\n",
    "\n",
    "Which facility or facilities supplies the demand in Princeton? Does this result make sense? Why?"
   ]
  },
  {
   "cell_type": "markdown",
   "metadata": {},
   "source": []
  },
  {
   "cell_type": "markdown",
   "metadata": {},
   "source": [
    "**(e)** A new market in New Brunswick appears, with a demand for 50 units. It is located 1.0 units away from both plants. Add this market to the model and solve again."
   ]
  },
  {
   "cell_type": "code",
   "execution_count": null,
   "metadata": {},
   "outputs": [],
   "source": []
  },
  {
   "cell_type": "markdown",
   "metadata": {},
   "source": [
    "**(f)** What is new optimal solution? "
   ]
  },
  {
   "cell_type": "code",
   "execution_count": null,
   "metadata": {},
   "outputs": [],
   "source": []
  },
  {
   "cell_type": "markdown",
   "metadata": {},
   "source": [
    "**(j)** Interpret this result in the markdown cell below. Which facility or facilities supplies the demand in New Brunswick? Does this result make sense? Why?"
   ]
  },
  {
   "cell_type": "markdown",
   "metadata": {},
   "source": []
  }
 ],
 "metadata": {
  "kernelspec": {
   "display_name": "Julia 1.8.0",
   "language": "julia",
   "name": "julia-1.8"
  },
  "language_info": {
   "file_extension": ".jl",
   "mimetype": "application/julia",
   "name": "julia",
   "version": "1.8.0"
  }
 },
 "nbformat": 4,
 "nbformat_minor": 4
}
