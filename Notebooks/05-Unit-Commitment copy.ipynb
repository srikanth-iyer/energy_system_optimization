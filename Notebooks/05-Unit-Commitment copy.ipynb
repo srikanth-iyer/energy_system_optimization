{
 "cells": [
  {
   "cell_type": "markdown",
   "metadata": {},
   "source": [
    "# Unit Commitment\n",
    "\n",
    "_**[Energy Systems Optimization](https://github.com/nspatank/energy_system_optimization)**_\n",
    "\n",
    "_by Neha Patankar (last updated: November 07, 2023)_\n",
    "\n",
    "This notebook will build on the economic dispatch (ED) model by introducing binary startup (called \"commitment\") decisions, constraints, and costs of thermal generators. Similar to ED, it minimizes the short-run production costs of meeting electricity demand, but these additions are necessary for operating systems with large amounts of (inflexible) thermal generation. They also entail significant computational trade-offs.\n",
    "\n",
    "****\n",
    "\n",
    "We build up the model in several stages. We first start with the simplest model that incorporates unit commitment decisions in order to understand the logic of three-variable commitment formulations.\n",
    "\n",
    "Next, we introduce moderate complexity through the addition of ramp constraints&mdash;which we need to be modified from the ED to account for startups and shutdowns.\n",
    "\n",
    "Finally, we model a more realistic unit commitment that includes reserves&mdash;an important feature of day-ahead scheduling in power systems."
   ]
  },
  {
   "cell_type": "markdown",
   "metadata": {},
   "source": [
    "## Introduction to unit commitment\n",
    "\n",
    "Engineering considerations severely limit the possible output ranges of power plants. System operators need to be aware of these limitations when scheduling generation to meet demand. Thermal power plants, in particular, due to their complex designs, thermodynamic cycles, and material properties, can be particularly challenging. In practice, due to the times involved in bringing these power plants online, much of this scheduling is done day-ahead, which gives rise to the need for a day-ahead market.\n",
    "\n",
    "**Unit commitment** (UC) is the problem of minimizing short-run costs of production inclusive of production and startup costs, in order to meet a given demand and considering relevant engineering constraints of the generators. It is built on the ED model in that it typically considers all of the same variables in addition to the new startup-related variables and constraints&mdash;hence, it is also sometimes called unit commitment and economic dispatch (UCED). This notebook, for simplicity, only considers a single-bus case, while typical formulations usually include a simplified network representation."
   ]
  },
  {
   "cell_type": "markdown",
   "metadata": {},
   "source": [
    "## Simple unit commitment\n",
    "\n",
    "We start with the simplest case that incorporates unit commitment, building on the `economic_dispatch_multi` problem of the [Economic Dispatch notebook](04-Economic-Dispatch.ipynb).\n",
    "\n",
    "\n",
    "$$\n",
    "\\begin{align}\n",
    "\\min \\ & \\sum_{g \\in G, t \\in T} VarCost_g \\times GEN_{g,t} + \\sum_{g \\in G_{thermal}, t \\in T} StartUpCost_g \\times START_{g,t} \\\\\n",
    "\\end{align}\n",
    "$$\n",
    "$$\n",
    "\\begin{align}\n",
    "\\text{s.t.} & \\\\\n",
    " & \\sum_{g} GEN_{g,t} = Demand_t & \\forall \\quad t \\in T \\\\\n",
    " & GEN_{g,t} \\leq Pmax_{g,t} & \\forall \\quad g \\notin G_{thermal} , t \\in T \\\\\n",
    " & GEN_{g,t} \\geq Pmin_{g,t} & \\forall \\quad g \\notin G_{thermal} , t \\in T \\\\\n",
    " & GEN_{g,t} \\leq Pmax_{g,t} \\times COMMIT_{g,t} & \\forall \\quad g \\in G_{thermal} , t \\in T \\\\\n",
    " & GEN_{g,t} \\geq Pmin_{g,t} \\times COMMIT_{g,t} & \\forall \\quad g \\in G_{thermal} , t \\in T \\\\\n",
    " & COMMIT_{g,t} \\geq \\sum_{t'≥t-MinUp_g}^{t} START_{g,t} & \\forall \\quad g \\in G_{thermal} , t \\in T \\\\\n",
    " & 1-COMMIT_{g,t} \\geq \\sum_{t'≥t-MinDown_g}^{t} SHUT_{g,t} &\\forall \\quad g \\in G_{thermal} , t \\in T \\\\\n",
    "  & COMMIT_{g,t+1} - COMMIT_{g,t} =&\\\\\n",
    " & \\quad START_{g,t+1} - SHUT_{g,t+1} &\\forall \\quad G_{thermal} \\in G , t = 1..T-1 \n",
    "\\end{align}\n",
    "$$\n",
    "\n",
    "\n",
    "The **decision variables** in the above problem:\n",
    "\n",
    "- $GEN_{g}$, generation (in MW) produced by each generator, $g$\n",
    "- $START_{g,t}$, startup decision (binary) of thermal generator $g$ at time $t$\n",
    "- $SHUT_{g,t}$, shutdown decision (binary) of thermal generator $g$ at time $t$\n",
    "- $COMMIT_{g,t}$, commitment status (binary) of generator $g$ at time $t$\n",
    "\n",
    "The **parameters** are:\n",
    "\n",
    "- $Pmin_g$, the minimum operating bounds for generator $g$ (based on engineering or natural resource constraints)\n",
    "- $Pmax_g$, the maximum operating bounds for generator $g$ (based on engineering or natural resource constraints)\n",
    "- $Demand$, the demand (in MW)\n",
    "- $VarCost_g = VarOM_g + HeatRate_g \\times FuelCost_g$, the variable cost of generator $g$ \n",
    "- $StartUpCost_g$, the startup cost of generator $g$\n",
    "- $MinUp_g$, the minimum up time of generator $g$, or the minimum time after start-up before a unit can shut down\n",
    "- $MinDown_g$, the minimum down time of generator $g$, or the minimum time after shut-down before a unit can start again\n",
    "\n",
    "In addition, we introduce a few different sets:\n",
    "\n",
    "- $G$, the set of all generators\n",
    "- $G_{thermal} \\subset G$, the subset of thermal generators for which commitment is necessary\n",
    "- $T$, the set of all time periods over which we are optimizing commitment and dispatch decisions\n",
    "\n",
    "Finally, the **three-variable commitment equations** capture the basic logic of commitment:\n",
    "\n",
    "- Units incur costs when they startup (not when they shutdown)\n",
    "- Units must stay on (and off) for a minimum period of time&mdash;in lieu of explicitly enforcing a startup trajectory\n",
    "- Some summations (simplified here) will need to be modified near the beginning of the time period\n",
    "\n",
    "There are some further resources at the bottom for alternative and/or more complex formulations of the UC.\n",
    "\n",
    "Now, let's implement UC."
   ]
  },
  {
   "cell_type": "markdown",
   "metadata": {},
   "source": [
    "### 1. Load packages"
   ]
  },
  {
   "cell_type": "code",
   "execution_count": 1,
   "metadata": {},
   "outputs": [
    {
     "name": "stderr",
     "output_type": "stream",
     "text": [
      "┌ Warning: PlotlyBase 0.8.19 is not compatible with this version of Plots. The declared compatibility is 0.7.\n",
      "└ @ Plots C:\\Users\\Srikanth\\.julia\\packages\\Plots\\yJrrq\\src\\Plots.jl:26\n"
     ]
    }
   ],
   "source": [
    "using JuMP, HiGHS\n",
    "using Plots; plotly();\n",
    "using VegaLite  # to make some nice plots\n",
    "using DataFrames, CSV, PrettyTables\n",
    "ENV[\"COLUMNS\"]=120; # Set so all columns of DataFrames and Matrices are displayed"
   ]
  },
  {
   "cell_type": "markdown",
   "metadata": {},
   "source": [
    "### 2. Load and format data\n",
    "\n",
    "We will use data loosely based on San Diego Gas and Electric (SDG&E, via the [PowerGenome](https://github.com/gschivley/PowerGenome) data platform) including a few neighboring generators and adjustments to make the problem easy to solve, consisting of:\n",
    "\n",
    "- 33 generators (we added a few more to ensure we can provide enough reserves)\n",
    "- estimated hourly demand for 2020 (net load at the transmission substation level after subtracting 600MW of behind-the-meter solar from original demand)\n",
    "- variable generation capacity factors\n",
    "- estimated natural gas fuel costs\n",
    "\n",
    "In order to demonstrate the impacts of unit commitment, we will keep our high solar sensitivity case from the [Economic Dispatch notebook](04-Economic-Dispatch.ipynb) (with 3,500 MW of solar PV) to produce large variations in net load (demand less available renewable supply) required to meet demand (similar to [California's infamous \"Duck Curve\"](https://www.caiso.com/Documents/FlexibleResourcesHelpRenewables_FastFacts.pdf)). "
   ]
  },
  {
   "cell_type": "code",
   "execution_count": 2,
   "metadata": {},
   "outputs": [],
   "source": [
    "datadir = joinpath(\"uc_data\") \n",
    "gen_info = CSV.read(joinpath(datadir,\"Generators_data.csv\"), DataFrame);\n",
    "fuels = CSV.read(joinpath(datadir,\"Fuels_data.csv\"), DataFrame);\n",
    "loads = CSV.read(joinpath(datadir,\"Demand.csv\"), DataFrame);\n",
    "gen_variable = CSV.read(joinpath(datadir,\"Generators_variability.csv\"), DataFrame);\n",
    "\n",
    "# Rename all columns to lowercase (by convention)\n",
    "for f in [gen_info, fuels, loads, gen_variable]\n",
    "    rename!(f,lowercase.(names(f)))\n",
    "end"
   ]
  },
  {
   "cell_type": "markdown",
   "metadata": {},
   "source": [
    "**Construct generator dataframe**"
   ]
  },
  {
   "cell_type": "code",
   "execution_count": 3,
   "metadata": {},
   "outputs": [],
   "source": [
    "# Keep columns relevant to our UC model \n",
    "select!(gen_info, 1:26) # columns 1:26\n",
    "gen_df = outerjoin(gen_info,  fuels, on = :fuel) # load in fuel costs and add to data frame\n",
    "rename!(gen_df, :cost_per_mmbtu => :fuel_cost)   # rename column for fuel cost\n",
    "gen_df.fuel_cost[ismissing.(gen_df[:,:fuel_cost])] .= 0\n",
    "\n",
    "# create \"is_variable\" column to indicate if this is a variable generation source (e.g. wind, solar):\n",
    "gen_df[!, :is_variable] .= false\n",
    "gen_df[in([\"onshore_wind_turbine\",\"small_hydroelectric\",\"solar_photovoltaic\"]).(gen_df.resource),\n",
    "    :is_variable] .= true;\n",
    "\n",
    "# create full name of generator (including geographic location and cluster number)\n",
    "#  for use with variable generation dataframe\n",
    "gen_df.gen_full = lowercase.(gen_df.region .* \"_\" .* gen_df.resource .* \"_\" .* string.(gen_df.cluster) .* \".0\");\n",
    "\n",
    "# remove generators with no capacity (e.g. new build options that we'd use if this was capacity expansion problem)\n",
    "gen_df = gen_df[gen_df.existing_cap_mw .> 0,:];"
   ]
  },
  {
   "cell_type": "code",
   "execution_count": 4,
   "metadata": {},
   "outputs": [
    {
     "data": {
      "text/html": [
       "<div><div style = \"float: left;\"><span>27×30 DataFrame</span></div><div style = \"float: right;\"><span style = \"font-style: italic;\">2 rows omitted</span></div><div style = \"clear: both;\"></div></div><div class = \"data-frame\" style = \"overflow-x: scroll;\"><table class = \"data-frame\" style = \"margin-bottom: 6px;\"><thead><tr class = \"header\"><th class = \"rowNumber\" style = \"font-weight: bold; text-align: right;\">Row</th><th style = \"text-align: left;\">r_id</th><th style = \"text-align: left;\">resource</th><th style = \"text-align: left;\">region</th><th style = \"text-align: left;\">existing_cap_mw</th><th style = \"text-align: left;\">num_units</th><th style = \"text-align: left;\">cap_size</th><th style = \"text-align: left;\">var_om_cost_per_mwh</th><th style = \"text-align: left;\">var_om_cost_per_mwh_in</th><th style = \"text-align: left;\">fuel</th><th style = \"text-align: left;\">heat_rate_mmbtu_per_mwh</th><th style = \"text-align: left;\">min_power</th><th style = \"text-align: left;\">ramp_up_percentage</th><th style = \"text-align: left;\">ramp_dn_percentage</th><th style = \"text-align: left;\">start_cost_per_mw</th><th style = \"text-align: left;\">start_fuel_mmbtu_per_mw</th><th style = \"text-align: left;\">up_time</th><th style = \"text-align: left;\">down_time</th><th style = \"text-align: left;\">eff_up</th><th style = \"text-align: left;\">eff_down</th><th style = \"text-align: left;\">ratio_power_to_energy</th><th style = \"text-align: left;\">min_duration</th><th style = \"text-align: left;\">max_duration</th><th style = \"text-align: left;\">cluster</th><th style = \"text-align: left;\">zone</th><th style = \"text-align: left;\">capres</th><th style = \"text-align: left;\">therm</th><th style = \"text-align: left;\">fuel_cost</th><th style = \"text-align: left;\">co2_content_tons_per_mmbtu</th><th style = \"text-align: left;\">is_variable</th><th style = \"text-align: left;\">gen_full</th></tr><tr class = \"subheader headerLastRow\"><th class = \"rowNumber\" style = \"font-weight: bold; text-align: right;\"></th><th title = \"Union{Missing, Int64}\" style = \"text-align: left;\">Int64?</th><th title = \"Union{Missing, String}\" style = \"text-align: left;\">String?</th><th title = \"Union{Missing, String15}\" style = \"text-align: left;\">String15?</th><th title = \"Union{Missing, Float64}\" style = \"text-align: left;\">Float64?</th><th title = \"Union{Missing, Int64}\" style = \"text-align: left;\">Int64?</th><th title = \"Union{Missing, Float64}\" style = \"text-align: left;\">Float64?</th><th title = \"Union{Missing, Float64}\" style = \"text-align: left;\">Float64?</th><th title = \"Union{Missing, Int64}\" style = \"text-align: left;\">Int64?</th><th title = \"String31\" style = \"text-align: left;\">String31</th><th title = \"Union{Missing, Float64}\" style = \"text-align: left;\">Float64?</th><th title = \"Union{Missing, Float64}\" style = \"text-align: left;\">Float64?</th><th title = \"Union{Missing, Float64}\" style = \"text-align: left;\">Float64?</th><th title = \"Union{Missing, Float64}\" style = \"text-align: left;\">Float64?</th><th title = \"Union{Missing, Int64}\" style = \"text-align: left;\">Int64?</th><th title = \"Union{Missing, Float64}\" style = \"text-align: left;\">Float64?</th><th title = \"Union{Missing, Int64}\" style = \"text-align: left;\">Int64?</th><th title = \"Union{Missing, Int64}\" style = \"text-align: left;\">Int64?</th><th title = \"Union{Missing, Float64}\" style = \"text-align: left;\">Float64?</th><th title = \"Union{Missing, Float64}\" style = \"text-align: left;\">Float64?</th><th title = \"Union{Missing, Float64}\" style = \"text-align: left;\">Float64?</th><th title = \"Union{Missing, Int64}\" style = \"text-align: left;\">Int64?</th><th title = \"Union{Missing, Int64}\" style = \"text-align: left;\">Int64?</th><th title = \"Union{Missing, Int64}\" style = \"text-align: left;\">Int64?</th><th title = \"Union{Missing, Int64}\" style = \"text-align: left;\">Int64?</th><th title = \"Union{Missing, Int64}\" style = \"text-align: left;\">Int64?</th><th title = \"Union{Missing, Int64}\" style = \"text-align: left;\">Int64?</th><th title = \"Union{Missing, Float64}\" style = \"text-align: left;\">Float64?</th><th title = \"Union{Missing, Float64}\" style = \"text-align: left;\">Float64?</th><th title = \"Bool\" style = \"text-align: left;\">Bool</th><th title = \"String\" style = \"text-align: left;\">String</th></tr></thead><tbody><tr><td class = \"rowNumber\" style = \"font-weight: bold; text-align: right;\">1</td><td style = \"text-align: right;\">1</td><td style = \"text-align: left;\">biomass</td><td style = \"text-align: left;\">WEC_SDGE</td><td style = \"text-align: right;\">21.4</td><td style = \"text-align: right;\">20</td><td style = \"text-align: right;\">1.07</td><td style = \"text-align: right;\">5.234</td><td style = \"text-align: right;\">0</td><td style = \"text-align: left;\">None</td><td style = \"text-align: right;\">12.76</td><td style = \"text-align: right;\">0.71</td><td style = \"text-align: right;\">1.0</td><td style = \"text-align: right;\">1.0</td><td style = \"text-align: right;\">0</td><td style = \"text-align: right;\">0.0</td><td style = \"text-align: right;\">0</td><td style = \"text-align: right;\">0</td><td style = \"text-align: right;\">1.0</td><td style = \"text-align: right;\">1.0</td><td style = \"text-align: right;\">1.0</td><td style = \"text-align: right;\">0</td><td style = \"text-align: right;\">0</td><td style = \"text-align: right;\">1</td><td style = \"text-align: right;\">1</td><td style = \"text-align: right;\">0</td><td style = \"text-align: right;\">1</td><td style = \"text-align: right;\">0.0</td><td style = \"text-align: right;\">0.0</td><td style = \"text-align: right;\">false</td><td style = \"text-align: left;\">wec_sdge_biomass_1.0</td></tr><tr><td class = \"rowNumber\" style = \"font-weight: bold; text-align: right;\">2</td><td style = \"text-align: right;\">2</td><td style = \"text-align: left;\">hydroelectric_pumped_storage</td><td style = \"text-align: left;\">WEC_SDGE</td><td style = \"text-align: right;\">42.0</td><td style = \"text-align: right;\">2</td><td style = \"text-align: right;\">21.0</td><td style = \"text-align: right;\">0.0</td><td style = \"text-align: right;\">0</td><td style = \"text-align: left;\">None</td><td style = \"text-align: right;\">0.0</td><td style = \"text-align: right;\">0.0</td><td style = \"text-align: right;\">1.0</td><td style = \"text-align: right;\">1.0</td><td style = \"text-align: right;\">0</td><td style = \"text-align: right;\">0.0</td><td style = \"text-align: right;\">0</td><td style = \"text-align: right;\">0</td><td style = \"text-align: right;\">0.866</td><td style = \"text-align: right;\">0.866</td><td style = \"text-align: right;\">0.0063</td><td style = \"text-align: right;\">0</td><td style = \"text-align: right;\">0</td><td style = \"text-align: right;\">1</td><td style = \"text-align: right;\">1</td><td style = \"text-align: right;\">0</td><td style = \"text-align: right;\">0</td><td style = \"text-align: right;\">0.0</td><td style = \"text-align: right;\">0.0</td><td style = \"text-align: right;\">false</td><td style = \"text-align: left;\">wec_sdge_hydroelectric_pumped_storage_1.0</td></tr><tr><td class = \"rowNumber\" style = \"font-weight: bold; text-align: right;\">3</td><td style = \"text-align: right;\">3</td><td style = \"text-align: left;\">natural_gas_fired_combined_cycle</td><td style = \"text-align: left;\">WEC_SDGE</td><td style = \"text-align: right;\">607.1</td><td style = \"text-align: right;\">1</td><td style = \"text-align: right;\">607.1</td><td style = \"text-align: right;\">3.4</td><td style = \"text-align: right;\">0</td><td style = \"text-align: left;\">pacific_naturalgas</td><td style = \"text-align: right;\">7.52</td><td style = \"text-align: right;\">0.362</td><td style = \"text-align: right;\">0.4</td><td style = \"text-align: right;\">0.4</td><td style = \"text-align: right;\">80</td><td style = \"text-align: right;\">2.0</td><td style = \"text-align: right;\">6</td><td style = \"text-align: right;\">6</td><td style = \"text-align: right;\">1.0</td><td style = \"text-align: right;\">1.0</td><td style = \"text-align: right;\">1.0</td><td style = \"text-align: right;\">0</td><td style = \"text-align: right;\">0</td><td style = \"text-align: right;\">1</td><td style = \"text-align: right;\">1</td><td style = \"text-align: right;\">0</td><td style = \"text-align: right;\">1</td><td style = \"text-align: right;\">2.57</td><td style = \"text-align: right;\">0.05306</td><td style = \"text-align: right;\">false</td><td style = \"text-align: left;\">wec_sdge_natural_gas_fired_combined_cycle_1.0</td></tr><tr><td class = \"rowNumber\" style = \"font-weight: bold; text-align: right;\">4</td><td style = \"text-align: right;\">4</td><td style = \"text-align: left;\">natural_gas_fired_combined_cycle</td><td style = \"text-align: left;\">WEC_SDGE</td><td style = \"text-align: right;\">30.0</td><td style = \"text-align: right;\">1</td><td style = \"text-align: right;\">30.0</td><td style = \"text-align: right;\">4.3</td><td style = \"text-align: right;\">0</td><td style = \"text-align: left;\">pacific_naturalgas</td><td style = \"text-align: right;\">7.5</td><td style = \"text-align: right;\">0.55</td><td style = \"text-align: right;\">0.4</td><td style = \"text-align: right;\">0.4</td><td style = \"text-align: right;\">80</td><td style = \"text-align: right;\">2.0</td><td style = \"text-align: right;\">6</td><td style = \"text-align: right;\">6</td><td style = \"text-align: right;\">1.0</td><td style = \"text-align: right;\">1.0</td><td style = \"text-align: right;\">1.0</td><td style = \"text-align: right;\">0</td><td style = \"text-align: right;\">0</td><td style = \"text-align: right;\">2</td><td style = \"text-align: right;\">1</td><td style = \"text-align: right;\">0</td><td style = \"text-align: right;\">1</td><td style = \"text-align: right;\">2.57</td><td style = \"text-align: right;\">0.05306</td><td style = \"text-align: right;\">false</td><td style = \"text-align: left;\">wec_sdge_natural_gas_fired_combined_cycle_2.0</td></tr><tr><td class = \"rowNumber\" style = \"font-weight: bold; text-align: right;\">5</td><td style = \"text-align: right;\">5</td><td style = \"text-align: left;\">natural_gas_fired_combined_cycle</td><td style = \"text-align: left;\">WEC_SDGE</td><td style = \"text-align: right;\">49.4</td><td style = \"text-align: right;\">1</td><td style = \"text-align: right;\">49.4</td><td style = \"text-align: right;\">4.3</td><td style = \"text-align: right;\">0</td><td style = \"text-align: left;\">pacific_naturalgas</td><td style = \"text-align: right;\">7.5</td><td style = \"text-align: right;\">0.5</td><td style = \"text-align: right;\">0.4</td><td style = \"text-align: right;\">0.4</td><td style = \"text-align: right;\">80</td><td style = \"text-align: right;\">2.0</td><td style = \"text-align: right;\">6</td><td style = \"text-align: right;\">6</td><td style = \"text-align: right;\">1.0</td><td style = \"text-align: right;\">1.0</td><td style = \"text-align: right;\">1.0</td><td style = \"text-align: right;\">0</td><td style = \"text-align: right;\">0</td><td style = \"text-align: right;\">3</td><td style = \"text-align: right;\">1</td><td style = \"text-align: right;\">0</td><td style = \"text-align: right;\">1</td><td style = \"text-align: right;\">2.57</td><td style = \"text-align: right;\">0.05306</td><td style = \"text-align: right;\">false</td><td style = \"text-align: left;\">wec_sdge_natural_gas_fired_combined_cycle_3.0</td></tr><tr><td class = \"rowNumber\" style = \"font-weight: bold; text-align: right;\">6</td><td style = \"text-align: right;\">6</td><td style = \"text-align: left;\">natural_gas_fired_combined_cycle</td><td style = \"text-align: left;\">WEC_SDGE</td><td style = \"text-align: right;\">570.0</td><td style = \"text-align: right;\">1</td><td style = \"text-align: right;\">570.0</td><td style = \"text-align: right;\">3.4</td><td style = \"text-align: right;\">0</td><td style = \"text-align: left;\">pacific_naturalgas</td><td style = \"text-align: right;\">7.15</td><td style = \"text-align: right;\">0.351</td><td style = \"text-align: right;\">0.4</td><td style = \"text-align: right;\">0.4</td><td style = \"text-align: right;\">80</td><td style = \"text-align: right;\">2.0</td><td style = \"text-align: right;\">6</td><td style = \"text-align: right;\">6</td><td style = \"text-align: right;\">1.0</td><td style = \"text-align: right;\">1.0</td><td style = \"text-align: right;\">1.0</td><td style = \"text-align: right;\">0</td><td style = \"text-align: right;\">0</td><td style = \"text-align: right;\">4</td><td style = \"text-align: right;\">1</td><td style = \"text-align: right;\">0</td><td style = \"text-align: right;\">1</td><td style = \"text-align: right;\">2.57</td><td style = \"text-align: right;\">0.05306</td><td style = \"text-align: right;\">false</td><td style = \"text-align: left;\">wec_sdge_natural_gas_fired_combined_cycle_4.0</td></tr><tr><td class = \"rowNumber\" style = \"font-weight: bold; text-align: right;\">7</td><td style = \"text-align: right;\">7</td><td style = \"text-align: left;\">natural_gas_fired_combined_cycle</td><td style = \"text-align: left;\">WEC_SDGE</td><td style = \"text-align: right;\">336.0</td><td style = \"text-align: right;\">3</td><td style = \"text-align: right;\">112.0</td><td style = \"text-align: right;\">10.8</td><td style = \"text-align: right;\">0</td><td style = \"text-align: left;\">pacific_naturalgas</td><td style = \"text-align: right;\">8.0</td><td style = \"text-align: right;\">0.446</td><td style = \"text-align: right;\">3.78</td><td style = \"text-align: right;\">3.78</td><td style = \"text-align: right;\">80</td><td style = \"text-align: right;\">3.5</td><td style = \"text-align: right;\">6</td><td style = \"text-align: right;\">6</td><td style = \"text-align: right;\">1.0</td><td style = \"text-align: right;\">1.0</td><td style = \"text-align: right;\">1.0</td><td style = \"text-align: right;\">0</td><td style = \"text-align: right;\">0</td><td style = \"text-align: right;\">5</td><td style = \"text-align: right;\">1</td><td style = \"text-align: right;\">0</td><td style = \"text-align: right;\">1</td><td style = \"text-align: right;\">2.57</td><td style = \"text-align: right;\">0.05306</td><td style = \"text-align: right;\">false</td><td style = \"text-align: left;\">wec_sdge_natural_gas_fired_combined_cycle_5.0</td></tr><tr><td class = \"rowNumber\" style = \"font-weight: bold; text-align: right;\">8</td><td style = \"text-align: right;\">8</td><td style = \"text-align: left;\">natural_gas_fired_combined_cycle</td><td style = \"text-align: left;\">WEC_SDGE</td><td style = \"text-align: right;\">336.0</td><td style = \"text-align: right;\">3</td><td style = \"text-align: right;\">112.0</td><td style = \"text-align: right;\">10.8</td><td style = \"text-align: right;\">0</td><td style = \"text-align: left;\">pacific_naturalgas</td><td style = \"text-align: right;\">8.1</td><td style = \"text-align: right;\">0.446</td><td style = \"text-align: right;\">3.78</td><td style = \"text-align: right;\">3.78</td><td style = \"text-align: right;\">80</td><td style = \"text-align: right;\">3.5</td><td style = \"text-align: right;\">6</td><td style = \"text-align: right;\">6</td><td style = \"text-align: right;\">1.0</td><td style = \"text-align: right;\">1.0</td><td style = \"text-align: right;\">1.0</td><td style = \"text-align: right;\">0</td><td style = \"text-align: right;\">0</td><td style = \"text-align: right;\">6</td><td style = \"text-align: right;\">1</td><td style = \"text-align: right;\">0</td><td style = \"text-align: right;\">1</td><td style = \"text-align: right;\">2.57</td><td style = \"text-align: right;\">0.05306</td><td style = \"text-align: right;\">false</td><td style = \"text-align: left;\">wec_sdge_natural_gas_fired_combined_cycle_6.0</td></tr><tr><td class = \"rowNumber\" style = \"font-weight: bold; text-align: right;\">9</td><td style = \"text-align: right;\">9</td><td style = \"text-align: left;\">natural_gas_fired_combustion_turbine</td><td style = \"text-align: left;\">WEC_SDGE</td><td style = \"text-align: right;\">91.6</td><td style = \"text-align: right;\">2</td><td style = \"text-align: right;\">45.8</td><td style = \"text-align: right;\">10.8</td><td style = \"text-align: right;\">0</td><td style = \"text-align: left;\">pacific_naturalgas</td><td style = \"text-align: right;\">10.69</td><td style = \"text-align: right;\">0.8</td><td style = \"text-align: right;\">3.78</td><td style = \"text-align: right;\">3.78</td><td style = \"text-align: right;\">40</td><td style = \"text-align: right;\">3.5</td><td style = \"text-align: right;\">1</td><td style = \"text-align: right;\">1</td><td style = \"text-align: right;\">1.0</td><td style = \"text-align: right;\">1.0</td><td style = \"text-align: right;\">1.0</td><td style = \"text-align: right;\">0</td><td style = \"text-align: right;\">0</td><td style = \"text-align: right;\">1</td><td style = \"text-align: right;\">1</td><td style = \"text-align: right;\">0</td><td style = \"text-align: right;\">1</td><td style = \"text-align: right;\">2.57</td><td style = \"text-align: right;\">0.05306</td><td style = \"text-align: right;\">false</td><td style = \"text-align: left;\">wec_sdge_natural_gas_fired_combustion_turbine_1.0</td></tr><tr><td class = \"rowNumber\" style = \"font-weight: bold; text-align: right;\">10</td><td style = \"text-align: right;\">10</td><td style = \"text-align: left;\">natural_gas_fired_combustion_turbine</td><td style = \"text-align: left;\">WEC_SDGE</td><td style = \"text-align: right;\">49.9</td><td style = \"text-align: right;\">1</td><td style = \"text-align: right;\">49.9</td><td style = \"text-align: right;\">10.8</td><td style = \"text-align: right;\">0</td><td style = \"text-align: left;\">pacific_naturalgas</td><td style = \"text-align: right;\">10.48</td><td style = \"text-align: right;\">0.487</td><td style = \"text-align: right;\">3.78</td><td style = \"text-align: right;\">3.78</td><td style = \"text-align: right;\">40</td><td style = \"text-align: right;\">3.5</td><td style = \"text-align: right;\">1</td><td style = \"text-align: right;\">1</td><td style = \"text-align: right;\">1.0</td><td style = \"text-align: right;\">1.0</td><td style = \"text-align: right;\">1.0</td><td style = \"text-align: right;\">0</td><td style = \"text-align: right;\">0</td><td style = \"text-align: right;\">2</td><td style = \"text-align: right;\">1</td><td style = \"text-align: right;\">0</td><td style = \"text-align: right;\">1</td><td style = \"text-align: right;\">2.57</td><td style = \"text-align: right;\">0.05306</td><td style = \"text-align: right;\">false</td><td style = \"text-align: left;\">wec_sdge_natural_gas_fired_combustion_turbine_2.0</td></tr><tr><td class = \"rowNumber\" style = \"font-weight: bold; text-align: right;\">11</td><td style = \"text-align: right;\">11</td><td style = \"text-align: left;\">natural_gas_fired_combustion_turbine</td><td style = \"text-align: left;\">WEC_SDGE</td><td style = \"text-align: right;\">48.1</td><td style = \"text-align: right;\">1</td><td style = \"text-align: right;\">48.1</td><td style = \"text-align: right;\">10.8</td><td style = \"text-align: right;\">0</td><td style = \"text-align: left;\">pacific_naturalgas</td><td style = \"text-align: right;\">11.04</td><td style = \"text-align: right;\">0.437</td><td style = \"text-align: right;\">3.78</td><td style = \"text-align: right;\">3.78</td><td style = \"text-align: right;\">40</td><td style = \"text-align: right;\">3.5</td><td style = \"text-align: right;\">1</td><td style = \"text-align: right;\">1</td><td style = \"text-align: right;\">1.0</td><td style = \"text-align: right;\">1.0</td><td style = \"text-align: right;\">1.0</td><td style = \"text-align: right;\">0</td><td style = \"text-align: right;\">0</td><td style = \"text-align: right;\">3</td><td style = \"text-align: right;\">1</td><td style = \"text-align: right;\">0</td><td style = \"text-align: right;\">1</td><td style = \"text-align: right;\">2.57</td><td style = \"text-align: right;\">0.05306</td><td style = \"text-align: right;\">false</td><td style = \"text-align: left;\">wec_sdge_natural_gas_fired_combustion_turbine_3.0</td></tr><tr><td class = \"rowNumber\" style = \"font-weight: bold; text-align: right;\">12</td><td style = \"text-align: right;\">12</td><td style = \"text-align: left;\">natural_gas_fired_combustion_turbine</td><td style = \"text-align: left;\">WEC_SDGE</td><td style = \"text-align: right;\">34.6</td><td style = \"text-align: right;\">1</td><td style = \"text-align: right;\">34.6</td><td style = \"text-align: right;\">10.8</td><td style = \"text-align: right;\">0</td><td style = \"text-align: left;\">pacific_naturalgas</td><td style = \"text-align: right;\">16.86</td><td style = \"text-align: right;\">0.954</td><td style = \"text-align: right;\">3.78</td><td style = \"text-align: right;\">3.78</td><td style = \"text-align: right;\">40</td><td style = \"text-align: right;\">3.5</td><td style = \"text-align: right;\">1</td><td style = \"text-align: right;\">1</td><td style = \"text-align: right;\">1.0</td><td style = \"text-align: right;\">1.0</td><td style = \"text-align: right;\">1.0</td><td style = \"text-align: right;\">0</td><td style = \"text-align: right;\">0</td><td style = \"text-align: right;\">4</td><td style = \"text-align: right;\">1</td><td style = \"text-align: right;\">0</td><td style = \"text-align: right;\">1</td><td style = \"text-align: right;\">2.57</td><td style = \"text-align: right;\">0.05306</td><td style = \"text-align: right;\">false</td><td style = \"text-align: left;\">wec_sdge_natural_gas_fired_combustion_turbine_4.0</td></tr><tr><td class = \"rowNumber\" style = \"font-weight: bold; text-align: right;\">13</td><td style = \"text-align: right;\">13</td><td style = \"text-align: left;\">natural_gas_fired_combustion_turbine</td><td style = \"text-align: left;\">WEC_SDGE</td><td style = \"text-align: right;\">96.6</td><td style = \"text-align: right;\">3</td><td style = \"text-align: right;\">32.2</td><td style = \"text-align: right;\">10.8</td><td style = \"text-align: right;\">0</td><td style = \"text-align: left;\">pacific_naturalgas</td><td style = \"text-align: right;\">10.5</td><td style = \"text-align: right;\">0.932</td><td style = \"text-align: right;\">3.78</td><td style = \"text-align: right;\">3.78</td><td style = \"text-align: right;\">40</td><td style = \"text-align: right;\">3.5</td><td style = \"text-align: right;\">1</td><td style = \"text-align: right;\">1</td><td style = \"text-align: right;\">1.0</td><td style = \"text-align: right;\">1.0</td><td style = \"text-align: right;\">1.0</td><td style = \"text-align: right;\">0</td><td style = \"text-align: right;\">0</td><td style = \"text-align: right;\">5</td><td style = \"text-align: right;\">1</td><td style = \"text-align: right;\">0</td><td style = \"text-align: right;\">1</td><td style = \"text-align: right;\">2.57</td><td style = \"text-align: right;\">0.05306</td><td style = \"text-align: right;\">false</td><td style = \"text-align: left;\">wec_sdge_natural_gas_fired_combustion_turbine_5.0</td></tr><tr><td style = \"text-align: right;\">&vellip;</td><td style = \"text-align: right;\">&vellip;</td><td style = \"text-align: right;\">&vellip;</td><td style = \"text-align: right;\">&vellip;</td><td style = \"text-align: right;\">&vellip;</td><td style = \"text-align: right;\">&vellip;</td><td style = \"text-align: right;\">&vellip;</td><td style = \"text-align: right;\">&vellip;</td><td style = \"text-align: right;\">&vellip;</td><td style = \"text-align: right;\">&vellip;</td><td style = \"text-align: right;\">&vellip;</td><td style = \"text-align: right;\">&vellip;</td><td style = \"text-align: right;\">&vellip;</td><td style = \"text-align: right;\">&vellip;</td><td style = \"text-align: right;\">&vellip;</td><td style = \"text-align: right;\">&vellip;</td><td style = \"text-align: right;\">&vellip;</td><td style = \"text-align: right;\">&vellip;</td><td style = \"text-align: right;\">&vellip;</td><td style = \"text-align: right;\">&vellip;</td><td style = \"text-align: right;\">&vellip;</td><td style = \"text-align: right;\">&vellip;</td><td style = \"text-align: right;\">&vellip;</td><td style = \"text-align: right;\">&vellip;</td><td style = \"text-align: right;\">&vellip;</td><td style = \"text-align: right;\">&vellip;</td><td style = \"text-align: right;\">&vellip;</td><td style = \"text-align: right;\">&vellip;</td><td style = \"text-align: right;\">&vellip;</td><td style = \"text-align: right;\">&vellip;</td><td style = \"text-align: right;\">&vellip;</td></tr><tr><td class = \"rowNumber\" style = \"font-weight: bold; text-align: right;\">16</td><td style = \"text-align: right;\">22</td><td style = \"text-align: left;\">natural_gas_fired_combustion_turbine</td><td style = \"text-align: left;\">WEC_SDGE</td><td style = \"text-align: right;\">51.3</td><td style = \"text-align: right;\">1</td><td style = \"text-align: right;\">51.3</td><td style = \"text-align: right;\">10.8</td><td style = \"text-align: right;\">0</td><td style = \"text-align: left;\">pacific_naturalgas</td><td style = \"text-align: right;\">11.12</td><td style = \"text-align: right;\">0.409</td><td style = \"text-align: right;\">3.78</td><td style = \"text-align: right;\">3.78</td><td style = \"text-align: right;\">40</td><td style = \"text-align: right;\">3.5</td><td style = \"text-align: right;\">1</td><td style = \"text-align: right;\">1</td><td style = \"text-align: right;\">1.0</td><td style = \"text-align: right;\">1.0</td><td style = \"text-align: right;\">1.0</td><td style = \"text-align: right;\">0</td><td style = \"text-align: right;\">0</td><td style = \"text-align: right;\">14</td><td style = \"text-align: right;\">1</td><td style = \"text-align: right;\">0</td><td style = \"text-align: right;\">1</td><td style = \"text-align: right;\">2.57</td><td style = \"text-align: right;\">0.05306</td><td style = \"text-align: right;\">false</td><td style = \"text-align: left;\">wec_sdge_natural_gas_fired_combustion_turbine_14.0</td></tr><tr><td class = \"rowNumber\" style = \"font-weight: bold; text-align: right;\">17</td><td style = \"text-align: right;\">23</td><td style = \"text-align: left;\">natural_gas_fired_combustion_turbine</td><td style = \"text-align: left;\">WEC_SDGE</td><td style = \"text-align: right;\">98.2</td><td style = \"text-align: right;\">2</td><td style = \"text-align: right;\">49.1</td><td style = \"text-align: right;\">10.8</td><td style = \"text-align: right;\">0</td><td style = \"text-align: left;\">pacific_naturalgas</td><td style = \"text-align: right;\">10.55</td><td style = \"text-align: right;\">0.329</td><td style = \"text-align: right;\">3.78</td><td style = \"text-align: right;\">3.78</td><td style = \"text-align: right;\">40</td><td style = \"text-align: right;\">3.5</td><td style = \"text-align: right;\">1</td><td style = \"text-align: right;\">1</td><td style = \"text-align: right;\">1.0</td><td style = \"text-align: right;\">1.0</td><td style = \"text-align: right;\">1.0</td><td style = \"text-align: right;\">0</td><td style = \"text-align: right;\">0</td><td style = \"text-align: right;\">15</td><td style = \"text-align: right;\">1</td><td style = \"text-align: right;\">0</td><td style = \"text-align: right;\">1</td><td style = \"text-align: right;\">2.57</td><td style = \"text-align: right;\">0.05306</td><td style = \"text-align: right;\">false</td><td style = \"text-align: left;\">wec_sdge_natural_gas_fired_combustion_turbine_15.0</td></tr><tr><td class = \"rowNumber\" style = \"font-weight: bold; text-align: right;\">18</td><td style = \"text-align: right;\">24</td><td style = \"text-align: left;\">natural_gas_fired_combustion_turbine</td><td style = \"text-align: left;\">WEC_SDGE</td><td style = \"text-align: right;\">98.2</td><td style = \"text-align: right;\">2</td><td style = \"text-align: right;\">49.1</td><td style = \"text-align: right;\">10.8</td><td style = \"text-align: right;\">0</td><td style = \"text-align: left;\">pacific_naturalgas</td><td style = \"text-align: right;\">10.55</td><td style = \"text-align: right;\">0.33</td><td style = \"text-align: right;\">3.78</td><td style = \"text-align: right;\">3.78</td><td style = \"text-align: right;\">40</td><td style = \"text-align: right;\">3.5</td><td style = \"text-align: right;\">1</td><td style = \"text-align: right;\">1</td><td style = \"text-align: right;\">1.0</td><td style = \"text-align: right;\">1.0</td><td style = \"text-align: right;\">1.0</td><td style = \"text-align: right;\">0</td><td style = \"text-align: right;\">0</td><td style = \"text-align: right;\">16</td><td style = \"text-align: right;\">1</td><td style = \"text-align: right;\">0</td><td style = \"text-align: right;\">1</td><td style = \"text-align: right;\">2.57</td><td style = \"text-align: right;\">0.05306</td><td style = \"text-align: right;\">false</td><td style = \"text-align: left;\">wec_sdge_natural_gas_fired_combustion_turbine_16.0</td></tr><tr><td class = \"rowNumber\" style = \"font-weight: bold; text-align: right;\">19</td><td style = \"text-align: right;\">25</td><td style = \"text-align: left;\">natural_gas_fired_combustion_turbine</td><td style = \"text-align: left;\">WEC_SDGE</td><td style = \"text-align: right;\">98.2</td><td style = \"text-align: right;\">2</td><td style = \"text-align: right;\">49.1</td><td style = \"text-align: right;\">10.8</td><td style = \"text-align: right;\">0</td><td style = \"text-align: left;\">pacific_naturalgas</td><td style = \"text-align: right;\">10.55</td><td style = \"text-align: right;\">0.34</td><td style = \"text-align: right;\">3.78</td><td style = \"text-align: right;\">3.78</td><td style = \"text-align: right;\">40</td><td style = \"text-align: right;\">3.5</td><td style = \"text-align: right;\">1</td><td style = \"text-align: right;\">1</td><td style = \"text-align: right;\">1.0</td><td style = \"text-align: right;\">1.0</td><td style = \"text-align: right;\">1.0</td><td style = \"text-align: right;\">0</td><td style = \"text-align: right;\">0</td><td style = \"text-align: right;\">17</td><td style = \"text-align: right;\">1</td><td style = \"text-align: right;\">0</td><td style = \"text-align: right;\">1</td><td style = \"text-align: right;\">2.57</td><td style = \"text-align: right;\">0.05306</td><td style = \"text-align: right;\">false</td><td style = \"text-align: left;\">wec_sdge_natural_gas_fired_combustion_turbine_17.0</td></tr><tr><td class = \"rowNumber\" style = \"font-weight: bold; text-align: right;\">20</td><td style = \"text-align: right;\">26</td><td style = \"text-align: left;\">natural_gas_fired_combustion_turbine</td><td style = \"text-align: left;\">WEC_SDGE</td><td style = \"text-align: right;\">98.2</td><td style = \"text-align: right;\">2</td><td style = \"text-align: right;\">49.1</td><td style = \"text-align: right;\">10.8</td><td style = \"text-align: right;\">0</td><td style = \"text-align: left;\">pacific_naturalgas</td><td style = \"text-align: right;\">10.6</td><td style = \"text-align: right;\">0.35</td><td style = \"text-align: right;\">3.78</td><td style = \"text-align: right;\">3.78</td><td style = \"text-align: right;\">40</td><td style = \"text-align: right;\">3.5</td><td style = \"text-align: right;\">1</td><td style = \"text-align: right;\">1</td><td style = \"text-align: right;\">1.0</td><td style = \"text-align: right;\">1.0</td><td style = \"text-align: right;\">1.0</td><td style = \"text-align: right;\">0</td><td style = \"text-align: right;\">0</td><td style = \"text-align: right;\">18</td><td style = \"text-align: right;\">1</td><td style = \"text-align: right;\">0</td><td style = \"text-align: right;\">1</td><td style = \"text-align: right;\">2.57</td><td style = \"text-align: right;\">0.05306</td><td style = \"text-align: right;\">false</td><td style = \"text-align: left;\">wec_sdge_natural_gas_fired_combustion_turbine_18.0</td></tr><tr><td class = \"rowNumber\" style = \"font-weight: bold; text-align: right;\">21</td><td style = \"text-align: right;\">27</td><td style = \"text-align: left;\">natural_gas_fired_combustion_turbine</td><td style = \"text-align: left;\">WEC_SDGE</td><td style = \"text-align: right;\">98.2</td><td style = \"text-align: right;\">2</td><td style = \"text-align: right;\">49.1</td><td style = \"text-align: right;\">10.8</td><td style = \"text-align: right;\">0</td><td style = \"text-align: left;\">pacific_naturalgas</td><td style = \"text-align: right;\">10.6</td><td style = \"text-align: right;\">0.36</td><td style = \"text-align: right;\">3.78</td><td style = \"text-align: right;\">3.78</td><td style = \"text-align: right;\">40</td><td style = \"text-align: right;\">3.5</td><td style = \"text-align: right;\">1</td><td style = \"text-align: right;\">1</td><td style = \"text-align: right;\">1.0</td><td style = \"text-align: right;\">1.0</td><td style = \"text-align: right;\">1.0</td><td style = \"text-align: right;\">0</td><td style = \"text-align: right;\">0</td><td style = \"text-align: right;\">19</td><td style = \"text-align: right;\">1</td><td style = \"text-align: right;\">0</td><td style = \"text-align: right;\">1</td><td style = \"text-align: right;\">2.57</td><td style = \"text-align: right;\">0.05306</td><td style = \"text-align: right;\">false</td><td style = \"text-align: left;\">wec_sdge_natural_gas_fired_combustion_turbine_19.0</td></tr><tr><td class = \"rowNumber\" style = \"font-weight: bold; text-align: right;\">22</td><td style = \"text-align: right;\">28</td><td style = \"text-align: left;\">natural_gas_fired_combustion_turbine</td><td style = \"text-align: left;\">WEC_SDGE</td><td style = \"text-align: right;\">98.2</td><td style = \"text-align: right;\">2</td><td style = \"text-align: right;\">49.1</td><td style = \"text-align: right;\">10.8</td><td style = \"text-align: right;\">0</td><td style = \"text-align: left;\">pacific_naturalgas</td><td style = \"text-align: right;\">10.6</td><td style = \"text-align: right;\">0.37</td><td style = \"text-align: right;\">3.78</td><td style = \"text-align: right;\">3.78</td><td style = \"text-align: right;\">40</td><td style = \"text-align: right;\">3.5</td><td style = \"text-align: right;\">1</td><td style = \"text-align: right;\">1</td><td style = \"text-align: right;\">1.0</td><td style = \"text-align: right;\">1.0</td><td style = \"text-align: right;\">1.0</td><td style = \"text-align: right;\">0</td><td style = \"text-align: right;\">0</td><td style = \"text-align: right;\">20</td><td style = \"text-align: right;\">1</td><td style = \"text-align: right;\">0</td><td style = \"text-align: right;\">1</td><td style = \"text-align: right;\">2.57</td><td style = \"text-align: right;\">0.05306</td><td style = \"text-align: right;\">false</td><td style = \"text-align: left;\">wec_sdge_natural_gas_fired_combustion_turbine_20.0</td></tr><tr><td class = \"rowNumber\" style = \"font-weight: bold; text-align: right;\">23</td><td style = \"text-align: right;\">29</td><td style = \"text-align: left;\">natural_gas_fired_combustion_turbine</td><td style = \"text-align: left;\">WEC_SDGE</td><td style = \"text-align: right;\">98.2</td><td style = \"text-align: right;\">2</td><td style = \"text-align: right;\">49.1</td><td style = \"text-align: right;\">10.8</td><td style = \"text-align: right;\">0</td><td style = \"text-align: left;\">pacific_naturalgas</td><td style = \"text-align: right;\">10.65</td><td style = \"text-align: right;\">0.38</td><td style = \"text-align: right;\">3.78</td><td style = \"text-align: right;\">3.78</td><td style = \"text-align: right;\">40</td><td style = \"text-align: right;\">3.5</td><td style = \"text-align: right;\">1</td><td style = \"text-align: right;\">1</td><td style = \"text-align: right;\">1.0</td><td style = \"text-align: right;\">1.0</td><td style = \"text-align: right;\">1.0</td><td style = \"text-align: right;\">0</td><td style = \"text-align: right;\">0</td><td style = \"text-align: right;\">21</td><td style = \"text-align: right;\">1</td><td style = \"text-align: right;\">0</td><td style = \"text-align: right;\">1</td><td style = \"text-align: right;\">2.57</td><td style = \"text-align: right;\">0.05306</td><td style = \"text-align: right;\">false</td><td style = \"text-align: left;\">wec_sdge_natural_gas_fired_combustion_turbine_21.0</td></tr><tr><td class = \"rowNumber\" style = \"font-weight: bold; text-align: right;\">24</td><td style = \"text-align: right;\">30</td><td style = \"text-align: left;\">natural_gas_fired_combustion_turbine</td><td style = \"text-align: left;\">WEC_SDGE</td><td style = \"text-align: right;\">98.2</td><td style = \"text-align: right;\">2</td><td style = \"text-align: right;\">49.1</td><td style = \"text-align: right;\">10.8</td><td style = \"text-align: right;\">0</td><td style = \"text-align: left;\">pacific_naturalgas</td><td style = \"text-align: right;\">10.65</td><td style = \"text-align: right;\">0.39</td><td style = \"text-align: right;\">3.78</td><td style = \"text-align: right;\">3.78</td><td style = \"text-align: right;\">40</td><td style = \"text-align: right;\">3.5</td><td style = \"text-align: right;\">1</td><td style = \"text-align: right;\">1</td><td style = \"text-align: right;\">1.0</td><td style = \"text-align: right;\">1.0</td><td style = \"text-align: right;\">1.0</td><td style = \"text-align: right;\">0</td><td style = \"text-align: right;\">0</td><td style = \"text-align: right;\">22</td><td style = \"text-align: right;\">1</td><td style = \"text-align: right;\">0</td><td style = \"text-align: right;\">1</td><td style = \"text-align: right;\">2.57</td><td style = \"text-align: right;\">0.05306</td><td style = \"text-align: right;\">false</td><td style = \"text-align: left;\">wec_sdge_natural_gas_fired_combustion_turbine_22.0</td></tr><tr><td class = \"rowNumber\" style = \"font-weight: bold; text-align: right;\">25</td><td style = \"text-align: right;\">31</td><td style = \"text-align: left;\">onshore_wind_turbine</td><td style = \"text-align: left;\">WEC_SDGE</td><td style = \"text-align: right;\">217.6</td><td style = \"text-align: right;\">3</td><td style = \"text-align: right;\">64.67</td><td style = \"text-align: right;\">0.0</td><td style = \"text-align: right;\">0</td><td style = \"text-align: left;\">None</td><td style = \"text-align: right;\">9.12</td><td style = \"text-align: right;\">0.0</td><td style = \"text-align: right;\">1.0</td><td style = \"text-align: right;\">1.0</td><td style = \"text-align: right;\">0</td><td style = \"text-align: right;\">0.0</td><td style = \"text-align: right;\">0</td><td style = \"text-align: right;\">0</td><td style = \"text-align: right;\">1.0</td><td style = \"text-align: right;\">1.0</td><td style = \"text-align: right;\">1.0</td><td style = \"text-align: right;\">0</td><td style = \"text-align: right;\">0</td><td style = \"text-align: right;\">1</td><td style = \"text-align: right;\">1</td><td style = \"text-align: right;\">0</td><td style = \"text-align: right;\">0</td><td style = \"text-align: right;\">0.0</td><td style = \"text-align: right;\">0.0</td><td style = \"text-align: right;\">true</td><td style = \"text-align: left;\">wec_sdge_onshore_wind_turbine_1.0</td></tr><tr><td class = \"rowNumber\" style = \"font-weight: bold; text-align: right;\">26</td><td style = \"text-align: right;\">32</td><td style = \"text-align: left;\">small_hydroelectric</td><td style = \"text-align: left;\">WEC_SDGE</td><td style = \"text-align: right;\">7.32</td><td style = \"text-align: right;\">6</td><td style = \"text-align: right;\">1.22</td><td style = \"text-align: right;\">0.0</td><td style = \"text-align: right;\">0</td><td style = \"text-align: left;\">None</td><td style = \"text-align: right;\">9.12</td><td style = \"text-align: right;\">0.385</td><td style = \"text-align: right;\">1.0</td><td style = \"text-align: right;\">1.0</td><td style = \"text-align: right;\">0</td><td style = \"text-align: right;\">0.0</td><td style = \"text-align: right;\">0</td><td style = \"text-align: right;\">0</td><td style = \"text-align: right;\">1.0</td><td style = \"text-align: right;\">1.0</td><td style = \"text-align: right;\">1.0</td><td style = \"text-align: right;\">0</td><td style = \"text-align: right;\">0</td><td style = \"text-align: right;\">1</td><td style = \"text-align: right;\">1</td><td style = \"text-align: right;\">0</td><td style = \"text-align: right;\">0</td><td style = \"text-align: right;\">0.0</td><td style = \"text-align: right;\">0.0</td><td style = \"text-align: right;\">true</td><td style = \"text-align: left;\">wec_sdge_small_hydroelectric_1.0</td></tr><tr><td class = \"rowNumber\" style = \"font-weight: bold; text-align: right;\">27</td><td style = \"text-align: right;\">33</td><td style = \"text-align: left;\">solar_photovoltaic</td><td style = \"text-align: left;\">WEC_SDGE</td><td style = \"text-align: right;\">500.0</td><td style = \"text-align: right;\">20</td><td style = \"text-align: right;\">8.48</td><td style = \"text-align: right;\">0.0</td><td style = \"text-align: right;\">0</td><td style = \"text-align: left;\">None</td><td style = \"text-align: right;\">9.16</td><td style = \"text-align: right;\">0.0</td><td style = \"text-align: right;\">1.0</td><td style = \"text-align: right;\">1.0</td><td style = \"text-align: right;\">0</td><td style = \"text-align: right;\">0.0</td><td style = \"text-align: right;\">0</td><td style = \"text-align: right;\">0</td><td style = \"text-align: right;\">1.0</td><td style = \"text-align: right;\">1.0</td><td style = \"text-align: right;\">1.0</td><td style = \"text-align: right;\">0</td><td style = \"text-align: right;\">0</td><td style = \"text-align: right;\">1</td><td style = \"text-align: right;\">1</td><td style = \"text-align: right;\">0</td><td style = \"text-align: right;\">0</td><td style = \"text-align: right;\">0.0</td><td style = \"text-align: right;\">0.0</td><td style = \"text-align: right;\">true</td><td style = \"text-align: left;\">wec_sdge_solar_photovoltaic_1.0</td></tr></tbody></table></div>"
      ],
      "text/latex": [
       "\\begin{tabular}{r|ccccccccc}\n",
       "\t& r\\_id & resource & region & existing\\_cap\\_mw & num\\_units & cap\\_size & var\\_om\\_cost\\_per\\_mwh & var\\_om\\_cost\\_per\\_mwh\\_in & \\\\\n",
       "\t\\hline\n",
       "\t& Int64? & String? & String15? & Float64? & Int64? & Float64? & Float64? & Int64? & \\\\\n",
       "\t\\hline\n",
       "\t1 & 1 & biomass & WEC\\_SDGE & 21.4 & 20 & 1.07 & 5.234 & 0 & $\\dots$ \\\\\n",
       "\t2 & 2 & hydroelectric\\_pumped\\_storage & WEC\\_SDGE & 42.0 & 2 & 21.0 & 0.0 & 0 & $\\dots$ \\\\\n",
       "\t3 & 3 & natural\\_gas\\_fired\\_combined\\_cycle & WEC\\_SDGE & 607.1 & 1 & 607.1 & 3.4 & 0 & $\\dots$ \\\\\n",
       "\t4 & 4 & natural\\_gas\\_fired\\_combined\\_cycle & WEC\\_SDGE & 30.0 & 1 & 30.0 & 4.3 & 0 & $\\dots$ \\\\\n",
       "\t5 & 5 & natural\\_gas\\_fired\\_combined\\_cycle & WEC\\_SDGE & 49.4 & 1 & 49.4 & 4.3 & 0 & $\\dots$ \\\\\n",
       "\t6 & 6 & natural\\_gas\\_fired\\_combined\\_cycle & WEC\\_SDGE & 570.0 & 1 & 570.0 & 3.4 & 0 & $\\dots$ \\\\\n",
       "\t7 & 7 & natural\\_gas\\_fired\\_combined\\_cycle & WEC\\_SDGE & 336.0 & 3 & 112.0 & 10.8 & 0 & $\\dots$ \\\\\n",
       "\t8 & 8 & natural\\_gas\\_fired\\_combined\\_cycle & WEC\\_SDGE & 336.0 & 3 & 112.0 & 10.8 & 0 & $\\dots$ \\\\\n",
       "\t9 & 9 & natural\\_gas\\_fired\\_combustion\\_turbine & WEC\\_SDGE & 91.6 & 2 & 45.8 & 10.8 & 0 & $\\dots$ \\\\\n",
       "\t10 & 10 & natural\\_gas\\_fired\\_combustion\\_turbine & WEC\\_SDGE & 49.9 & 1 & 49.9 & 10.8 & 0 & $\\dots$ \\\\\n",
       "\t11 & 11 & natural\\_gas\\_fired\\_combustion\\_turbine & WEC\\_SDGE & 48.1 & 1 & 48.1 & 10.8 & 0 & $\\dots$ \\\\\n",
       "\t12 & 12 & natural\\_gas\\_fired\\_combustion\\_turbine & WEC\\_SDGE & 34.6 & 1 & 34.6 & 10.8 & 0 & $\\dots$ \\\\\n",
       "\t13 & 13 & natural\\_gas\\_fired\\_combustion\\_turbine & WEC\\_SDGE & 96.6 & 3 & 32.2 & 10.8 & 0 & $\\dots$ \\\\\n",
       "\t14 & 20 & natural\\_gas\\_fired\\_combustion\\_turbine & WEC\\_SDGE & 48.9 & 1 & 48.9 & 10.8 & 0 & $\\dots$ \\\\\n",
       "\t15 & 21 & natural\\_gas\\_fired\\_combustion\\_turbine & WEC\\_SDGE & 51.3 & 1 & 51.3 & 10.8 & 0 & $\\dots$ \\\\\n",
       "\t16 & 22 & natural\\_gas\\_fired\\_combustion\\_turbine & WEC\\_SDGE & 51.3 & 1 & 51.3 & 10.8 & 0 & $\\dots$ \\\\\n",
       "\t17 & 23 & natural\\_gas\\_fired\\_combustion\\_turbine & WEC\\_SDGE & 98.2 & 2 & 49.1 & 10.8 & 0 & $\\dots$ \\\\\n",
       "\t18 & 24 & natural\\_gas\\_fired\\_combustion\\_turbine & WEC\\_SDGE & 98.2 & 2 & 49.1 & 10.8 & 0 & $\\dots$ \\\\\n",
       "\t19 & 25 & natural\\_gas\\_fired\\_combustion\\_turbine & WEC\\_SDGE & 98.2 & 2 & 49.1 & 10.8 & 0 & $\\dots$ \\\\\n",
       "\t20 & 26 & natural\\_gas\\_fired\\_combustion\\_turbine & WEC\\_SDGE & 98.2 & 2 & 49.1 & 10.8 & 0 & $\\dots$ \\\\\n",
       "\t21 & 27 & natural\\_gas\\_fired\\_combustion\\_turbine & WEC\\_SDGE & 98.2 & 2 & 49.1 & 10.8 & 0 & $\\dots$ \\\\\n",
       "\t22 & 28 & natural\\_gas\\_fired\\_combustion\\_turbine & WEC\\_SDGE & 98.2 & 2 & 49.1 & 10.8 & 0 & $\\dots$ \\\\\n",
       "\t23 & 29 & natural\\_gas\\_fired\\_combustion\\_turbine & WEC\\_SDGE & 98.2 & 2 & 49.1 & 10.8 & 0 & $\\dots$ \\\\\n",
       "\t24 & 30 & natural\\_gas\\_fired\\_combustion\\_turbine & WEC\\_SDGE & 98.2 & 2 & 49.1 & 10.8 & 0 & $\\dots$ \\\\\n",
       "\t$\\dots$ & $\\dots$ & $\\dots$ & $\\dots$ & $\\dots$ & $\\dots$ & $\\dots$ & $\\dots$ & $\\dots$ &  \\\\\n",
       "\\end{tabular}\n"
      ],
      "text/plain": [
       "\u001b[1m27×30 DataFrame\u001b[0m\n",
       "\u001b[1m Row \u001b[0m│\u001b[1m r_id   \u001b[0m\u001b[1m resource                          \u001b[0m\u001b[1m region    \u001b[0m\u001b[1m existing_cap_mw \u001b[0m\u001b[1m num_units \u001b[0m\u001b[1m cap_size \u001b[0m\u001b[1m var_om_cost_per_mwh\u001b[0m ⋯\n",
       "     │\u001b[90m Int64? \u001b[0m\u001b[90m String?                           \u001b[0m\u001b[90m String15? \u001b[0m\u001b[90m Float64?        \u001b[0m\u001b[90m Int64?    \u001b[0m\u001b[90m Float64? \u001b[0m\u001b[90m Float64?           \u001b[0m ⋯\n",
       "─────┼──────────────────────────────────────────────────────────────────────────────────────────────────────────────────\n",
       "   1 │      1  biomass                            WEC_SDGE             21.4          20      1.07                5.234 ⋯\n",
       "   2 │      2  hydroelectric_pumped_storage       WEC_SDGE             42.0           2     21.0                 0.0\n",
       "   3 │      3  natural_gas_fired_combined_cycle   WEC_SDGE            607.1           1    607.1                 3.4\n",
       "   4 │      4  natural_gas_fired_combined_cycle   WEC_SDGE             30.0           1     30.0                 4.3\n",
       "   5 │      5  natural_gas_fired_combined_cycle   WEC_SDGE             49.4           1     49.4                 4.3   ⋯\n",
       "   6 │      6  natural_gas_fired_combined_cycle   WEC_SDGE            570.0           1    570.0                 3.4\n",
       "   7 │      7  natural_gas_fired_combined_cycle   WEC_SDGE            336.0           3    112.0                10.8\n",
       "   8 │      8  natural_gas_fired_combined_cycle   WEC_SDGE            336.0           3    112.0                10.8\n",
       "  ⋮  │   ⋮                     ⋮                      ⋮             ⋮             ⋮         ⋮               ⋮          ⋱\n",
       "  21 │     27  natural_gas_fired_combustion_tur…  WEC_SDGE             98.2           2     49.1                10.8   ⋯\n",
       "  22 │     28  natural_gas_fired_combustion_tur…  WEC_SDGE             98.2           2     49.1                10.8\n",
       "  23 │     29  natural_gas_fired_combustion_tur…  WEC_SDGE             98.2           2     49.1                10.8\n",
       "  24 │     30  natural_gas_fired_combustion_tur…  WEC_SDGE             98.2           2     49.1                10.8\n",
       "  25 │     31  onshore_wind_turbine               WEC_SDGE            217.6           3     64.67                0.0   ⋯\n",
       "  26 │     32  small_hydroelectric                WEC_SDGE              7.32          6      1.22                0.0\n",
       "  27 │     33  solar_photovoltaic                 WEC_SDGE            500.0          20      8.48                0.0\n",
       "\u001b[36m                                                                                          23 columns and 12 rows omitted\u001b[0m"
      ]
     },
     "metadata": {},
     "output_type": "display_data"
    }
   ],
   "source": [
    "gen_df"
   ]
  },
  {
   "cell_type": "markdown",
   "metadata": {},
   "source": [
    "**Modify load and variable generation dataframes**"
   ]
  },
  {
   "cell_type": "code",
   "execution_count": 5,
   "metadata": {},
   "outputs": [
    {
     "data": {
      "text/html": [
       "<div><div style = \"float: left;\"><span>262800×3 DataFrame</span></div><div style = \"float: right;\"><span style = \"font-style: italic;\">262775 rows omitted</span></div><div style = \"clear: both;\"></div></div><div class = \"data-frame\" style = \"overflow-x: scroll;\"><table class = \"data-frame\" style = \"margin-bottom: 6px;\"><thead><tr class = \"header\"><th class = \"rowNumber\" style = \"font-weight: bold; text-align: right;\">Row</th><th style = \"text-align: left;\">hour</th><th style = \"text-align: left;\">gen_full</th><th style = \"text-align: left;\">cf</th></tr><tr class = \"subheader headerLastRow\"><th class = \"rowNumber\" style = \"font-weight: bold; text-align: right;\"></th><th title = \"Int64\" style = \"text-align: left;\">Int64</th><th title = \"String\" style = \"text-align: left;\">String</th><th title = \"Float64\" style = \"text-align: left;\">Float64</th></tr></thead><tbody><tr><td class = \"rowNumber\" style = \"font-weight: bold; text-align: right;\">1</td><td style = \"text-align: right;\">1</td><td style = \"text-align: left;\">wec_sdge_biomass_1.0</td><td style = \"text-align: right;\">1.0</td></tr><tr><td class = \"rowNumber\" style = \"font-weight: bold; text-align: right;\">2</td><td style = \"text-align: right;\">2</td><td style = \"text-align: left;\">wec_sdge_biomass_1.0</td><td style = \"text-align: right;\">1.0</td></tr><tr><td class = \"rowNumber\" style = \"font-weight: bold; text-align: right;\">3</td><td style = \"text-align: right;\">3</td><td style = \"text-align: left;\">wec_sdge_biomass_1.0</td><td style = \"text-align: right;\">1.0</td></tr><tr><td class = \"rowNumber\" style = \"font-weight: bold; text-align: right;\">4</td><td style = \"text-align: right;\">4</td><td style = \"text-align: left;\">wec_sdge_biomass_1.0</td><td style = \"text-align: right;\">1.0</td></tr><tr><td class = \"rowNumber\" style = \"font-weight: bold; text-align: right;\">5</td><td style = \"text-align: right;\">5</td><td style = \"text-align: left;\">wec_sdge_biomass_1.0</td><td style = \"text-align: right;\">1.0</td></tr><tr><td class = \"rowNumber\" style = \"font-weight: bold; text-align: right;\">6</td><td style = \"text-align: right;\">6</td><td style = \"text-align: left;\">wec_sdge_biomass_1.0</td><td style = \"text-align: right;\">1.0</td></tr><tr><td class = \"rowNumber\" style = \"font-weight: bold; text-align: right;\">7</td><td style = \"text-align: right;\">7</td><td style = \"text-align: left;\">wec_sdge_biomass_1.0</td><td style = \"text-align: right;\">1.0</td></tr><tr><td class = \"rowNumber\" style = \"font-weight: bold; text-align: right;\">8</td><td style = \"text-align: right;\">8</td><td style = \"text-align: left;\">wec_sdge_biomass_1.0</td><td style = \"text-align: right;\">1.0</td></tr><tr><td class = \"rowNumber\" style = \"font-weight: bold; text-align: right;\">9</td><td style = \"text-align: right;\">9</td><td style = \"text-align: left;\">wec_sdge_biomass_1.0</td><td style = \"text-align: right;\">1.0</td></tr><tr><td class = \"rowNumber\" style = \"font-weight: bold; text-align: right;\">10</td><td style = \"text-align: right;\">10</td><td style = \"text-align: left;\">wec_sdge_biomass_1.0</td><td style = \"text-align: right;\">1.0</td></tr><tr><td class = \"rowNumber\" style = \"font-weight: bold; text-align: right;\">11</td><td style = \"text-align: right;\">11</td><td style = \"text-align: left;\">wec_sdge_biomass_1.0</td><td style = \"text-align: right;\">1.0</td></tr><tr><td class = \"rowNumber\" style = \"font-weight: bold; text-align: right;\">12</td><td style = \"text-align: right;\">12</td><td style = \"text-align: left;\">wec_sdge_biomass_1.0</td><td style = \"text-align: right;\">1.0</td></tr><tr><td class = \"rowNumber\" style = \"font-weight: bold; text-align: right;\">13</td><td style = \"text-align: right;\">13</td><td style = \"text-align: left;\">wec_sdge_biomass_1.0</td><td style = \"text-align: right;\">1.0</td></tr><tr><td style = \"text-align: right;\">&vellip;</td><td style = \"text-align: right;\">&vellip;</td><td style = \"text-align: right;\">&vellip;</td><td style = \"text-align: right;\">&vellip;</td></tr><tr><td class = \"rowNumber\" style = \"font-weight: bold; text-align: right;\">262789</td><td style = \"text-align: right;\">8749</td><td style = \"text-align: left;\">wec_sdge_utilitypv_losangeles_2.0</td><td style = \"text-align: right;\">0.958197</td></tr><tr><td class = \"rowNumber\" style = \"font-weight: bold; text-align: right;\">262790</td><td style = \"text-align: right;\">8750</td><td style = \"text-align: left;\">wec_sdge_utilitypv_losangeles_2.0</td><td style = \"text-align: right;\">0.949066</td></tr><tr><td class = \"rowNumber\" style = \"font-weight: bold; text-align: right;\">262791</td><td style = \"text-align: right;\">8751</td><td style = \"text-align: left;\">wec_sdge_utilitypv_losangeles_2.0</td><td style = \"text-align: right;\">0.849817</td></tr><tr><td class = \"rowNumber\" style = \"font-weight: bold; text-align: right;\">262792</td><td style = \"text-align: right;\">8752</td><td style = \"text-align: left;\">wec_sdge_utilitypv_losangeles_2.0</td><td style = \"text-align: right;\">0.692269</td></tr><tr><td class = \"rowNumber\" style = \"font-weight: bold; text-align: right;\">262793</td><td style = \"text-align: right;\">8753</td><td style = \"text-align: left;\">wec_sdge_utilitypv_losangeles_2.0</td><td style = \"text-align: right;\">0.430381</td></tr><tr><td class = \"rowNumber\" style = \"font-weight: bold; text-align: right;\">262794</td><td style = \"text-align: right;\">8754</td><td style = \"text-align: left;\">wec_sdge_utilitypv_losangeles_2.0</td><td style = \"text-align: right;\">0.0</td></tr><tr><td class = \"rowNumber\" style = \"font-weight: bold; text-align: right;\">262795</td><td style = \"text-align: right;\">8755</td><td style = \"text-align: left;\">wec_sdge_utilitypv_losangeles_2.0</td><td style = \"text-align: right;\">0.0</td></tr><tr><td class = \"rowNumber\" style = \"font-weight: bold; text-align: right;\">262796</td><td style = \"text-align: right;\">8756</td><td style = \"text-align: left;\">wec_sdge_utilitypv_losangeles_2.0</td><td style = \"text-align: right;\">0.0</td></tr><tr><td class = \"rowNumber\" style = \"font-weight: bold; text-align: right;\">262797</td><td style = \"text-align: right;\">8757</td><td style = \"text-align: left;\">wec_sdge_utilitypv_losangeles_2.0</td><td style = \"text-align: right;\">0.0</td></tr><tr><td class = \"rowNumber\" style = \"font-weight: bold; text-align: right;\">262798</td><td style = \"text-align: right;\">8758</td><td style = \"text-align: left;\">wec_sdge_utilitypv_losangeles_2.0</td><td style = \"text-align: right;\">0.0</td></tr><tr><td class = \"rowNumber\" style = \"font-weight: bold; text-align: right;\">262799</td><td style = \"text-align: right;\">8759</td><td style = \"text-align: left;\">wec_sdge_utilitypv_losangeles_2.0</td><td style = \"text-align: right;\">0.0</td></tr><tr><td class = \"rowNumber\" style = \"font-weight: bold; text-align: right;\">262800</td><td style = \"text-align: right;\">8760</td><td style = \"text-align: left;\">wec_sdge_utilitypv_losangeles_2.0</td><td style = \"text-align: right;\">0.0</td></tr></tbody></table></div>"
      ],
      "text/latex": [
       "\\begin{tabular}{r|ccc}\n",
       "\t& hour & gen\\_full & cf\\\\\n",
       "\t\\hline\n",
       "\t& Int64 & String & Float64\\\\\n",
       "\t\\hline\n",
       "\t1 & 1 & wec\\_sdge\\_biomass\\_1.0 & 1.0 \\\\\n",
       "\t2 & 2 & wec\\_sdge\\_biomass\\_1.0 & 1.0 \\\\\n",
       "\t3 & 3 & wec\\_sdge\\_biomass\\_1.0 & 1.0 \\\\\n",
       "\t4 & 4 & wec\\_sdge\\_biomass\\_1.0 & 1.0 \\\\\n",
       "\t5 & 5 & wec\\_sdge\\_biomass\\_1.0 & 1.0 \\\\\n",
       "\t6 & 6 & wec\\_sdge\\_biomass\\_1.0 & 1.0 \\\\\n",
       "\t7 & 7 & wec\\_sdge\\_biomass\\_1.0 & 1.0 \\\\\n",
       "\t8 & 8 & wec\\_sdge\\_biomass\\_1.0 & 1.0 \\\\\n",
       "\t9 & 9 & wec\\_sdge\\_biomass\\_1.0 & 1.0 \\\\\n",
       "\t10 & 10 & wec\\_sdge\\_biomass\\_1.0 & 1.0 \\\\\n",
       "\t11 & 11 & wec\\_sdge\\_biomass\\_1.0 & 1.0 \\\\\n",
       "\t12 & 12 & wec\\_sdge\\_biomass\\_1.0 & 1.0 \\\\\n",
       "\t13 & 13 & wec\\_sdge\\_biomass\\_1.0 & 1.0 \\\\\n",
       "\t14 & 14 & wec\\_sdge\\_biomass\\_1.0 & 1.0 \\\\\n",
       "\t15 & 15 & wec\\_sdge\\_biomass\\_1.0 & 1.0 \\\\\n",
       "\t16 & 16 & wec\\_sdge\\_biomass\\_1.0 & 1.0 \\\\\n",
       "\t17 & 17 & wec\\_sdge\\_biomass\\_1.0 & 1.0 \\\\\n",
       "\t18 & 18 & wec\\_sdge\\_biomass\\_1.0 & 1.0 \\\\\n",
       "\t19 & 19 & wec\\_sdge\\_biomass\\_1.0 & 1.0 \\\\\n",
       "\t20 & 20 & wec\\_sdge\\_biomass\\_1.0 & 1.0 \\\\\n",
       "\t21 & 21 & wec\\_sdge\\_biomass\\_1.0 & 1.0 \\\\\n",
       "\t22 & 22 & wec\\_sdge\\_biomass\\_1.0 & 1.0 \\\\\n",
       "\t23 & 23 & wec\\_sdge\\_biomass\\_1.0 & 1.0 \\\\\n",
       "\t24 & 24 & wec\\_sdge\\_biomass\\_1.0 & 1.0 \\\\\n",
       "\t$\\dots$ & $\\dots$ & $\\dots$ & $\\dots$ \\\\\n",
       "\\end{tabular}\n"
      ],
      "text/plain": [
       "\u001b[1m262800×3 DataFrame\u001b[0m\n",
       "\u001b[1m    Row \u001b[0m│\u001b[1m hour  \u001b[0m\u001b[1m gen_full                          \u001b[0m\u001b[1m cf       \u001b[0m\n",
       "        │\u001b[90m Int64 \u001b[0m\u001b[90m String                            \u001b[0m\u001b[90m Float64  \u001b[0m\n",
       "────────┼────────────────────────────────────────────────────\n",
       "      1 │     1  wec_sdge_biomass_1.0               1.0\n",
       "      2 │     2  wec_sdge_biomass_1.0               1.0\n",
       "      3 │     3  wec_sdge_biomass_1.0               1.0\n",
       "      4 │     4  wec_sdge_biomass_1.0               1.0\n",
       "      5 │     5  wec_sdge_biomass_1.0               1.0\n",
       "      6 │     6  wec_sdge_biomass_1.0               1.0\n",
       "      7 │     7  wec_sdge_biomass_1.0               1.0\n",
       "      8 │     8  wec_sdge_biomass_1.0               1.0\n",
       "   ⋮    │   ⋮                    ⋮                     ⋮\n",
       " 262794 │  8754  wec_sdge_utilitypv_losangeles_2.0  0.0\n",
       " 262795 │  8755  wec_sdge_utilitypv_losangeles_2.0  0.0\n",
       " 262796 │  8756  wec_sdge_utilitypv_losangeles_2.0  0.0\n",
       " 262797 │  8757  wec_sdge_utilitypv_losangeles_2.0  0.0\n",
       " 262798 │  8758  wec_sdge_utilitypv_losangeles_2.0  0.0\n",
       " 262799 │  8759  wec_sdge_utilitypv_losangeles_2.0  0.0\n",
       " 262800 │  8760  wec_sdge_utilitypv_losangeles_2.0  0.0\n",
       "\u001b[36m                                          262785 rows omitted\u001b[0m"
      ]
     },
     "metadata": {},
     "output_type": "display_data"
    }
   ],
   "source": [
    "# 1. Convert from \"wide\" to \"long\" format\n",
    "gen_variable_long = stack(gen_variable, \n",
    "                        Not(:hour), \n",
    "                        variable_name=:gen_full,\n",
    "                        value_name=:cf);\n",
    "# Now we have a \"long\" dataframe"
   ]
  },
  {
   "cell_type": "markdown",
   "metadata": {},
   "source": [
    "### 3. Create solver function"
   ]
  },
  {
   "cell_type": "markdown",
   "metadata": {},
   "source": [
    "As a utility function, since we do this alot, we'll create a function to convert JuMP AxisArray outputs with two indexes to DataFrames."
   ]
  },
  {
   "cell_type": "code",
   "execution_count": 6,
   "metadata": {},
   "outputs": [
    {
     "data": {
      "text/plain": [
       "value_to_df_2dim (generic function with 1 method)"
      ]
     },
     "metadata": {},
     "output_type": "display_data"
    }
   ],
   "source": [
    "#=\n",
    "Function to convert JuMP outputs (technically, AxisArrays) with two-indexes to a dataframe\n",
    "Inputs:\n",
    "    var -- JuMP AxisArray (e.g., value.(GEN))\n",
    "Reference: https://jump.dev/JuMP.jl/v0.19/containers/\n",
    "=#\n",
    "function value_to_df_2dim(var)\n",
    "    solution = DataFrame(var.data, :auto)\n",
    "    ax1 = var.axes[1]\n",
    "    ax2 = var.axes[2]\n",
    "    cols = names(solution)\n",
    "    insertcols!(solution, 1, :r_id => ax1)\n",
    "    solution = stack(solution, Not(:r_id), variable_name=:hour)\n",
    "    solution.hour = foldl(replace, [cols[i] => ax2[i] for i in 1:length(ax2)], init=solution.hour)\n",
    "    rename!(solution, :value => :gen)\n",
    "    solution.hour = convert.(Int64,solution.hour)\n",
    "    return solution\n",
    "end"
   ]
  },
  {
   "cell_type": "markdown",
   "metadata": {},
   "source": [
    "Then we'll create a function to create and solve a simple unit commitment problem with specified input data."
   ]
  },
  {
   "cell_type": "code",
   "execution_count": 7,
   "metadata": {},
   "outputs": [
    {
     "data": {
      "text/plain": [
       "unit_commitment_simple (generic function with 1 method)"
      ]
     },
     "metadata": {},
     "output_type": "display_data"
    }
   ],
   "source": [
    "#=\n",
    "Function to solve simple unit commitment problem (commitment equations)\n",
    "Inputs:\n",
    "    gen_df -- dataframe with generator info\n",
    "    loads  -- load by time\n",
    "    gen_variable -- capacity factors of variable generators (in \"long\" format)\n",
    "    mip_gap -- desired relative MIP gap to pass to solver\n",
    "=#\n",
    "function unit_commitment_simple(gen_df, loads, gen_variable, mip_gap)\n",
    "    UC = Model(HiGHS.Optimizer)\n",
    "    set_optimizer_attribute(UC, \"mip_rel_gap\", mip_gap)\n",
    "\n",
    "    # Define sets based on data\n",
    "    # Note the creation of several different sets of generators for use in\n",
    "    # different equations.\n",
    "        # Thermal resources for which unit commitment constraints apply\n",
    "    G_thermal = gen_df[gen_df[!,:up_time] .> 0,:r_id] \n",
    "        # Non-thermal resources for which unit commitment constraints do NOT apply \n",
    "    G_nonthermal = gen_df[gen_df[!,:up_time] .== 0,:r_id]\n",
    "        # Variable renewable resources\n",
    "    G_var = gen_df[gen_df[!,:is_variable] .== 1,:r_id]\n",
    "        # Non-variable (dispatchable) resources\n",
    "    G_nonvar = gen_df[gen_df[!,:is_variable] .== 0,:r_id]\n",
    "        # Non-variable and non-thermal resources\n",
    "    G_nt_nonvar = intersect(G_nonvar, G_nonthermal)\n",
    "        # Set of all generators (above are all subsets of this)\n",
    "    G = gen_df.r_id\n",
    "        # All time periods (hours) over which we are optimizing\n",
    "    T = loads.hour\n",
    "        # A subset of time periods that excludes the last time period\n",
    "    T_red = loads.hour[1:end-1]  # reduced time periods without last one\n",
    "\n",
    "    # Generator capacity factor time series for variable generators\n",
    "    gen_var_cf = innerjoin(gen_variable, \n",
    "                    gen_df[gen_df.is_variable .== 1 , \n",
    "                        [:r_id, :gen_full, :existing_cap_mw]], \n",
    "                    on = :gen_full)\n",
    "        \n",
    "    # Decision variables   \n",
    "    @variables(UC, begin\n",
    "            # Continuous decision variables\n",
    "        GEN[G, T]  >= 0     # generation\n",
    "            # Bin = binary variables; \n",
    "            # the following are all binary decisions that \n",
    "            # can ONLY take the values 0 or 1\n",
    "            # The presence of these discrete decisions makes this an MILP\n",
    "        COMMIT[G_thermal, T], Bin # commitment status (Bin=binary)\n",
    "        START[G_thermal, T], Bin  # startup decision\n",
    "        SHUT[G_thermal, T], Bin   # shutdown decision\n",
    "    end)\n",
    "                \n",
    "    # Objective function\n",
    "        # Sum of variable costs + start-up costs for all generators and time periods\n",
    "    @objective(UC, Min, \n",
    "        sum( (gen_df[gen_df.r_id .== i,:heat_rate_mmbtu_per_mwh][1] * gen_df[gen_df.r_id .== i,:fuel_cost][1] +\n",
    "            gen_df[gen_df.r_id .== i,:var_om_cost_per_mwh][1]) * GEN[i,t] \n",
    "                        for i in G_nonvar for t in T) + \n",
    "        sum(gen_df[gen_df.r_id .== i,:var_om_cost_per_mwh][1] * GEN[i,t] \n",
    "                        for i in G_var for t in T)  + \n",
    "        sum(gen_df[gen_df.r_id .== i,:start_cost_per_mw][1] * \n",
    "            gen_df[gen_df.r_id .== i,:existing_cap_mw][1] *\n",
    "            START[i,t] \n",
    "                        for i in G_thermal for t in T)\n",
    "    )\n",
    "    \n",
    "    # Demand balance constraint (supply must = demand in all time periods)\n",
    "    @constraint(UC, cDemand[t in T], \n",
    "        sum(GEN[i,t] for i in G) == loads[loads.hour .== t,:demand][1])\n",
    "\n",
    "    # Capacity constraints \n",
    "      # 1. thermal generators requiring commitment\n",
    "    @constraint(UC, Cap_thermal_min[i in G_thermal, t in T], \n",
    "        GEN[i,t] >= COMMIT[i, t] * gen_df[gen_df.r_id .== i,:existing_cap_mw][1] *\n",
    "                        gen_df[gen_df.r_id .== i,:min_power][1])\n",
    "    @constraint(UC, Cap_thermal_max[i in G_thermal, t in T], \n",
    "        GEN[i,t] <= COMMIT[i, t] * gen_df[gen_df.r_id .== i,:existing_cap_mw][1])\n",
    "\n",
    "      # 2. non-variable generation not requiring commitment\n",
    "    @constraint(UC, Cap_nt_nonvar[i in G_nt_nonvar, t in T], \n",
    "        GEN[i,t] <= gen_df[gen_df.r_id .== i,:existing_cap_mw][1])\n",
    "    \n",
    "      # 3. variable generation, accounting for hourly capacity factor\n",
    "    @constraint(UC, Cap_var[i in 1:nrow(gen_var_cf)], \n",
    "            GEN[gen_var_cf[i,:r_id], gen_var_cf[i,:hour] ] <= \n",
    "                        gen_var_cf[i,:cf] *\n",
    "                        gen_var_cf[i,:existing_cap_mw])\n",
    "    \n",
    "    # Unit commitment constraints\n",
    "      # 1. Minimum up time\n",
    "    @constraint(UC, Startup[i in G_thermal, t in T],\n",
    "        COMMIT[i, t] >= sum(START[i, tt] \n",
    "                        for tt in intersect(T,\n",
    "                            (t-gen_df[gen_df.r_id .== i,:up_time][1]):t)))\n",
    "\n",
    "      # 2. Minimum down time\n",
    "    @constraint(UC, Shutdown[i in G_thermal, t in T],\n",
    "        1-COMMIT[i, t] >= sum(SHUT[i, tt] \n",
    "                        for tt in intersect(T,\n",
    "                            (t-gen_df[gen_df.r_id .== i,:down_time][1]):t)))\n",
    " \n",
    "      # 3. Commitment state\n",
    "    @constraint(UC, CommitmentStatus[i in G_thermal, t in T_red],\n",
    "        COMMIT[i,t+1] - COMMIT[i,t] == START[i,t+1] - SHUT[i,t+1])\n",
    "    \n",
    "    # Solve statement (! indicates runs in place)\n",
    "    optimize!(UC)\n",
    "\n",
    "    # Generation solution and convert to data frame \n",
    "    # with our helper function defined above\n",
    "    gen = value_to_df_2dim(value.(GEN))\n",
    "\n",
    "    # Commitment status solution and convert to data frame\n",
    "    commit = value_to_df_2dim(value.(COMMIT))\n",
    "\n",
    "    # Calculate curtailment = available wind and/or solar output that \n",
    "    # had to be wasted due to operating constraints\n",
    "    curtail = innerjoin(gen_var_cf, gen, on = [:r_id, :hour])\n",
    "    curtail.curt = curtail.cf .* curtail.existing_cap_mw - curtail.gen\n",
    "    start = value_to_df_2dim(value.(START))\n",
    "\n",
    "    # Return the solution parameters and objective\n",
    "    return (\n",
    "        gen,\n",
    "        commit,\n",
    "        curtail,\n",
    "        cost = objective_value(UC),\n",
    "        status = termination_status(UC),\n",
    "        start,\n",
    "    )\n",
    "\n",
    "end"
   ]
  },
  {
   "cell_type": "markdown",
   "metadata": {},
   "source": [
    "### 4. Solve a day's unit commitment"
   ]
  },
  {
   "cell_type": "code",
   "execution_count": 8,
   "metadata": {},
   "outputs": [
    {
     "name": "stdout",
     "output_type": "stream",
     "text": [
      "Running HiGHS 1.7.2 (git hash: 5ce7a2753): Copyright (c) 2024 HiGHS under MIT licence terms\n",
      "Coefficient ranges:\n",
      "  Matrix [1e+00, 6e+02]\n",
      "  Cost   [5e+00, 5e+04]\n",
      "  Bound  [1e+00, 1e+00]\n",
      "  RHS    [1e+00, 3e+03]\n",
      "Presolving model\n",
      "2598 rows, 2164 cols, 8892 nonzeros  0s\n",
      "2309 rows, 1827 cols, 10164 nonzeros  0s\n",
      "\n",
      "Solving MIP model with:\n",
      "   2309 rows\n",
      "   1827 cols (1251 binary, 0 integer, 0 implied int., 576 continuous)\n",
      "   10164 nonzeros\n",
      "\n",
      "        Nodes      |    B&B Tree     |            Objective Bounds              |  Dynamic Constraints |       Work      \n",
      "     Proc. InQueue |  Leaves   Expl. | BestBound       BestSol              Gap |   Cuts   InLp Confl. | LpIters     Time\n",
      "\n",
      "         0       0         0   0.00%   0               inf                  inf        0      0      0         0     0.0s\n",
      "         0       0         0   0.00%   1444548.959284  inf                  inf        0      0     13       671     0.1s\n",
      " C       0       0         0   0.00%   1444563.40857   1455527.647063     0.75%      386     35    149       776     0.2s\n",
      "\n",
      "Solving report\n",
      "  Status            Optimal\n",
      "  Primal bound      1455527.64706\n",
      "  Dual bound        1444563.40857\n",
      "  Gap               0.753% (tolerance: 1%)\n",
      "  Solution status   feasible\n",
      "                    1455527.64706 (objective)\n",
      "                    0 (bound viol.)\n",
      "                    0 (int. viol.)\n",
      "                    0 (row viol.)\n",
      "  Timing            0.15 (total)\n",
      "                    0.03 (presolve)\n",
      "                    0.00 (postsolve)\n",
      "  Nodes             1\n",
      "  LP iterations     776 (total)\n",
      "                    0 (strong br.)\n",
      "                    105 (separation)\n",
      "                    0 (heuristics)\n"
     ]
    }
   ],
   "source": [
    "# A spring day\n",
    "n=100\n",
    "T_period = (n*24+1):((n+1)*24)\n",
    "\n",
    "# High solar case: 3,500 MW\n",
    "gen_df_sens = copy(gen_df)\n",
    "gen_df_sens[gen_df_sens.resource .== \"solar_photovoltaic\",\n",
    "    :existing_cap_mw] .= 3500\n",
    "\n",
    "gen_df_sens[gen_df_sens.existing_cap_mw .== maximum(gen_df_sens.existing_cap_mw), :existing_cap_mw] .= 0\n",
    "\n",
    "loads_multi = loads[in.(loads.hour,Ref(T_period)),:]\n",
    "gen_variable_multi = gen_variable_long[in.(gen_variable_long.hour,Ref(T_period)),:]\n",
    "\n",
    "# Note we reduce the MIP gap tolerance threshold here to increase tractability\n",
    "# Here we set it to a 1% gap (mip_gap=0.01), meaning that we will terminate once we have \n",
    "# a feasible integer solution guaranteed to be within 1% of the objective\n",
    "# function value of the optimal solution (e.g. the upper and lower bound are within 1% of\n",
    "# each other as HiGHS traverses the branch and bound tree).\n",
    "# HiGHS's default MIP gap is 0.0001 (0.01%), which can take a longer time for \n",
    "# any complex problem. So it is important to set this to a realistic value.\n",
    "# For a list of all solver options implemented via HiGHS.jl see \n",
    "# https://github.com/jump-dev/HiGHS.jl\n",
    "solution = unit_commitment_simple(\n",
    "    gen_df_sens, loads_multi, gen_variable_multi, 0.01); #1% MIP Gap"
   ]
  },
  {
   "cell_type": "code",
   "execution_count": 9,
   "metadata": {},
   "outputs": [
    {
     "data": {
      "application/vnd.vegalite.v5+json": {
       "data": {
        "values": [
         {
          "gen_sum": 21.4,
          "hour": 0,
          "resource": "biomass"
         },
         {
          "gen_sum": 42,
          "hour": 0,
          "resource": "hydroelectric_pumped_storage"
         },
         {
          "gen_sum": 1105.334468,
          "hour": 0,
          "resource": "natural_gas_fired_combined_cycle"
         },
         {
          "gen_sum": 279.7718,
          "hour": 0,
          "resource": "natural_gas_fired_combustion_turbine"
         },
         {
          "gen_sum": 163.3088,
          "hour": 0,
          "resource": "_onshore_wind_turbine"
         },
         {
          "gen_sum": 3.184932,
          "hour": 0,
          "resource": "_small_hydroelectric"
         },
         {
          "gen_sum": 0,
          "hour": 0,
          "resource": "_solar_photovoltaic"
         },
         {
          "gen_sum": 21.4,
          "hour": 1,
          "resource": "biomass"
         },
         {
          "gen_sum": 42,
          "hour": 1,
          "resource": "hydroelectric_pumped_storage"
         },
         {
          "gen_sum": 1036.849988,
          "hour": 1,
          "resource": "natural_gas_fired_combined_cycle"
         },
         {
          "gen_sum": 279.7718,
          "hour": 1,
          "resource": "natural_gas_fired_combustion_turbine"
         },
         {
          "gen_sum": 169.79327999999998,
          "hour": 1,
          "resource": "_onshore_wind_turbine"
         },
         {
          "gen_sum": 3.184932,
          "hour": 1,
          "resource": "_small_hydroelectric"
         },
         {
          "gen_sum": 0,
          "hour": 1,
          "resource": "_solar_photovoltaic"
         },
         {
          "gen_sum": 21.4,
          "hour": 2,
          "resource": "biomass"
         },
         {
          "gen_sum": 42,
          "hour": 2,
          "resource": "hydroelectric_pumped_storage"
         },
         {
          "gen_sum": 1056.532868,
          "hour": 2,
          "resource": "natural_gas_fired_combined_cycle"
         },
         {
          "gen_sum": 279.7718,
          "hour": 2,
          "resource": "natural_gas_fired_combustion_turbine"
         },
         {
          "gen_sum": 115.1104,
          "hour": 2,
          "resource": "_onshore_wind_turbine"
         },
         {
          "gen_sum": 3.184932,
          "hour": 2,
          "resource": "_small_hydroelectric"
         },
         {
          "gen_sum": 0,
          "hour": 2,
          "resource": "_solar_photovoltaic"
         },
         {
          "gen_sum": 21.4,
          "hour": 3,
          "resource": "biomass"
         },
         {
          "gen_sum": 41.999999999999986,
          "hour": 3,
          "resource": "hydroelectric_pumped_storage"
         },
         {
          "gen_sum": 1115.090308,
          "hour": 3,
          "resource": "natural_gas_fired_combined_cycle"
         },
         {
          "gen_sum": 279.7718,
          "hour": 3,
          "resource": "natural_gas_fired_combustion_turbine"
         },
         {
          "gen_sum": 100.55296,
          "hour": 3,
          "resource": "_onshore_wind_turbine"
         },
         {
          "gen_sum": 3.184932,
          "hour": 3,
          "resource": "_small_hydroelectric"
         },
         {
          "gen_sum": 0,
          "hour": 3,
          "resource": "_solar_photovoltaic"
         },
         {
          "gen_sum": 21.4,
          "hour": 4,
          "resource": "biomass"
         },
         {
          "gen_sum": 42,
          "hour": 4,
          "resource": "hydroelectric_pumped_storage"
         },
         {
          "gen_sum": 1306.065988,
          "hour": 4,
          "resource": "natural_gas_fired_combined_cycle"
         },
         {
          "gen_sum": 279.7718,
          "hour": 4,
          "resource": "natural_gas_fired_combustion_turbine"
         },
         {
          "gen_sum": 80.57728,
          "hour": 4,
          "resource": "_onshore_wind_turbine"
         },
         {
          "gen_sum": 3.184932,
          "hour": 4,
          "resource": "_small_hydroelectric"
         },
         {
          "gen_sum": 0,
          "hour": 4,
          "resource": "_solar_photovoltaic"
         },
         {
          "gen_sum": 21.4,
          "hour": 5,
          "resource": "biomass"
         },
         {
          "gen_sum": 42,
          "hour": 5,
          "resource": "hydroelectric_pumped_storage"
         },
         {
          "gen_sum": 1490.466308,
          "hour": 5,
          "resource": "natural_gas_fired_combined_cycle"
         },
         {
          "gen_sum": 279.7718,
          "hour": 5,
          "resource": "natural_gas_fired_combustion_turbine"
         },
         {
          "gen_sum": 139.17695999999998,
          "hour": 5,
          "resource": "_onshore_wind_turbine"
         },
         {
          "gen_sum": 3.184932,
          "hour": 5,
          "resource": "_small_hydroelectric"
         },
         {
          "gen_sum": 0,
          "hour": 5,
          "resource": "_solar_photovoltaic"
         },
         {
          "gen_sum": 21.4,
          "hour": 6,
          "resource": "biomass"
         },
         {
          "gen_sum": 42,
          "hour": 6,
          "resource": "hydroelectric_pumped_storage"
         },
         {
          "gen_sum": 1853.463428,
          "hour": 6,
          "resource": "natural_gas_fired_combined_cycle"
         },
         {
          "gen_sum": 279.7718,
          "hour": 6,
          "resource": "natural_gas_fired_combustion_turbine"
         },
         {
          "gen_sum": 74.17984,
          "hour": 6,
          "resource": "_onshore_wind_turbine"
         },
         {
          "gen_sum": 3.184932,
          "hour": 6,
          "resource": "_small_hydroelectric"
         },
         {
          "gen_sum": 0,
          "hour": 6,
          "resource": "_solar_photovoltaic"
         },
         {
          "gen_sum": 21.4,
          "hour": 7,
          "resource": "biomass"
         },
         {
          "gen_sum": 41.99999999999999,
          "hour": 7,
          "resource": "hydroelectric_pumped_storage"
         },
         {
          "gen_sum": 1928.5,
          "hour": 7,
          "resource": "natural_gas_fired_combined_cycle"
         },
         {
          "gen_sum": 552.5416280000004,
          "hour": 7,
          "resource": "natural_gas_fired_combustion_turbine"
         },
         {
          "gen_sum": 49.373439999999995,
          "hour": 7,
          "resource": "_onshore_wind_turbine"
         },
         {
          "gen_sum": 3.184932,
          "hour": 7,
          "resource": "_small_hydroelectric"
         },
         {
          "gen_sum": 0,
          "hour": 7,
          "resource": "_solar_photovoltaic"
         },
         {
          "gen_sum": 21.4,
          "hour": 8,
          "resource": "biomass"
         },
         {
          "gen_sum": 42,
          "hour": 8,
          "resource": "hydroelectric_pumped_storage"
         },
         {
          "gen_sum": 1928.5,
          "hour": 8,
          "resource": "natural_gas_fired_combined_cycle"
         },
         {
          "gen_sum": 675.5589080000009,
          "hour": 8,
          "resource": "natural_gas_fired_combustion_turbine"
         },
         {
          "gen_sum": 167.35616,
          "hour": 8,
          "resource": "_onshore_wind_turbine"
         },
         {
          "gen_sum": 3.184932,
          "hour": 8,
          "resource": "_small_hydroelectric"
         },
         {
          "gen_sum": 0,
          "hour": 8,
          "resource": "_solar_photovoltaic"
         },
         {
          "gen_sum": 21.4,
          "hour": 9,
          "resource": "biomass"
         },
         {
          "gen_sum": 42,
          "hour": 9,
          "resource": "hydroelectric_pumped_storage"
         },
         {
          "gen_sum": 1928.5,
          "hour": 9,
          "resource": "natural_gas_fired_combined_cycle"
         },
         {
          "gen_sum": 896.3541080000011,
          "hour": 9,
          "resource": "natural_gas_fired_combustion_turbine"
         },
         {
          "gen_sum": 131.56096,
          "hour": 9,
          "resource": "_onshore_wind_turbine"
         },
         {
          "gen_sum": 3.184932,
          "hour": 9,
          "resource": "_small_hydroelectric"
         },
         {
          "gen_sum": 0,
          "hour": 9,
          "resource": "_solar_photovoltaic"
         },
         {
          "gen_sum": 21.4,
          "hour": 10,
          "resource": "biomass"
         },
         {
          "gen_sum": 42,
          "hour": 10,
          "resource": "hydroelectric_pumped_storage"
         },
         {
          "gen_sum": 1928.5,
          "hour": 10,
          "resource": "natural_gas_fired_combined_cycle"
         },
         {
          "gen_sum": 1018.7214680000016,
          "hour": 10,
          "resource": "natural_gas_fired_combustion_turbine"
         },
         {
          "gen_sum": 111.1936,
          "hour": 10,
          "resource": "_onshore_wind_turbine"
         },
         {
          "gen_sum": 3.184932,
          "hour": 10,
          "resource": "_small_hydroelectric"
         },
         {
          "gen_sum": 0,
          "hour": 10,
          "resource": "_solar_photovoltaic"
         },
         {
          "gen_sum": 21.4,
          "hour": 11,
          "resource": "biomass"
         },
         {
          "gen_sum": 41.999999999999986,
          "hour": 11,
          "resource": "hydroelectric_pumped_storage"
         },
         {
          "gen_sum": 1928.5,
          "hour": 11,
          "resource": "natural_gas_fired_combined_cycle"
         },
         {
          "gen_sum": 875.8049880000016,
          "hour": 11,
          "resource": "natural_gas_fired_combustion_turbine"
         },
         {
          "gen_sum": 92.11008,
          "hour": 11,
          "resource": "_onshore_wind_turbine"
         },
         {
          "gen_sum": 3.184932,
          "hour": 11,
          "resource": "_small_hydroelectric"
         },
         {
          "gen_sum": 0,
          "hour": 11,
          "resource": "_solar_photovoltaic"
         },
         {
          "gen_sum": 21.4,
          "hour": 12,
          "resource": "biomass"
         },
         {
          "gen_sum": 42,
          "hour": 12,
          "resource": "hydroelectric_pumped_storage"
         },
         {
          "gen_sum": 1928.5,
          "hour": 12,
          "resource": "natural_gas_fired_combined_cycle"
         },
         {
          "gen_sum": 695.8216280000008,
          "hour": 12,
          "resource": "natural_gas_fired_combustion_turbine"
         },
         {
          "gen_sum": 52.09344,
          "hour": 12,
          "resource": "_onshore_wind_turbine"
         },
         {
          "gen_sum": 3.184932,
          "hour": 12,
          "resource": "_small_hydroelectric"
         },
         {
          "gen_sum": 0,
          "hour": 12,
          "resource": "_solar_photovoltaic"
         },
         {
          "gen_sum": 21.4,
          "hour": 13,
          "resource": "biomass"
         },
         {
          "gen_sum": 42,
          "hour": 13,
          "resource": "hydroelectric_pumped_storage"
         },
         {
          "gen_sum": 1928.5,
          "hour": 13,
          "resource": "natural_gas_fired_combined_cycle"
         },
         {
          "gen_sum": 606.2225880000005,
          "hour": 13,
          "resource": "natural_gas_fired_combustion_turbine"
         },
         {
          "gen_sum": 64.69248,
          "hour": 13,
          "resource": "_onshore_wind_turbine"
         },
         {
          "gen_sum": 3.184932,
          "hour": 13,
          "resource": "_small_hydroelectric"
         },
         {
          "gen_sum": 0,
          "hour": 13,
          "resource": "_solar_photovoltaic"
         },
         {
          "gen_sum": 21.4,
          "hour": 14,
          "resource": "biomass"
         },
         {
          "gen_sum": 42,
          "hour": 14,
          "resource": "hydroelectric_pumped_storage"
         },
         {
          "gen_sum": 1928.5,
          "hour": 14,
          "resource": "natural_gas_fired_combined_cycle"
         },
         {
          "gen_sum": 533.6939480000008,
          "hour": 14,
          "resource": "natural_gas_fired_combustion_turbine"
         },
         {
          "gen_sum": 49.22112,
          "hour": 14,
          "resource": "_onshore_wind_turbine"
         },
         {
          "gen_sum": 3.184932,
          "hour": 14,
          "resource": "_small_hydroelectric"
         },
         {
          "gen_sum": 0,
          "hour": 14,
          "resource": "_solar_photovoltaic"
         },
         {
          "gen_sum": 21.4,
          "hour": 15,
          "resource": "biomass"
         },
         {
          "gen_sum": 42,
          "hour": 15,
          "resource": "hydroelectric_pumped_storage"
         },
         {
          "gen_sum": 1928.5,
          "hour": 15,
          "resource": "natural_gas_fired_combined_cycle"
         },
         {
          "gen_sum": 421.50450800000027,
          "hour": 15,
          "resource": "natural_gas_fired_combustion_turbine"
         },
         {
          "gen_sum": 65.41055999999999,
          "hour": 15,
          "resource": "_onshore_wind_turbine"
         },
         {
          "gen_sum": 3.184932,
          "hour": 15,
          "resource": "_small_hydroelectric"
         },
         {
          "gen_sum": 0,
          "hour": 15,
          "resource": "_solar_photovoltaic"
         },
         {
          "gen_sum": 21.4,
          "hour": 16,
          "resource": "biomass"
         },
         {
          "gen_sum": 42,
          "hour": 16,
          "resource": "hydroelectric_pumped_storage"
         },
         {
          "gen_sum": 1928.5,
          "hour": 16,
          "resource": "natural_gas_fired_combined_cycle"
         },
         {
          "gen_sum": 369.7297880000002,
          "hour": 16,
          "resource": "natural_gas_fired_combustion_turbine"
         },
         {
          "gen_sum": 57.18527999999999,
          "hour": 16,
          "resource": "_onshore_wind_turbine"
         },
         {
          "gen_sum": 3.184932,
          "hour": 16,
          "resource": "_small_hydroelectric"
         },
         {
          "gen_sum": 0,
          "hour": 16,
          "resource": "_solar_photovoltaic"
         },
         {
          "gen_sum": 21.4,
          "hour": 17,
          "resource": "biomass"
         },
         {
          "gen_sum": 42,
          "hour": 17,
          "resource": "hydroelectric_pumped_storage"
         },
         {
          "gen_sum": 1928.5,
          "hour": 17,
          "resource": "natural_gas_fired_combined_cycle"
         },
         {
          "gen_sum": 300.29618800000026,
          "hour": 17,
          "resource": "natural_gas_fired_combustion_turbine"
         },
         {
          "gen_sum": 78.61888,
          "hour": 17,
          "resource": "_onshore_wind_turbine"
         },
         {
          "gen_sum": 3.184932,
          "hour": 17,
          "resource": "_small_hydroelectric"
         },
         {
          "gen_sum": 0,
          "hour": 17,
          "resource": "_solar_photovoltaic"
         },
         {
          "gen_sum": 21.4,
          "hour": 18,
          "resource": "biomass"
         },
         {
          "gen_sum": 42,
          "hour": 18,
          "resource": "hydroelectric_pumped_storage"
         },
         {
          "gen_sum": 1928.5,
          "hour": 18,
          "resource": "natural_gas_fired_combined_cycle"
         },
         {
          "gen_sum": 330.299388,
          "hour": 18,
          "resource": "natural_gas_fired_combustion_turbine"
         },
         {
          "gen_sum": 52.61568,
          "hour": 18,
          "resource": "_onshore_wind_turbine"
         },
         {
          "gen_sum": 3.184932,
          "hour": 18,
          "resource": "_small_hydroelectric"
         },
         {
          "gen_sum": 0,
          "hour": 18,
          "resource": "_solar_photovoltaic"
         },
         {
          "gen_sum": 21.4,
          "hour": 19,
          "resource": "biomass"
         },
         {
          "gen_sum": 42.00000000000001,
          "hour": 19,
          "resource": "hydroelectric_pumped_storage"
         },
         {
          "gen_sum": 1928.5,
          "hour": 19,
          "resource": "natural_gas_fired_combined_cycle"
         },
         {
          "gen_sum": 444.4865880000002,
          "hour": 19,
          "resource": "natural_gas_fired_combustion_turbine"
         },
         {
          "gen_sum": 61.42848,
          "hour": 19,
          "resource": "_onshore_wind_turbine"
         },
         {
          "gen_sum": 3.184932,
          "hour": 19,
          "resource": "_small_hydroelectric"
         },
         {
          "gen_sum": 0,
          "hour": 19,
          "resource": "_solar_photovoltaic"
         },
         {
          "gen_sum": 21.4,
          "hour": 20,
          "resource": "biomass"
         },
         {
          "gen_sum": 42,
          "hour": 20,
          "resource": "hydroelectric_pumped_storage"
         },
         {
          "gen_sum": 1928.5,
          "hour": 20,
          "resource": "natural_gas_fired_combined_cycle"
         },
         {
          "gen_sum": 438.99826800000017,
          "hour": 20,
          "resource": "natural_gas_fired_combustion_turbine"
         },
         {
          "gen_sum": 71.9168,
          "hour": 20,
          "resource": "_onshore_wind_turbine"
         },
         {
          "gen_sum": 3.184932,
          "hour": 20,
          "resource": "_small_hydroelectric"
         },
         {
          "gen_sum": 0,
          "hour": 20,
          "resource": "_solar_photovoltaic"
         },
         {
          "gen_sum": 21.4,
          "hour": 21,
          "resource": "biomass"
         },
         {
          "gen_sum": 42,
          "hour": 21,
          "resource": "hydroelectric_pumped_storage"
         },
         {
          "gen_sum": 1928.5,
          "hour": 21,
          "resource": "natural_gas_fired_combined_cycle"
         },
         {
          "gen_sum": 166.86642799999987,
          "hour": 21,
          "resource": "natural_gas_fired_combustion_turbine"
         },
         {
          "gen_sum": 96.04864,
          "hour": 21,
          "resource": "_onshore_wind_turbine"
         },
         {
          "gen_sum": 3.184932,
          "hour": 21,
          "resource": "_small_hydroelectric"
         },
         {
          "gen_sum": 0,
          "hour": 21,
          "resource": "_solar_photovoltaic"
         },
         {
          "gen_sum": 21.4,
          "hour": 22,
          "resource": "biomass"
         },
         {
          "gen_sum": 42,
          "hour": 22,
          "resource": "hydroelectric_pumped_storage"
         },
         {
          "gen_sum": 1770.644648,
          "hour": 22,
          "resource": "natural_gas_fired_combined_cycle"
         },
         {
          "gen_sum": 24.301299999999998,
          "hour": 22,
          "resource": "natural_gas_fired_combustion_turbine"
         },
         {
          "gen_sum": 126.46912,
          "hour": 22,
          "resource": "_onshore_wind_turbine"
         },
         {
          "gen_sum": 3.184932,
          "hour": 22,
          "resource": "_small_hydroelectric"
         },
         {
          "gen_sum": 0,
          "hour": 22,
          "resource": "_solar_photovoltaic"
         },
         {
          "gen_sum": 21.4,
          "hour": 23,
          "resource": "biomass"
         },
         {
          "gen_sum": 42,
          "hour": 23,
          "resource": "hydroelectric_pumped_storage"
         },
         {
          "gen_sum": 1524.6926479999997,
          "hour": 23,
          "resource": "natural_gas_fired_combined_cycle"
         },
         {
          "gen_sum": 24.30129999999999,
          "hour": 23,
          "resource": "natural_gas_fired_combustion_turbine"
         },
         {
          "gen_sum": 144.42111999999997,
          "hour": 23,
          "resource": "_onshore_wind_turbine"
         },
         {
          "gen_sum": 3.184932,
          "hour": 23,
          "resource": "_small_hydroelectric"
         },
         {
          "gen_sum": 0,
          "hour": 23,
          "resource": "_solar_photovoltaic"
         },
         {
          "gen_sum": 0,
          "hour": 0,
          "resource": "_solar_photovoltaic_btm"
         },
         {
          "gen_sum": 0,
          "hour": 1,
          "resource": "_solar_photovoltaic_btm"
         },
         {
          "gen_sum": 0,
          "hour": 2,
          "resource": "_solar_photovoltaic_btm"
         },
         {
          "gen_sum": 0,
          "hour": 3,
          "resource": "_solar_photovoltaic_btm"
         },
         {
          "gen_sum": 0,
          "hour": 4,
          "resource": "_solar_photovoltaic_btm"
         },
         {
          "gen_sum": 0,
          "hour": 5,
          "resource": "_solar_photovoltaic_btm"
         },
         {
          "gen_sum": 33.18,
          "hour": 6,
          "resource": "_solar_photovoltaic_btm"
         },
         {
          "gen_sum": 132.66,
          "hour": 7,
          "resource": "_solar_photovoltaic_btm"
         },
         {
          "gen_sum": 286.56,
          "hour": 8,
          "resource": "_solar_photovoltaic_btm"
         },
         {
          "gen_sum": 345.42,
          "hour": 9,
          "resource": "_solar_photovoltaic_btm"
         },
         {
          "gen_sum": 362.34,
          "hour": 10,
          "resource": "_solar_photovoltaic_btm"
         },
         {
          "gen_sum": 368.34,
          "hour": 11,
          "resource": "_solar_photovoltaic_btm"
         },
         {
          "gen_sum": 386.76,
          "hour": 12,
          "resource": "_solar_photovoltaic_btm"
         },
         {
          "gen_sum": 387.29999999999995,
          "hour": 13,
          "resource": "_solar_photovoltaic_btm"
         },
         {
          "gen_sum": 374.46,
          "hour": 14,
          "resource": "_solar_photovoltaic_btm"
         },
         {
          "gen_sum": 341.7,
          "hour": 15,
          "resource": "_solar_photovoltaic_btm"
         },
         {
          "gen_sum": 280.68,
          "hour": 16,
          "resource": "_solar_photovoltaic_btm"
         },
         {
          "gen_sum": 194.16,
          "hour": 17,
          "resource": "_solar_photovoltaic_btm"
         },
         {
          "gen_sum": 28.62,
          "hour": 18,
          "resource": "_solar_photovoltaic_btm"
         },
         {
          "gen_sum": 0,
          "hour": 19,
          "resource": "_solar_photovoltaic_btm"
         },
         {
          "gen_sum": 0,
          "hour": 20,
          "resource": "_solar_photovoltaic_btm"
         },
         {
          "gen_sum": 0,
          "hour": 21,
          "resource": "_solar_photovoltaic_btm"
         },
         {
          "gen_sum": 0,
          "hour": 22,
          "resource": "_solar_photovoltaic_btm"
         },
         {
          "gen_sum": 0,
          "hour": 23,
          "resource": "_solar_photovoltaic_btm"
         },
         {
          "gen_sum": 0,
          "hour": 0,
          "resource": "_curtailment"
         },
         {
          "gen_sum": 0,
          "hour": 1,
          "resource": "_curtailment"
         },
         {
          "gen_sum": 0,
          "hour": 2,
          "resource": "_curtailment"
         },
         {
          "gen_sum": 0,
          "hour": 3,
          "resource": "_curtailment"
         },
         {
          "gen_sum": 0,
          "hour": 4,
          "resource": "_curtailment"
         },
         {
          "gen_sum": 0,
          "hour": 5,
          "resource": "_curtailment"
         },
         {
          "gen_sum": 0,
          "hour": 6,
          "resource": "_curtailment"
         },
         {
          "gen_sum": 0,
          "hour": 7,
          "resource": "_curtailment"
         },
         {
          "gen_sum": 0,
          "hour": 8,
          "resource": "_curtailment"
         },
         {
          "gen_sum": 0,
          "hour": 9,
          "resource": "_curtailment"
         },
         {
          "gen_sum": 0,
          "hour": 10,
          "resource": "_curtailment"
         },
         {
          "gen_sum": 0,
          "hour": 11,
          "resource": "_curtailment"
         },
         {
          "gen_sum": 0,
          "hour": 12,
          "resource": "_curtailment"
         },
         {
          "gen_sum": 0,
          "hour": 13,
          "resource": "_curtailment"
         },
         {
          "gen_sum": 0,
          "hour": 14,
          "resource": "_curtailment"
         },
         {
          "gen_sum": 0,
          "hour": 15,
          "resource": "_curtailment"
         },
         {
          "gen_sum": 0,
          "hour": 16,
          "resource": "_curtailment"
         },
         {
          "gen_sum": 0,
          "hour": 17,
          "resource": "_curtailment"
         },
         {
          "gen_sum": 0,
          "hour": 18,
          "resource": "_curtailment"
         },
         {
          "gen_sum": 0,
          "hour": 19,
          "resource": "_curtailment"
         },
         {
          "gen_sum": 0,
          "hour": 20,
          "resource": "_curtailment"
         },
         {
          "gen_sum": 0,
          "hour": 21,
          "resource": "_curtailment"
         },
         {
          "gen_sum": 0,
          "hour": 22,
          "resource": "_curtailment"
         },
         {
          "gen_sum": 0,
          "hour": 23,
          "resource": "_curtailment"
         }
        ]
       },
       "encoding": {
        "color": {
         "field": "resource",
         "scale": {
          "scheme": "category10"
         },
         "type": "nominal"
        },
        "x": {
         "field": "hour",
         "type": "quantitative"
        },
        "y": {
         "field": "gen_sum",
         "stack": "zero",
         "type": "quantitative"
        }
       },
       "mark": "area"
      },
      "image/png": "[encoded data removed]",
      "image/svg+xml": [
       "<svg xmlns=\"http://www.w3.org/2000/svg\" xmlns:xlink=\"http://www.w3.org/1999/xlink\" version=\"1.1\" class=\"marks\" width=\"449\" height=\"247\" viewBox=\"0 0 449 247\"><rect width=\"449\" height=\"247\" fill=\"white\"/><g fill=\"none\" stroke-miterlimit=\"10\" transform=\"translate(52,10)\"><g class=\"mark-group role-frame root\" role=\"graphics-object\" aria-roledescription=\"group mark container\"><g transform=\"translate(0,0)\"><path class=\"background\" aria-hidden=\"true\" d=\"M0.5,0.5h200v200h-200Z\" stroke=\"#ddd\"/><g><g class=\"mark-group role-axis\" aria-hidden=\"true\"><g transform=\"translate(0.5,200.5)\"><path class=\"background\" aria-hidden=\"true\" d=\"M0,0h0v0h0Z\" pointer-events=\"none\"/><g><g class=\"mark-rule role-axis-grid\" pointer-events=\"none\"><line transform=\"translate(0,-200)\" x2=\"0\" y2=\"200\" stroke=\"#ddd\" stroke-width=\"1\" opacity=\"1\"/><line transform=\"translate(42,-200)\" x2=\"0\" y2=\"200\" stroke=\"#ddd\" stroke-width=\"1\" opacity=\"1\"/><line transform=\"translate(83,-200)\" x2=\"0\" y2=\"200\" stroke=\"#ddd\" stroke-width=\"1\" opacity=\"1\"/><line transform=\"translate(125,-200)\" x2=\"0\" y2=\"200\" stroke=\"#ddd\" stroke-width=\"1\" opacity=\"1\"/><line transform=\"translate(167,-200)\" x2=\"0\" y2=\"200\" stroke=\"#ddd\" stroke-width=\"1\" opacity=\"1\"/></g></g><path class=\"foreground\" aria-hidden=\"true\" d=\"\" pointer-events=\"none\" display=\"none\"/></g></g><g class=\"mark-group role-axis\" aria-hidden=\"true\"><g transform=\"translate(0.5,0.5)\"><path class=\"background\" aria-hidden=\"true\" d=\"M0,0h0v0h0Z\" pointer-events=\"none\"/><g><g class=\"mark-rule role-axis-grid\" pointer-events=\"none\"><line transform=\"translate(0,200)\" x2=\"200\" y2=\"0\" stroke=\"#ddd\" stroke-width=\"1\" opacity=\"1\"/><line transform=\"translate(0,171)\" x2=\"200\" y2=\"0\" stroke=\"#ddd\" stroke-width=\"1\" opacity=\"1\"/><line transform=\"translate(0,143)\" x2=\"200\" y2=\"0\" stroke=\"#ddd\" stroke-width=\"1\" opacity=\"1\"/><line transform=\"translate(0,114)\" x2=\"200\" y2=\"0\" stroke=\"#ddd\" stroke-width=\"1\" opacity=\"1\"/><line transform=\"translate(0,86)\" x2=\"200\" y2=\"0\" stroke=\"#ddd\" stroke-width=\"1\" opacity=\"1\"/><line transform=\"translate(0,57)\" x2=\"200\" y2=\"0\" stroke=\"#ddd\" stroke-width=\"1\" opacity=\"1\"/><line transform=\"translate(0,29)\" x2=\"200\" y2=\"0\" stroke=\"#ddd\" stroke-width=\"1\" opacity=\"1\"/><line transform=\"translate(0,0)\" x2=\"200\" y2=\"0\" stroke=\"#ddd\" stroke-width=\"1\" opacity=\"1\"/></g></g><path class=\"foreground\" aria-hidden=\"true\" d=\"\" pointer-events=\"none\" display=\"none\"/></g></g><g class=\"mark-group role-axis\" role=\"graphics-symbol\" aria-roledescription=\"axis\" aria-label=\"X-axis titled 'hour' for a linear scale with values from 0 to 24\"><g transform=\"translate(0.5,200.5)\"><path class=\"background\" aria-hidden=\"true\" d=\"M0,0h0v0h0Z\" pointer-events=\"none\"/><g><g class=\"mark-rule role-axis-tick\" pointer-events=\"none\"><line transform=\"translate(0,0)\" x2=\"0\" y2=\"5\" stroke=\"#888\" stroke-width=\"1\" opacity=\"1\"/><line transform=\"translate(42,0)\" x2=\"0\" y2=\"5\" stroke=\"#888\" stroke-width=\"1\" opacity=\"1\"/><line transform=\"translate(83,0)\" x2=\"0\" y2=\"5\" stroke=\"#888\" stroke-width=\"1\" opacity=\"1\"/><line transform=\"translate(125,0)\" x2=\"0\" y2=\"5\" stroke=\"#888\" stroke-width=\"1\" opacity=\"1\"/><line transform=\"translate(167,0)\" x2=\"0\" y2=\"5\" stroke=\"#888\" stroke-width=\"1\" opacity=\"1\"/></g><g class=\"mark-text role-axis-label\" pointer-events=\"none\"><text text-anchor=\"start\" transform=\"translate(0,15)\" font-family=\"sans-serif\" font-size=\"10px\" fill=\"#000\" opacity=\"1\">0</text><text text-anchor=\"middle\" transform=\"translate(41.66666666666667,15)\" font-family=\"sans-serif\" font-size=\"10px\" fill=\"#000\" opacity=\"1\">5</text><text text-anchor=\"middle\" transform=\"translate(83.33333333333334,15)\" font-family=\"sans-serif\" font-size=\"10px\" fill=\"#000\" opacity=\"1\">10</text><text text-anchor=\"middle\" transform=\"translate(125,15)\" font-family=\"sans-serif\" font-size=\"10px\" fill=\"#000\" opacity=\"1\">15</text><text text-anchor=\"middle\" transform=\"translate(166.66666666666669,15)\" font-family=\"sans-serif\" font-size=\"10px\" fill=\"#000\" opacity=\"1\">20</text></g><g class=\"mark-rule role-axis-domain\" pointer-events=\"none\"><line transform=\"translate(0,0)\" x2=\"200\" y2=\"0\" stroke=\"#888\" stroke-width=\"1\" opacity=\"1\"/></g><g class=\"mark-text role-axis-title\" pointer-events=\"none\"><text text-anchor=\"middle\" transform=\"translate(100,30)\" font-family=\"sans-serif\" font-size=\"11px\" font-weight=\"bold\" fill=\"#000\" opacity=\"1\">hour</text></g></g><path class=\"foreground\" aria-hidden=\"true\" d=\"\" pointer-events=\"none\" display=\"none\"/></g></g><g class=\"mark-group role-axis\" role=\"graphics-symbol\" aria-roledescription=\"axis\" aria-label=\"Y-axis titled 'gen_sum' for a linear scale with values from 0 to 3,500\"><g transform=\"translate(0.5,0.5)\"><path class=\"background\" aria-hidden=\"true\" d=\"M0,0h0v0h0Z\" pointer-events=\"none\"/><g><g class=\"mark-rule role-axis-tick\" pointer-events=\"none\"><line transform=\"translate(0,200)\" x2=\"-5\" y2=\"0\" stroke=\"#888\" stroke-width=\"1\" opacity=\"1\"/><line transform=\"translate(0,171)\" x2=\"-5\" y2=\"0\" stroke=\"#888\" stroke-width=\"1\" opacity=\"1\"/><line transform=\"translate(0,143)\" x2=\"-5\" y2=\"0\" stroke=\"#888\" stroke-width=\"1\" opacity=\"1\"/><line transform=\"translate(0,114)\" x2=\"-5\" y2=\"0\" stroke=\"#888\" stroke-width=\"1\" opacity=\"1\"/><line transform=\"translate(0,86)\" x2=\"-5\" y2=\"0\" stroke=\"#888\" stroke-width=\"1\" opacity=\"1\"/><line transform=\"translate(0,57)\" x2=\"-5\" y2=\"0\" stroke=\"#888\" stroke-width=\"1\" opacity=\"1\"/><line transform=\"translate(0,29)\" x2=\"-5\" y2=\"0\" stroke=\"#888\" stroke-width=\"1\" opacity=\"1\"/><line transform=\"translate(0,0)\" x2=\"-5\" y2=\"0\" stroke=\"#888\" stroke-width=\"1\" opacity=\"1\"/></g><g class=\"mark-text role-axis-label\" pointer-events=\"none\"><text text-anchor=\"end\" transform=\"translate(-7,203)\" font-family=\"sans-serif\" font-size=\"10px\" fill=\"#000\" opacity=\"1\">0</text><text text-anchor=\"end\" transform=\"translate(-7,174.42857142857144)\" font-family=\"sans-serif\" font-size=\"10px\" fill=\"#000\" opacity=\"1\">500</text><text text-anchor=\"end\" transform=\"translate(-7,145.85714285714286)\" font-family=\"sans-serif\" font-size=\"10px\" fill=\"#000\" opacity=\"1\">1,000</text><text text-anchor=\"end\" transform=\"translate(-7,117.28571428571428)\" font-family=\"sans-serif\" font-size=\"10px\" fill=\"#000\" opacity=\"1\">1,500</text><text text-anchor=\"end\" transform=\"translate(-7,88.71428571428572)\" font-family=\"sans-serif\" font-size=\"10px\" fill=\"#000\" opacity=\"1\">2,000</text><text text-anchor=\"end\" transform=\"translate(-7,60.14285714285714)\" font-family=\"sans-serif\" font-size=\"10px\" fill=\"#000\" opacity=\"1\">2,500</text><text text-anchor=\"end\" transform=\"translate(-7,31.57142857142858)\" font-family=\"sans-serif\" font-size=\"10px\" fill=\"#000\" opacity=\"1\">3,000</text><text text-anchor=\"end\" transform=\"translate(-7,3)\" font-family=\"sans-serif\" font-size=\"10px\" fill=\"#000\" opacity=\"1\">3,500</text></g><g class=\"mark-rule role-axis-domain\" pointer-events=\"none\"><line transform=\"translate(0,200)\" x2=\"0\" y2=\"-200\" stroke=\"#888\" stroke-width=\"1\" opacity=\"1\"/></g><g class=\"mark-text role-axis-title\" pointer-events=\"none\"><text text-anchor=\"middle\" transform=\"translate(-35.86328125,100) rotate(-90) translate(0,-2)\" font-family=\"sans-serif\" font-size=\"11px\" font-weight=\"bold\" fill=\"#000\" opacity=\"1\">gen_sum</text></g></g><path class=\"foreground\" aria-hidden=\"true\" d=\"\" pointer-events=\"none\" display=\"none\"/></g></g><g class=\"mark-group role-scope pathgroup\" role=\"graphics-object\" aria-roledescription=\"group mark container\"><g transform=\"translate(0,0)\"><path class=\"background\" aria-hidden=\"true\" d=\"M0,0h200v200h-200Z\"/><g><g class=\"mark-area role-mark marks\" role=\"graphics-object\" aria-roledescription=\"area mark container\"><path aria-label=\"hour: 0; gen_sum: 21.4; resource: biomass\" role=\"graphics-symbol\" aria-roledescription=\"area mark\" d=\"M0,117.228L8.333,121.142L16.667,120.017L25,116.671L33.333,105.758L41.667,95.221L50,74.478L58.333,54.603L66.667,47.574L75,34.957L83.333,27.964L91.667,36.131L100,46.416L108.333,51.536L116.667,55.68L125,62.091L133.333,65.05L141.667,69.017L150,67.303L158.333,60.778L166.667,61.092L175,76.642L183.333,93.809L191.667,107.863L191.667,109.086L183.333,95.032L175,77.865L166.667,62.314L158.333,62.001L150,68.526L141.667,70.24L133.333,66.273L125,63.314L116.667,56.903L108.333,52.759L100,47.639L91.667,37.354L83.333,29.187L75,36.18L66.667,48.797L58.333,55.826L50,75.701L41.667,96.444L33.333,106.981L25,117.894L16.667,121.24L8.333,122.364L0,118.451Z\" fill=\"#8c564b\"/></g></g><path class=\"foreground\" aria-hidden=\"true\" d=\"\" display=\"none\"/></g><g transform=\"translate(0,0)\"><path class=\"background\" aria-hidden=\"true\" d=\"M0,0h200v200h-200Z\"/><g><g class=\"mark-area role-mark marks\" role=\"graphics-object\" aria-roledescription=\"area mark container\"><path aria-label=\"hour: 0; gen_sum: 42; resource: hydroelectric_pumped_storage\" role=\"graphics-symbol\" aria-roledescription=\"area mark\" d=\"M0,118.451L8.333,122.364L16.667,121.24L25,117.894L33.333,106.981L41.667,96.444L50,75.701L58.333,55.826L66.667,48.797L75,36.18L83.333,29.187L91.667,37.354L100,47.639L108.333,52.759L116.667,56.903L125,63.314L133.333,66.273L141.667,70.24L150,68.526L158.333,62.001L166.667,62.314L175,77.865L183.333,95.032L191.667,109.086L191.667,111.486L183.333,97.432L175,80.265L166.667,64.714L158.333,64.401L150,70.926L141.667,72.64L133.333,68.673L125,65.714L116.667,59.303L108.333,55.159L100,50.039L91.667,39.754L83.333,31.587L75,38.58L66.667,51.197L58.333,58.226L50,78.101L41.667,98.844L33.333,109.381L25,120.294L16.667,123.64L8.333,124.764L0,120.851Z\" fill=\"#e377c2\"/></g></g><path class=\"foreground\" aria-hidden=\"true\" d=\"\" display=\"none\"/></g><g transform=\"translate(0,0)\"><path class=\"background\" aria-hidden=\"true\" d=\"M0,0h200v200h-200Z\"/><g><g class=\"mark-area role-mark marks\" role=\"graphics-object\" aria-roledescription=\"area mark container\"><path aria-label=\"hour: 0; gen_sum: 1105.334468; resource: natural_gas_fired_combined_cycle\" role=\"graphics-symbol\" aria-roledescription=\"area mark\" d=\"M0,120.851L8.333,124.764L16.667,123.64L25,120.294L33.333,109.381L41.667,98.844L50,78.101L58.333,58.226L66.667,51.197L75,38.58L83.333,31.587L91.667,39.754L100,50.039L108.333,55.159L116.667,59.303L125,65.714L133.333,68.673L141.667,72.64L150,70.926L158.333,64.401L166.667,64.714L175,80.265L183.333,97.432L191.667,111.486L191.667,198.611L183.333,198.611L175,190.465L166.667,174.914L158.333,174.601L150,181.126L141.667,182.84L133.333,178.873L125,175.914L116.667,169.503L108.333,165.359L100,160.239L91.667,149.954L83.333,141.787L75,148.78L66.667,161.397L58.333,168.426L50,184.013L41.667,184.013L33.333,184.013L25,184.013L16.667,184.013L8.333,184.013L0,184.013Z\" fill=\"#7f7f7f\"/></g></g><path class=\"foreground\" aria-hidden=\"true\" d=\"\" display=\"none\"/></g><g transform=\"translate(0,0)\"><path class=\"background\" aria-hidden=\"true\" d=\"M0,0h200v200h-200Z\"/><g><g class=\"mark-area role-mark marks\" role=\"graphics-object\" aria-roledescription=\"area mark container\"><path aria-label=\"hour: 0; gen_sum: 279.7718; resource: natural_gas_fired_combustion_turbine\" role=\"graphics-symbol\" aria-roledescription=\"area mark\" d=\"M0,184.013L8.333,184.013L16.667,184.013L25,184.013L33.333,184.013L41.667,184.013L50,184.013L58.333,168.426L66.667,161.397L75,148.78L83.333,141.787L91.667,149.954L100,160.239L108.333,165.359L116.667,169.503L125,175.914L133.333,178.873L141.667,182.84L150,181.126L158.333,174.601L166.667,174.914L175,190.465L183.333,198.611L191.667,198.611L191.667,200L183.333,200L175,200L166.667,200L158.333,200L150,200L141.667,200L133.333,200L125,200L116.667,200L108.333,200L100,200L91.667,200L83.333,200L75,200L66.667,200L58.333,200L50,200L41.667,200L33.333,200L25,200L16.667,200L8.333,200L0,200Z\" fill=\"#bcbd22\"/></g></g><path class=\"foreground\" aria-hidden=\"true\" d=\"\" display=\"none\"/></g><g transform=\"translate(0,0)\"><path class=\"background\" aria-hidden=\"true\" d=\"M0,0h200v200h-200Z\"/><g><g class=\"mark-area role-mark marks\" role=\"graphics-object\" aria-roledescription=\"area mark container\"><path aria-label=\"hour: 0; gen_sum: 163.3088; resource: _onshore_wind_turbine\" role=\"graphics-symbol\" aria-roledescription=\"area mark\" d=\"M0,107.714L8.333,111.257L16.667,113.257L25,110.743L33.333,100.971L41.667,87.086L50,68.161L58.333,44.019L66.667,21.454L75,7.519L83.333,0.723L91.667,9.638L100,21.157L108.333,25.526L116.667,31.288L125,38.646L133.333,45.561L141.667,53.248L150,62.479L158.333,57.086L166.667,56.8L175,70.971L183.333,86.4L191.667,99.429L191.667,107.681L183.333,93.627L175,76.46L166.667,60.91L158.333,60.596L150,65.485L141.667,57.741L133.333,48.829L125,42.383L116.667,34.101L108.333,29.222L100,24.133L91.667,14.901L83.333,7.077L75,15.037L66.667,31.017L58.333,46.841L50,72.4L41.667,95.039L33.333,105.576L25,116.489L16.667,119.835L8.333,120.96L0,117.046Z\" fill=\"#ff7f0e\"/></g></g><path class=\"foreground\" aria-hidden=\"true\" d=\"\" display=\"none\"/></g><g transform=\"translate(0,0)\"><path class=\"background\" aria-hidden=\"true\" d=\"M0,0h200v200h-200Z\"/><g><g class=\"mark-area role-mark marks\" role=\"graphics-object\" aria-roledescription=\"area mark container\"><path aria-label=\"hour: 0; gen_sum: 3.184932; resource: _small_hydroelectric\" role=\"graphics-symbol\" aria-roledescription=\"area mark\" d=\"M0,117.046L8.333,120.96L16.667,119.835L25,116.489L33.333,105.576L41.667,95.039L50,72.4L58.333,46.841L66.667,31.017L75,15.037L83.333,7.077L91.667,14.901L100,24.133L108.333,29.222L116.667,34.101L125,42.383L133.333,48.829L141.667,57.741L150,65.485L158.333,60.596L166.667,60.91L175,76.46L183.333,93.627L191.667,107.681L191.667,107.863L183.333,93.809L175,76.642L166.667,61.092L158.333,60.778L150,65.667L141.667,57.923L133.333,49.011L125,42.565L116.667,34.283L108.333,29.404L100,24.315L91.667,15.083L83.333,7.259L75,15.219L66.667,31.199L58.333,47.023L50,72.582L41.667,95.221L33.333,105.758L25,116.671L16.667,120.017L8.333,121.142L0,117.228Z\" fill=\"#2ca02c\"/></g></g><path class=\"foreground\" aria-hidden=\"true\" d=\"\" display=\"none\"/></g><g transform=\"translate(0,0)\"><path class=\"background\" aria-hidden=\"true\" d=\"M0,0h200v200h-200Z\"/><g><g class=\"mark-area role-mark marks\" role=\"graphics-object\" aria-roledescription=\"area mark container\"><path aria-label=\"hour: 0; gen_sum: 0; resource: _solar_photovoltaic\" role=\"graphics-symbol\" aria-roledescription=\"area mark\" d=\"M0,117.228L8.333,121.142L16.667,120.017L25,116.671L33.333,105.758L41.667,95.221L50,72.582L58.333,47.023L66.667,31.199L75,15.219L83.333,7.259L91.667,15.083L100,24.315L108.333,29.404L116.667,34.283L125,42.565L133.333,49.011L141.667,57.923L150,65.667L158.333,60.778L166.667,61.092L175,76.642L183.333,93.809L191.667,107.863L191.667,107.863L183.333,93.809L175,76.642L166.667,61.092L158.333,60.778L150,65.667L141.667,57.923L133.333,49.011L125,42.565L116.667,34.283L108.333,29.404L100,24.315L91.667,15.083L83.333,7.259L75,15.219L66.667,31.199L58.333,47.023L50,72.582L41.667,95.221L33.333,105.758L25,116.671L16.667,120.017L8.333,121.142L0,117.228Z\" fill=\"#d62728\"/></g></g><path class=\"foreground\" aria-hidden=\"true\" d=\"\" display=\"none\"/></g><g transform=\"translate(0,0)\"><path class=\"background\" aria-hidden=\"true\" d=\"M0,0h200v200h-200Z\"/><g><g class=\"mark-area role-mark marks\" role=\"graphics-object\" aria-roledescription=\"area mark container\"><path aria-label=\"hour: 0; gen_sum: 0; resource: _solar_photovoltaic_btm\" role=\"graphics-symbol\" aria-roledescription=\"area mark\" d=\"M0,117.228L8.333,121.142L16.667,120.017L25,116.671L33.333,105.758L41.667,95.221L50,72.582L58.333,47.023L66.667,31.199L75,15.219L83.333,7.259L91.667,15.083L100,24.315L108.333,29.404L116.667,34.283L125,42.565L133.333,49.011L141.667,57.923L150,65.667L158.333,60.778L166.667,61.092L175,76.642L183.333,93.809L191.667,107.863L191.667,107.863L183.333,93.809L175,76.642L166.667,61.092L158.333,60.778L150,67.303L141.667,69.017L133.333,65.05L125,62.091L116.667,55.68L108.333,51.536L100,46.416L91.667,36.131L83.333,27.964L75,34.957L66.667,47.574L58.333,54.603L50,74.478L41.667,95.221L33.333,105.758L25,116.671L16.667,120.017L8.333,121.142L0,117.228Z\" fill=\"#9467bd\"/></g></g><path class=\"foreground\" aria-hidden=\"true\" d=\"\" display=\"none\"/></g><g transform=\"translate(0,0)\"><path class=\"background\" aria-hidden=\"true\" d=\"M0,0h200v200h-200Z\"/><g><g class=\"mark-area role-mark marks\" role=\"graphics-object\" aria-roledescription=\"area mark container\"><path aria-label=\"hour: 0; gen_sum: 0; resource: _curtailment\" role=\"graphics-symbol\" aria-roledescription=\"area mark\" d=\"M0,107.714L8.333,111.257L16.667,113.257L25,110.743L33.333,100.971L41.667,87.086L50,68.161L58.333,44.019L66.667,21.454L75,7.519L83.333,0.723L91.667,9.638L100,21.157L108.333,25.526L116.667,31.288L125,38.646L133.333,45.561L141.667,53.248L150,62.479L158.333,57.086L166.667,56.8L175,70.971L183.333,86.4L191.667,99.429L191.667,99.429L183.333,86.4L175,70.971L166.667,56.8L158.333,57.086L150,62.479L141.667,53.248L133.333,45.561L125,38.646L116.667,31.288L108.333,25.526L100,21.157L91.667,9.638L83.333,0.723L75,7.519L66.667,21.454L58.333,44.019L50,68.161L41.667,87.086L33.333,100.971L25,110.743L16.667,113.257L8.333,111.257L0,107.714Z\" fill=\"#1f77b4\"/></g></g><path class=\"foreground\" aria-hidden=\"true\" d=\"\" display=\"none\"/></g></g><g class=\"mark-group role-legend\" role=\"graphics-symbol\" aria-roledescription=\"legend\" aria-label=\"Symbol legend titled 'resource' for fill color with 9 values: _curtailment, _onshore_wind_turbine, _small_hydroelectric, _solar_photovoltaic, _solar_photovoltaic_btm, ending with natural_gas_fired_combustion_turbine\"><g transform=\"translate(218,0)\"><path class=\"background\" aria-hidden=\"true\" d=\"M0,0h174v131h-174Z\" pointer-events=\"none\"/><g><g class=\"mark-group role-legend-entry\"><g transform=\"translate(0,16)\"><path class=\"background\" aria-hidden=\"true\" d=\"M0,0h0v0h0Z\" pointer-events=\"none\"/><g><g class=\"mark-group role-scope\" role=\"graphics-object\" aria-roledescription=\"group mark container\"><g transform=\"translate(0,0)\"><path class=\"background\" aria-hidden=\"true\" d=\"M0,0h173.59765625v11h-173.59765625Z\" pointer-events=\"none\" opacity=\"1\"/><g><g class=\"mark-symbol role-legend-symbol\" pointer-events=\"none\"><path transform=\"translate(6,6)\" d=\"M5,0A5,5,0,1,1,-5,0A5,5,0,1,1,5,0\" fill=\"#1f77b4\" stroke-width=\"1.5\" opacity=\"1\"/></g><g class=\"mark-text role-legend-label\" pointer-events=\"none\"><text text-anchor=\"start\" transform=\"translate(16,9)\" font-family=\"sans-serif\" font-size=\"10px\" fill=\"#000\" opacity=\"1\">_curtailment</text></g></g><path class=\"foreground\" aria-hidden=\"true\" d=\"\" pointer-events=\"none\" display=\"none\"/></g><g transform=\"translate(0,13)\"><path class=\"background\" aria-hidden=\"true\" d=\"M0,0h173.59765625v11h-173.59765625Z\" pointer-events=\"none\" opacity=\"1\"/><g><g class=\"mark-symbol role-legend-symbol\" pointer-events=\"none\"><path transform=\"translate(6,6)\" d=\"M5,0A5,5,0,1,1,-5,0A5,5,0,1,1,5,0\" fill=\"#ff7f0e\" stroke-width=\"1.5\" opacity=\"1\"/></g><g class=\"mark-text role-legend-label\" pointer-events=\"none\"><text text-anchor=\"start\" transform=\"translate(16,9)\" font-family=\"sans-serif\" font-size=\"10px\" fill=\"#000\" opacity=\"1\">_onshore_wind_turbine</text></g></g><path class=\"foreground\" aria-hidden=\"true\" d=\"\" pointer-events=\"none\" display=\"none\"/></g><g transform=\"translate(0,26)\"><path class=\"background\" aria-hidden=\"true\" d=\"M0,0h173.59765625v11h-173.59765625Z\" pointer-events=\"none\" opacity=\"1\"/><g><g class=\"mark-symbol role-legend-symbol\" pointer-events=\"none\"><path transform=\"translate(6,6)\" d=\"M5,0A5,5,0,1,1,-5,0A5,5,0,1,1,5,0\" fill=\"#2ca02c\" stroke-width=\"1.5\" opacity=\"1\"/></g><g class=\"mark-text role-legend-label\" pointer-events=\"none\"><text text-anchor=\"start\" transform=\"translate(16,9)\" font-family=\"sans-serif\" font-size=\"10px\" fill=\"#000\" opacity=\"1\">_small_hydroelectric</text></g></g><path class=\"foreground\" aria-hidden=\"true\" d=\"\" pointer-events=\"none\" display=\"none\"/></g><g transform=\"translate(0,39)\"><path class=\"background\" aria-hidden=\"true\" d=\"M0,0h173.59765625v11h-173.59765625Z\" pointer-events=\"none\" opacity=\"1\"/><g><g class=\"mark-symbol role-legend-symbol\" pointer-events=\"none\"><path transform=\"translate(6,6)\" d=\"M5,0A5,5,0,1,1,-5,0A5,5,0,1,1,5,0\" fill=\"#d62728\" stroke-width=\"1.5\" opacity=\"1\"/></g><g class=\"mark-text role-legend-label\" pointer-events=\"none\"><text text-anchor=\"start\" transform=\"translate(16,9)\" font-family=\"sans-serif\" font-size=\"10px\" fill=\"#000\" opacity=\"1\">_solar_photovoltaic</text></g></g><path class=\"foreground\" aria-hidden=\"true\" d=\"\" pointer-events=\"none\" display=\"none\"/></g><g transform=\"translate(0,52)\"><path class=\"background\" aria-hidden=\"true\" d=\"M0,0h173.59765625v11h-173.59765625Z\" pointer-events=\"none\" opacity=\"1\"/><g><g class=\"mark-symbol role-legend-symbol\" pointer-events=\"none\"><path transform=\"translate(6,6)\" d=\"M5,0A5,5,0,1,1,-5,0A5,5,0,1,1,5,0\" fill=\"#9467bd\" stroke-width=\"1.5\" opacity=\"1\"/></g><g class=\"mark-text role-legend-label\" pointer-events=\"none\"><text text-anchor=\"start\" transform=\"translate(16,9)\" font-family=\"sans-serif\" font-size=\"10px\" fill=\"#000\" opacity=\"1\">_solar_photovoltaic_btm</text></g></g><path class=\"foreground\" aria-hidden=\"true\" d=\"\" pointer-events=\"none\" display=\"none\"/></g><g transform=\"translate(0,65)\"><path class=\"background\" aria-hidden=\"true\" d=\"M0,0h173.59765625v11h-173.59765625Z\" pointer-events=\"none\" opacity=\"1\"/><g><g class=\"mark-symbol role-legend-symbol\" pointer-events=\"none\"><path transform=\"translate(6,6)\" d=\"M5,0A5,5,0,1,1,-5,0A5,5,0,1,1,5,0\" fill=\"#8c564b\" stroke-width=\"1.5\" opacity=\"1\"/></g><g class=\"mark-text role-legend-label\" pointer-events=\"none\"><text text-anchor=\"start\" transform=\"translate(16,9)\" font-family=\"sans-serif\" font-size=\"10px\" fill=\"#000\" opacity=\"1\">biomass</text></g></g><path class=\"foreground\" aria-hidden=\"true\" d=\"\" pointer-events=\"none\" display=\"none\"/></g><g transform=\"translate(0,78)\"><path class=\"background\" aria-hidden=\"true\" d=\"M0,0h173.59765625v11h-173.59765625Z\" pointer-events=\"none\" opacity=\"1\"/><g><g class=\"mark-symbol role-legend-symbol\" pointer-events=\"none\"><path transform=\"translate(6,6)\" d=\"M5,0A5,5,0,1,1,-5,0A5,5,0,1,1,5,0\" fill=\"#e377c2\" stroke-width=\"1.5\" opacity=\"1\"/></g><g class=\"mark-text role-legend-label\" pointer-events=\"none\"><text text-anchor=\"start\" transform=\"translate(16,9)\" font-family=\"sans-serif\" font-size=\"10px\" fill=\"#000\" opacity=\"1\">hydroelectric_pumped_storage</text></g></g><path class=\"foreground\" aria-hidden=\"true\" d=\"\" pointer-events=\"none\" display=\"none\"/></g><g transform=\"translate(0,91)\"><path class=\"background\" aria-hidden=\"true\" d=\"M0,0h173.59765625v11h-173.59765625Z\" pointer-events=\"none\" opacity=\"1\"/><g><g class=\"mark-symbol role-legend-symbol\" pointer-events=\"none\"><path transform=\"translate(6,6)\" d=\"M5,0A5,5,0,1,1,-5,0A5,5,0,1,1,5,0\" fill=\"#7f7f7f\" stroke-width=\"1.5\" opacity=\"1\"/></g><g class=\"mark-text role-legend-label\" pointer-events=\"none\"><text text-anchor=\"start\" transform=\"translate(16,9)\" font-family=\"sans-serif\" font-size=\"10px\" fill=\"#000\" opacity=\"1\">natural_gas_fired_combined_cycle</text></g></g><path class=\"foreground\" aria-hidden=\"true\" d=\"\" pointer-events=\"none\" display=\"none\"/></g><g transform=\"translate(0,104)\"><path class=\"background\" aria-hidden=\"true\" d=\"M0,0h173.59765625v11h-173.59765625Z\" pointer-events=\"none\" opacity=\"1\"/><g><g class=\"mark-symbol role-legend-symbol\" pointer-events=\"none\"><path transform=\"translate(6,6)\" d=\"M5,0A5,5,0,1,1,-5,0A5,5,0,1,1,5,0\" fill=\"#bcbd22\" stroke-width=\"1.5\" opacity=\"1\"/></g><g class=\"mark-text role-legend-label\" pointer-events=\"none\"><text text-anchor=\"start\" transform=\"translate(16,9)\" font-family=\"sans-serif\" font-size=\"10px\" fill=\"#000\" opacity=\"1\">natural_gas_fired_combustion_tur…</text></g></g><path class=\"foreground\" aria-hidden=\"true\" d=\"\" pointer-events=\"none\" display=\"none\"/></g></g></g><path class=\"foreground\" aria-hidden=\"true\" d=\"\" pointer-events=\"none\" display=\"none\"/></g></g><g class=\"mark-text role-legend-title\" pointer-events=\"none\"><text text-anchor=\"start\" transform=\"translate(0,9)\" font-family=\"sans-serif\" font-size=\"11px\" font-weight=\"bold\" fill=\"#000\" opacity=\"1\">resource</text></g></g><path class=\"foreground\" aria-hidden=\"true\" d=\"\" pointer-events=\"none\" display=\"none\"/></g></g></g><path class=\"foreground\" aria-hidden=\"true\" d=\"\" display=\"none\"/></g></g></g></svg>"
      ],
      "text/plain": [
       "@vlplot(\n",
       "    mark=\"area\",\n",
       "    encoding={\n",
       "        x={\n",
       "            field=\"hour\"\n",
       "        },\n",
       "        y={\n",
       "            stack=\"zero\",\n",
       "            field=\"gen_sum\"\n",
       "        },\n",
       "        color={\n",
       "            scale={\n",
       "                scheme=\"category10\"\n",
       "            },\n",
       "            field=\"resource\",\n",
       "            type=\"nominal\"\n",
       "        }\n",
       "    },\n",
       "    data={\n",
       "        values=...\n",
       "    }\n",
       ")"
      ]
     },
     "metadata": {},
     "output_type": "display_data"
    }
   ],
   "source": [
    "# Add in BTM solar and curtailment and plot results\n",
    "\n",
    "sol_gen = innerjoin(solution.gen, \n",
    "                    gen_df[!, [:r_id, :resource]], \n",
    "                    on = :r_id)\n",
    "sol_gen = combine(groupby(sol_gen, [:resource, :hour]), \n",
    "            :gen => sum)\n",
    "\n",
    "# Rename generators (for plotting purposes)\n",
    "sol_gen[sol_gen.resource .== \"solar_photovoltaic\", :resource] .= \"_solar_photovoltaic\"\n",
    "sol_gen[sol_gen.resource .== \"onshore_wind_turbine\", :resource] .= \"_onshore_wind_turbine\"\n",
    "sol_gen[sol_gen.resource .== \"small_hydroelectric\", :resource] .= \"_small_hydroelectric\"\n",
    "\n",
    "# BTM solar\n",
    "btm = DataFrame(resource = repeat([\"_solar_photovoltaic_btm\"]; outer=length(T_period)), \n",
    "    hour = T_period,\n",
    "    gen_sum = gen_variable_multi[gen_variable_multi.gen_full .== \"wec_sdge_solar_photovoltaic_1.0\",:cf] * 600)\n",
    "append!(sol_gen, btm)\n",
    "\n",
    "# Curtailment\n",
    "curtail = combine(groupby(solution.curtail, [:hour]),\n",
    "            :curt => sum)\n",
    "curtail[!, :resource] .= \"_curtailment\"\n",
    "rename!(curtail, :curt_sum => :gen_sum)\n",
    "append!(sol_gen, curtail[:,[:resource, :hour, :gen_sum]])\n",
    "\n",
    "# Rescale hours\n",
    "sol_gen.hour = sol_gen.hour .- T_period[1]\n",
    "\n",
    "sol_gen |>\n",
    "@vlplot(:area, \n",
    "    x=:hour, y={:gen_sum, stack=:zero}, \n",
    "    color={\"resource:n\", scale={scheme=\"category10\"}})"
   ]
  },
  {
   "cell_type": "markdown",
   "metadata": {},
   "source": [
    "Notice that the combined cycle plants flatten out during the day, but don't shut down due to the need for ramping capabilities in the late afternoon/evening, when solar output falls off and evening demand remains strong. This leads to some curtailment of solar from 11:00 - 16:00, which was not present in the Economic Dispatch model. All curtailment is lumped together as the model does not accurately distinguish between whether wind, solar or hydro is curtailed, which in practice is up to the system operator and depends on a variety of factors such as location, interconnection voltage, etc."
   ]
  },
  {
   "cell_type": "markdown",
   "metadata": {},
   "source": [
    "We can examine the commitment status of various units by examining the results in `solution.commit`. "
   ]
  },
  {
   "cell_type": "code",
   "execution_count": 10,
   "metadata": {},
   "outputs": [
    {
     "data": {
      "application/vnd.vegalite.v5+json": {
       "data": {
        "values": [
         {
          "gen_sum": 6,
          "hour": 0,
          "resource": "natural_gas_fired_combined_cycle"
         },
         {
          "gen_sum": 8,
          "hour": 0,
          "resource": "natural_gas_fired_combustion_turbine"
         },
         {
          "gen_sum": 6,
          "hour": 1,
          "resource": "natural_gas_fired_combined_cycle"
         },
         {
          "gen_sum": 8,
          "hour": 1,
          "resource": "natural_gas_fired_combustion_turbine"
         },
         {
          "gen_sum": 6,
          "hour": 2,
          "resource": "natural_gas_fired_combined_cycle"
         },
         {
          "gen_sum": 8,
          "hour": 2,
          "resource": "natural_gas_fired_combustion_turbine"
         },
         {
          "gen_sum": 6,
          "hour": 3,
          "resource": "natural_gas_fired_combined_cycle"
         },
         {
          "gen_sum": 8,
          "hour": 3,
          "resource": "natural_gas_fired_combustion_turbine"
         },
         {
          "gen_sum": 6,
          "hour": 4,
          "resource": "natural_gas_fired_combined_cycle"
         },
         {
          "gen_sum": 8,
          "hour": 4,
          "resource": "natural_gas_fired_combustion_turbine"
         },
         {
          "gen_sum": 6,
          "hour": 5,
          "resource": "natural_gas_fired_combined_cycle"
         },
         {
          "gen_sum": 8,
          "hour": 5,
          "resource": "natural_gas_fired_combustion_turbine"
         },
         {
          "gen_sum": 6,
          "hour": 6,
          "resource": "natural_gas_fired_combined_cycle"
         },
         {
          "gen_sum": 8,
          "hour": 6,
          "resource": "natural_gas_fired_combustion_turbine"
         },
         {
          "gen_sum": 6,
          "hour": 7,
          "resource": "natural_gas_fired_combined_cycle"
         },
         {
          "gen_sum": 10,
          "hour": 7,
          "resource": "natural_gas_fired_combustion_turbine"
         },
         {
          "gen_sum": 6,
          "hour": 8,
          "resource": "natural_gas_fired_combined_cycle"
         },
         {
          "gen_sum": 11,
          "hour": 8,
          "resource": "natural_gas_fired_combustion_turbine"
         },
         {
          "gen_sum": 6,
          "hour": 9,
          "resource": "natural_gas_fired_combined_cycle"
         },
         {
          "gen_sum": 13,
          "hour": 9,
          "resource": "natural_gas_fired_combustion_turbine"
         },
         {
          "gen_sum": 6,
          "hour": 10,
          "resource": "natural_gas_fired_combined_cycle"
         },
         {
          "gen_sum": 14,
          "hour": 10,
          "resource": "natural_gas_fired_combustion_turbine"
         },
         {
          "gen_sum": 6,
          "hour": 11,
          "resource": "natural_gas_fired_combined_cycle"
         },
         {
          "gen_sum": 12,
          "hour": 11,
          "resource": "natural_gas_fired_combustion_turbine"
         },
         {
          "gen_sum": 6,
          "hour": 12,
          "resource": "natural_gas_fired_combined_cycle"
         },
         {
          "gen_sum": 9,
          "hour": 12,
          "resource": "natural_gas_fired_combustion_turbine"
         },
         {
          "gen_sum": 6,
          "hour": 13,
          "resource": "natural_gas_fired_combined_cycle"
         },
         {
          "gen_sum": 8,
          "hour": 13,
          "resource": "natural_gas_fired_combustion_turbine"
         },
         {
          "gen_sum": 6,
          "hour": 14,
          "resource": "natural_gas_fired_combined_cycle"
         },
         {
          "gen_sum": 7,
          "hour": 14,
          "resource": "natural_gas_fired_combustion_turbine"
         },
         {
          "gen_sum": 6,
          "hour": 15,
          "resource": "natural_gas_fired_combined_cycle"
         },
         {
          "gen_sum": 5,
          "hour": 15,
          "resource": "natural_gas_fired_combustion_turbine"
         },
         {
          "gen_sum": 6,
          "hour": 16,
          "resource": "natural_gas_fired_combined_cycle"
         },
         {
          "gen_sum": 5,
          "hour": 16,
          "resource": "natural_gas_fired_combustion_turbine"
         },
         {
          "gen_sum": 6,
          "hour": 17,
          "resource": "natural_gas_fired_combined_cycle"
         },
         {
          "gen_sum": 5,
          "hour": 17,
          "resource": "natural_gas_fired_combustion_turbine"
         },
         {
          "gen_sum": 6,
          "hour": 18,
          "resource": "natural_gas_fired_combined_cycle"
         },
         {
          "gen_sum": 6,
          "hour": 18,
          "resource": "natural_gas_fired_combustion_turbine"
         },
         {
          "gen_sum": 6,
          "hour": 19,
          "resource": "natural_gas_fired_combined_cycle"
         },
         {
          "gen_sum": 6,
          "hour": 19,
          "resource": "natural_gas_fired_combustion_turbine"
         },
         {
          "gen_sum": 6,
          "hour": 20,
          "resource": "natural_gas_fired_combined_cycle"
         },
         {
          "gen_sum": 5,
          "hour": 20,
          "resource": "natural_gas_fired_combustion_turbine"
         },
         {
          "gen_sum": 6,
          "hour": 21,
          "resource": "natural_gas_fired_combined_cycle"
         },
         {
          "gen_sum": 3,
          "hour": 21,
          "resource": "natural_gas_fired_combustion_turbine"
         },
         {
          "gen_sum": 6,
          "hour": 22,
          "resource": "natural_gas_fired_combined_cycle"
         },
         {
          "gen_sum": 1,
          "hour": 22,
          "resource": "natural_gas_fired_combustion_turbine"
         },
         {
          "gen_sum": 6,
          "hour": 23,
          "resource": "natural_gas_fired_combined_cycle"
         },
         {
          "gen_sum": 1,
          "hour": 23,
          "resource": "natural_gas_fired_combustion_turbine"
         }
        ]
       },
       "encoding": {
        "color": {
         "field": "resource",
         "scale": {
          "scheme": "category10"
         },
         "type": "nominal"
        },
        "x": {
         "field": "hour",
         "type": "quantitative"
        },
        "y": {
         "field": "gen_sum",
         "stack": "zero",
         "type": "quantitative"
        }
       },
       "mark": "area"
      },
      "image/png": "[encoded data removed]",
      "image/svg+xml": [
       "<svg xmlns=\"http://www.w3.org/2000/svg\" xmlns:xlink=\"http://www.w3.org/1999/xlink\" version=\"1.1\" class=\"marks\" width=\"435\" height=\"247\" viewBox=\"0 0 435 247\"><rect width=\"435\" height=\"247\" fill=\"white\"/><g fill=\"none\" stroke-miterlimit=\"10\" transform=\"translate(38,10)\"><g class=\"mark-group role-frame root\" role=\"graphics-object\" aria-roledescription=\"group mark container\"><g transform=\"translate(0,0)\"><path class=\"background\" aria-hidden=\"true\" d=\"M0.5,0.5h200v200h-200Z\" stroke=\"#ddd\"/><g><g class=\"mark-group role-axis\" aria-hidden=\"true\"><g transform=\"translate(0.5,200.5)\"><path class=\"background\" aria-hidden=\"true\" d=\"M0,0h0v0h0Z\" pointer-events=\"none\"/><g><g class=\"mark-rule role-axis-grid\" pointer-events=\"none\"><line transform=\"translate(0,-200)\" x2=\"0\" y2=\"200\" stroke=\"#ddd\" stroke-width=\"1\" opacity=\"1\"/><line transform=\"translate(42,-200)\" x2=\"0\" y2=\"200\" stroke=\"#ddd\" stroke-width=\"1\" opacity=\"1\"/><line transform=\"translate(83,-200)\" x2=\"0\" y2=\"200\" stroke=\"#ddd\" stroke-width=\"1\" opacity=\"1\"/><line transform=\"translate(125,-200)\" x2=\"0\" y2=\"200\" stroke=\"#ddd\" stroke-width=\"1\" opacity=\"1\"/><line transform=\"translate(167,-200)\" x2=\"0\" y2=\"200\" stroke=\"#ddd\" stroke-width=\"1\" opacity=\"1\"/></g></g><path class=\"foreground\" aria-hidden=\"true\" d=\"\" pointer-events=\"none\" display=\"none\"/></g></g><g class=\"mark-group role-axis\" aria-hidden=\"true\"><g transform=\"translate(0.5,0.5)\"><path class=\"background\" aria-hidden=\"true\" d=\"M0,0h0v0h0Z\" pointer-events=\"none\"/><g><g class=\"mark-rule role-axis-grid\" pointer-events=\"none\"><line transform=\"translate(0,200)\" x2=\"200\" y2=\"0\" stroke=\"#ddd\" stroke-width=\"1\" opacity=\"1\"/><line transform=\"translate(0,150)\" x2=\"200\" y2=\"0\" stroke=\"#ddd\" stroke-width=\"1\" opacity=\"1\"/><line transform=\"translate(0,100)\" x2=\"200\" y2=\"0\" stroke=\"#ddd\" stroke-width=\"1\" opacity=\"1\"/><line transform=\"translate(0,50)\" x2=\"200\" y2=\"0\" stroke=\"#ddd\" stroke-width=\"1\" opacity=\"1\"/><line transform=\"translate(0,0)\" x2=\"200\" y2=\"0\" stroke=\"#ddd\" stroke-width=\"1\" opacity=\"1\"/></g></g><path class=\"foreground\" aria-hidden=\"true\" d=\"\" pointer-events=\"none\" display=\"none\"/></g></g><g class=\"mark-group role-axis\" role=\"graphics-symbol\" aria-roledescription=\"axis\" aria-label=\"X-axis titled 'hour' for a linear scale with values from 0 to 24\"><g transform=\"translate(0.5,200.5)\"><path class=\"background\" aria-hidden=\"true\" d=\"M0,0h0v0h0Z\" pointer-events=\"none\"/><g><g class=\"mark-rule role-axis-tick\" pointer-events=\"none\"><line transform=\"translate(0,0)\" x2=\"0\" y2=\"5\" stroke=\"#888\" stroke-width=\"1\" opacity=\"1\"/><line transform=\"translate(42,0)\" x2=\"0\" y2=\"5\" stroke=\"#888\" stroke-width=\"1\" opacity=\"1\"/><line transform=\"translate(83,0)\" x2=\"0\" y2=\"5\" stroke=\"#888\" stroke-width=\"1\" opacity=\"1\"/><line transform=\"translate(125,0)\" x2=\"0\" y2=\"5\" stroke=\"#888\" stroke-width=\"1\" opacity=\"1\"/><line transform=\"translate(167,0)\" x2=\"0\" y2=\"5\" stroke=\"#888\" stroke-width=\"1\" opacity=\"1\"/></g><g class=\"mark-text role-axis-label\" pointer-events=\"none\"><text text-anchor=\"start\" transform=\"translate(0,15)\" font-family=\"sans-serif\" font-size=\"10px\" fill=\"#000\" opacity=\"1\">0</text><text text-anchor=\"middle\" transform=\"translate(41.66666666666667,15)\" font-family=\"sans-serif\" font-size=\"10px\" fill=\"#000\" opacity=\"1\">5</text><text text-anchor=\"middle\" transform=\"translate(83.33333333333334,15)\" font-family=\"sans-serif\" font-size=\"10px\" fill=\"#000\" opacity=\"1\">10</text><text text-anchor=\"middle\" transform=\"translate(125,15)\" font-family=\"sans-serif\" font-size=\"10px\" fill=\"#000\" opacity=\"1\">15</text><text text-anchor=\"middle\" transform=\"translate(166.66666666666669,15)\" font-family=\"sans-serif\" font-size=\"10px\" fill=\"#000\" opacity=\"1\">20</text></g><g class=\"mark-rule role-axis-domain\" pointer-events=\"none\"><line transform=\"translate(0,0)\" x2=\"200\" y2=\"0\" stroke=\"#888\" stroke-width=\"1\" opacity=\"1\"/></g><g class=\"mark-text role-axis-title\" pointer-events=\"none\"><text text-anchor=\"middle\" transform=\"translate(100,30)\" font-family=\"sans-serif\" font-size=\"11px\" font-weight=\"bold\" fill=\"#000\" opacity=\"1\">hour</text></g></g><path class=\"foreground\" aria-hidden=\"true\" d=\"\" pointer-events=\"none\" display=\"none\"/></g></g><g class=\"mark-group role-axis\" role=\"graphics-symbol\" aria-roledescription=\"axis\" aria-label=\"Y-axis titled 'gen_sum' for a linear scale with values from 0 to 20\"><g transform=\"translate(0.5,0.5)\"><path class=\"background\" aria-hidden=\"true\" d=\"M0,0h0v0h0Z\" pointer-events=\"none\"/><g><g class=\"mark-rule role-axis-tick\" pointer-events=\"none\"><line transform=\"translate(0,200)\" x2=\"-5\" y2=\"0\" stroke=\"#888\" stroke-width=\"1\" opacity=\"1\"/><line transform=\"translate(0,150)\" x2=\"-5\" y2=\"0\" stroke=\"#888\" stroke-width=\"1\" opacity=\"1\"/><line transform=\"translate(0,100)\" x2=\"-5\" y2=\"0\" stroke=\"#888\" stroke-width=\"1\" opacity=\"1\"/><line transform=\"translate(0,50)\" x2=\"-5\" y2=\"0\" stroke=\"#888\" stroke-width=\"1\" opacity=\"1\"/><line transform=\"translate(0,0)\" x2=\"-5\" y2=\"0\" stroke=\"#888\" stroke-width=\"1\" opacity=\"1\"/></g><g class=\"mark-text role-axis-label\" pointer-events=\"none\"><text text-anchor=\"end\" transform=\"translate(-7,203)\" font-family=\"sans-serif\" font-size=\"10px\" fill=\"#000\" opacity=\"1\">0</text><text text-anchor=\"end\" transform=\"translate(-7,153)\" font-family=\"sans-serif\" font-size=\"10px\" fill=\"#000\" opacity=\"1\">5</text><text text-anchor=\"end\" transform=\"translate(-7,103)\" font-family=\"sans-serif\" font-size=\"10px\" fill=\"#000\" opacity=\"1\">10</text><text text-anchor=\"end\" transform=\"translate(-7,53)\" font-family=\"sans-serif\" font-size=\"10px\" fill=\"#000\" opacity=\"1\">15</text><text text-anchor=\"end\" transform=\"translate(-7,3)\" font-family=\"sans-serif\" font-size=\"10px\" fill=\"#000\" opacity=\"1\">20</text></g><g class=\"mark-rule role-axis-domain\" pointer-events=\"none\"><line transform=\"translate(0,200)\" x2=\"0\" y2=\"-200\" stroke=\"#888\" stroke-width=\"1\" opacity=\"1\"/></g><g class=\"mark-text role-axis-title\" pointer-events=\"none\"><text text-anchor=\"middle\" transform=\"translate(-21.91796875,100) rotate(-90) translate(0,-2)\" font-family=\"sans-serif\" font-size=\"11px\" font-weight=\"bold\" fill=\"#000\" opacity=\"1\">gen_sum</text></g></g><path class=\"foreground\" aria-hidden=\"true\" d=\"\" pointer-events=\"none\" display=\"none\"/></g></g><g class=\"mark-group role-scope pathgroup\" role=\"graphics-object\" aria-roledescription=\"group mark container\"><g transform=\"translate(0,0)\"><path class=\"background\" aria-hidden=\"true\" d=\"M0,0h200v200h-200Z\"/><g><g class=\"mark-area role-mark marks\" role=\"graphics-object\" aria-roledescription=\"area mark container\"><path aria-label=\"hour: 0; gen_sum: 6; resource: natural_gas_fired_combined_cycle\" role=\"graphics-symbol\" aria-roledescription=\"area mark\" d=\"M0,60L8.333,60L16.667,60L25,60L33.333,60L41.667,60L50,60L58.333,40L66.667,30L75,10L83.333,0L91.667,20L100,50L108.333,60L116.667,70L125,90L133.333,90L141.667,90L150,80L158.333,80L166.667,90L175,110L183.333,130L191.667,130L191.667,190L183.333,190L175,170L166.667,150L158.333,140L150,140L141.667,150L133.333,150L125,150L116.667,130L108.333,120L100,110L91.667,80L83.333,60L75,70L66.667,90L58.333,100L50,120L41.667,120L33.333,120L25,120L16.667,120L8.333,120L0,120Z\" fill=\"#1f77b4\"/></g></g><path class=\"foreground\" aria-hidden=\"true\" d=\"\" display=\"none\"/></g><g transform=\"translate(0,0)\"><path class=\"background\" aria-hidden=\"true\" d=\"M0,0h200v200h-200Z\"/><g><g class=\"mark-area role-mark marks\" role=\"graphics-object\" aria-roledescription=\"area mark container\"><path aria-label=\"hour: 0; gen_sum: 8; resource: natural_gas_fired_combustion_turbine\" role=\"graphics-symbol\" aria-roledescription=\"area mark\" d=\"M0,120L8.333,120L16.667,120L25,120L33.333,120L41.667,120L50,120L58.333,100L66.667,90L75,70L83.333,60L91.667,80L100,110L108.333,120L116.667,130L125,150L133.333,150L141.667,150L150,140L158.333,140L166.667,150L175,170L183.333,190L191.667,190L191.667,200L183.333,200L175,200L166.667,200L158.333,200L150,200L141.667,200L133.333,200L125,200L116.667,200L108.333,200L100,200L91.667,200L83.333,200L75,200L66.667,200L58.333,200L50,200L41.667,200L33.333,200L25,200L16.667,200L8.333,200L0,200Z\" fill=\"#ff7f0e\"/></g></g><path class=\"foreground\" aria-hidden=\"true\" d=\"\" display=\"none\"/></g></g><g class=\"mark-group role-legend\" role=\"graphics-symbol\" aria-roledescription=\"legend\" aria-label=\"Symbol legend titled 'resource' for fill color with 2 values: natural_gas_fired_combined_cycle, natural_gas_fired_combustion_turbine\"><g transform=\"translate(218,0)\"><path class=\"background\" aria-hidden=\"true\" d=\"M0,0h174v40h-174Z\" pointer-events=\"none\"/><g><g class=\"mark-group role-legend-entry\"><g transform=\"translate(0,16)\"><path class=\"background\" aria-hidden=\"true\" d=\"M0,0h0v0h0Z\" pointer-events=\"none\"/><g><g class=\"mark-group role-scope\" role=\"graphics-object\" aria-roledescription=\"group mark container\"><g transform=\"translate(0,0)\"><path class=\"background\" aria-hidden=\"true\" d=\"M0,0h173.59765625v11h-173.59765625Z\" pointer-events=\"none\" opacity=\"1\"/><g><g class=\"mark-symbol role-legend-symbol\" pointer-events=\"none\"><path transform=\"translate(6,6)\" d=\"M5,0A5,5,0,1,1,-5,0A5,5,0,1,1,5,0\" fill=\"#1f77b4\" stroke-width=\"1.5\" opacity=\"1\"/></g><g class=\"mark-text role-legend-label\" pointer-events=\"none\"><text text-anchor=\"start\" transform=\"translate(16,9)\" font-family=\"sans-serif\" font-size=\"10px\" fill=\"#000\" opacity=\"1\">natural_gas_fired_combined_cycle</text></g></g><path class=\"foreground\" aria-hidden=\"true\" d=\"\" pointer-events=\"none\" display=\"none\"/></g><g transform=\"translate(0,13)\"><path class=\"background\" aria-hidden=\"true\" d=\"M0,0h173.59765625v11h-173.59765625Z\" pointer-events=\"none\" opacity=\"1\"/><g><g class=\"mark-symbol role-legend-symbol\" pointer-events=\"none\"><path transform=\"translate(6,6)\" d=\"M5,0A5,5,0,1,1,-5,0A5,5,0,1,1,5,0\" fill=\"#ff7f0e\" stroke-width=\"1.5\" opacity=\"1\"/></g><g class=\"mark-text role-legend-label\" pointer-events=\"none\"><text text-anchor=\"start\" transform=\"translate(16,9)\" font-family=\"sans-serif\" font-size=\"10px\" fill=\"#000\" opacity=\"1\">natural_gas_fired_combustion_tur…</text></g></g><path class=\"foreground\" aria-hidden=\"true\" d=\"\" pointer-events=\"none\" display=\"none\"/></g></g></g><path class=\"foreground\" aria-hidden=\"true\" d=\"\" pointer-events=\"none\" display=\"none\"/></g></g><g class=\"mark-text role-legend-title\" pointer-events=\"none\"><text text-anchor=\"start\" transform=\"translate(0,9)\" font-family=\"sans-serif\" font-size=\"11px\" font-weight=\"bold\" fill=\"#000\" opacity=\"1\">resource</text></g></g><path class=\"foreground\" aria-hidden=\"true\" d=\"\" pointer-events=\"none\" display=\"none\"/></g></g></g><path class=\"foreground\" aria-hidden=\"true\" d=\"\" display=\"none\"/></g></g></g></svg>"
      ],
      "text/plain": [
       "@vlplot(\n",
       "    mark=\"area\",\n",
       "    encoding={\n",
       "        x={\n",
       "            field=\"hour\"\n",
       "        },\n",
       "        y={\n",
       "            stack=\"zero\",\n",
       "            field=\"gen_sum\"\n",
       "        },\n",
       "        color={\n",
       "            scale={\n",
       "                scheme=\"category10\"\n",
       "            },\n",
       "            field=\"resource\",\n",
       "            type=\"nominal\"\n",
       "        }\n",
       "    },\n",
       "    data={\n",
       "        values=...\n",
       "    }\n",
       ")"
      ]
     },
     "metadata": {},
     "output_type": "display_data"
    }
   ],
   "source": [
    "sol_commit = innerjoin(solution.commit, \n",
    "                    gen_df[!, [:r_id, :resource]], \n",
    "                    on = :r_id)\n",
    "sol_commit = combine(groupby(sol_commit, [:resource, :hour]), \n",
    "            :gen => sum)\n",
    "sol_commit.hour = sol_commit.hour .- T_period[1]\n",
    "\n",
    "sol_commit |>\n",
    "@vlplot(:area, \n",
    "    x=:hour, y={:gen_sum, stack=:zero}, \n",
    "    color={\"resource:n\", scale={scheme=\"category10\"}})"
   ]
  },
  {
   "cell_type": "code",
   "execution_count": 11,
   "metadata": {},
   "outputs": [
    {
     "data": {
      "text/html": [
       "<div><div style = \"float: left;\"><span>9×2 DataFrame</span></div><div style = \"clear: both;\"></div></div><div class = \"data-frame\" style = \"overflow-x: scroll;\"><table class = \"data-frame\" style = \"margin-bottom: 6px;\"><thead><tr class = \"header\"><th class = \"rowNumber\" style = \"font-weight: bold; text-align: right;\">Row</th><th style = \"text-align: left;\">resource</th><th style = \"text-align: left;\">gen_sum_sum</th></tr><tr class = \"subheader headerLastRow\"><th class = \"rowNumber\" style = \"font-weight: bold; text-align: right;\"></th><th title = \"Union{Missing, String}\" style = \"text-align: left;\">String?</th><th title = \"Float64\" style = \"text-align: left;\">Float64</th></tr></thead><tbody><tr><td class = \"rowNumber\" style = \"font-weight: bold; text-align: right;\">1</td><td style = \"text-align: left;\">biomass</td><td style = \"text-align: right;\">513.6</td></tr><tr><td class = \"rowNumber\" style = \"font-weight: bold; text-align: right;\">2</td><td style = \"text-align: left;\">hydroelectric_pumped_storage</td><td style = \"text-align: right;\">1008.0</td></tr><tr><td class = \"rowNumber\" style = \"font-weight: bold; text-align: right;\">3</td><td style = \"text-align: left;\">natural_gas_fired_combined_cycle</td><td style = \"text-align: right;\">41186.6</td></tr><tr><td class = \"rowNumber\" style = \"font-weight: bold; text-align: right;\">4</td><td style = \"text-align: left;\">natural_gas_fired_combustion_turbine</td><td style = \"text-align: right;\">10333.9</td></tr><tr><td class = \"rowNumber\" style = \"font-weight: bold; text-align: right;\">5</td><td style = \"text-align: left;\">_onshore_wind_turbine</td><td style = \"text-align: right;\">2314.42</td></tr><tr><td class = \"rowNumber\" style = \"font-weight: bold; text-align: right;\">6</td><td style = \"text-align: left;\">_small_hydroelectric</td><td style = \"text-align: right;\">76.4384</td></tr><tr><td class = \"rowNumber\" style = \"font-weight: bold; text-align: right;\">7</td><td style = \"text-align: left;\">_solar_photovoltaic</td><td style = \"text-align: right;\">0.0</td></tr><tr><td class = \"rowNumber\" style = \"font-weight: bold; text-align: right;\">8</td><td style = \"text-align: left;\">_solar_photovoltaic_btm</td><td style = \"text-align: right;\">3522.18</td></tr><tr><td class = \"rowNumber\" style = \"font-weight: bold; text-align: right;\">9</td><td style = \"text-align: left;\">_curtailment</td><td style = \"text-align: right;\">0.0</td></tr></tbody></table></div>"
      ],
      "text/latex": [
       "\\begin{tabular}{r|cc}\n",
       "\t& resource & gen\\_sum\\_sum\\\\\n",
       "\t\\hline\n",
       "\t& String? & Float64\\\\\n",
       "\t\\hline\n",
       "\t1 & biomass & 513.6 \\\\\n",
       "\t2 & hydroelectric\\_pumped\\_storage & 1008.0 \\\\\n",
       "\t3 & natural\\_gas\\_fired\\_combined\\_cycle & 41186.6 \\\\\n",
       "\t4 & natural\\_gas\\_fired\\_combustion\\_turbine & 10333.9 \\\\\n",
       "\t5 & \\_onshore\\_wind\\_turbine & 2314.42 \\\\\n",
       "\t6 & \\_small\\_hydroelectric & 76.4384 \\\\\n",
       "\t7 & \\_solar\\_photovoltaic & 0.0 \\\\\n",
       "\t8 & \\_solar\\_photovoltaic\\_btm & 3522.18 \\\\\n",
       "\t9 & \\_curtailment & 0.0 \\\\\n",
       "\\end{tabular}\n"
      ],
      "text/plain": [
       "\u001b[1m9×2 DataFrame\u001b[0m\n",
       "\u001b[1m Row \u001b[0m│\u001b[1m resource                          \u001b[0m\u001b[1m gen_sum_sum \u001b[0m\n",
       "     │\u001b[90m String?                           \u001b[0m\u001b[90m Float64     \u001b[0m\n",
       "─────┼────────────────────────────────────────────────\n",
       "   1 │ biomass                               513.6\n",
       "   2 │ hydroelectric_pumped_storage         1008.0\n",
       "   3 │ natural_gas_fired_combined_cycle    41186.6\n",
       "   4 │ natural_gas_fired_combustion_tur…   10333.9\n",
       "   5 │ _onshore_wind_turbine                2314.42\n",
       "   6 │ _small_hydroelectric                   76.4384\n",
       "   7 │ _solar_photovoltaic                     0.0\n",
       "   8 │ _solar_photovoltaic_btm              3522.18\n",
       "   9 │ _curtailment                            0.0"
      ]
     },
     "metadata": {},
     "output_type": "display_data"
    }
   ],
   "source": [
    "sol_gen\n",
    "sol_gen_summary = combine(groupby(sol_gen, :resource), :gen_sum => sum)\n",
    "sol_gen_summary"
   ]
  },
  {
   "cell_type": "code",
   "execution_count": 12,
   "metadata": {},
   "outputs": [
    {
     "data": {
      "application/vnd.vegalite.v5+json": {
       "data": {
        "values": [
         {
          "gen_sum": 0,
          "hour": 0,
          "resource": "natural_gas_fired_combined_cycle"
         },
         {
          "gen_sum": 0,
          "hour": 0,
          "resource": "natural_gas_fired_combustion_turbine"
         },
         {
          "gen_sum": 0,
          "hour": 1,
          "resource": "natural_gas_fired_combined_cycle"
         },
         {
          "gen_sum": 0,
          "hour": 1,
          "resource": "natural_gas_fired_combustion_turbine"
         },
         {
          "gen_sum": 0,
          "hour": 2,
          "resource": "natural_gas_fired_combined_cycle"
         },
         {
          "gen_sum": 0,
          "hour": 2,
          "resource": "natural_gas_fired_combustion_turbine"
         },
         {
          "gen_sum": 0,
          "hour": 3,
          "resource": "natural_gas_fired_combined_cycle"
         },
         {
          "gen_sum": 0,
          "hour": 3,
          "resource": "natural_gas_fired_combustion_turbine"
         },
         {
          "gen_sum": 0,
          "hour": 4,
          "resource": "natural_gas_fired_combined_cycle"
         },
         {
          "gen_sum": 0,
          "hour": 4,
          "resource": "natural_gas_fired_combustion_turbine"
         },
         {
          "gen_sum": 0,
          "hour": 5,
          "resource": "natural_gas_fired_combined_cycle"
         },
         {
          "gen_sum": 0,
          "hour": 5,
          "resource": "natural_gas_fired_combustion_turbine"
         },
         {
          "gen_sum": 0,
          "hour": 6,
          "resource": "natural_gas_fired_combined_cycle"
         },
         {
          "gen_sum": 0,
          "hour": 6,
          "resource": "natural_gas_fired_combustion_turbine"
         },
         {
          "gen_sum": 0,
          "hour": 7,
          "resource": "natural_gas_fired_combined_cycle"
         },
         {
          "gen_sum": 2,
          "hour": 7,
          "resource": "natural_gas_fired_combustion_turbine"
         },
         {
          "gen_sum": 0,
          "hour": 8,
          "resource": "natural_gas_fired_combined_cycle"
         },
         {
          "gen_sum": 1,
          "hour": 8,
          "resource": "natural_gas_fired_combustion_turbine"
         },
         {
          "gen_sum": 0,
          "hour": 9,
          "resource": "natural_gas_fired_combined_cycle"
         },
         {
          "gen_sum": 2,
          "hour": 9,
          "resource": "natural_gas_fired_combustion_turbine"
         },
         {
          "gen_sum": 0,
          "hour": 10,
          "resource": "natural_gas_fired_combined_cycle"
         },
         {
          "gen_sum": 1,
          "hour": 10,
          "resource": "natural_gas_fired_combustion_turbine"
         },
         {
          "gen_sum": 0,
          "hour": 11,
          "resource": "natural_gas_fired_combined_cycle"
         },
         {
          "gen_sum": 0,
          "hour": 11,
          "resource": "natural_gas_fired_combustion_turbine"
         },
         {
          "gen_sum": 0,
          "hour": 12,
          "resource": "natural_gas_fired_combined_cycle"
         },
         {
          "gen_sum": 0,
          "hour": 12,
          "resource": "natural_gas_fired_combustion_turbine"
         },
         {
          "gen_sum": 0,
          "hour": 13,
          "resource": "natural_gas_fired_combined_cycle"
         },
         {
          "gen_sum": 0,
          "hour": 13,
          "resource": "natural_gas_fired_combustion_turbine"
         },
         {
          "gen_sum": 0,
          "hour": 14,
          "resource": "natural_gas_fired_combined_cycle"
         },
         {
          "gen_sum": 0,
          "hour": 14,
          "resource": "natural_gas_fired_combustion_turbine"
         },
         {
          "gen_sum": 0,
          "hour": 15,
          "resource": "natural_gas_fired_combined_cycle"
         },
         {
          "gen_sum": 0,
          "hour": 15,
          "resource": "natural_gas_fired_combustion_turbine"
         },
         {
          "gen_sum": 0,
          "hour": 16,
          "resource": "natural_gas_fired_combined_cycle"
         },
         {
          "gen_sum": 0,
          "hour": 16,
          "resource": "natural_gas_fired_combustion_turbine"
         },
         {
          "gen_sum": 0,
          "hour": 17,
          "resource": "natural_gas_fired_combined_cycle"
         },
         {
          "gen_sum": 0,
          "hour": 17,
          "resource": "natural_gas_fired_combustion_turbine"
         },
         {
          "gen_sum": 0,
          "hour": 18,
          "resource": "natural_gas_fired_combined_cycle"
         },
         {
          "gen_sum": 1,
          "hour": 18,
          "resource": "natural_gas_fired_combustion_turbine"
         },
         {
          "gen_sum": 0,
          "hour": 19,
          "resource": "natural_gas_fired_combined_cycle"
         },
         {
          "gen_sum": 0,
          "hour": 19,
          "resource": "natural_gas_fired_combustion_turbine"
         },
         {
          "gen_sum": 0,
          "hour": 20,
          "resource": "natural_gas_fired_combined_cycle"
         },
         {
          "gen_sum": 0,
          "hour": 20,
          "resource": "natural_gas_fired_combustion_turbine"
         },
         {
          "gen_sum": 0,
          "hour": 21,
          "resource": "natural_gas_fired_combined_cycle"
         },
         {
          "gen_sum": 0,
          "hour": 21,
          "resource": "natural_gas_fired_combustion_turbine"
         },
         {
          "gen_sum": 0,
          "hour": 22,
          "resource": "natural_gas_fired_combined_cycle"
         },
         {
          "gen_sum": 0,
          "hour": 22,
          "resource": "natural_gas_fired_combustion_turbine"
         },
         {
          "gen_sum": 0,
          "hour": 23,
          "resource": "natural_gas_fired_combined_cycle"
         },
         {
          "gen_sum": 0,
          "hour": 23,
          "resource": "natural_gas_fired_combustion_turbine"
         }
        ]
       },
       "encoding": {
        "color": {
         "field": "resource",
         "scale": {
          "scheme": "category10"
         },
         "type": "nominal"
        },
        "x": {
         "field": "hour",
         "type": "quantitative"
        },
        "y": {
         "field": "gen_sum",
         "stack": "zero",
         "type": "quantitative"
        }
       },
       "mark": "area"
      },
      "image/png": "[encoded data removed]",
      "image/svg+xml": [
       "<svg xmlns=\"http://www.w3.org/2000/svg\" xmlns:xlink=\"http://www.w3.org/1999/xlink\" version=\"1.1\" class=\"marks\" width=\"438\" height=\"247\" viewBox=\"0 0 438 247\"><rect width=\"438\" height=\"247\" fill=\"white\"/><g fill=\"none\" stroke-miterlimit=\"10\" transform=\"translate(41,10)\"><g class=\"mark-group role-frame root\" role=\"graphics-object\" aria-roledescription=\"group mark container\"><g transform=\"translate(0,0)\"><path class=\"background\" aria-hidden=\"true\" d=\"M0.5,0.5h200v200h-200Z\" stroke=\"#ddd\"/><g><g class=\"mark-group role-axis\" aria-hidden=\"true\"><g transform=\"translate(0.5,200.5)\"><path class=\"background\" aria-hidden=\"true\" d=\"M0,0h0v0h0Z\" pointer-events=\"none\"/><g><g class=\"mark-rule role-axis-grid\" pointer-events=\"none\"><line transform=\"translate(0,-200)\" x2=\"0\" y2=\"200\" stroke=\"#ddd\" stroke-width=\"1\" opacity=\"1\"/><line transform=\"translate(42,-200)\" x2=\"0\" y2=\"200\" stroke=\"#ddd\" stroke-width=\"1\" opacity=\"1\"/><line transform=\"translate(83,-200)\" x2=\"0\" y2=\"200\" stroke=\"#ddd\" stroke-width=\"1\" opacity=\"1\"/><line transform=\"translate(125,-200)\" x2=\"0\" y2=\"200\" stroke=\"#ddd\" stroke-width=\"1\" opacity=\"1\"/><line transform=\"translate(167,-200)\" x2=\"0\" y2=\"200\" stroke=\"#ddd\" stroke-width=\"1\" opacity=\"1\"/></g></g><path class=\"foreground\" aria-hidden=\"true\" d=\"\" pointer-events=\"none\" display=\"none\"/></g></g><g class=\"mark-group role-axis\" aria-hidden=\"true\"><g transform=\"translate(0.5,0.5)\"><path class=\"background\" aria-hidden=\"true\" d=\"M0,0h0v0h0Z\" pointer-events=\"none\"/><g><g class=\"mark-rule role-axis-grid\" pointer-events=\"none\"><line transform=\"translate(0,200)\" x2=\"200\" y2=\"0\" stroke=\"#ddd\" stroke-width=\"1\" opacity=\"1\"/><line transform=\"translate(0,150)\" x2=\"200\" y2=\"0\" stroke=\"#ddd\" stroke-width=\"1\" opacity=\"1\"/><line transform=\"translate(0,100)\" x2=\"200\" y2=\"0\" stroke=\"#ddd\" stroke-width=\"1\" opacity=\"1\"/><line transform=\"translate(0,50)\" x2=\"200\" y2=\"0\" stroke=\"#ddd\" stroke-width=\"1\" opacity=\"1\"/><line transform=\"translate(0,0)\" x2=\"200\" y2=\"0\" stroke=\"#ddd\" stroke-width=\"1\" opacity=\"1\"/></g></g><path class=\"foreground\" aria-hidden=\"true\" d=\"\" pointer-events=\"none\" display=\"none\"/></g></g><g class=\"mark-group role-axis\" role=\"graphics-symbol\" aria-roledescription=\"axis\" aria-label=\"X-axis titled 'hour' for a linear scale with values from 0 to 24\"><g transform=\"translate(0.5,200.5)\"><path class=\"background\" aria-hidden=\"true\" d=\"M0,0h0v0h0Z\" pointer-events=\"none\"/><g><g class=\"mark-rule role-axis-tick\" pointer-events=\"none\"><line transform=\"translate(0,0)\" x2=\"0\" y2=\"5\" stroke=\"#888\" stroke-width=\"1\" opacity=\"1\"/><line transform=\"translate(42,0)\" x2=\"0\" y2=\"5\" stroke=\"#888\" stroke-width=\"1\" opacity=\"1\"/><line transform=\"translate(83,0)\" x2=\"0\" y2=\"5\" stroke=\"#888\" stroke-width=\"1\" opacity=\"1\"/><line transform=\"translate(125,0)\" x2=\"0\" y2=\"5\" stroke=\"#888\" stroke-width=\"1\" opacity=\"1\"/><line transform=\"translate(167,0)\" x2=\"0\" y2=\"5\" stroke=\"#888\" stroke-width=\"1\" opacity=\"1\"/></g><g class=\"mark-text role-axis-label\" pointer-events=\"none\"><text text-anchor=\"start\" transform=\"translate(0,15)\" font-family=\"sans-serif\" font-size=\"10px\" fill=\"#000\" opacity=\"1\">0</text><text text-anchor=\"middle\" transform=\"translate(41.66666666666667,15)\" font-family=\"sans-serif\" font-size=\"10px\" fill=\"#000\" opacity=\"1\">5</text><text text-anchor=\"middle\" transform=\"translate(83.33333333333334,15)\" font-family=\"sans-serif\" font-size=\"10px\" fill=\"#000\" opacity=\"1\">10</text><text text-anchor=\"middle\" transform=\"translate(125,15)\" font-family=\"sans-serif\" font-size=\"10px\" fill=\"#000\" opacity=\"1\">15</text><text text-anchor=\"middle\" transform=\"translate(166.66666666666669,15)\" font-family=\"sans-serif\" font-size=\"10px\" fill=\"#000\" opacity=\"1\">20</text></g><g class=\"mark-rule role-axis-domain\" pointer-events=\"none\"><line transform=\"translate(0,0)\" x2=\"200\" y2=\"0\" stroke=\"#888\" stroke-width=\"1\" opacity=\"1\"/></g><g class=\"mark-text role-axis-title\" pointer-events=\"none\"><text text-anchor=\"middle\" transform=\"translate(100,30)\" font-family=\"sans-serif\" font-size=\"11px\" font-weight=\"bold\" fill=\"#000\" opacity=\"1\">hour</text></g></g><path class=\"foreground\" aria-hidden=\"true\" d=\"\" pointer-events=\"none\" display=\"none\"/></g></g><g class=\"mark-group role-axis\" role=\"graphics-symbol\" aria-roledescription=\"axis\" aria-label=\"Y-axis titled 'gen_sum' for a linear scale with values from 0.0 to 2.0\"><g transform=\"translate(0.5,0.5)\"><path class=\"background\" aria-hidden=\"true\" d=\"M0,0h0v0h0Z\" pointer-events=\"none\"/><g><g class=\"mark-rule role-axis-tick\" pointer-events=\"none\"><line transform=\"translate(0,200)\" x2=\"-5\" y2=\"0\" stroke=\"#888\" stroke-width=\"1\" opacity=\"1\"/><line transform=\"translate(0,150)\" x2=\"-5\" y2=\"0\" stroke=\"#888\" stroke-width=\"1\" opacity=\"1\"/><line transform=\"translate(0,100)\" x2=\"-5\" y2=\"0\" stroke=\"#888\" stroke-width=\"1\" opacity=\"1\"/><line transform=\"translate(0,50)\" x2=\"-5\" y2=\"0\" stroke=\"#888\" stroke-width=\"1\" opacity=\"1\"/><line transform=\"translate(0,0)\" x2=\"-5\" y2=\"0\" stroke=\"#888\" stroke-width=\"1\" opacity=\"1\"/></g><g class=\"mark-text role-axis-label\" pointer-events=\"none\"><text text-anchor=\"end\" transform=\"translate(-7,203)\" font-family=\"sans-serif\" font-size=\"10px\" fill=\"#000\" opacity=\"1\">0.0</text><text text-anchor=\"end\" transform=\"translate(-7,153)\" font-family=\"sans-serif\" font-size=\"10px\" fill=\"#000\" opacity=\"1\">0.5</text><text text-anchor=\"end\" transform=\"translate(-7,103)\" font-family=\"sans-serif\" font-size=\"10px\" fill=\"#000\" opacity=\"1\">1.0</text><text text-anchor=\"end\" transform=\"translate(-7,53)\" font-family=\"sans-serif\" font-size=\"10px\" fill=\"#000\" opacity=\"1\">1.5</text><text text-anchor=\"end\" transform=\"translate(-7,3)\" font-family=\"sans-serif\" font-size=\"10px\" fill=\"#000\" opacity=\"1\">2.0</text></g><g class=\"mark-rule role-axis-domain\" pointer-events=\"none\"><line transform=\"translate(0,200)\" x2=\"0\" y2=\"-200\" stroke=\"#888\" stroke-width=\"1\" opacity=\"1\"/></g><g class=\"mark-text role-axis-title\" pointer-events=\"none\"><text text-anchor=\"middle\" transform=\"translate(-24.9453125,100) rotate(-90) translate(0,-2)\" font-family=\"sans-serif\" font-size=\"11px\" font-weight=\"bold\" fill=\"#000\" opacity=\"1\">gen_sum</text></g></g><path class=\"foreground\" aria-hidden=\"true\" d=\"\" pointer-events=\"none\" display=\"none\"/></g></g><g class=\"mark-group role-scope pathgroup\" role=\"graphics-object\" aria-roledescription=\"group mark container\"><g transform=\"translate(0,0)\"><path class=\"background\" aria-hidden=\"true\" d=\"M0,0h200v200h-200Z\"/><g><g class=\"mark-area role-mark marks\" role=\"graphics-object\" aria-roledescription=\"area mark container\"><path aria-label=\"hour: 0; gen_sum: 0; resource: natural_gas_fired_combined_cycle\" role=\"graphics-symbol\" aria-roledescription=\"area mark\" d=\"M0,200L8.333,200L16.667,200L25,200L33.333,200L41.667,200L50,200L58.333,0L66.667,100L75,0L83.333,100L91.667,200L100,200L108.333,200L116.667,200L125,200L133.333,200L141.667,200L150,100L158.333,200L166.667,200L175,200L183.333,200L191.667,200L191.667,200L183.333,200L175,200L166.667,200L158.333,200L150,100L141.667,200L133.333,200L125,200L116.667,200L108.333,200L100,200L91.667,200L83.333,100L75,0L66.667,100L58.333,0L50,200L41.667,200L33.333,200L25,200L16.667,200L8.333,200L0,200Z\" fill=\"#1f77b4\"/></g></g><path class=\"foreground\" aria-hidden=\"true\" d=\"\" display=\"none\"/></g><g transform=\"translate(0,0)\"><path class=\"background\" aria-hidden=\"true\" d=\"M0,0h200v200h-200Z\"/><g><g class=\"mark-area role-mark marks\" role=\"graphics-object\" aria-roledescription=\"area mark container\"><path aria-label=\"hour: 0; gen_sum: 0; resource: natural_gas_fired_combustion_turbine\" role=\"graphics-symbol\" aria-roledescription=\"area mark\" d=\"M0,200L8.333,200L16.667,200L25,200L33.333,200L41.667,200L50,200L58.333,0L66.667,100L75,0L83.333,100L91.667,200L100,200L108.333,200L116.667,200L125,200L133.333,200L141.667,200L150,100L158.333,200L166.667,200L175,200L183.333,200L191.667,200L191.667,200L183.333,200L175,200L166.667,200L158.333,200L150,200L141.667,200L133.333,200L125,200L116.667,200L108.333,200L100,200L91.667,200L83.333,200L75,200L66.667,200L58.333,200L50,200L41.667,200L33.333,200L25,200L16.667,200L8.333,200L0,200Z\" fill=\"#ff7f0e\"/></g></g><path class=\"foreground\" aria-hidden=\"true\" d=\"\" display=\"none\"/></g></g><g class=\"mark-group role-legend\" role=\"graphics-symbol\" aria-roledescription=\"legend\" aria-label=\"Symbol legend titled 'resource' for fill color with 2 values: natural_gas_fired_combined_cycle, natural_gas_fired_combustion_turbine\"><g transform=\"translate(218,0)\"><path class=\"background\" aria-hidden=\"true\" d=\"M0,0h174v40h-174Z\" pointer-events=\"none\"/><g><g class=\"mark-group role-legend-entry\"><g transform=\"translate(0,16)\"><path class=\"background\" aria-hidden=\"true\" d=\"M0,0h0v0h0Z\" pointer-events=\"none\"/><g><g class=\"mark-group role-scope\" role=\"graphics-object\" aria-roledescription=\"group mark container\"><g transform=\"translate(0,0)\"><path class=\"background\" aria-hidden=\"true\" d=\"M0,0h173.59765625v11h-173.59765625Z\" pointer-events=\"none\" opacity=\"1\"/><g><g class=\"mark-symbol role-legend-symbol\" pointer-events=\"none\"><path transform=\"translate(6,6)\" d=\"M5,0A5,5,0,1,1,-5,0A5,5,0,1,1,5,0\" fill=\"#1f77b4\" stroke-width=\"1.5\" opacity=\"1\"/></g><g class=\"mark-text role-legend-label\" pointer-events=\"none\"><text text-anchor=\"start\" transform=\"translate(16,9)\" font-family=\"sans-serif\" font-size=\"10px\" fill=\"#000\" opacity=\"1\">natural_gas_fired_combined_cycle</text></g></g><path class=\"foreground\" aria-hidden=\"true\" d=\"\" pointer-events=\"none\" display=\"none\"/></g><g transform=\"translate(0,13)\"><path class=\"background\" aria-hidden=\"true\" d=\"M0,0h173.59765625v11h-173.59765625Z\" pointer-events=\"none\" opacity=\"1\"/><g><g class=\"mark-symbol role-legend-symbol\" pointer-events=\"none\"><path transform=\"translate(6,6)\" d=\"M5,0A5,5,0,1,1,-5,0A5,5,0,1,1,5,0\" fill=\"#ff7f0e\" stroke-width=\"1.5\" opacity=\"1\"/></g><g class=\"mark-text role-legend-label\" pointer-events=\"none\"><text text-anchor=\"start\" transform=\"translate(16,9)\" font-family=\"sans-serif\" font-size=\"10px\" fill=\"#000\" opacity=\"1\">natural_gas_fired_combustion_tur…</text></g></g><path class=\"foreground\" aria-hidden=\"true\" d=\"\" pointer-events=\"none\" display=\"none\"/></g></g></g><path class=\"foreground\" aria-hidden=\"true\" d=\"\" pointer-events=\"none\" display=\"none\"/></g></g><g class=\"mark-text role-legend-title\" pointer-events=\"none\"><text text-anchor=\"start\" transform=\"translate(0,9)\" font-family=\"sans-serif\" font-size=\"11px\" font-weight=\"bold\" fill=\"#000\" opacity=\"1\">resource</text></g></g><path class=\"foreground\" aria-hidden=\"true\" d=\"\" pointer-events=\"none\" display=\"none\"/></g></g></g><path class=\"foreground\" aria-hidden=\"true\" d=\"\" display=\"none\"/></g></g></g></svg>"
      ],
      "text/plain": [
       "@vlplot(\n",
       "    mark=\"area\",\n",
       "    encoding={\n",
       "        x={\n",
       "            field=\"hour\"\n",
       "        },\n",
       "        y={\n",
       "            stack=\"zero\",\n",
       "            field=\"gen_sum\"\n",
       "        },\n",
       "        color={\n",
       "            scale={\n",
       "                scheme=\"category10\"\n",
       "            },\n",
       "            field=\"resource\",\n",
       "            type=\"nominal\"\n",
       "        }\n",
       "    },\n",
       "    data={\n",
       "        values=...\n",
       "    }\n",
       ")"
      ]
     },
     "metadata": {},
     "output_type": "display_data"
    }
   ],
   "source": [
    "sol_start = innerjoin(solution.start, \n",
    "                    gen_df[!, [:r_id, :resource]], \n",
    "                    on = :r_id)\n",
    "sol_start = combine(groupby(sol_start, [:resource, :hour]), \n",
    "            :gen => sum)\n",
    "sol_start.hour = sol_start.hour .- T_period[1]\n",
    "\n",
    "sol_start |>\n",
    "@vlplot(:area, \n",
    "    x=:hour, y={:gen_sum, stack=:zero}, \n",
    "    color={\"resource:n\", scale={scheme=\"category10\"}})"
   ]
  },
  {
   "cell_type": "markdown",
   "metadata": {},
   "source": [
    "Note that units shutdown during the solar period and startup for the evening peak. However, due to the commitment constraints, not all natural gas plants can be decommitted, resulting in the observed curtailment. A large number of combustion turbines turn on to meet the evening peak."
   ]
  },
  {
   "cell_type": "markdown",
   "metadata": {},
   "source": [
    "## Moderate complexity unit commitment\n",
    "\n",
    "We expand the above unit commitment with ramp equations. These must be modified to prevent ramp violations during the startup process. In order to accommodate this, we introduce an **auxiliary variable** $GENAUX_{g,t}$ defined as the generation above the minimum output (if committed). $GENAUX_{g,t} = GEN_{g,t} = 0$ if the unit is not committed. Auxiliary variables are for convenience (we could always write the whole problem in terms of the original decision variables), but they help de-clutter the model and in general won't add too much computational penalty. The following constraints are added:\n",
    "\n",
    "$$\n",
    "\\begin{align}\n",
    " & GENAUX_{g,t} = GEN_{g,t} - Pmin_{g,t}COMMIT_{g,t} & \\forall \\quad g \\in G_{thermal} , t \\in T \\\\\n",
    " & GENAUX_{g,t+1} - GENAUX_{g,t} \\leq RampUp_{g} & \\forall \\quad g \\in G_{thermal} , t = 1..T-1 \\\\\n",
    "  & GENAUX_{g,t} - GENAUX_{g,t+1} \\leq RampDn_{g} & \\forall \\quad g \\in G_{thermal} , t = 1..T-1 \\\\\n",
    " & GEN_{g,t+1} - GEN_{g,t} \\leq RampUp_{g} & \\forall \\quad g \\notin G_{thermal} , t = 1..T-1 \\\\\n",
    "  & GEN_{g,t} - GEN_{g,t+1} \\leq RampDn_{g} & \\forall \\quad g \\notin G_{thermal} , t = 1..T-1  \n",
    "\\end{align}\n",
    "$$\n",
    "\n",
    "The creation of this auxiliary variable $GENAUX$ helps us avoid violating ramping constraints when we start up our units and their generation immediately jumps up to their minium output level or during shut-down when a unit drops from minimum output (or above) to zero. \n",
    "\n",
    "Note you may encounter alternative formulations in the literature to address this start-up and shut-down that modify the right-hand side of the traditional ramping constraint on total generation to account for the additional step change in output during start-up or shut-down periods. The above formulation is conceptually simple and works well."
   ]
  },
  {
   "cell_type": "markdown",
   "metadata": {},
   "source": [
    "### 3. Create solver function\n",
    "\n",
    "(We reuse steps 1 and 2 above to load packages and data.)"
   ]
  },
  {
   "cell_type": "code",
   "execution_count": 13,
   "metadata": {},
   "outputs": [
    {
     "data": {
      "text/plain": [
       "unit_commitment_ramp (generic function with 1 method)"
      ]
     },
     "metadata": {},
     "output_type": "display_data"
    }
   ],
   "source": [
    "#=\n",
    "Function to solve moderate complexity unit commitment problem (commitment and ramp equations)\n",
    "Inputs:\n",
    "    gen_df -- dataframe with generator info\n",
    "    loads  -- load by time\n",
    "    gen_variable -- capacity factors of variable generators (in \"long\" format)\n",
    "    mip_gap -- desired relative MIP gap to pass to solver\n",
    "=#\n",
    "function unit_commitment_ramp(gen_df, loads, gen_variable, mip_gap)\n",
    "    UC = Model(HiGHS.Optimizer)\n",
    "    set_optimizer_attribute(UC, \"mip_rel_gap\", mip_gap) \n",
    "\n",
    "    # Define sets based on data\n",
    "    # Note the creation of several different sets of generators for use in\n",
    "    # different equations.\n",
    "    G_thermal = gen_df[gen_df[!,:up_time] .> 0,:r_id]\n",
    "    G_nonthermal = gen_df[gen_df[!,:up_time] .== 0,:r_id]\n",
    "    G_var = gen_df[gen_df[!,:is_variable] .== 1,:r_id] \n",
    "    G_nonvar = gen_df[gen_df[!,:is_variable] .== 0,:r_id]\n",
    "    G_nt_nonvar = intersect(G_nonvar, G_nonthermal)\n",
    "    G = gen_df.r_id\n",
    "    T = loads.hour\n",
    "    T_red = loads.hour[1:end-1]  # reduced time periods without last one\n",
    "\n",
    "    # Generator capacity factor time series for variable generators\n",
    "    gen_var_cf = innerjoin(gen_variable, \n",
    "                    gen_df[gen_df.is_variable .== 1 , \n",
    "                        [:r_id, :gen_full, :existing_cap_mw]], \n",
    "                    on = :gen_full)\n",
    "        \n",
    "    # Decision variables   \n",
    "    @variables(UC, begin\n",
    "        GEN[G, T]  >= 0     # generation\n",
    "        GENAUX[G_thermal, T] >= 0 # auxiliary generation variable\n",
    "        COMMIT[G_thermal, T], Bin # commitment status (Bin=binary)\n",
    "        START[G_thermal, T], Bin  # startup decision\n",
    "        SHUT[G_thermal, T], Bin   # shutdown decision\n",
    "    end)\n",
    "                \n",
    "    # Objective function\n",
    "    @objective(UC, Min, \n",
    "        sum( (gen_df[gen_df.r_id .== i,:heat_rate_mmbtu_per_mwh][1] * gen_df[gen_df.r_id .== i,:fuel_cost][1] +\n",
    "            gen_df[gen_df.r_id .== i,:var_om_cost_per_mwh][1]) * GEN[i,t] \n",
    "                        for i in G_nonvar for t in T) + \n",
    "        sum(gen_df[gen_df.r_id .== i,:var_om_cost_per_mwh][1] * GEN[i,t] \n",
    "                        for i in G_var for t in T) + \n",
    "        sum(gen_df[gen_df.r_id .== i,:start_cost_per_mw][1] * \n",
    "            gen_df[gen_df.r_id .== i,:existing_cap_mw][1] *\n",
    "            START[i,t] \n",
    "                        for i in G_thermal for t in T)\n",
    "    )\n",
    "    \n",
    "    # Demand constraint\n",
    "    @constraint(UC, cDemand[t in T], \n",
    "        sum(GEN[i,t] for i in G) == loads[loads.hour .== t,:demand][1])\n",
    "\n",
    "    # Capacity constraints (thermal generators requiring commitment)\n",
    "    @constraint(UC, Cap_thermal_min[i in G_thermal, t in T], \n",
    "        GEN[i,t] >= COMMIT[i, t] * gen_df[gen_df.r_id .== i,:existing_cap_mw][1] *\n",
    "                        gen_df[gen_df.r_id .== i,:min_power][1])\n",
    "    @constraint(UC, Cap_thermal_max[i in G_thermal, t in T], \n",
    "        GEN[i,t] <= COMMIT[i, t] * gen_df[gen_df.r_id .== i,:existing_cap_mw][1])\n",
    "\n",
    "    # Capacity constraints (non-variable generation not requiring commitment)\n",
    "    @constraint(UC, Cap_nt_nonvar[i in G_nt_nonvar, t in T], \n",
    "        GEN[i,t] <= gen_df[gen_df.r_id .== i,:existing_cap_mw][1])\n",
    "\n",
    "    # Capacity constraints (variable generation)\n",
    "    @constraint(UC, Cap_var[i in 1:nrow(gen_var_cf)], \n",
    "            GEN[gen_var_cf[i,:r_id], gen_var_cf[i,:hour] ] <= \n",
    "                        gen_var_cf[i,:cf] *\n",
    "                        gen_var_cf[i,:existing_cap_mw])\n",
    "    \n",
    "    # Unit commitment constraints\n",
    "    @constraint(UC, Startup[i in G_thermal, t in T],\n",
    "        COMMIT[i, t] >= sum(START[i, tt] \n",
    "                        for tt in intersect(T,\n",
    "                            (t-gen_df[gen_df.r_id .== i,:up_time][1]):t)))\n",
    "\n",
    "    @constraint(UC, Shutdown[i in G_thermal, t in T],\n",
    "        1-COMMIT[i, t] >= sum(SHUT[i, tt] \n",
    "                        for tt in intersect(T,\n",
    "                            (t-gen_df[gen_df.r_id .== i,:down_time][1]):t)))\n",
    "    \n",
    "    @constraint(UC, CommitmentStatus[i in G_thermal, t in T_red],\n",
    "        COMMIT[i,t+1] - COMMIT[i,t] == START[i,t+1] - SHUT[i,t+1])\n",
    "    \n",
    "    # New auxiliary variable GENAUX for generation above the minimum output level\n",
    "    # for committed thermal units (only created for thermal generators)\n",
    "    @constraint(UC, AuxGen[i in G_thermal, t in T],\n",
    "        GENAUX[i,t] == GEN[i,t] - COMMIT[i, t] * gen_df[gen_df.r_id .== i,:existing_cap_mw][1] *\n",
    "                        gen_df[gen_df.r_id .== i,:min_power][1])\n",
    "    \n",
    "    # Ramp equations for thermal generators (constraining GENAUX)\n",
    "    @constraint(UC, RampUp_thermal[i in G_thermal, t in T_red], \n",
    "        GENAUX[i,t+1] - GENAUX[i,t] <= gen_df[gen_df.r_id .== i,:existing_cap_mw][1] * \n",
    "                                 gen_df[gen_df.r_id .== i,:ramp_up_percentage][1] )\n",
    "\n",
    "    @constraint(UC, RampDn_thermal[i in G_thermal, t in T_red], \n",
    "        GENAUX[i,t] - GENAUX[i,t+1] <= gen_df[gen_df.r_id .== i,:existing_cap_mw][1] * \n",
    "                                 gen_df[gen_df.r_id .== i,:ramp_dn_percentage][1] )\n",
    "\n",
    "    # Ramp equations for non-thermal generators (constraining total generation GEN)\n",
    "    @constraint(UC, RampUp_nonthermal[i in G_nonthermal, t in T_red], \n",
    "        GEN[i,t+1] - GEN[i,t] <= gen_df[gen_df.r_id .== i,:existing_cap_mw][1] * \n",
    "                                 gen_df[gen_df.r_id .== i,:ramp_up_percentage][1] )\n",
    "\n",
    "    @constraint(UC, RampDn[i in G, t in T_red], \n",
    "        GEN[i,t] - GEN[i,t+1] <= gen_df[gen_df.r_id .== i,:existing_cap_mw][1] * \n",
    "                                 gen_df[gen_df.r_id .== i,:ramp_dn_percentage][1] )\n",
    "      \n",
    "    \n",
    "    # Solve statement (! indicates runs in place)\n",
    "    optimize!(UC)\n",
    "\n",
    "    # Generation solution\n",
    "    gen = value_to_df_2dim(value.(GEN))\n",
    "\n",
    "    # Commitment status solution\n",
    "    commit = value_to_df_2dim(value.(COMMIT))\n",
    "\n",
    "    # Calculate curtailment\n",
    "    curtail = innerjoin(gen_var_cf, gen, on = [:r_id, :hour])\n",
    "    curtail.curt = curtail.cf .* curtail.existing_cap_mw - curtail.gen\n",
    "    \n",
    "    # Return the solution and objective as named tuple\n",
    "    return (\n",
    "        gen,\n",
    "        commit,\n",
    "        curtail,\n",
    "        cost = objective_value(UC),\n",
    "        status = termination_status(UC)\n",
    "    )\n",
    "\n",
    "end"
   ]
  },
  {
   "cell_type": "markdown",
   "metadata": {},
   "source": [
    "### 4. Solve a day's unit commitment"
   ]
  },
  {
   "cell_type": "code",
   "execution_count": 14,
   "metadata": {},
   "outputs": [
    {
     "name": "stdout",
     "output_type": "stream",
     "text": [
      "Running HiGHS 1.7.2 (git hash: 5ce7a2753): Copyright (c) 2024 HiGHS under MIT licence terms\n",
      "Coefficient ranges:\n",
      "  Matrix [1e+00, 6e+02]\n",
      "  Cost   [5e+00, 5e+04]\n",
      "  Bound  [1e+00, 1e+00]\n",
      "  RHS    [1e+00, 3e+03]\n",
      "Presolving model\n",
      "4230 rows, 2692 cols, 12684 nonzeros  0s\n",
      "2978 rows, 1968 cols, 11600 nonzeros  0s\n",
      "2058 rows, 1876 cols, 10504 nonzeros  0s\n",
      "1940 rows, 1790 cols, 9850 nonzeros  0s\n",
      "\n",
      "Solving MIP model with:\n",
      "   1940 rows\n",
      "   1790 cols (1214 binary, 0 integer, 0 implied int., 576 continuous)\n",
      "   9850 nonzeros\n",
      "\n",
      "        Nodes      |    B&B Tree     |            Objective Bounds              |  Dynamic Constraints |       Work      \n",
      "     Proc. InQueue |  Leaves   Expl. | BestBound       BestSol              Gap |   Cuts   InLp Confl. | LpIters     Time\n",
      "\n",
      "         0       0         0   0.00%   -20533.277579   inf                  inf        0      0      0         0     0.1s\n",
      "         0       0         0   0.00%   1444554.424268  inf                  inf        0      0      4       534     0.1s\n",
      " R       0       0         0   0.00%   1444590.003439  1444789.987051     0.01%      360     36     16       641     0.1s\n",
      "\n",
      "Solving report\n",
      "  Status            Optimal\n",
      "  Primal bound      1444789.98705\n",
      "  Dual bound        1444590.00344\n",
      "  Gap               0.0138% (tolerance: 1%)\n",
      "  Solution status   feasible\n",
      "                    1444789.98705 (objective)\n",
      "                    0 (bound viol.)\n",
      "                    0 (int. viol.)\n",
      "                    0 (row viol.)\n",
      "  Timing            0.14 (total)\n",
      "                    0.05 (presolve)\n",
      "                    0.00 (postsolve)\n",
      "  Nodes             1\n",
      "  LP iterations     641 (total)\n",
      "                    0 (strong br.)\n",
      "                    107 (separation)\n",
      "                    0 (heuristics)\n"
     ]
    },
    {
     "data": {
      "application/vnd.vegalite.v5+json": {
       "data": {
        "values": [
         {
          "gen_sum": 21.4,
          "hour": 0,
          "resource": "biomass"
         },
         {
          "gen_sum": 42,
          "hour": 0,
          "resource": "hydroelectric_pumped_storage"
         },
         {
          "gen_sum": 1105.3344679999998,
          "hour": 0,
          "resource": "natural_gas_fired_combined_cycle"
         },
         {
          "gen_sum": 279.7718,
          "hour": 0,
          "resource": "natural_gas_fired_combustion_turbine"
         },
         {
          "gen_sum": 163.3088,
          "hour": 0,
          "resource": "_onshore_wind_turbine"
         },
         {
          "gen_sum": 3.184932,
          "hour": 0,
          "resource": "_small_hydroelectric"
         },
         {
          "gen_sum": 0,
          "hour": 0,
          "resource": "_solar_photovoltaic"
         },
         {
          "gen_sum": 21.4,
          "hour": 1,
          "resource": "biomass"
         },
         {
          "gen_sum": 42,
          "hour": 1,
          "resource": "hydroelectric_pumped_storage"
         },
         {
          "gen_sum": 1036.8499879999997,
          "hour": 1,
          "resource": "natural_gas_fired_combined_cycle"
         },
         {
          "gen_sum": 279.7718,
          "hour": 1,
          "resource": "natural_gas_fired_combustion_turbine"
         },
         {
          "gen_sum": 169.79327999999998,
          "hour": 1,
          "resource": "_onshore_wind_turbine"
         },
         {
          "gen_sum": 3.184932,
          "hour": 1,
          "resource": "_small_hydroelectric"
         },
         {
          "gen_sum": 0,
          "hour": 1,
          "resource": "_solar_photovoltaic"
         },
         {
          "gen_sum": 21.4,
          "hour": 2,
          "resource": "biomass"
         },
         {
          "gen_sum": 42,
          "hour": 2,
          "resource": "hydroelectric_pumped_storage"
         },
         {
          "gen_sum": 1056.532868,
          "hour": 2,
          "resource": "natural_gas_fired_combined_cycle"
         },
         {
          "gen_sum": 279.7718,
          "hour": 2,
          "resource": "natural_gas_fired_combustion_turbine"
         },
         {
          "gen_sum": 115.1104,
          "hour": 2,
          "resource": "_onshore_wind_turbine"
         },
         {
          "gen_sum": 3.184932,
          "hour": 2,
          "resource": "_small_hydroelectric"
         },
         {
          "gen_sum": 0,
          "hour": 2,
          "resource": "_solar_photovoltaic"
         },
         {
          "gen_sum": 21.4,
          "hour": 3,
          "resource": "biomass"
         },
         {
          "gen_sum": 41.999999999999986,
          "hour": 3,
          "resource": "hydroelectric_pumped_storage"
         },
         {
          "gen_sum": 1115.0903079999996,
          "hour": 3,
          "resource": "natural_gas_fired_combined_cycle"
         },
         {
          "gen_sum": 279.7718,
          "hour": 3,
          "resource": "natural_gas_fired_combustion_turbine"
         },
         {
          "gen_sum": 100.55296,
          "hour": 3,
          "resource": "_onshore_wind_turbine"
         },
         {
          "gen_sum": 3.184932,
          "hour": 3,
          "resource": "_small_hydroelectric"
         },
         {
          "gen_sum": 0,
          "hour": 3,
          "resource": "_solar_photovoltaic"
         },
         {
          "gen_sum": 21.4,
          "hour": 4,
          "resource": "biomass"
         },
         {
          "gen_sum": 42,
          "hour": 4,
          "resource": "hydroelectric_pumped_storage"
         },
         {
          "gen_sum": 1306.065988,
          "hour": 4,
          "resource": "natural_gas_fired_combined_cycle"
         },
         {
          "gen_sum": 279.7718,
          "hour": 4,
          "resource": "natural_gas_fired_combustion_turbine"
         },
         {
          "gen_sum": 80.57728,
          "hour": 4,
          "resource": "_onshore_wind_turbine"
         },
         {
          "gen_sum": 3.184932,
          "hour": 4,
          "resource": "_small_hydroelectric"
         },
         {
          "gen_sum": 0,
          "hour": 4,
          "resource": "_solar_photovoltaic"
         },
         {
          "gen_sum": 21.4,
          "hour": 5,
          "resource": "biomass"
         },
         {
          "gen_sum": 42,
          "hour": 5,
          "resource": "hydroelectric_pumped_storage"
         },
         {
          "gen_sum": 1490.4663079999998,
          "hour": 5,
          "resource": "natural_gas_fired_combined_cycle"
         },
         {
          "gen_sum": 279.7718,
          "hour": 5,
          "resource": "natural_gas_fired_combustion_turbine"
         },
         {
          "gen_sum": 139.17695999999998,
          "hour": 5,
          "resource": "_onshore_wind_turbine"
         },
         {
          "gen_sum": 3.184932,
          "hour": 5,
          "resource": "_small_hydroelectric"
         },
         {
          "gen_sum": 0,
          "hour": 5,
          "resource": "_solar_photovoltaic"
         },
         {
          "gen_sum": 21.4,
          "hour": 6,
          "resource": "biomass"
         },
         {
          "gen_sum": 42,
          "hour": 6,
          "resource": "hydroelectric_pumped_storage"
         },
         {
          "gen_sum": 1853.4634280000002,
          "hour": 6,
          "resource": "natural_gas_fired_combined_cycle"
         },
         {
          "gen_sum": 279.7718,
          "hour": 6,
          "resource": "natural_gas_fired_combustion_turbine"
         },
         {
          "gen_sum": 74.17984,
          "hour": 6,
          "resource": "_onshore_wind_turbine"
         },
         {
          "gen_sum": 3.184932,
          "hour": 6,
          "resource": "_small_hydroelectric"
         },
         {
          "gen_sum": 0,
          "hour": 6,
          "resource": "_solar_photovoltaic"
         },
         {
          "gen_sum": 21.4,
          "hour": 7,
          "resource": "biomass"
         },
         {
          "gen_sum": 41.99999999999999,
          "hour": 7,
          "resource": "hydroelectric_pumped_storage"
         },
         {
          "gen_sum": 1928.5,
          "hour": 7,
          "resource": "natural_gas_fired_combined_cycle"
         },
         {
          "gen_sum": 552.5416279999996,
          "hour": 7,
          "resource": "natural_gas_fired_combustion_turbine"
         },
         {
          "gen_sum": 49.373439999999995,
          "hour": 7,
          "resource": "_onshore_wind_turbine"
         },
         {
          "gen_sum": 3.184932,
          "hour": 7,
          "resource": "_small_hydroelectric"
         },
         {
          "gen_sum": 0,
          "hour": 7,
          "resource": "_solar_photovoltaic"
         },
         {
          "gen_sum": 21.4,
          "hour": 8,
          "resource": "biomass"
         },
         {
          "gen_sum": 42,
          "hour": 8,
          "resource": "hydroelectric_pumped_storage"
         },
         {
          "gen_sum": 1928.5,
          "hour": 8,
          "resource": "natural_gas_fired_combined_cycle"
         },
         {
          "gen_sum": 675.5589080000009,
          "hour": 8,
          "resource": "natural_gas_fired_combustion_turbine"
         },
         {
          "gen_sum": 167.35616,
          "hour": 8,
          "resource": "_onshore_wind_turbine"
         },
         {
          "gen_sum": 3.184932,
          "hour": 8,
          "resource": "_small_hydroelectric"
         },
         {
          "gen_sum": 0,
          "hour": 8,
          "resource": "_solar_photovoltaic"
         },
         {
          "gen_sum": 21.4,
          "hour": 9,
          "resource": "biomass"
         },
         {
          "gen_sum": 42,
          "hour": 9,
          "resource": "hydroelectric_pumped_storage"
         },
         {
          "gen_sum": 1928.5,
          "hour": 9,
          "resource": "natural_gas_fired_combined_cycle"
         },
         {
          "gen_sum": 896.3541080000015,
          "hour": 9,
          "resource": "natural_gas_fired_combustion_turbine"
         },
         {
          "gen_sum": 131.56096,
          "hour": 9,
          "resource": "_onshore_wind_turbine"
         },
         {
          "gen_sum": 3.184932,
          "hour": 9,
          "resource": "_small_hydroelectric"
         },
         {
          "gen_sum": 0,
          "hour": 9,
          "resource": "_solar_photovoltaic"
         },
         {
          "gen_sum": 21.4,
          "hour": 10,
          "resource": "biomass"
         },
         {
          "gen_sum": 42,
          "hour": 10,
          "resource": "hydroelectric_pumped_storage"
         },
         {
          "gen_sum": 1928.5,
          "hour": 10,
          "resource": "natural_gas_fired_combined_cycle"
         },
         {
          "gen_sum": 1018.7214680000011,
          "hour": 10,
          "resource": "natural_gas_fired_combustion_turbine"
         },
         {
          "gen_sum": 111.1936,
          "hour": 10,
          "resource": "_onshore_wind_turbine"
         },
         {
          "gen_sum": 3.184932,
          "hour": 10,
          "resource": "_small_hydroelectric"
         },
         {
          "gen_sum": 0,
          "hour": 10,
          "resource": "_solar_photovoltaic"
         },
         {
          "gen_sum": 21.4,
          "hour": 11,
          "resource": "biomass"
         },
         {
          "gen_sum": 41.999999999999986,
          "hour": 11,
          "resource": "hydroelectric_pumped_storage"
         },
         {
          "gen_sum": 1928.5,
          "hour": 11,
          "resource": "natural_gas_fired_combined_cycle"
         },
         {
          "gen_sum": 875.8049880000007,
          "hour": 11,
          "resource": "natural_gas_fired_combustion_turbine"
         },
         {
          "gen_sum": 92.11008,
          "hour": 11,
          "resource": "_onshore_wind_turbine"
         },
         {
          "gen_sum": 3.184932,
          "hour": 11,
          "resource": "_small_hydroelectric"
         },
         {
          "gen_sum": 0,
          "hour": 11,
          "resource": "_solar_photovoltaic"
         },
         {
          "gen_sum": 21.4,
          "hour": 12,
          "resource": "biomass"
         },
         {
          "gen_sum": 42,
          "hour": 12,
          "resource": "hydroelectric_pumped_storage"
         },
         {
          "gen_sum": 1928.5,
          "hour": 12,
          "resource": "natural_gas_fired_combined_cycle"
         },
         {
          "gen_sum": 695.8216280000003,
          "hour": 12,
          "resource": "natural_gas_fired_combustion_turbine"
         },
         {
          "gen_sum": 52.09344,
          "hour": 12,
          "resource": "_onshore_wind_turbine"
         },
         {
          "gen_sum": 3.184932,
          "hour": 12,
          "resource": "_small_hydroelectric"
         },
         {
          "gen_sum": 0,
          "hour": 12,
          "resource": "_solar_photovoltaic"
         },
         {
          "gen_sum": 21.4,
          "hour": 13,
          "resource": "biomass"
         },
         {
          "gen_sum": 42,
          "hour": 13,
          "resource": "hydroelectric_pumped_storage"
         },
         {
          "gen_sum": 1928.5,
          "hour": 13,
          "resource": "natural_gas_fired_combined_cycle"
         },
         {
          "gen_sum": 606.2225880000005,
          "hour": 13,
          "resource": "natural_gas_fired_combustion_turbine"
         },
         {
          "gen_sum": 64.69248,
          "hour": 13,
          "resource": "_onshore_wind_turbine"
         },
         {
          "gen_sum": 3.184932,
          "hour": 13,
          "resource": "_small_hydroelectric"
         },
         {
          "gen_sum": 0,
          "hour": 13,
          "resource": "_solar_photovoltaic"
         },
         {
          "gen_sum": 21.4,
          "hour": 14,
          "resource": "biomass"
         },
         {
          "gen_sum": 42,
          "hour": 14,
          "resource": "hydroelectric_pumped_storage"
         },
         {
          "gen_sum": 1928.5,
          "hour": 14,
          "resource": "natural_gas_fired_combined_cycle"
         },
         {
          "gen_sum": 533.6939480000004,
          "hour": 14,
          "resource": "natural_gas_fired_combustion_turbine"
         },
         {
          "gen_sum": 49.22112,
          "hour": 14,
          "resource": "_onshore_wind_turbine"
         },
         {
          "gen_sum": 3.184932,
          "hour": 14,
          "resource": "_small_hydroelectric"
         },
         {
          "gen_sum": 0,
          "hour": 14,
          "resource": "_solar_photovoltaic"
         },
         {
          "gen_sum": 21.4,
          "hour": 15,
          "resource": "biomass"
         },
         {
          "gen_sum": 42,
          "hour": 15,
          "resource": "hydroelectric_pumped_storage"
         },
         {
          "gen_sum": 1928.5,
          "hour": 15,
          "resource": "natural_gas_fired_combined_cycle"
         },
         {
          "gen_sum": 421.50450799999993,
          "hour": 15,
          "resource": "natural_gas_fired_combustion_turbine"
         },
         {
          "gen_sum": 65.41055999999999,
          "hour": 15,
          "resource": "_onshore_wind_turbine"
         },
         {
          "gen_sum": 3.184932,
          "hour": 15,
          "resource": "_small_hydroelectric"
         },
         {
          "gen_sum": 0,
          "hour": 15,
          "resource": "_solar_photovoltaic"
         },
         {
          "gen_sum": 21.4,
          "hour": 16,
          "resource": "biomass"
         },
         {
          "gen_sum": 42,
          "hour": 16,
          "resource": "hydroelectric_pumped_storage"
         },
         {
          "gen_sum": 1928.5,
          "hour": 16,
          "resource": "natural_gas_fired_combined_cycle"
         },
         {
          "gen_sum": 369.7297880000004,
          "hour": 16,
          "resource": "natural_gas_fired_combustion_turbine"
         },
         {
          "gen_sum": 57.18527999999999,
          "hour": 16,
          "resource": "_onshore_wind_turbine"
         },
         {
          "gen_sum": 3.184932,
          "hour": 16,
          "resource": "_small_hydroelectric"
         },
         {
          "gen_sum": 0,
          "hour": 16,
          "resource": "_solar_photovoltaic"
         },
         {
          "gen_sum": 21.4,
          "hour": 17,
          "resource": "biomass"
         },
         {
          "gen_sum": 42,
          "hour": 17,
          "resource": "hydroelectric_pumped_storage"
         },
         {
          "gen_sum": 1928.5,
          "hour": 17,
          "resource": "natural_gas_fired_combined_cycle"
         },
         {
          "gen_sum": 300.2961880000005,
          "hour": 17,
          "resource": "natural_gas_fired_combustion_turbine"
         },
         {
          "gen_sum": 78.61888,
          "hour": 17,
          "resource": "_onshore_wind_turbine"
         },
         {
          "gen_sum": 3.184932,
          "hour": 17,
          "resource": "_small_hydroelectric"
         },
         {
          "gen_sum": 0,
          "hour": 17,
          "resource": "_solar_photovoltaic"
         },
         {
          "gen_sum": 21.4,
          "hour": 18,
          "resource": "biomass"
         },
         {
          "gen_sum": 42,
          "hour": 18,
          "resource": "hydroelectric_pumped_storage"
         },
         {
          "gen_sum": 1928.5,
          "hour": 18,
          "resource": "natural_gas_fired_combined_cycle"
         },
         {
          "gen_sum": 330.2993880000006,
          "hour": 18,
          "resource": "natural_gas_fired_combustion_turbine"
         },
         {
          "gen_sum": 52.61568,
          "hour": 18,
          "resource": "_onshore_wind_turbine"
         },
         {
          "gen_sum": 3.184932,
          "hour": 18,
          "resource": "_small_hydroelectric"
         },
         {
          "gen_sum": 0,
          "hour": 18,
          "resource": "_solar_photovoltaic"
         },
         {
          "gen_sum": 21.4,
          "hour": 19,
          "resource": "biomass"
         },
         {
          "gen_sum": 42.00000000000001,
          "hour": 19,
          "resource": "hydroelectric_pumped_storage"
         },
         {
          "gen_sum": 1928.5,
          "hour": 19,
          "resource": "natural_gas_fired_combined_cycle"
         },
         {
          "gen_sum": 444.4865879999997,
          "hour": 19,
          "resource": "natural_gas_fired_combustion_turbine"
         },
         {
          "gen_sum": 61.42848,
          "hour": 19,
          "resource": "_onshore_wind_turbine"
         },
         {
          "gen_sum": 3.184932,
          "hour": 19,
          "resource": "_small_hydroelectric"
         },
         {
          "gen_sum": 0,
          "hour": 19,
          "resource": "_solar_photovoltaic"
         },
         {
          "gen_sum": 21.4,
          "hour": 20,
          "resource": "biomass"
         },
         {
          "gen_sum": 42,
          "hour": 20,
          "resource": "hydroelectric_pumped_storage"
         },
         {
          "gen_sum": 1928.5,
          "hour": 20,
          "resource": "natural_gas_fired_combined_cycle"
         },
         {
          "gen_sum": 438.99826800000034,
          "hour": 20,
          "resource": "natural_gas_fired_combustion_turbine"
         },
         {
          "gen_sum": 71.9168,
          "hour": 20,
          "resource": "_onshore_wind_turbine"
         },
         {
          "gen_sum": 3.184932,
          "hour": 20,
          "resource": "_small_hydroelectric"
         },
         {
          "gen_sum": 0,
          "hour": 20,
          "resource": "_solar_photovoltaic"
         },
         {
          "gen_sum": 21.4,
          "hour": 21,
          "resource": "biomass"
         },
         {
          "gen_sum": 42,
          "hour": 21,
          "resource": "hydroelectric_pumped_storage"
         },
         {
          "gen_sum": 1928.5,
          "hour": 21,
          "resource": "natural_gas_fired_combined_cycle"
         },
         {
          "gen_sum": 166.86642800000033,
          "hour": 21,
          "resource": "natural_gas_fired_combustion_turbine"
         },
         {
          "gen_sum": 96.04864,
          "hour": 21,
          "resource": "_onshore_wind_turbine"
         },
         {
          "gen_sum": 3.184932,
          "hour": 21,
          "resource": "_small_hydroelectric"
         },
         {
          "gen_sum": 0,
          "hour": 21,
          "resource": "_solar_photovoltaic"
         },
         {
          "gen_sum": 21.4,
          "hour": 22,
          "resource": "biomass"
         },
         {
          "gen_sum": 42,
          "hour": 22,
          "resource": "hydroelectric_pumped_storage"
         },
         {
          "gen_sum": 1794.945948,
          "hour": 22,
          "resource": "natural_gas_fired_combined_cycle"
         },
         {
          "gen_sum": 0,
          "hour": 22,
          "resource": "natural_gas_fired_combustion_turbine"
         },
         {
          "gen_sum": 126.46912,
          "hour": 22,
          "resource": "_onshore_wind_turbine"
         },
         {
          "gen_sum": 3.184932,
          "hour": 22,
          "resource": "_small_hydroelectric"
         },
         {
          "gen_sum": 0,
          "hour": 22,
          "resource": "_solar_photovoltaic"
         },
         {
          "gen_sum": 21.4,
          "hour": 23,
          "resource": "biomass"
         },
         {
          "gen_sum": 42,
          "hour": 23,
          "resource": "hydroelectric_pumped_storage"
         },
         {
          "gen_sum": 1548.993948,
          "hour": 23,
          "resource": "natural_gas_fired_combined_cycle"
         },
         {
          "gen_sum": 0,
          "hour": 23,
          "resource": "natural_gas_fired_combustion_turbine"
         },
         {
          "gen_sum": 144.42111999999997,
          "hour": 23,
          "resource": "_onshore_wind_turbine"
         },
         {
          "gen_sum": 3.184932,
          "hour": 23,
          "resource": "_small_hydroelectric"
         },
         {
          "gen_sum": 0,
          "hour": 23,
          "resource": "_solar_photovoltaic"
         },
         {
          "gen_sum": 0,
          "hour": 0,
          "resource": "_solar_photovoltaic_btm"
         },
         {
          "gen_sum": 0,
          "hour": 1,
          "resource": "_solar_photovoltaic_btm"
         },
         {
          "gen_sum": 0,
          "hour": 2,
          "resource": "_solar_photovoltaic_btm"
         },
         {
          "gen_sum": 0,
          "hour": 3,
          "resource": "_solar_photovoltaic_btm"
         },
         {
          "gen_sum": 0,
          "hour": 4,
          "resource": "_solar_photovoltaic_btm"
         },
         {
          "gen_sum": 0,
          "hour": 5,
          "resource": "_solar_photovoltaic_btm"
         },
         {
          "gen_sum": 33.18,
          "hour": 6,
          "resource": "_solar_photovoltaic_btm"
         },
         {
          "gen_sum": 132.66,
          "hour": 7,
          "resource": "_solar_photovoltaic_btm"
         },
         {
          "gen_sum": 286.56,
          "hour": 8,
          "resource": "_solar_photovoltaic_btm"
         },
         {
          "gen_sum": 345.42,
          "hour": 9,
          "resource": "_solar_photovoltaic_btm"
         },
         {
          "gen_sum": 362.34,
          "hour": 10,
          "resource": "_solar_photovoltaic_btm"
         },
         {
          "gen_sum": 368.34,
          "hour": 11,
          "resource": "_solar_photovoltaic_btm"
         },
         {
          "gen_sum": 386.76,
          "hour": 12,
          "resource": "_solar_photovoltaic_btm"
         },
         {
          "gen_sum": 387.29999999999995,
          "hour": 13,
          "resource": "_solar_photovoltaic_btm"
         },
         {
          "gen_sum": 374.46,
          "hour": 14,
          "resource": "_solar_photovoltaic_btm"
         },
         {
          "gen_sum": 341.7,
          "hour": 15,
          "resource": "_solar_photovoltaic_btm"
         },
         {
          "gen_sum": 280.68,
          "hour": 16,
          "resource": "_solar_photovoltaic_btm"
         },
         {
          "gen_sum": 194.16,
          "hour": 17,
          "resource": "_solar_photovoltaic_btm"
         },
         {
          "gen_sum": 28.62,
          "hour": 18,
          "resource": "_solar_photovoltaic_btm"
         },
         {
          "gen_sum": 0,
          "hour": 19,
          "resource": "_solar_photovoltaic_btm"
         },
         {
          "gen_sum": 0,
          "hour": 20,
          "resource": "_solar_photovoltaic_btm"
         },
         {
          "gen_sum": 0,
          "hour": 21,
          "resource": "_solar_photovoltaic_btm"
         },
         {
          "gen_sum": 0,
          "hour": 22,
          "resource": "_solar_photovoltaic_btm"
         },
         {
          "gen_sum": 0,
          "hour": 23,
          "resource": "_solar_photovoltaic_btm"
         },
         {
          "gen_sum": 0,
          "hour": 0,
          "resource": "_curtailment"
         },
         {
          "gen_sum": 0,
          "hour": 1,
          "resource": "_curtailment"
         },
         {
          "gen_sum": 0,
          "hour": 2,
          "resource": "_curtailment"
         },
         {
          "gen_sum": 0,
          "hour": 3,
          "resource": "_curtailment"
         },
         {
          "gen_sum": 0,
          "hour": 4,
          "resource": "_curtailment"
         },
         {
          "gen_sum": 0,
          "hour": 5,
          "resource": "_curtailment"
         },
         {
          "gen_sum": 0,
          "hour": 6,
          "resource": "_curtailment"
         },
         {
          "gen_sum": 0,
          "hour": 7,
          "resource": "_curtailment"
         },
         {
          "gen_sum": 0,
          "hour": 8,
          "resource": "_curtailment"
         },
         {
          "gen_sum": 0,
          "hour": 9,
          "resource": "_curtailment"
         },
         {
          "gen_sum": 0,
          "hour": 10,
          "resource": "_curtailment"
         },
         {
          "gen_sum": 0,
          "hour": 11,
          "resource": "_curtailment"
         },
         {
          "gen_sum": 0,
          "hour": 12,
          "resource": "_curtailment"
         },
         {
          "gen_sum": 0,
          "hour": 13,
          "resource": "_curtailment"
         },
         {
          "gen_sum": 0,
          "hour": 14,
          "resource": "_curtailment"
         },
         {
          "gen_sum": 0,
          "hour": 15,
          "resource": "_curtailment"
         },
         {
          "gen_sum": 0,
          "hour": 16,
          "resource": "_curtailment"
         },
         {
          "gen_sum": 0,
          "hour": 17,
          "resource": "_curtailment"
         },
         {
          "gen_sum": 0,
          "hour": 18,
          "resource": "_curtailment"
         },
         {
          "gen_sum": 0,
          "hour": 19,
          "resource": "_curtailment"
         },
         {
          "gen_sum": 0,
          "hour": 20,
          "resource": "_curtailment"
         },
         {
          "gen_sum": 0,
          "hour": 21,
          "resource": "_curtailment"
         },
         {
          "gen_sum": 0,
          "hour": 22,
          "resource": "_curtailment"
         },
         {
          "gen_sum": 0,
          "hour": 23,
          "resource": "_curtailment"
         }
        ]
       },
       "encoding": {
        "color": {
         "field": "resource",
         "scale": {
          "scheme": "category10"
         },
         "type": "nominal"
        },
        "x": {
         "field": "hour",
         "type": "quantitative"
        },
        "y": {
         "field": "gen_sum",
         "stack": "zero",
         "type": "quantitative"
        }
       },
       "mark": "area"
      },
      "image/png": "[encoded data removed]",
      "image/svg+xml": [
       "<svg xmlns=\"http://www.w3.org/2000/svg\" xmlns:xlink=\"http://www.w3.org/1999/xlink\" version=\"1.1\" class=\"marks\" width=\"449\" height=\"247\" viewBox=\"0 0 449 247\"><rect width=\"449\" height=\"247\" fill=\"white\"/><g fill=\"none\" stroke-miterlimit=\"10\" transform=\"translate(52,10)\"><g class=\"mark-group role-frame root\" role=\"graphics-object\" aria-roledescription=\"group mark container\"><g transform=\"translate(0,0)\"><path class=\"background\" aria-hidden=\"true\" d=\"M0.5,0.5h200v200h-200Z\" stroke=\"#ddd\"/><g><g class=\"mark-group role-axis\" aria-hidden=\"true\"><g transform=\"translate(0.5,200.5)\"><path class=\"background\" aria-hidden=\"true\" d=\"M0,0h0v0h0Z\" pointer-events=\"none\"/><g><g class=\"mark-rule role-axis-grid\" pointer-events=\"none\"><line transform=\"translate(0,-200)\" x2=\"0\" y2=\"200\" stroke=\"#ddd\" stroke-width=\"1\" opacity=\"1\"/><line transform=\"translate(42,-200)\" x2=\"0\" y2=\"200\" stroke=\"#ddd\" stroke-width=\"1\" opacity=\"1\"/><line transform=\"translate(83,-200)\" x2=\"0\" y2=\"200\" stroke=\"#ddd\" stroke-width=\"1\" opacity=\"1\"/><line transform=\"translate(125,-200)\" x2=\"0\" y2=\"200\" stroke=\"#ddd\" stroke-width=\"1\" opacity=\"1\"/><line transform=\"translate(167,-200)\" x2=\"0\" y2=\"200\" stroke=\"#ddd\" stroke-width=\"1\" opacity=\"1\"/></g></g><path class=\"foreground\" aria-hidden=\"true\" d=\"\" pointer-events=\"none\" display=\"none\"/></g></g><g class=\"mark-group role-axis\" aria-hidden=\"true\"><g transform=\"translate(0.5,0.5)\"><path class=\"background\" aria-hidden=\"true\" d=\"M0,0h0v0h0Z\" pointer-events=\"none\"/><g><g class=\"mark-rule role-axis-grid\" pointer-events=\"none\"><line transform=\"translate(0,200)\" x2=\"200\" y2=\"0\" stroke=\"#ddd\" stroke-width=\"1\" opacity=\"1\"/><line transform=\"translate(0,171)\" x2=\"200\" y2=\"0\" stroke=\"#ddd\" stroke-width=\"1\" opacity=\"1\"/><line transform=\"translate(0,143)\" x2=\"200\" y2=\"0\" stroke=\"#ddd\" stroke-width=\"1\" opacity=\"1\"/><line transform=\"translate(0,114)\" x2=\"200\" y2=\"0\" stroke=\"#ddd\" stroke-width=\"1\" opacity=\"1\"/><line transform=\"translate(0,86)\" x2=\"200\" y2=\"0\" stroke=\"#ddd\" stroke-width=\"1\" opacity=\"1\"/><line transform=\"translate(0,57)\" x2=\"200\" y2=\"0\" stroke=\"#ddd\" stroke-width=\"1\" opacity=\"1\"/><line transform=\"translate(0,29)\" x2=\"200\" y2=\"0\" stroke=\"#ddd\" stroke-width=\"1\" opacity=\"1\"/><line transform=\"translate(0,0)\" x2=\"200\" y2=\"0\" stroke=\"#ddd\" stroke-width=\"1\" opacity=\"1\"/></g></g><path class=\"foreground\" aria-hidden=\"true\" d=\"\" pointer-events=\"none\" display=\"none\"/></g></g><g class=\"mark-group role-axis\" role=\"graphics-symbol\" aria-roledescription=\"axis\" aria-label=\"X-axis titled 'hour' for a linear scale with values from 0 to 24\"><g transform=\"translate(0.5,200.5)\"><path class=\"background\" aria-hidden=\"true\" d=\"M0,0h0v0h0Z\" pointer-events=\"none\"/><g><g class=\"mark-rule role-axis-tick\" pointer-events=\"none\"><line transform=\"translate(0,0)\" x2=\"0\" y2=\"5\" stroke=\"#888\" stroke-width=\"1\" opacity=\"1\"/><line transform=\"translate(42,0)\" x2=\"0\" y2=\"5\" stroke=\"#888\" stroke-width=\"1\" opacity=\"1\"/><line transform=\"translate(83,0)\" x2=\"0\" y2=\"5\" stroke=\"#888\" stroke-width=\"1\" opacity=\"1\"/><line transform=\"translate(125,0)\" x2=\"0\" y2=\"5\" stroke=\"#888\" stroke-width=\"1\" opacity=\"1\"/><line transform=\"translate(167,0)\" x2=\"0\" y2=\"5\" stroke=\"#888\" stroke-width=\"1\" opacity=\"1\"/></g><g class=\"mark-text role-axis-label\" pointer-events=\"none\"><text text-anchor=\"start\" transform=\"translate(0,15)\" font-family=\"sans-serif\" font-size=\"10px\" fill=\"#000\" opacity=\"1\">0</text><text text-anchor=\"middle\" transform=\"translate(41.66666666666667,15)\" font-family=\"sans-serif\" font-size=\"10px\" fill=\"#000\" opacity=\"1\">5</text><text text-anchor=\"middle\" transform=\"translate(83.33333333333334,15)\" font-family=\"sans-serif\" font-size=\"10px\" fill=\"#000\" opacity=\"1\">10</text><text text-anchor=\"middle\" transform=\"translate(125,15)\" font-family=\"sans-serif\" font-size=\"10px\" fill=\"#000\" opacity=\"1\">15</text><text text-anchor=\"middle\" transform=\"translate(166.66666666666669,15)\" font-family=\"sans-serif\" font-size=\"10px\" fill=\"#000\" opacity=\"1\">20</text></g><g class=\"mark-rule role-axis-domain\" pointer-events=\"none\"><line transform=\"translate(0,0)\" x2=\"200\" y2=\"0\" stroke=\"#888\" stroke-width=\"1\" opacity=\"1\"/></g><g class=\"mark-text role-axis-title\" pointer-events=\"none\"><text text-anchor=\"middle\" transform=\"translate(100,30)\" font-family=\"sans-serif\" font-size=\"11px\" font-weight=\"bold\" fill=\"#000\" opacity=\"1\">hour</text></g></g><path class=\"foreground\" aria-hidden=\"true\" d=\"\" pointer-events=\"none\" display=\"none\"/></g></g><g class=\"mark-group role-axis\" role=\"graphics-symbol\" aria-roledescription=\"axis\" aria-label=\"Y-axis titled 'gen_sum' for a linear scale with values from 0 to 3,500\"><g transform=\"translate(0.5,0.5)\"><path class=\"background\" aria-hidden=\"true\" d=\"M0,0h0v0h0Z\" pointer-events=\"none\"/><g><g class=\"mark-rule role-axis-tick\" pointer-events=\"none\"><line transform=\"translate(0,200)\" x2=\"-5\" y2=\"0\" stroke=\"#888\" stroke-width=\"1\" opacity=\"1\"/><line transform=\"translate(0,171)\" x2=\"-5\" y2=\"0\" stroke=\"#888\" stroke-width=\"1\" opacity=\"1\"/><line transform=\"translate(0,143)\" x2=\"-5\" y2=\"0\" stroke=\"#888\" stroke-width=\"1\" opacity=\"1\"/><line transform=\"translate(0,114)\" x2=\"-5\" y2=\"0\" stroke=\"#888\" stroke-width=\"1\" opacity=\"1\"/><line transform=\"translate(0,86)\" x2=\"-5\" y2=\"0\" stroke=\"#888\" stroke-width=\"1\" opacity=\"1\"/><line transform=\"translate(0,57)\" x2=\"-5\" y2=\"0\" stroke=\"#888\" stroke-width=\"1\" opacity=\"1\"/><line transform=\"translate(0,29)\" x2=\"-5\" y2=\"0\" stroke=\"#888\" stroke-width=\"1\" opacity=\"1\"/><line transform=\"translate(0,0)\" x2=\"-5\" y2=\"0\" stroke=\"#888\" stroke-width=\"1\" opacity=\"1\"/></g><g class=\"mark-text role-axis-label\" pointer-events=\"none\"><text text-anchor=\"end\" transform=\"translate(-7,203)\" font-family=\"sans-serif\" font-size=\"10px\" fill=\"#000\" opacity=\"1\">0</text><text text-anchor=\"end\" transform=\"translate(-7,174.42857142857144)\" font-family=\"sans-serif\" font-size=\"10px\" fill=\"#000\" opacity=\"1\">500</text><text text-anchor=\"end\" transform=\"translate(-7,145.85714285714286)\" font-family=\"sans-serif\" font-size=\"10px\" fill=\"#000\" opacity=\"1\">1,000</text><text text-anchor=\"end\" transform=\"translate(-7,117.28571428571428)\" font-family=\"sans-serif\" font-size=\"10px\" fill=\"#000\" opacity=\"1\">1,500</text><text text-anchor=\"end\" transform=\"translate(-7,88.71428571428572)\" font-family=\"sans-serif\" font-size=\"10px\" fill=\"#000\" opacity=\"1\">2,000</text><text text-anchor=\"end\" transform=\"translate(-7,60.14285714285714)\" font-family=\"sans-serif\" font-size=\"10px\" fill=\"#000\" opacity=\"1\">2,500</text><text text-anchor=\"end\" transform=\"translate(-7,31.57142857142858)\" font-family=\"sans-serif\" font-size=\"10px\" fill=\"#000\" opacity=\"1\">3,000</text><text text-anchor=\"end\" transform=\"translate(-7,3)\" font-family=\"sans-serif\" font-size=\"10px\" fill=\"#000\" opacity=\"1\">3,500</text></g><g class=\"mark-rule role-axis-domain\" pointer-events=\"none\"><line transform=\"translate(0,200)\" x2=\"0\" y2=\"-200\" stroke=\"#888\" stroke-width=\"1\" opacity=\"1\"/></g><g class=\"mark-text role-axis-title\" pointer-events=\"none\"><text text-anchor=\"middle\" transform=\"translate(-35.86328125,100) rotate(-90) translate(0,-2)\" font-family=\"sans-serif\" font-size=\"11px\" font-weight=\"bold\" fill=\"#000\" opacity=\"1\">gen_sum</text></g></g><path class=\"foreground\" aria-hidden=\"true\" d=\"\" pointer-events=\"none\" display=\"none\"/></g></g><g class=\"mark-group role-scope pathgroup\" role=\"graphics-object\" aria-roledescription=\"group mark container\"><g transform=\"translate(0,0)\"><path class=\"background\" aria-hidden=\"true\" d=\"M0,0h200v200h-200Z\"/><g><g class=\"mark-area role-mark marks\" role=\"graphics-object\" aria-roledescription=\"area mark container\"><path aria-label=\"hour: 0; gen_sum: 21.4; resource: biomass\" role=\"graphics-symbol\" aria-roledescription=\"area mark\" d=\"M0,117.228L8.333,121.142L16.667,120.017L25,116.671L33.333,105.758L41.667,95.221L50,74.478L58.333,54.603L66.667,47.574L75,34.957L83.333,27.964L91.667,36.131L100,46.416L108.333,51.536L116.667,55.68L125,62.091L133.333,65.05L141.667,69.017L150,67.303L158.333,60.778L166.667,61.092L175,76.642L183.333,93.809L191.667,107.863L191.667,109.086L183.333,95.032L175,77.865L166.667,62.314L158.333,62.001L150,68.526L141.667,70.24L133.333,66.273L125,63.314L116.667,56.903L108.333,52.759L100,47.639L91.667,37.354L83.333,29.187L75,36.18L66.667,48.797L58.333,55.826L50,75.701L41.667,96.444L33.333,106.981L25,117.894L16.667,121.24L8.333,122.364L0,118.451Z\" fill=\"#8c564b\"/></g></g><path class=\"foreground\" aria-hidden=\"true\" d=\"\" display=\"none\"/></g><g transform=\"translate(0,0)\"><path class=\"background\" aria-hidden=\"true\" d=\"M0,0h200v200h-200Z\"/><g><g class=\"mark-area role-mark marks\" role=\"graphics-object\" aria-roledescription=\"area mark container\"><path aria-label=\"hour: 0; gen_sum: 42; resource: hydroelectric_pumped_storage\" role=\"graphics-symbol\" aria-roledescription=\"area mark\" d=\"M0,118.451L8.333,122.364L16.667,121.24L25,117.894L33.333,106.981L41.667,96.444L50,75.701L58.333,55.826L66.667,48.797L75,36.18L83.333,29.187L91.667,37.354L100,47.639L108.333,52.759L116.667,56.903L125,63.314L133.333,66.273L141.667,70.24L150,68.526L158.333,62.001L166.667,62.314L175,77.865L183.333,95.032L191.667,109.086L191.667,111.486L183.333,97.432L175,80.265L166.667,64.714L158.333,64.401L150,70.926L141.667,72.64L133.333,68.673L125,65.714L116.667,59.303L108.333,55.159L100,50.039L91.667,39.754L83.333,31.587L75,38.58L66.667,51.197L58.333,58.226L50,78.101L41.667,98.844L33.333,109.381L25,120.294L16.667,123.64L8.333,124.764L0,120.851Z\" fill=\"#e377c2\"/></g></g><path class=\"foreground\" aria-hidden=\"true\" d=\"\" display=\"none\"/></g><g transform=\"translate(0,0)\"><path class=\"background\" aria-hidden=\"true\" d=\"M0,0h200v200h-200Z\"/><g><g class=\"mark-area role-mark marks\" role=\"graphics-object\" aria-roledescription=\"area mark container\"><path aria-label=\"hour: 0; gen_sum: 1105.334468; resource: natural_gas_fired_combined_cycle\" role=\"graphics-symbol\" aria-roledescription=\"area mark\" d=\"M0,120.851L8.333,124.764L16.667,123.64L25,120.294L33.333,109.381L41.667,98.844L50,78.101L58.333,58.226L66.667,51.197L75,38.58L83.333,31.587L91.667,39.754L100,50.039L108.333,55.159L116.667,59.303L125,65.714L133.333,68.673L141.667,72.64L150,70.926L158.333,64.401L166.667,64.714L175,80.265L183.333,97.432L191.667,111.486L191.667,200L183.333,200L175,190.465L166.667,174.914L158.333,174.601L150,181.126L141.667,182.84L133.333,178.873L125,175.914L116.667,169.503L108.333,165.359L100,160.239L91.667,149.954L83.333,141.787L75,148.78L66.667,161.397L58.333,168.426L50,184.013L41.667,184.013L33.333,184.013L25,184.013L16.667,184.013L8.333,184.013L0,184.013Z\" fill=\"#7f7f7f\"/></g></g><path class=\"foreground\" aria-hidden=\"true\" d=\"\" display=\"none\"/></g><g transform=\"translate(0,0)\"><path class=\"background\" aria-hidden=\"true\" d=\"M0,0h200v200h-200Z\"/><g><g class=\"mark-area role-mark marks\" role=\"graphics-object\" aria-roledescription=\"area mark container\"><path aria-label=\"hour: 0; gen_sum: 279.7718; resource: natural_gas_fired_combustion_turbine\" role=\"graphics-symbol\" aria-roledescription=\"area mark\" d=\"M0,184.013L8.333,184.013L16.667,184.013L25,184.013L33.333,184.013L41.667,184.013L50,184.013L58.333,168.426L66.667,161.397L75,148.78L83.333,141.787L91.667,149.954L100,160.239L108.333,165.359L116.667,169.503L125,175.914L133.333,178.873L141.667,182.84L150,181.126L158.333,174.601L166.667,174.914L175,190.465L183.333,200L191.667,200L191.667,200L183.333,200L175,200L166.667,200L158.333,200L150,200L141.667,200L133.333,200L125,200L116.667,200L108.333,200L100,200L91.667,200L83.333,200L75,200L66.667,200L58.333,200L50,200L41.667,200L33.333,200L25,200L16.667,200L8.333,200L0,200Z\" fill=\"#bcbd22\"/></g></g><path class=\"foreground\" aria-hidden=\"true\" d=\"\" display=\"none\"/></g><g transform=\"translate(0,0)\"><path class=\"background\" aria-hidden=\"true\" d=\"M0,0h200v200h-200Z\"/><g><g class=\"mark-area role-mark marks\" role=\"graphics-object\" aria-roledescription=\"area mark container\"><path aria-label=\"hour: 0; gen_sum: 163.3088; resource: _onshore_wind_turbine\" role=\"graphics-symbol\" aria-roledescription=\"area mark\" d=\"M0,107.714L8.333,111.257L16.667,113.257L25,110.743L33.333,100.971L41.667,87.086L50,68.161L58.333,44.019L66.667,21.454L75,7.519L83.333,0.723L91.667,9.638L100,21.157L108.333,25.526L116.667,31.288L125,38.646L133.333,45.561L141.667,53.248L150,62.479L158.333,57.086L166.667,56.8L175,70.971L183.333,86.4L191.667,99.429L191.667,107.681L183.333,93.627L175,76.46L166.667,60.91L158.333,60.596L150,65.485L141.667,57.741L133.333,48.829L125,42.383L116.667,34.101L108.333,29.222L100,24.133L91.667,14.901L83.333,7.077L75,15.037L66.667,31.017L58.333,46.841L50,72.4L41.667,95.039L33.333,105.576L25,116.489L16.667,119.835L8.333,120.96L0,117.046Z\" fill=\"#ff7f0e\"/></g></g><path class=\"foreground\" aria-hidden=\"true\" d=\"\" display=\"none\"/></g><g transform=\"translate(0,0)\"><path class=\"background\" aria-hidden=\"true\" d=\"M0,0h200v200h-200Z\"/><g><g class=\"mark-area role-mark marks\" role=\"graphics-object\" aria-roledescription=\"area mark container\"><path aria-label=\"hour: 0; gen_sum: 3.184932; resource: _small_hydroelectric\" role=\"graphics-symbol\" aria-roledescription=\"area mark\" d=\"M0,117.046L8.333,120.96L16.667,119.835L25,116.489L33.333,105.576L41.667,95.039L50,72.4L58.333,46.841L66.667,31.017L75,15.037L83.333,7.077L91.667,14.901L100,24.133L108.333,29.222L116.667,34.101L125,42.383L133.333,48.829L141.667,57.741L150,65.485L158.333,60.596L166.667,60.91L175,76.46L183.333,93.627L191.667,107.681L191.667,107.863L183.333,93.809L175,76.642L166.667,61.092L158.333,60.778L150,65.667L141.667,57.923L133.333,49.011L125,42.565L116.667,34.283L108.333,29.404L100,24.315L91.667,15.083L83.333,7.259L75,15.219L66.667,31.199L58.333,47.023L50,72.582L41.667,95.221L33.333,105.758L25,116.671L16.667,120.017L8.333,121.142L0,117.228Z\" fill=\"#2ca02c\"/></g></g><path class=\"foreground\" aria-hidden=\"true\" d=\"\" display=\"none\"/></g><g transform=\"translate(0,0)\"><path class=\"background\" aria-hidden=\"true\" d=\"M0,0h200v200h-200Z\"/><g><g class=\"mark-area role-mark marks\" role=\"graphics-object\" aria-roledescription=\"area mark container\"><path aria-label=\"hour: 0; gen_sum: 0; resource: _solar_photovoltaic\" role=\"graphics-symbol\" aria-roledescription=\"area mark\" d=\"M0,117.228L8.333,121.142L16.667,120.017L25,116.671L33.333,105.758L41.667,95.221L50,72.582L58.333,47.023L66.667,31.199L75,15.219L83.333,7.259L91.667,15.083L100,24.315L108.333,29.404L116.667,34.283L125,42.565L133.333,49.011L141.667,57.923L150,65.667L158.333,60.778L166.667,61.092L175,76.642L183.333,93.809L191.667,107.863L191.667,107.863L183.333,93.809L175,76.642L166.667,61.092L158.333,60.778L150,65.667L141.667,57.923L133.333,49.011L125,42.565L116.667,34.283L108.333,29.404L100,24.315L91.667,15.083L83.333,7.259L75,15.219L66.667,31.199L58.333,47.023L50,72.582L41.667,95.221L33.333,105.758L25,116.671L16.667,120.017L8.333,121.142L0,117.228Z\" fill=\"#d62728\"/></g></g><path class=\"foreground\" aria-hidden=\"true\" d=\"\" display=\"none\"/></g><g transform=\"translate(0,0)\"><path class=\"background\" aria-hidden=\"true\" d=\"M0,0h200v200h-200Z\"/><g><g class=\"mark-area role-mark marks\" role=\"graphics-object\" aria-roledescription=\"area mark container\"><path aria-label=\"hour: 0; gen_sum: 0; resource: _solar_photovoltaic_btm\" role=\"graphics-symbol\" aria-roledescription=\"area mark\" d=\"M0,117.228L8.333,121.142L16.667,120.017L25,116.671L33.333,105.758L41.667,95.221L50,72.582L58.333,47.023L66.667,31.199L75,15.219L83.333,7.259L91.667,15.083L100,24.315L108.333,29.404L116.667,34.283L125,42.565L133.333,49.011L141.667,57.923L150,65.667L158.333,60.778L166.667,61.092L175,76.642L183.333,93.809L191.667,107.863L191.667,107.863L183.333,93.809L175,76.642L166.667,61.092L158.333,60.778L150,67.303L141.667,69.017L133.333,65.05L125,62.091L116.667,55.68L108.333,51.536L100,46.416L91.667,36.131L83.333,27.964L75,34.957L66.667,47.574L58.333,54.603L50,74.478L41.667,95.221L33.333,105.758L25,116.671L16.667,120.017L8.333,121.142L0,117.228Z\" fill=\"#9467bd\"/></g></g><path class=\"foreground\" aria-hidden=\"true\" d=\"\" display=\"none\"/></g><g transform=\"translate(0,0)\"><path class=\"background\" aria-hidden=\"true\" d=\"M0,0h200v200h-200Z\"/><g><g class=\"mark-area role-mark marks\" role=\"graphics-object\" aria-roledescription=\"area mark container\"><path aria-label=\"hour: 0; gen_sum: 0; resource: _curtailment\" role=\"graphics-symbol\" aria-roledescription=\"area mark\" d=\"M0,107.714L8.333,111.257L16.667,113.257L25,110.743L33.333,100.971L41.667,87.086L50,68.161L58.333,44.019L66.667,21.454L75,7.519L83.333,0.723L91.667,9.638L100,21.157L108.333,25.526L116.667,31.288L125,38.646L133.333,45.561L141.667,53.248L150,62.479L158.333,57.086L166.667,56.8L175,70.971L183.333,86.4L191.667,99.429L191.667,99.429L183.333,86.4L175,70.971L166.667,56.8L158.333,57.086L150,62.479L141.667,53.248L133.333,45.561L125,38.646L116.667,31.288L108.333,25.526L100,21.157L91.667,9.638L83.333,0.723L75,7.519L66.667,21.454L58.333,44.019L50,68.161L41.667,87.086L33.333,100.971L25,110.743L16.667,113.257L8.333,111.257L0,107.714Z\" fill=\"#1f77b4\"/></g></g><path class=\"foreground\" aria-hidden=\"true\" d=\"\" display=\"none\"/></g></g><g class=\"mark-group role-legend\" role=\"graphics-symbol\" aria-roledescription=\"legend\" aria-label=\"Symbol legend titled 'resource' for fill color with 9 values: _curtailment, _onshore_wind_turbine, _small_hydroelectric, _solar_photovoltaic, _solar_photovoltaic_btm, ending with natural_gas_fired_combustion_turbine\"><g transform=\"translate(218,0)\"><path class=\"background\" aria-hidden=\"true\" d=\"M0,0h174v131h-174Z\" pointer-events=\"none\"/><g><g class=\"mark-group role-legend-entry\"><g transform=\"translate(0,16)\"><path class=\"background\" aria-hidden=\"true\" d=\"M0,0h0v0h0Z\" pointer-events=\"none\"/><g><g class=\"mark-group role-scope\" role=\"graphics-object\" aria-roledescription=\"group mark container\"><g transform=\"translate(0,0)\"><path class=\"background\" aria-hidden=\"true\" d=\"M0,0h173.59765625v11h-173.59765625Z\" pointer-events=\"none\" opacity=\"1\"/><g><g class=\"mark-symbol role-legend-symbol\" pointer-events=\"none\"><path transform=\"translate(6,6)\" d=\"M5,0A5,5,0,1,1,-5,0A5,5,0,1,1,5,0\" fill=\"#1f77b4\" stroke-width=\"1.5\" opacity=\"1\"/></g><g class=\"mark-text role-legend-label\" pointer-events=\"none\"><text text-anchor=\"start\" transform=\"translate(16,9)\" font-family=\"sans-serif\" font-size=\"10px\" fill=\"#000\" opacity=\"1\">_curtailment</text></g></g><path class=\"foreground\" aria-hidden=\"true\" d=\"\" pointer-events=\"none\" display=\"none\"/></g><g transform=\"translate(0,13)\"><path class=\"background\" aria-hidden=\"true\" d=\"M0,0h173.59765625v11h-173.59765625Z\" pointer-events=\"none\" opacity=\"1\"/><g><g class=\"mark-symbol role-legend-symbol\" pointer-events=\"none\"><path transform=\"translate(6,6)\" d=\"M5,0A5,5,0,1,1,-5,0A5,5,0,1,1,5,0\" fill=\"#ff7f0e\" stroke-width=\"1.5\" opacity=\"1\"/></g><g class=\"mark-text role-legend-label\" pointer-events=\"none\"><text text-anchor=\"start\" transform=\"translate(16,9)\" font-family=\"sans-serif\" font-size=\"10px\" fill=\"#000\" opacity=\"1\">_onshore_wind_turbine</text></g></g><path class=\"foreground\" aria-hidden=\"true\" d=\"\" pointer-events=\"none\" display=\"none\"/></g><g transform=\"translate(0,26)\"><path class=\"background\" aria-hidden=\"true\" d=\"M0,0h173.59765625v11h-173.59765625Z\" pointer-events=\"none\" opacity=\"1\"/><g><g class=\"mark-symbol role-legend-symbol\" pointer-events=\"none\"><path transform=\"translate(6,6)\" d=\"M5,0A5,5,0,1,1,-5,0A5,5,0,1,1,5,0\" fill=\"#2ca02c\" stroke-width=\"1.5\" opacity=\"1\"/></g><g class=\"mark-text role-legend-label\" pointer-events=\"none\"><text text-anchor=\"start\" transform=\"translate(16,9)\" font-family=\"sans-serif\" font-size=\"10px\" fill=\"#000\" opacity=\"1\">_small_hydroelectric</text></g></g><path class=\"foreground\" aria-hidden=\"true\" d=\"\" pointer-events=\"none\" display=\"none\"/></g><g transform=\"translate(0,39)\"><path class=\"background\" aria-hidden=\"true\" d=\"M0,0h173.59765625v11h-173.59765625Z\" pointer-events=\"none\" opacity=\"1\"/><g><g class=\"mark-symbol role-legend-symbol\" pointer-events=\"none\"><path transform=\"translate(6,6)\" d=\"M5,0A5,5,0,1,1,-5,0A5,5,0,1,1,5,0\" fill=\"#d62728\" stroke-width=\"1.5\" opacity=\"1\"/></g><g class=\"mark-text role-legend-label\" pointer-events=\"none\"><text text-anchor=\"start\" transform=\"translate(16,9)\" font-family=\"sans-serif\" font-size=\"10px\" fill=\"#000\" opacity=\"1\">_solar_photovoltaic</text></g></g><path class=\"foreground\" aria-hidden=\"true\" d=\"\" pointer-events=\"none\" display=\"none\"/></g><g transform=\"translate(0,52)\"><path class=\"background\" aria-hidden=\"true\" d=\"M0,0h173.59765625v11h-173.59765625Z\" pointer-events=\"none\" opacity=\"1\"/><g><g class=\"mark-symbol role-legend-symbol\" pointer-events=\"none\"><path transform=\"translate(6,6)\" d=\"M5,0A5,5,0,1,1,-5,0A5,5,0,1,1,5,0\" fill=\"#9467bd\" stroke-width=\"1.5\" opacity=\"1\"/></g><g class=\"mark-text role-legend-label\" pointer-events=\"none\"><text text-anchor=\"start\" transform=\"translate(16,9)\" font-family=\"sans-serif\" font-size=\"10px\" fill=\"#000\" opacity=\"1\">_solar_photovoltaic_btm</text></g></g><path class=\"foreground\" aria-hidden=\"true\" d=\"\" pointer-events=\"none\" display=\"none\"/></g><g transform=\"translate(0,65)\"><path class=\"background\" aria-hidden=\"true\" d=\"M0,0h173.59765625v11h-173.59765625Z\" pointer-events=\"none\" opacity=\"1\"/><g><g class=\"mark-symbol role-legend-symbol\" pointer-events=\"none\"><path transform=\"translate(6,6)\" d=\"M5,0A5,5,0,1,1,-5,0A5,5,0,1,1,5,0\" fill=\"#8c564b\" stroke-width=\"1.5\" opacity=\"1\"/></g><g class=\"mark-text role-legend-label\" pointer-events=\"none\"><text text-anchor=\"start\" transform=\"translate(16,9)\" font-family=\"sans-serif\" font-size=\"10px\" fill=\"#000\" opacity=\"1\">biomass</text></g></g><path class=\"foreground\" aria-hidden=\"true\" d=\"\" pointer-events=\"none\" display=\"none\"/></g><g transform=\"translate(0,78)\"><path class=\"background\" aria-hidden=\"true\" d=\"M0,0h173.59765625v11h-173.59765625Z\" pointer-events=\"none\" opacity=\"1\"/><g><g class=\"mark-symbol role-legend-symbol\" pointer-events=\"none\"><path transform=\"translate(6,6)\" d=\"M5,0A5,5,0,1,1,-5,0A5,5,0,1,1,5,0\" fill=\"#e377c2\" stroke-width=\"1.5\" opacity=\"1\"/></g><g class=\"mark-text role-legend-label\" pointer-events=\"none\"><text text-anchor=\"start\" transform=\"translate(16,9)\" font-family=\"sans-serif\" font-size=\"10px\" fill=\"#000\" opacity=\"1\">hydroelectric_pumped_storage</text></g></g><path class=\"foreground\" aria-hidden=\"true\" d=\"\" pointer-events=\"none\" display=\"none\"/></g><g transform=\"translate(0,91)\"><path class=\"background\" aria-hidden=\"true\" d=\"M0,0h173.59765625v11h-173.59765625Z\" pointer-events=\"none\" opacity=\"1\"/><g><g class=\"mark-symbol role-legend-symbol\" pointer-events=\"none\"><path transform=\"translate(6,6)\" d=\"M5,0A5,5,0,1,1,-5,0A5,5,0,1,1,5,0\" fill=\"#7f7f7f\" stroke-width=\"1.5\" opacity=\"1\"/></g><g class=\"mark-text role-legend-label\" pointer-events=\"none\"><text text-anchor=\"start\" transform=\"translate(16,9)\" font-family=\"sans-serif\" font-size=\"10px\" fill=\"#000\" opacity=\"1\">natural_gas_fired_combined_cycle</text></g></g><path class=\"foreground\" aria-hidden=\"true\" d=\"\" pointer-events=\"none\" display=\"none\"/></g><g transform=\"translate(0,104)\"><path class=\"background\" aria-hidden=\"true\" d=\"M0,0h173.59765625v11h-173.59765625Z\" pointer-events=\"none\" opacity=\"1\"/><g><g class=\"mark-symbol role-legend-symbol\" pointer-events=\"none\"><path transform=\"translate(6,6)\" d=\"M5,0A5,5,0,1,1,-5,0A5,5,0,1,1,5,0\" fill=\"#bcbd22\" stroke-width=\"1.5\" opacity=\"1\"/></g><g class=\"mark-text role-legend-label\" pointer-events=\"none\"><text text-anchor=\"start\" transform=\"translate(16,9)\" font-family=\"sans-serif\" font-size=\"10px\" fill=\"#000\" opacity=\"1\">natural_gas_fired_combustion_tur…</text></g></g><path class=\"foreground\" aria-hidden=\"true\" d=\"\" pointer-events=\"none\" display=\"none\"/></g></g></g><path class=\"foreground\" aria-hidden=\"true\" d=\"\" pointer-events=\"none\" display=\"none\"/></g></g><g class=\"mark-text role-legend-title\" pointer-events=\"none\"><text text-anchor=\"start\" transform=\"translate(0,9)\" font-family=\"sans-serif\" font-size=\"11px\" font-weight=\"bold\" fill=\"#000\" opacity=\"1\">resource</text></g></g><path class=\"foreground\" aria-hidden=\"true\" d=\"\" pointer-events=\"none\" display=\"none\"/></g></g></g><path class=\"foreground\" aria-hidden=\"true\" d=\"\" display=\"none\"/></g></g></g></svg>"
      ],
      "text/plain": [
       "@vlplot(\n",
       "    mark=\"area\",\n",
       "    encoding={\n",
       "        x={\n",
       "            field=\"hour\"\n",
       "        },\n",
       "        y={\n",
       "            stack=\"zero\",\n",
       "            field=\"gen_sum\"\n",
       "        },\n",
       "        color={\n",
       "            scale={\n",
       "                scheme=\"category10\"\n",
       "            },\n",
       "            field=\"resource\",\n",
       "            type=\"nominal\"\n",
       "        }\n",
       "    },\n",
       "    data={\n",
       "        values=...\n",
       "    }\n",
       ")"
      ]
     },
     "metadata": {},
     "output_type": "display_data"
    }
   ],
   "source": [
    "solution = unit_commitment_ramp(\n",
    "    gen_df_sens, loads_multi, gen_variable_multi, 0.01); # 1% MIP gap\n",
    "\n",
    "# Add in BTM solar and curtailment and plot results\n",
    "\n",
    "sol_gen = innerjoin(solution.gen, \n",
    "                    gen_df[!, [:r_id, :resource]], \n",
    "                    on = :r_id)\n",
    "sol_gen = combine(groupby(sol_gen, [:resource, :hour]), \n",
    "            :gen => sum)\n",
    "\n",
    "# Rename generators (for plotting purposes)\n",
    "sol_gen[sol_gen.resource .== \"solar_photovoltaic\", :resource] .= \"_solar_photovoltaic\"\n",
    "sol_gen[sol_gen.resource .== \"onshore_wind_turbine\", :resource] .= \"_onshore_wind_turbine\"\n",
    "sol_gen[sol_gen.resource .== \"small_hydroelectric\", :resource] .= \"_small_hydroelectric\"\n",
    "\n",
    "# BTM solar\n",
    "btm = DataFrame(resource = repeat([\"_solar_photovoltaic_btm\"]; outer=length(T_period)), \n",
    "    hour = T_period,\n",
    "    gen_sum = gen_variable_multi[gen_variable_multi.gen_full .== \"wec_sdge_solar_photovoltaic_1.0\",:cf] * 600)\n",
    "append!(sol_gen, btm)\n",
    "\n",
    "# Curtailment\n",
    "curtail = combine(groupby(solution.curtail, [:hour]),\n",
    "            :curt => sum)\n",
    "curtail[!, :resource] .= \"_curtailment\"\n",
    "rename!(curtail, :curt_sum => :gen_sum)\n",
    "append!(sol_gen, curtail[:,[:resource, :hour, :gen_sum]])\n",
    "\n",
    "# Rescale hours\n",
    "sol_gen.hour = sol_gen.hour .- T_period[1]\n",
    "\n",
    "sol_gen |>\n",
    "@vlplot(:area, \n",
    "    x=:hour, y={:gen_sum, stack=:zero}, \n",
    "    color={\"resource:n\", scale={scheme=\"category10\"}})"
   ]
  },
  {
   "cell_type": "markdown",
   "metadata": {},
   "source": [
    "In contrast to when we added ramp constraints to the Economic Dispatch problem, adding ramp constraints to our Unit Commitment formulation does not change the solution as much (at least in this case). Much of the inflexibility here arises from the unit commitment constraints, and once committed, there is ample ramping capability. We do however get relatively more combustion turbines running to meet the evening ramp, given their faster ramp rates."
   ]
  },
  {
   "cell_type": "code",
   "execution_count": 15,
   "metadata": {},
   "outputs": [
    {
     "data": {
      "application/vnd.vegalite.v5+json": {
       "data": {
        "values": [
         {
          "gen_sum": 6,
          "hour": 0,
          "resource": "natural_gas_fired_combined_cycle"
         },
         {
          "gen_sum": 8,
          "hour": 0,
          "resource": "natural_gas_fired_combustion_turbine"
         },
         {
          "gen_sum": 6,
          "hour": 1,
          "resource": "natural_gas_fired_combined_cycle"
         },
         {
          "gen_sum": 8,
          "hour": 1,
          "resource": "natural_gas_fired_combustion_turbine"
         },
         {
          "gen_sum": 6,
          "hour": 2,
          "resource": "natural_gas_fired_combined_cycle"
         },
         {
          "gen_sum": 8,
          "hour": 2,
          "resource": "natural_gas_fired_combustion_turbine"
         },
         {
          "gen_sum": 6,
          "hour": 3,
          "resource": "natural_gas_fired_combined_cycle"
         },
         {
          "gen_sum": 8,
          "hour": 3,
          "resource": "natural_gas_fired_combustion_turbine"
         },
         {
          "gen_sum": 6,
          "hour": 4,
          "resource": "natural_gas_fired_combined_cycle"
         },
         {
          "gen_sum": 8,
          "hour": 4,
          "resource": "natural_gas_fired_combustion_turbine"
         },
         {
          "gen_sum": 6,
          "hour": 5,
          "resource": "natural_gas_fired_combined_cycle"
         },
         {
          "gen_sum": 8,
          "hour": 5,
          "resource": "natural_gas_fired_combustion_turbine"
         },
         {
          "gen_sum": 6,
          "hour": 6,
          "resource": "natural_gas_fired_combined_cycle"
         },
         {
          "gen_sum": 8,
          "hour": 6,
          "resource": "natural_gas_fired_combustion_turbine"
         },
         {
          "gen_sum": 6,
          "hour": 7,
          "resource": "natural_gas_fired_combined_cycle"
         },
         {
          "gen_sum": 10,
          "hour": 7,
          "resource": "natural_gas_fired_combustion_turbine"
         },
         {
          "gen_sum": 6,
          "hour": 8,
          "resource": "natural_gas_fired_combined_cycle"
         },
         {
          "gen_sum": 10,
          "hour": 8,
          "resource": "natural_gas_fired_combustion_turbine"
         },
         {
          "gen_sum": 6,
          "hour": 9,
          "resource": "natural_gas_fired_combined_cycle"
         },
         {
          "gen_sum": 10,
          "hour": 9,
          "resource": "natural_gas_fired_combustion_turbine"
         },
         {
          "gen_sum": 6,
          "hour": 10,
          "resource": "natural_gas_fired_combined_cycle"
         },
         {
          "gen_sum": 11,
          "hour": 10,
          "resource": "natural_gas_fired_combustion_turbine"
         },
         {
          "gen_sum": 6,
          "hour": 11,
          "resource": "natural_gas_fired_combined_cycle"
         },
         {
          "gen_sum": 10,
          "hour": 11,
          "resource": "natural_gas_fired_combustion_turbine"
         },
         {
          "gen_sum": 6,
          "hour": 12,
          "resource": "natural_gas_fired_combined_cycle"
         },
         {
          "gen_sum": 8,
          "hour": 12,
          "resource": "natural_gas_fired_combustion_turbine"
         },
         {
          "gen_sum": 6,
          "hour": 13,
          "resource": "natural_gas_fired_combined_cycle"
         },
         {
          "gen_sum": 8,
          "hour": 13,
          "resource": "natural_gas_fired_combustion_turbine"
         },
         {
          "gen_sum": 6,
          "hour": 14,
          "resource": "natural_gas_fired_combined_cycle"
         },
         {
          "gen_sum": 7,
          "hour": 14,
          "resource": "natural_gas_fired_combustion_turbine"
         },
         {
          "gen_sum": 6,
          "hour": 15,
          "resource": "natural_gas_fired_combined_cycle"
         },
         {
          "gen_sum": 6,
          "hour": 15,
          "resource": "natural_gas_fired_combustion_turbine"
         },
         {
          "gen_sum": 6,
          "hour": 16,
          "resource": "natural_gas_fired_combined_cycle"
         },
         {
          "gen_sum": 6,
          "hour": 16,
          "resource": "natural_gas_fired_combustion_turbine"
         },
         {
          "gen_sum": 6,
          "hour": 17,
          "resource": "natural_gas_fired_combined_cycle"
         },
         {
          "gen_sum": 6,
          "hour": 17,
          "resource": "natural_gas_fired_combustion_turbine"
         },
         {
          "gen_sum": 6,
          "hour": 18,
          "resource": "natural_gas_fired_combined_cycle"
         },
         {
          "gen_sum": 6,
          "hour": 18,
          "resource": "natural_gas_fired_combustion_turbine"
         },
         {
          "gen_sum": 6,
          "hour": 19,
          "resource": "natural_gas_fired_combined_cycle"
         },
         {
          "gen_sum": 6,
          "hour": 19,
          "resource": "natural_gas_fired_combustion_turbine"
         },
         {
          "gen_sum": 6,
          "hour": 20,
          "resource": "natural_gas_fired_combined_cycle"
         },
         {
          "gen_sum": 5,
          "hour": 20,
          "resource": "natural_gas_fired_combustion_turbine"
         },
         {
          "gen_sum": 6,
          "hour": 21,
          "resource": "natural_gas_fired_combined_cycle"
         },
         {
          "gen_sum": 3,
          "hour": 21,
          "resource": "natural_gas_fired_combustion_turbine"
         },
         {
          "gen_sum": 6,
          "hour": 22,
          "resource": "natural_gas_fired_combined_cycle"
         },
         {
          "gen_sum": 0,
          "hour": 22,
          "resource": "natural_gas_fired_combustion_turbine"
         },
         {
          "gen_sum": 5,
          "hour": 23,
          "resource": "natural_gas_fired_combined_cycle"
         },
         {
          "gen_sum": 0,
          "hour": 23,
          "resource": "natural_gas_fired_combustion_turbine"
         }
        ]
       },
       "encoding": {
        "color": {
         "field": "resource",
         "scale": {
          "scheme": "category10"
         },
         "type": "nominal"
        },
        "x": {
         "field": "hour",
         "type": "quantitative"
        },
        "y": {
         "field": "gen_sum",
         "stack": "zero",
         "type": "quantitative"
        }
       },
       "mark": "area"
      },
      "image/png": "[encoded data removed]",
      "image/svg+xml": [
       "<svg xmlns=\"http://www.w3.org/2000/svg\" xmlns:xlink=\"http://www.w3.org/1999/xlink\" version=\"1.1\" class=\"marks\" width=\"435\" height=\"242\" viewBox=\"0 0 435 242\"><rect width=\"435\" height=\"242\" fill=\"white\"/><g fill=\"none\" stroke-miterlimit=\"10\" transform=\"translate(38,5)\"><g class=\"mark-group role-frame root\" role=\"graphics-object\" aria-roledescription=\"group mark container\"><g transform=\"translate(0,0)\"><path class=\"background\" aria-hidden=\"true\" d=\"M0.5,0.5h200v200h-200Z\" stroke=\"#ddd\"/><g><g class=\"mark-group role-axis\" aria-hidden=\"true\"><g transform=\"translate(0.5,200.5)\"><path class=\"background\" aria-hidden=\"true\" d=\"M0,0h0v0h0Z\" pointer-events=\"none\"/><g><g class=\"mark-rule role-axis-grid\" pointer-events=\"none\"><line transform=\"translate(0,-200)\" x2=\"0\" y2=\"200\" stroke=\"#ddd\" stroke-width=\"1\" opacity=\"1\"/><line transform=\"translate(42,-200)\" x2=\"0\" y2=\"200\" stroke=\"#ddd\" stroke-width=\"1\" opacity=\"1\"/><line transform=\"translate(83,-200)\" x2=\"0\" y2=\"200\" stroke=\"#ddd\" stroke-width=\"1\" opacity=\"1\"/><line transform=\"translate(125,-200)\" x2=\"0\" y2=\"200\" stroke=\"#ddd\" stroke-width=\"1\" opacity=\"1\"/><line transform=\"translate(167,-200)\" x2=\"0\" y2=\"200\" stroke=\"#ddd\" stroke-width=\"1\" opacity=\"1\"/></g></g><path class=\"foreground\" aria-hidden=\"true\" d=\"\" pointer-events=\"none\" display=\"none\"/></g></g><g class=\"mark-group role-axis\" aria-hidden=\"true\"><g transform=\"translate(0.5,0.5)\"><path class=\"background\" aria-hidden=\"true\" d=\"M0,0h0v0h0Z\" pointer-events=\"none\"/><g><g class=\"mark-rule role-axis-grid\" pointer-events=\"none\"><line transform=\"translate(0,200)\" x2=\"200\" y2=\"0\" stroke=\"#ddd\" stroke-width=\"1\" opacity=\"1\"/><line transform=\"translate(0,144)\" x2=\"200\" y2=\"0\" stroke=\"#ddd\" stroke-width=\"1\" opacity=\"1\"/><line transform=\"translate(0,89)\" x2=\"200\" y2=\"0\" stroke=\"#ddd\" stroke-width=\"1\" opacity=\"1\"/><line transform=\"translate(0,33)\" x2=\"200\" y2=\"0\" stroke=\"#ddd\" stroke-width=\"1\" opacity=\"1\"/></g></g><path class=\"foreground\" aria-hidden=\"true\" d=\"\" pointer-events=\"none\" display=\"none\"/></g></g><g class=\"mark-group role-axis\" role=\"graphics-symbol\" aria-roledescription=\"axis\" aria-label=\"X-axis titled 'hour' for a linear scale with values from 0 to 24\"><g transform=\"translate(0.5,200.5)\"><path class=\"background\" aria-hidden=\"true\" d=\"M0,0h0v0h0Z\" pointer-events=\"none\"/><g><g class=\"mark-rule role-axis-tick\" pointer-events=\"none\"><line transform=\"translate(0,0)\" x2=\"0\" y2=\"5\" stroke=\"#888\" stroke-width=\"1\" opacity=\"1\"/><line transform=\"translate(42,0)\" x2=\"0\" y2=\"5\" stroke=\"#888\" stroke-width=\"1\" opacity=\"1\"/><line transform=\"translate(83,0)\" x2=\"0\" y2=\"5\" stroke=\"#888\" stroke-width=\"1\" opacity=\"1\"/><line transform=\"translate(125,0)\" x2=\"0\" y2=\"5\" stroke=\"#888\" stroke-width=\"1\" opacity=\"1\"/><line transform=\"translate(167,0)\" x2=\"0\" y2=\"5\" stroke=\"#888\" stroke-width=\"1\" opacity=\"1\"/></g><g class=\"mark-text role-axis-label\" pointer-events=\"none\"><text text-anchor=\"start\" transform=\"translate(0,15)\" font-family=\"sans-serif\" font-size=\"10px\" fill=\"#000\" opacity=\"1\">0</text><text text-anchor=\"middle\" transform=\"translate(41.66666666666667,15)\" font-family=\"sans-serif\" font-size=\"10px\" fill=\"#000\" opacity=\"1\">5</text><text text-anchor=\"middle\" transform=\"translate(83.33333333333334,15)\" font-family=\"sans-serif\" font-size=\"10px\" fill=\"#000\" opacity=\"1\">10</text><text text-anchor=\"middle\" transform=\"translate(125,15)\" font-family=\"sans-serif\" font-size=\"10px\" fill=\"#000\" opacity=\"1\">15</text><text text-anchor=\"middle\" transform=\"translate(166.66666666666669,15)\" font-family=\"sans-serif\" font-size=\"10px\" fill=\"#000\" opacity=\"1\">20</text></g><g class=\"mark-rule role-axis-domain\" pointer-events=\"none\"><line transform=\"translate(0,0)\" x2=\"200\" y2=\"0\" stroke=\"#888\" stroke-width=\"1\" opacity=\"1\"/></g><g class=\"mark-text role-axis-title\" pointer-events=\"none\"><text text-anchor=\"middle\" transform=\"translate(100,30)\" font-family=\"sans-serif\" font-size=\"11px\" font-weight=\"bold\" fill=\"#000\" opacity=\"1\">hour</text></g></g><path class=\"foreground\" aria-hidden=\"true\" d=\"\" pointer-events=\"none\" display=\"none\"/></g></g><g class=\"mark-group role-axis\" role=\"graphics-symbol\" aria-roledescription=\"axis\" aria-label=\"Y-axis titled 'gen_sum' for a linear scale with values from 0 to 18\"><g transform=\"translate(0.5,0.5)\"><path class=\"background\" aria-hidden=\"true\" d=\"M0,0h0v0h0Z\" pointer-events=\"none\"/><g><g class=\"mark-rule role-axis-tick\" pointer-events=\"none\"><line transform=\"translate(0,200)\" x2=\"-5\" y2=\"0\" stroke=\"#888\" stroke-width=\"1\" opacity=\"1\"/><line transform=\"translate(0,144)\" x2=\"-5\" y2=\"0\" stroke=\"#888\" stroke-width=\"1\" opacity=\"1\"/><line transform=\"translate(0,89)\" x2=\"-5\" y2=\"0\" stroke=\"#888\" stroke-width=\"1\" opacity=\"1\"/><line transform=\"translate(0,33)\" x2=\"-5\" y2=\"0\" stroke=\"#888\" stroke-width=\"1\" opacity=\"1\"/></g><g class=\"mark-text role-axis-label\" pointer-events=\"none\"><text text-anchor=\"end\" transform=\"translate(-7,203)\" font-family=\"sans-serif\" font-size=\"10px\" fill=\"#000\" opacity=\"1\">0</text><text text-anchor=\"end\" transform=\"translate(-7,147.44444444444443)\" font-family=\"sans-serif\" font-size=\"10px\" fill=\"#000\" opacity=\"1\">5</text><text text-anchor=\"end\" transform=\"translate(-7,91.88888888888889)\" font-family=\"sans-serif\" font-size=\"10px\" fill=\"#000\" opacity=\"1\">10</text><text text-anchor=\"end\" transform=\"translate(-7,36.33333333333333)\" font-family=\"sans-serif\" font-size=\"10px\" fill=\"#000\" opacity=\"1\">15</text></g><g class=\"mark-rule role-axis-domain\" pointer-events=\"none\"><line transform=\"translate(0,200)\" x2=\"0\" y2=\"-200\" stroke=\"#888\" stroke-width=\"1\" opacity=\"1\"/></g><g class=\"mark-text role-axis-title\" pointer-events=\"none\"><text text-anchor=\"middle\" transform=\"translate(-21.91796875,100) rotate(-90) translate(0,-2)\" font-family=\"sans-serif\" font-size=\"11px\" font-weight=\"bold\" fill=\"#000\" opacity=\"1\">gen_sum</text></g></g><path class=\"foreground\" aria-hidden=\"true\" d=\"\" pointer-events=\"none\" display=\"none\"/></g></g><g class=\"mark-group role-scope pathgroup\" role=\"graphics-object\" aria-roledescription=\"group mark container\"><g transform=\"translate(0,0)\"><path class=\"background\" aria-hidden=\"true\" d=\"M0,0h200v200h-200Z\"/><g><g class=\"mark-area role-mark marks\" role=\"graphics-object\" aria-roledescription=\"area mark container\"><path aria-label=\"hour: 0; gen_sum: 6; resource: natural_gas_fired_combined_cycle\" role=\"graphics-symbol\" aria-roledescription=\"area mark\" d=\"M0,44.444L8.333,44.444L16.667,44.444L25,44.444L33.333,44.444L41.667,44.444L50,44.444L58.333,22.222L66.667,22.222L75,22.222L83.333,11.111L91.667,22.222L100,44.444L108.333,44.444L116.667,55.556L125,66.667L133.333,66.667L141.667,66.667L150,66.667L158.333,66.667L166.667,77.778L175,100L183.333,133.333L191.667,144.444L191.667,200L183.333,200L175,166.667L166.667,144.444L158.333,133.333L150,133.333L141.667,133.333L133.333,133.333L125,133.333L116.667,122.222L108.333,111.111L100,111.111L91.667,88.889L83.333,77.778L75,88.889L66.667,88.889L58.333,88.889L50,111.111L41.667,111.111L33.333,111.111L25,111.111L16.667,111.111L8.333,111.111L0,111.111Z\" fill=\"#1f77b4\"/></g></g><path class=\"foreground\" aria-hidden=\"true\" d=\"\" display=\"none\"/></g><g transform=\"translate(0,0)\"><path class=\"background\" aria-hidden=\"true\" d=\"M0,0h200v200h-200Z\"/><g><g class=\"mark-area role-mark marks\" role=\"graphics-object\" aria-roledescription=\"area mark container\"><path aria-label=\"hour: 0; gen_sum: 8; resource: natural_gas_fired_combustion_turbine\" role=\"graphics-symbol\" aria-roledescription=\"area mark\" d=\"M0,111.111L8.333,111.111L16.667,111.111L25,111.111L33.333,111.111L41.667,111.111L50,111.111L58.333,88.889L66.667,88.889L75,88.889L83.333,77.778L91.667,88.889L100,111.111L108.333,111.111L116.667,122.222L125,133.333L133.333,133.333L141.667,133.333L150,133.333L158.333,133.333L166.667,144.444L175,166.667L183.333,200L191.667,200L191.667,200L183.333,200L175,200L166.667,200L158.333,200L150,200L141.667,200L133.333,200L125,200L116.667,200L108.333,200L100,200L91.667,200L83.333,200L75,200L66.667,200L58.333,200L50,200L41.667,200L33.333,200L25,200L16.667,200L8.333,200L0,200Z\" fill=\"#ff7f0e\"/></g></g><path class=\"foreground\" aria-hidden=\"true\" d=\"\" display=\"none\"/></g></g><g class=\"mark-group role-legend\" role=\"graphics-symbol\" aria-roledescription=\"legend\" aria-label=\"Symbol legend titled 'resource' for fill color with 2 values: natural_gas_fired_combined_cycle, natural_gas_fired_combustion_turbine\"><g transform=\"translate(218,0)\"><path class=\"background\" aria-hidden=\"true\" d=\"M0,0h174v40h-174Z\" pointer-events=\"none\"/><g><g class=\"mark-group role-legend-entry\"><g transform=\"translate(0,16)\"><path class=\"background\" aria-hidden=\"true\" d=\"M0,0h0v0h0Z\" pointer-events=\"none\"/><g><g class=\"mark-group role-scope\" role=\"graphics-object\" aria-roledescription=\"group mark container\"><g transform=\"translate(0,0)\"><path class=\"background\" aria-hidden=\"true\" d=\"M0,0h173.59765625v11h-173.59765625Z\" pointer-events=\"none\" opacity=\"1\"/><g><g class=\"mark-symbol role-legend-symbol\" pointer-events=\"none\"><path transform=\"translate(6,6)\" d=\"M5,0A5,5,0,1,1,-5,0A5,5,0,1,1,5,0\" fill=\"#1f77b4\" stroke-width=\"1.5\" opacity=\"1\"/></g><g class=\"mark-text role-legend-label\" pointer-events=\"none\"><text text-anchor=\"start\" transform=\"translate(16,9)\" font-family=\"sans-serif\" font-size=\"10px\" fill=\"#000\" opacity=\"1\">natural_gas_fired_combined_cycle</text></g></g><path class=\"foreground\" aria-hidden=\"true\" d=\"\" pointer-events=\"none\" display=\"none\"/></g><g transform=\"translate(0,13)\"><path class=\"background\" aria-hidden=\"true\" d=\"M0,0h173.59765625v11h-173.59765625Z\" pointer-events=\"none\" opacity=\"1\"/><g><g class=\"mark-symbol role-legend-symbol\" pointer-events=\"none\"><path transform=\"translate(6,6)\" d=\"M5,0A5,5,0,1,1,-5,0A5,5,0,1,1,5,0\" fill=\"#ff7f0e\" stroke-width=\"1.5\" opacity=\"1\"/></g><g class=\"mark-text role-legend-label\" pointer-events=\"none\"><text text-anchor=\"start\" transform=\"translate(16,9)\" font-family=\"sans-serif\" font-size=\"10px\" fill=\"#000\" opacity=\"1\">natural_gas_fired_combustion_tur…</text></g></g><path class=\"foreground\" aria-hidden=\"true\" d=\"\" pointer-events=\"none\" display=\"none\"/></g></g></g><path class=\"foreground\" aria-hidden=\"true\" d=\"\" pointer-events=\"none\" display=\"none\"/></g></g><g class=\"mark-text role-legend-title\" pointer-events=\"none\"><text text-anchor=\"start\" transform=\"translate(0,9)\" font-family=\"sans-serif\" font-size=\"11px\" font-weight=\"bold\" fill=\"#000\" opacity=\"1\">resource</text></g></g><path class=\"foreground\" aria-hidden=\"true\" d=\"\" pointer-events=\"none\" display=\"none\"/></g></g></g><path class=\"foreground\" aria-hidden=\"true\" d=\"\" display=\"none\"/></g></g></g></svg>"
      ],
      "text/plain": [
       "@vlplot(\n",
       "    mark=\"area\",\n",
       "    encoding={\n",
       "        x={\n",
       "            field=\"hour\"\n",
       "        },\n",
       "        y={\n",
       "            stack=\"zero\",\n",
       "            field=\"gen_sum\"\n",
       "        },\n",
       "        color={\n",
       "            scale={\n",
       "                scheme=\"category10\"\n",
       "            },\n",
       "            field=\"resource\",\n",
       "            type=\"nominal\"\n",
       "        }\n",
       "    },\n",
       "    data={\n",
       "        values=...\n",
       "    }\n",
       ")"
      ]
     },
     "metadata": {},
     "output_type": "display_data"
    }
   ],
   "source": [
    "sol_commit = innerjoin(solution.commit, \n",
    "                    gen_df[!, [:r_id, :resource]], \n",
    "                    on = :r_id)\n",
    "sol_commit = combine(groupby(sol_commit, [:resource, :hour]), \n",
    "            :gen => sum)\n",
    "sol_commit.hour = sol_commit.hour .- T_period[1]\n",
    "\n",
    "sol_commit |>\n",
    "@vlplot(:area, \n",
    "    x=:hour, y={:gen_sum, stack=:zero}, \n",
    "    color={\"resource:n\", scale={scheme=\"category10\"}})"
   ]
  },
  {
   "cell_type": "markdown",
   "metadata": {},
   "source": [
    "A case involving more large coal or nuclear units with slower ramping limits than gas turbines or combined cycle plants might find ramp constraints more limiting. As in many cases, the impact of constraints is case dependent, and modelers must exercise some judicious application of domain knowledge (and experimentation with alternative formulations) to decide how complex your model should be to reflect important *binding* constraints that actually shape your outcomes of interest. Where constraints are non-binding or second order, it may be more practical to omit them entirely, reducing the computational intensity (solve time) of your model..."
   ]
  },
  {
   "cell_type": "markdown",
   "metadata": {},
   "source": [
    "## Unit commitment with ramping and reserves\n",
    "\n",
    "We now add spinning reserve requirements to the model. Spinning reserves refer to generation capacity that is online and able to generate (e.g., within 10-30 minutes) if needed by the system operator. (Note: in Europe, these are referred to as 'replacement reserves' or formerly 'tertiary reserves.') The SO will establish reserve requirements to maintain sufficient capacity to respond to demand or supply forecast errors or in case of \"contingencies,\" such as the unplanned and sudden loss of a generating station or a transmission line. The SO then typically operates a reserve market to competitively procure this available capacity. Most SO's actually define several classes of reserve products defined by their response time and period over which they may be activated. \n",
    "\n",
    "Here we will focus on spinning reserve requirements and establish a simple set of reserve requirements for reserves up (ability to quickly increase output) and reserves down (ability to quickly reduce output):\n",
    "\n",
    "$$\n",
    "\\begin{align}\n",
    " & ResReqUp_t = 300 MW + 5\\% \\times Demand_t  &\\forall \\quad t \\in T \\\\\n",
    " & ResReqDn_t = 5\\% \\times Demand_t & \\forall \\quad t \\in T\n",
    "\\end{align}\n",
    "$$\n",
    "\n",
    "Here, $300 MW$ is our contigency reserves, meant to ensure we have sufficient upwards ramping capability online and available to cover the unexpected loss of 300 MW worth of generation. \n",
    "\n",
    "The 5% of demand term in the constraints above is meant to provide sufficient reserves in either upwards or downwards direction to cover errors in the demand forecast. For simplicity, we ignore solar PV and wind production in our reserve calculation, though in practice, we would want to consider solar and wind forecast errors in calculating up reserve requirements as well.\n",
    "\n",
    "In our simple system, only thermal generators provide reserves. (This can be easily adjusted by changing the sets and defining the potential reserve contributions for different sets of resources differently, such as storage or hydro resources). The contribution of each generators to meeting reserves and the overall reserve constraint are thus given by:\n",
    "\n",
    "$$\n",
    "\\begin{align}\n",
    " & RESUP_{g,t} \\leq Pmax_{g,t}COMMIT_{g,t} - GEN_{g,t} & \\forall \\quad g \\in G_{thermal} , t \\in T \\\\\n",
    " & RESDN_{g,t} \\leq GEN_{g,t} - Pmin_{g,t}COMMIT_{g,t} & \\forall \\quad g \\in G_{thermal} , t \\in T \\\\\n",
    " & RESUP_{g,t} \\leq RampUp_{g} & \\forall \\quad g \\in G_{thermal}, t \\in T\\\\ \n",
    " & RESDN_{g,t} \\leq RampDn_{g} & \\forall \\quad g \\in G_{thermal}, t \\in T \\\\\n",
    " & \\sum_{g \\in G_{thermal}} RESUP_{g,t} \\geq ResReqUp_t & \\forall \\quad t \\in T \\\\\n",
    " & \\sum_{g \\in G_{thermal}} RESDN_{g,t} \\geq ResReqDn_t & \\forall \\quad t \\in T\n",
    "\\end{align}\n",
    "$$\n",
    "\n",
    "We have added two new **decision variables**:\n",
    "\n",
    "- $RESUP_{g,t}$, up-reserve capacity (in MW) of generator $g$ at time $t$\n",
    "- $RESDN_{g,t}$, down-reserve capacity (in MW) of generator $g$ at time $t$\n",
    "\n",
    "Note that in this case, we constrain the reserve contribution for each thermal generator to be the same as their hourly ramp rates, $RampUp_{g}, RampDown_{g}$. In practice, reserve products typically require a faster response time, on the order of 10-30 minutes for \"tertiary\" reserves (aka spinning reserves or contingency reserves), and 5-15 minutes for \"secondary\" reserves (regulation reserves). Thus, depending on the reserve requirements being modeled, one might specify a distinct maximum reserve contribution for each unit that reflects their ramping capabilities over shorter time periods."
   ]
  },
  {
   "cell_type": "markdown",
   "metadata": {},
   "source": [
    "<img src=\"img/reserves.png\" style=\"width: 450px; height: auto\" align=\"left\">\n",
    "\n",
    "<img src=\"img/reserves_taxonomy.png\" style=\"width: 450px; height: auto\" align=\"left\">"
   ]
  },
  {
   "cell_type": "markdown",
   "metadata": {},
   "source": [
    "### 3. Create solver function\n",
    "\n",
    "(We reuse steps 1 and 2 above to load packages and data.)"
   ]
  },
  {
   "cell_type": "code",
   "execution_count": 16,
   "metadata": {},
   "outputs": [
    {
     "data": {
      "text/plain": [
       "unit_commitment_full (generic function with 1 method)"
      ]
     },
     "metadata": {},
     "output_type": "display_data"
    }
   ],
   "source": [
    "#=\n",
    "Function to solve full unit commitment problem (commitment, ramp, reserve equations)\n",
    "Inputs:\n",
    "    gen_df -- dataframe with generator info\n",
    "    loads  -- load by time\n",
    "    gen_variable -- capacity factors of variable generators (in \"long\" format)\n",
    "    mip_gap -- desired relative MIP gap to pass to solver\n",
    "=#\n",
    "function unit_commitment_full(gen_df, loads, gen_variable, mip_gap)\n",
    "    UC = Model(HiGHS.Optimizer)\n",
    "    set_optimizer_attribute(UC, \"mip_rel_gap\", mip_gap)\n",
    "\n",
    "    # Define sets based on data\n",
    "    # Note the creation of several different sets of generators for use in\n",
    "    # different equations.\n",
    "    G_thermal = gen_df[gen_df[!,:up_time] .> 0,:r_id]\n",
    "    G_nonthermal = gen_df[gen_df[!,:up_time] .== 0,:r_id]\n",
    "    G_var = gen_df[gen_df[!,:is_variable] .== 1,:r_id] \n",
    "    G_nonvar = gen_df[gen_df[!,:is_variable] .== 0,:r_id]\n",
    "    G_nt_nonvar = intersect(G_nonvar, G_nonthermal)\n",
    "    G = gen_df.r_id\n",
    "    T = loads.hour\n",
    "    T_red = loads.hour[1:end-1]  # reduced time periods without last one\n",
    "\n",
    "    # Generator capacity factor time series for variable generators\n",
    "    gen_var_cf = innerjoin(gen_variable, \n",
    "                    gen_df[gen_df.is_variable .== 1 , \n",
    "                        [:r_id, :gen_full, :existing_cap_mw, :resource]], \n",
    "                    on = :gen_full)\n",
    "    gen_var_cf.max_gen = gen_var_cf.cf .* gen_var_cf.existing_cap_mw\n",
    "    \n",
    "    # Compute reserve requirements\n",
    "    ResReqUp = Dict(T[i] => 300  \n",
    "              + 0.05 * loads[loads.hour .== T[i],:demand][1]\n",
    "                    for i in 1:length(T))\n",
    "    ResReqDn = Dict(T[i] => 0\n",
    "              + 0.05 * loads[loads.hour .== T[i],:demand][1]                    \n",
    "                    for i in 1:length(T))\n",
    "    \n",
    "    # Decision variables   \n",
    "    @variables(UC, begin\n",
    "        GEN[G, T]  >= 0     # generation\n",
    "        GENAUX[G_thermal, T] >= 0 # auxiliary generation variable\n",
    "        COMMIT[G_thermal, T], Bin # commitment status (Bin=binary)\n",
    "        START[G_thermal, T], Bin  # startup decision\n",
    "        SHUT[G_thermal, T], Bin   # shutdown decision\n",
    "        RESUP[G_thermal, T]       # up reserve capacity\n",
    "        RESDN[G_thermal, T]       # down reserve capacity\n",
    "    end)\n",
    "                \n",
    "    # Objective function\n",
    "    @objective(UC, Min, \n",
    "        sum( (gen_df[gen_df.r_id .== i,:heat_rate_mmbtu_per_mwh][1] * gen_df[gen_df.r_id .== i,:fuel_cost][1] +\n",
    "            gen_df[gen_df.r_id .== i,:var_om_cost_per_mwh][1]) * GEN[i,t] \n",
    "                        for i in G_nonvar for t in T) + \n",
    "        sum(gen_df[gen_df.r_id .== i,:var_om_cost_per_mwh][1] * GEN[i,t] \n",
    "                        for i in G_var for t in T) + \n",
    "        sum(gen_df[gen_df.r_id .== i,:start_cost_per_mw][1] * \n",
    "            gen_df[gen_df.r_id .== i,:existing_cap_mw][1] *\n",
    "            START[i,t] \n",
    "                        for i in G_thermal for t in T)\n",
    "    )\n",
    "    \n",
    "    # Demand constraint\n",
    "    @constraint(UC, cDemand[t in T], \n",
    "        sum(GEN[i,t] for i in G) == loads[loads.hour .== t,:demand][1])\n",
    "\n",
    "    # Capacity constraints (thermal generators requiring commitment)\n",
    "    @constraint(UC, Cap_thermal_min[i in G_thermal, t in T], \n",
    "        GEN[i,t] >= COMMIT[i, t] * gen_df[gen_df.r_id .== i,:existing_cap_mw][1] *\n",
    "                        gen_df[gen_df.r_id .== i,:min_power][1])\n",
    "    @constraint(UC, Cap_thermal_max[i in G_thermal, t in T], \n",
    "        GEN[i,t] <= COMMIT[i, t] * gen_df[gen_df.r_id .== i,:existing_cap_mw][1])\n",
    "\n",
    "    # Capacity constraints (non-variable generation not requiring commitment)\n",
    "    @constraint(UC, Cap_nt_nonvar[i in G_nt_nonvar, t in T], \n",
    "        GEN[i,t] <= gen_df[gen_df.r_id .== i,:existing_cap_mw][1])\n",
    "\n",
    "    # Capacity constraints (variable generation)\n",
    "    @constraint(UC, Cap_var[i in 1:nrow(gen_var_cf)], \n",
    "            GEN[gen_var_cf[i,:r_id], gen_var_cf[i,:hour] ] <= \n",
    "                        gen_var_cf[i,:max_gen])\n",
    "    \n",
    "    # Unit commitment constraints\n",
    "    @constraint(UC, Startup[i in G_thermal, t in T],\n",
    "        COMMIT[i, t] >= sum(START[i, tt] \n",
    "                        for tt in intersect(T,\n",
    "                            (t-gen_df[gen_df.r_id .== i,:up_time][1]):t)))\n",
    "\n",
    "    @constraint(UC, Shutdown[i in G_thermal, t in T],\n",
    "        1-COMMIT[i, t] >= sum(SHUT[i, tt] \n",
    "                        for tt in intersect(T,\n",
    "                            (t-gen_df[gen_df.r_id .== i,:down_time][1]):t)))\n",
    "    \n",
    "    @constraint(UC, CommitmentStatus[i in G_thermal, t in T_red],\n",
    "        COMMIT[i,t+1] - COMMIT[i,t] == START[i,t+1] - SHUT[i,t+1])\n",
    "    \n",
    "    # Auxiliary variable\n",
    "    @constraint(UC, AuxGen[i in G_thermal, t in T],\n",
    "        GENAUX[i,t] == GEN[i,t] - COMMIT[i, t] * gen_df[gen_df.r_id .== i,:existing_cap_mw][1] *\n",
    "                        gen_df[gen_df.r_id .== i,:min_power][1])\n",
    "    \n",
    "    # Ramp equations (thermal generators)\n",
    "    @constraint(UC, RampUp_thermal[i in G_thermal, t in T_red], \n",
    "        GENAUX[i,t+1] - GENAUX[i,t] <= gen_df[gen_df.r_id .== i,:existing_cap_mw][1] * \n",
    "                                 gen_df[gen_df.r_id .== i,:ramp_up_percentage][1] )\n",
    "\n",
    "    @constraint(UC, RampDn_thermal[i in G_thermal, t in T_red], \n",
    "        GENAUX[i,t] - GENAUX[i,t+1] <= gen_df[gen_df.r_id .== i,:existing_cap_mw][1] * \n",
    "                                 gen_df[gen_df.r_id .== i,:ramp_dn_percentage][1] )\n",
    "\n",
    "    # Ramp equations (non-thermal generators)\n",
    "    @constraint(UC, RampUp_nonthermal[i in G_nonthermal, t in T_red], \n",
    "        GEN[i,t+1] - GEN[i,t] <= gen_df[gen_df.r_id .== i,:existing_cap_mw][1] * \n",
    "                                 gen_df[gen_df.r_id .== i,:ramp_up_percentage][1] )\n",
    "\n",
    "    @constraint(UC, RampDn[i in G, t in T_red], \n",
    "        GEN[i,t] - GEN[i,t+1] <= gen_df[gen_df.r_id .== i,:existing_cap_mw][1] * \n",
    "                                 gen_df[gen_df.r_id .== i,:ramp_dn_percentage][1] )\n",
    "      \n",
    "    # Reserve equations\n",
    "    # (1) Reserves limited by committed capacity of generator\n",
    "    @constraint(UC, ResUpCap[i in G_thermal, t in T],\n",
    "        RESUP[i,t] <= COMMIT[i, t] * gen_df[gen_df.r_id .== i,:existing_cap_mw][1]\n",
    "                        - GEN[i,t])\n",
    "\n",
    "    @constraint(UC, ResDnCap[i in G_thermal, t in T],\n",
    "        RESDN[i,t] <= GEN[i,t] - \n",
    "                        COMMIT[i, t] * gen_df[gen_df.r_id .== i,:existing_cap_mw][1] *\n",
    "                        gen_df[gen_df.r_id .== i,:min_power][1])\n",
    "\n",
    "    # (2) Reserves limited by ramp rates\n",
    "    @constraint(UC, ResUpRamp[i in G_thermal, t in T],\n",
    "        RESUP[i,t] <= gen_df[gen_df.r_id .== i,:existing_cap_mw][1] * \n",
    "                          gen_df[gen_df.r_id .== i,:ramp_up_percentage][1])\n",
    "\n",
    "    @constraint(UC, ResDnRamp[i in G_thermal, t in T],\n",
    "        RESDN[i,t] <= gen_df[gen_df.r_id .== i,:existing_cap_mw][1] * \n",
    "                          gen_df[gen_df.r_id .== i,:ramp_dn_percentage][1])\n",
    "\n",
    "    # (3) Overall reserve requirements\n",
    "    @constraint(UC, ResUpRequirement[t in T],\n",
    "        sum(RESUP[i,t] for i in G_thermal) >= \n",
    "                ResReqUp[t])\n",
    "\n",
    "    @constraint(UC, ResDnRequirement[t in T],\n",
    "        sum(RESDN[i,t] for i in G_thermal) >= \n",
    "                ResReqDn[t])\n",
    "\n",
    "    # Solve statement (! indicates runs in place)\n",
    "    optimize!(UC)\n",
    "\n",
    "    # Generation solution\n",
    "    gen = value_to_df_2dim(value.(GEN))\n",
    "\n",
    "    # Commitment status solution\n",
    "    commit = value_to_df_2dim(value.(COMMIT))\n",
    "\n",
    "    # Calculate curtailment\n",
    "    curtail = innerjoin(gen_var_cf, gen, on = [:r_id, :hour])\n",
    "    curtail.curt = curtail.cf .* curtail.existing_cap_mw - curtail.gen\n",
    "    \n",
    "    start = value_to_df_2dim(value.(START))\n",
    "\n",
    "    # Return the solution and objective as named tuple\n",
    "    return (\n",
    "        gen,\n",
    "        commit,\n",
    "        curtail,\n",
    "        cost = objective_value(UC),\n",
    "        status = termination_status(UC),\n",
    "        start,\n",
    "    )\n",
    "\n",
    "end"
   ]
  },
  {
   "cell_type": "markdown",
   "metadata": {},
   "source": [
    "### 4. Solve the model and plot results\n",
    "\n",
    "**Note: this might take a little while depending on your machine.**"
   ]
  },
  {
   "cell_type": "code",
   "execution_count": 17,
   "metadata": {},
   "outputs": [
    {
     "data": {
      "text/html": [
       "<div><div style = \"float: left;\"><span>27×30 DataFrame</span></div><div style = \"float: right;\"><span style = \"font-style: italic;\">2 rows omitted</span></div><div style = \"clear: both;\"></div></div><div class = \"data-frame\" style = \"overflow-x: scroll;\"><table class = \"data-frame\" style = \"margin-bottom: 6px;\"><thead><tr class = \"header\"><th class = \"rowNumber\" style = \"font-weight: bold; text-align: right;\">Row</th><th style = \"text-align: left;\">r_id</th><th style = \"text-align: left;\">resource</th><th style = \"text-align: left;\">region</th><th style = \"text-align: left;\">existing_cap_mw</th><th style = \"text-align: left;\">num_units</th><th style = \"text-align: left;\">cap_size</th><th style = \"text-align: left;\">var_om_cost_per_mwh</th><th style = \"text-align: left;\">var_om_cost_per_mwh_in</th><th style = \"text-align: left;\">fuel</th><th style = \"text-align: left;\">heat_rate_mmbtu_per_mwh</th><th style = \"text-align: left;\">min_power</th><th style = \"text-align: left;\">ramp_up_percentage</th><th style = \"text-align: left;\">ramp_dn_percentage</th><th style = \"text-align: left;\">start_cost_per_mw</th><th style = \"text-align: left;\">start_fuel_mmbtu_per_mw</th><th style = \"text-align: left;\">up_time</th><th style = \"text-align: left;\">down_time</th><th style = \"text-align: left;\">eff_up</th><th style = \"text-align: left;\">eff_down</th><th style = \"text-align: left;\">ratio_power_to_energy</th><th style = \"text-align: left;\">min_duration</th><th style = \"text-align: left;\">max_duration</th><th style = \"text-align: left;\">cluster</th><th style = \"text-align: left;\">zone</th><th style = \"text-align: left;\">capres</th><th style = \"text-align: left;\">therm</th><th style = \"text-align: left;\">fuel_cost</th><th style = \"text-align: left;\">co2_content_tons_per_mmbtu</th><th style = \"text-align: left;\">is_variable</th><th style = \"text-align: left;\">gen_full</th></tr><tr class = \"subheader headerLastRow\"><th class = \"rowNumber\" style = \"font-weight: bold; text-align: right;\"></th><th title = \"Union{Missing, Int64}\" style = \"text-align: left;\">Int64?</th><th title = \"Union{Missing, String}\" style = \"text-align: left;\">String?</th><th title = \"Union{Missing, String15}\" style = \"text-align: left;\">String15?</th><th title = \"Union{Missing, Float64}\" style = \"text-align: left;\">Float64?</th><th title = \"Union{Missing, Int64}\" style = \"text-align: left;\">Int64?</th><th title = \"Union{Missing, Float64}\" style = \"text-align: left;\">Float64?</th><th title = \"Union{Missing, Float64}\" style = \"text-align: left;\">Float64?</th><th title = \"Union{Missing, Int64}\" style = \"text-align: left;\">Int64?</th><th title = \"String31\" style = \"text-align: left;\">String31</th><th title = \"Union{Missing, Float64}\" style = \"text-align: left;\">Float64?</th><th title = \"Union{Missing, Float64}\" style = \"text-align: left;\">Float64?</th><th title = \"Union{Missing, Float64}\" style = \"text-align: left;\">Float64?</th><th title = \"Union{Missing, Float64}\" style = \"text-align: left;\">Float64?</th><th title = \"Union{Missing, Int64}\" style = \"text-align: left;\">Int64?</th><th title = \"Union{Missing, Float64}\" style = \"text-align: left;\">Float64?</th><th title = \"Union{Missing, Int64}\" style = \"text-align: left;\">Int64?</th><th title = \"Union{Missing, Int64}\" style = \"text-align: left;\">Int64?</th><th title = \"Union{Missing, Float64}\" style = \"text-align: left;\">Float64?</th><th title = \"Union{Missing, Float64}\" style = \"text-align: left;\">Float64?</th><th title = \"Union{Missing, Float64}\" style = \"text-align: left;\">Float64?</th><th title = \"Union{Missing, Int64}\" style = \"text-align: left;\">Int64?</th><th title = \"Union{Missing, Int64}\" style = \"text-align: left;\">Int64?</th><th title = \"Union{Missing, Int64}\" style = \"text-align: left;\">Int64?</th><th title = \"Union{Missing, Int64}\" style = \"text-align: left;\">Int64?</th><th title = \"Union{Missing, Int64}\" style = \"text-align: left;\">Int64?</th><th title = \"Union{Missing, Int64}\" style = \"text-align: left;\">Int64?</th><th title = \"Union{Missing, Float64}\" style = \"text-align: left;\">Float64?</th><th title = \"Union{Missing, Float64}\" style = \"text-align: left;\">Float64?</th><th title = \"Bool\" style = \"text-align: left;\">Bool</th><th title = \"String\" style = \"text-align: left;\">String</th></tr></thead><tbody><tr><td class = \"rowNumber\" style = \"font-weight: bold; text-align: right;\">1</td><td style = \"text-align: right;\">1</td><td style = \"text-align: left;\">biomass</td><td style = \"text-align: left;\">WEC_SDGE</td><td style = \"text-align: right;\">21.4</td><td style = \"text-align: right;\">20</td><td style = \"text-align: right;\">1.07</td><td style = \"text-align: right;\">5.234</td><td style = \"text-align: right;\">0</td><td style = \"text-align: left;\">None</td><td style = \"text-align: right;\">12.76</td><td style = \"text-align: right;\">0.71</td><td style = \"text-align: right;\">1.0</td><td style = \"text-align: right;\">1.0</td><td style = \"text-align: right;\">0</td><td style = \"text-align: right;\">0.0</td><td style = \"text-align: right;\">0</td><td style = \"text-align: right;\">0</td><td style = \"text-align: right;\">1.0</td><td style = \"text-align: right;\">1.0</td><td style = \"text-align: right;\">1.0</td><td style = \"text-align: right;\">0</td><td style = \"text-align: right;\">0</td><td style = \"text-align: right;\">1</td><td style = \"text-align: right;\">1</td><td style = \"text-align: right;\">0</td><td style = \"text-align: right;\">1</td><td style = \"text-align: right;\">0.0</td><td style = \"text-align: right;\">0.0</td><td style = \"text-align: right;\">false</td><td style = \"text-align: left;\">wec_sdge_biomass_1.0</td></tr><tr><td class = \"rowNumber\" style = \"font-weight: bold; text-align: right;\">2</td><td style = \"text-align: right;\">2</td><td style = \"text-align: left;\">hydroelectric_pumped_storage</td><td style = \"text-align: left;\">WEC_SDGE</td><td style = \"text-align: right;\">42.0</td><td style = \"text-align: right;\">2</td><td style = \"text-align: right;\">21.0</td><td style = \"text-align: right;\">0.0</td><td style = \"text-align: right;\">0</td><td style = \"text-align: left;\">None</td><td style = \"text-align: right;\">0.0</td><td style = \"text-align: right;\">0.0</td><td style = \"text-align: right;\">1.0</td><td style = \"text-align: right;\">1.0</td><td style = \"text-align: right;\">0</td><td style = \"text-align: right;\">0.0</td><td style = \"text-align: right;\">0</td><td style = \"text-align: right;\">0</td><td style = \"text-align: right;\">0.866</td><td style = \"text-align: right;\">0.866</td><td style = \"text-align: right;\">0.0063</td><td style = \"text-align: right;\">0</td><td style = \"text-align: right;\">0</td><td style = \"text-align: right;\">1</td><td style = \"text-align: right;\">1</td><td style = \"text-align: right;\">0</td><td style = \"text-align: right;\">0</td><td style = \"text-align: right;\">0.0</td><td style = \"text-align: right;\">0.0</td><td style = \"text-align: right;\">false</td><td style = \"text-align: left;\">wec_sdge_hydroelectric_pumped_storage_1.0</td></tr><tr><td class = \"rowNumber\" style = \"font-weight: bold; text-align: right;\">3</td><td style = \"text-align: right;\">3</td><td style = \"text-align: left;\">natural_gas_fired_combined_cycle</td><td style = \"text-align: left;\">WEC_SDGE</td><td style = \"text-align: right;\">607.1</td><td style = \"text-align: right;\">1</td><td style = \"text-align: right;\">607.1</td><td style = \"text-align: right;\">3.4</td><td style = \"text-align: right;\">0</td><td style = \"text-align: left;\">pacific_naturalgas</td><td style = \"text-align: right;\">7.52</td><td style = \"text-align: right;\">0.362</td><td style = \"text-align: right;\">0.4</td><td style = \"text-align: right;\">0.4</td><td style = \"text-align: right;\">80</td><td style = \"text-align: right;\">2.0</td><td style = \"text-align: right;\">6</td><td style = \"text-align: right;\">6</td><td style = \"text-align: right;\">1.0</td><td style = \"text-align: right;\">1.0</td><td style = \"text-align: right;\">1.0</td><td style = \"text-align: right;\">0</td><td style = \"text-align: right;\">0</td><td style = \"text-align: right;\">1</td><td style = \"text-align: right;\">1</td><td style = \"text-align: right;\">0</td><td style = \"text-align: right;\">1</td><td style = \"text-align: right;\">2.57</td><td style = \"text-align: right;\">0.05306</td><td style = \"text-align: right;\">false</td><td style = \"text-align: left;\">wec_sdge_natural_gas_fired_combined_cycle_1.0</td></tr><tr><td class = \"rowNumber\" style = \"font-weight: bold; text-align: right;\">4</td><td style = \"text-align: right;\">4</td><td style = \"text-align: left;\">natural_gas_fired_combined_cycle</td><td style = \"text-align: left;\">WEC_SDGE</td><td style = \"text-align: right;\">30.0</td><td style = \"text-align: right;\">1</td><td style = \"text-align: right;\">30.0</td><td style = \"text-align: right;\">4.3</td><td style = \"text-align: right;\">0</td><td style = \"text-align: left;\">pacific_naturalgas</td><td style = \"text-align: right;\">7.5</td><td style = \"text-align: right;\">0.55</td><td style = \"text-align: right;\">0.4</td><td style = \"text-align: right;\">0.4</td><td style = \"text-align: right;\">80</td><td style = \"text-align: right;\">2.0</td><td style = \"text-align: right;\">6</td><td style = \"text-align: right;\">6</td><td style = \"text-align: right;\">1.0</td><td style = \"text-align: right;\">1.0</td><td style = \"text-align: right;\">1.0</td><td style = \"text-align: right;\">0</td><td style = \"text-align: right;\">0</td><td style = \"text-align: right;\">2</td><td style = \"text-align: right;\">1</td><td style = \"text-align: right;\">0</td><td style = \"text-align: right;\">1</td><td style = \"text-align: right;\">2.57</td><td style = \"text-align: right;\">0.05306</td><td style = \"text-align: right;\">false</td><td style = \"text-align: left;\">wec_sdge_natural_gas_fired_combined_cycle_2.0</td></tr><tr><td class = \"rowNumber\" style = \"font-weight: bold; text-align: right;\">5</td><td style = \"text-align: right;\">5</td><td style = \"text-align: left;\">natural_gas_fired_combined_cycle</td><td style = \"text-align: left;\">WEC_SDGE</td><td style = \"text-align: right;\">49.4</td><td style = \"text-align: right;\">1</td><td style = \"text-align: right;\">49.4</td><td style = \"text-align: right;\">4.3</td><td style = \"text-align: right;\">0</td><td style = \"text-align: left;\">pacific_naturalgas</td><td style = \"text-align: right;\">7.5</td><td style = \"text-align: right;\">0.5</td><td style = \"text-align: right;\">0.4</td><td style = \"text-align: right;\">0.4</td><td style = \"text-align: right;\">80</td><td style = \"text-align: right;\">2.0</td><td style = \"text-align: right;\">6</td><td style = \"text-align: right;\">6</td><td style = \"text-align: right;\">1.0</td><td style = \"text-align: right;\">1.0</td><td style = \"text-align: right;\">1.0</td><td style = \"text-align: right;\">0</td><td style = \"text-align: right;\">0</td><td style = \"text-align: right;\">3</td><td style = \"text-align: right;\">1</td><td style = \"text-align: right;\">0</td><td style = \"text-align: right;\">1</td><td style = \"text-align: right;\">2.57</td><td style = \"text-align: right;\">0.05306</td><td style = \"text-align: right;\">false</td><td style = \"text-align: left;\">wec_sdge_natural_gas_fired_combined_cycle_3.0</td></tr><tr><td class = \"rowNumber\" style = \"font-weight: bold; text-align: right;\">6</td><td style = \"text-align: right;\">6</td><td style = \"text-align: left;\">natural_gas_fired_combined_cycle</td><td style = \"text-align: left;\">WEC_SDGE</td><td style = \"text-align: right;\">570.0</td><td style = \"text-align: right;\">1</td><td style = \"text-align: right;\">570.0</td><td style = \"text-align: right;\">3.4</td><td style = \"text-align: right;\">0</td><td style = \"text-align: left;\">pacific_naturalgas</td><td style = \"text-align: right;\">7.15</td><td style = \"text-align: right;\">0.351</td><td style = \"text-align: right;\">0.4</td><td style = \"text-align: right;\">0.4</td><td style = \"text-align: right;\">80</td><td style = \"text-align: right;\">2.0</td><td style = \"text-align: right;\">6</td><td style = \"text-align: right;\">6</td><td style = \"text-align: right;\">1.0</td><td style = \"text-align: right;\">1.0</td><td style = \"text-align: right;\">1.0</td><td style = \"text-align: right;\">0</td><td style = \"text-align: right;\">0</td><td style = \"text-align: right;\">4</td><td style = \"text-align: right;\">1</td><td style = \"text-align: right;\">0</td><td style = \"text-align: right;\">1</td><td style = \"text-align: right;\">2.57</td><td style = \"text-align: right;\">0.05306</td><td style = \"text-align: right;\">false</td><td style = \"text-align: left;\">wec_sdge_natural_gas_fired_combined_cycle_4.0</td></tr><tr><td class = \"rowNumber\" style = \"font-weight: bold; text-align: right;\">7</td><td style = \"text-align: right;\">7</td><td style = \"text-align: left;\">natural_gas_fired_combined_cycle</td><td style = \"text-align: left;\">WEC_SDGE</td><td style = \"text-align: right;\">336.0</td><td style = \"text-align: right;\">3</td><td style = \"text-align: right;\">112.0</td><td style = \"text-align: right;\">10.8</td><td style = \"text-align: right;\">0</td><td style = \"text-align: left;\">pacific_naturalgas</td><td style = \"text-align: right;\">8.0</td><td style = \"text-align: right;\">0.446</td><td style = \"text-align: right;\">3.78</td><td style = \"text-align: right;\">3.78</td><td style = \"text-align: right;\">80</td><td style = \"text-align: right;\">3.5</td><td style = \"text-align: right;\">6</td><td style = \"text-align: right;\">6</td><td style = \"text-align: right;\">1.0</td><td style = \"text-align: right;\">1.0</td><td style = \"text-align: right;\">1.0</td><td style = \"text-align: right;\">0</td><td style = \"text-align: right;\">0</td><td style = \"text-align: right;\">5</td><td style = \"text-align: right;\">1</td><td style = \"text-align: right;\">0</td><td style = \"text-align: right;\">1</td><td style = \"text-align: right;\">2.57</td><td style = \"text-align: right;\">0.05306</td><td style = \"text-align: right;\">false</td><td style = \"text-align: left;\">wec_sdge_natural_gas_fired_combined_cycle_5.0</td></tr><tr><td class = \"rowNumber\" style = \"font-weight: bold; text-align: right;\">8</td><td style = \"text-align: right;\">8</td><td style = \"text-align: left;\">natural_gas_fired_combined_cycle</td><td style = \"text-align: left;\">WEC_SDGE</td><td style = \"text-align: right;\">336.0</td><td style = \"text-align: right;\">3</td><td style = \"text-align: right;\">112.0</td><td style = \"text-align: right;\">10.8</td><td style = \"text-align: right;\">0</td><td style = \"text-align: left;\">pacific_naturalgas</td><td style = \"text-align: right;\">8.1</td><td style = \"text-align: right;\">0.446</td><td style = \"text-align: right;\">3.78</td><td style = \"text-align: right;\">3.78</td><td style = \"text-align: right;\">80</td><td style = \"text-align: right;\">3.5</td><td style = \"text-align: right;\">6</td><td style = \"text-align: right;\">6</td><td style = \"text-align: right;\">1.0</td><td style = \"text-align: right;\">1.0</td><td style = \"text-align: right;\">1.0</td><td style = \"text-align: right;\">0</td><td style = \"text-align: right;\">0</td><td style = \"text-align: right;\">6</td><td style = \"text-align: right;\">1</td><td style = \"text-align: right;\">0</td><td style = \"text-align: right;\">1</td><td style = \"text-align: right;\">2.57</td><td style = \"text-align: right;\">0.05306</td><td style = \"text-align: right;\">false</td><td style = \"text-align: left;\">wec_sdge_natural_gas_fired_combined_cycle_6.0</td></tr><tr><td class = \"rowNumber\" style = \"font-weight: bold; text-align: right;\">9</td><td style = \"text-align: right;\">9</td><td style = \"text-align: left;\">natural_gas_fired_combustion_turbine</td><td style = \"text-align: left;\">WEC_SDGE</td><td style = \"text-align: right;\">200.0</td><td style = \"text-align: right;\">2</td><td style = \"text-align: right;\">45.8</td><td style = \"text-align: right;\">10.8</td><td style = \"text-align: right;\">0</td><td style = \"text-align: left;\">pacific_naturalgas</td><td style = \"text-align: right;\">10.69</td><td style = \"text-align: right;\">0.8</td><td style = \"text-align: right;\">3.78</td><td style = \"text-align: right;\">3.78</td><td style = \"text-align: right;\">40</td><td style = \"text-align: right;\">3.5</td><td style = \"text-align: right;\">1</td><td style = \"text-align: right;\">1</td><td style = \"text-align: right;\">1.0</td><td style = \"text-align: right;\">1.0</td><td style = \"text-align: right;\">1.0</td><td style = \"text-align: right;\">0</td><td style = \"text-align: right;\">0</td><td style = \"text-align: right;\">1</td><td style = \"text-align: right;\">1</td><td style = \"text-align: right;\">0</td><td style = \"text-align: right;\">1</td><td style = \"text-align: right;\">2.57</td><td style = \"text-align: right;\">0.05306</td><td style = \"text-align: right;\">false</td><td style = \"text-align: left;\">wec_sdge_natural_gas_fired_combustion_turbine_1.0</td></tr><tr><td class = \"rowNumber\" style = \"font-weight: bold; text-align: right;\">10</td><td style = \"text-align: right;\">10</td><td style = \"text-align: left;\">natural_gas_fired_combustion_turbine</td><td style = \"text-align: left;\">WEC_SDGE</td><td style = \"text-align: right;\">200.0</td><td style = \"text-align: right;\">1</td><td style = \"text-align: right;\">49.9</td><td style = \"text-align: right;\">10.8</td><td style = \"text-align: right;\">0</td><td style = \"text-align: left;\">pacific_naturalgas</td><td style = \"text-align: right;\">10.48</td><td style = \"text-align: right;\">0.487</td><td style = \"text-align: right;\">3.78</td><td style = \"text-align: right;\">3.78</td><td style = \"text-align: right;\">40</td><td style = \"text-align: right;\">3.5</td><td style = \"text-align: right;\">1</td><td style = \"text-align: right;\">1</td><td style = \"text-align: right;\">1.0</td><td style = \"text-align: right;\">1.0</td><td style = \"text-align: right;\">1.0</td><td style = \"text-align: right;\">0</td><td style = \"text-align: right;\">0</td><td style = \"text-align: right;\">2</td><td style = \"text-align: right;\">1</td><td style = \"text-align: right;\">0</td><td style = \"text-align: right;\">1</td><td style = \"text-align: right;\">2.57</td><td style = \"text-align: right;\">0.05306</td><td style = \"text-align: right;\">false</td><td style = \"text-align: left;\">wec_sdge_natural_gas_fired_combustion_turbine_2.0</td></tr><tr><td class = \"rowNumber\" style = \"font-weight: bold; text-align: right;\">11</td><td style = \"text-align: right;\">11</td><td style = \"text-align: left;\">natural_gas_fired_combustion_turbine</td><td style = \"text-align: left;\">WEC_SDGE</td><td style = \"text-align: right;\">200.0</td><td style = \"text-align: right;\">1</td><td style = \"text-align: right;\">48.1</td><td style = \"text-align: right;\">10.8</td><td style = \"text-align: right;\">0</td><td style = \"text-align: left;\">pacific_naturalgas</td><td style = \"text-align: right;\">11.04</td><td style = \"text-align: right;\">0.437</td><td style = \"text-align: right;\">3.78</td><td style = \"text-align: right;\">3.78</td><td style = \"text-align: right;\">40</td><td style = \"text-align: right;\">3.5</td><td style = \"text-align: right;\">1</td><td style = \"text-align: right;\">1</td><td style = \"text-align: right;\">1.0</td><td style = \"text-align: right;\">1.0</td><td style = \"text-align: right;\">1.0</td><td style = \"text-align: right;\">0</td><td style = \"text-align: right;\">0</td><td style = \"text-align: right;\">3</td><td style = \"text-align: right;\">1</td><td style = \"text-align: right;\">0</td><td style = \"text-align: right;\">1</td><td style = \"text-align: right;\">2.57</td><td style = \"text-align: right;\">0.05306</td><td style = \"text-align: right;\">false</td><td style = \"text-align: left;\">wec_sdge_natural_gas_fired_combustion_turbine_3.0</td></tr><tr><td class = \"rowNumber\" style = \"font-weight: bold; text-align: right;\">12</td><td style = \"text-align: right;\">12</td><td style = \"text-align: left;\">natural_gas_fired_combustion_turbine</td><td style = \"text-align: left;\">WEC_SDGE</td><td style = \"text-align: right;\">200.0</td><td style = \"text-align: right;\">1</td><td style = \"text-align: right;\">34.6</td><td style = \"text-align: right;\">10.8</td><td style = \"text-align: right;\">0</td><td style = \"text-align: left;\">pacific_naturalgas</td><td style = \"text-align: right;\">16.86</td><td style = \"text-align: right;\">0.954</td><td style = \"text-align: right;\">3.78</td><td style = \"text-align: right;\">3.78</td><td style = \"text-align: right;\">40</td><td style = \"text-align: right;\">3.5</td><td style = \"text-align: right;\">1</td><td style = \"text-align: right;\">1</td><td style = \"text-align: right;\">1.0</td><td style = \"text-align: right;\">1.0</td><td style = \"text-align: right;\">1.0</td><td style = \"text-align: right;\">0</td><td style = \"text-align: right;\">0</td><td style = \"text-align: right;\">4</td><td style = \"text-align: right;\">1</td><td style = \"text-align: right;\">0</td><td style = \"text-align: right;\">1</td><td style = \"text-align: right;\">2.57</td><td style = \"text-align: right;\">0.05306</td><td style = \"text-align: right;\">false</td><td style = \"text-align: left;\">wec_sdge_natural_gas_fired_combustion_turbine_4.0</td></tr><tr><td class = \"rowNumber\" style = \"font-weight: bold; text-align: right;\">13</td><td style = \"text-align: right;\">13</td><td style = \"text-align: left;\">natural_gas_fired_combustion_turbine</td><td style = \"text-align: left;\">WEC_SDGE</td><td style = \"text-align: right;\">200.0</td><td style = \"text-align: right;\">3</td><td style = \"text-align: right;\">32.2</td><td style = \"text-align: right;\">10.8</td><td style = \"text-align: right;\">0</td><td style = \"text-align: left;\">pacific_naturalgas</td><td style = \"text-align: right;\">10.5</td><td style = \"text-align: right;\">0.932</td><td style = \"text-align: right;\">3.78</td><td style = \"text-align: right;\">3.78</td><td style = \"text-align: right;\">40</td><td style = \"text-align: right;\">3.5</td><td style = \"text-align: right;\">1</td><td style = \"text-align: right;\">1</td><td style = \"text-align: right;\">1.0</td><td style = \"text-align: right;\">1.0</td><td style = \"text-align: right;\">1.0</td><td style = \"text-align: right;\">0</td><td style = \"text-align: right;\">0</td><td style = \"text-align: right;\">5</td><td style = \"text-align: right;\">1</td><td style = \"text-align: right;\">0</td><td style = \"text-align: right;\">1</td><td style = \"text-align: right;\">2.57</td><td style = \"text-align: right;\">0.05306</td><td style = \"text-align: right;\">false</td><td style = \"text-align: left;\">wec_sdge_natural_gas_fired_combustion_turbine_5.0</td></tr><tr><td style = \"text-align: right;\">&vellip;</td><td style = \"text-align: right;\">&vellip;</td><td style = \"text-align: right;\">&vellip;</td><td style = \"text-align: right;\">&vellip;</td><td style = \"text-align: right;\">&vellip;</td><td style = \"text-align: right;\">&vellip;</td><td style = \"text-align: right;\">&vellip;</td><td style = \"text-align: right;\">&vellip;</td><td style = \"text-align: right;\">&vellip;</td><td style = \"text-align: right;\">&vellip;</td><td style = \"text-align: right;\">&vellip;</td><td style = \"text-align: right;\">&vellip;</td><td style = \"text-align: right;\">&vellip;</td><td style = \"text-align: right;\">&vellip;</td><td style = \"text-align: right;\">&vellip;</td><td style = \"text-align: right;\">&vellip;</td><td style = \"text-align: right;\">&vellip;</td><td style = \"text-align: right;\">&vellip;</td><td style = \"text-align: right;\">&vellip;</td><td style = \"text-align: right;\">&vellip;</td><td style = \"text-align: right;\">&vellip;</td><td style = \"text-align: right;\">&vellip;</td><td style = \"text-align: right;\">&vellip;</td><td style = \"text-align: right;\">&vellip;</td><td style = \"text-align: right;\">&vellip;</td><td style = \"text-align: right;\">&vellip;</td><td style = \"text-align: right;\">&vellip;</td><td style = \"text-align: right;\">&vellip;</td><td style = \"text-align: right;\">&vellip;</td><td style = \"text-align: right;\">&vellip;</td><td style = \"text-align: right;\">&vellip;</td></tr><tr><td class = \"rowNumber\" style = \"font-weight: bold; text-align: right;\">16</td><td style = \"text-align: right;\">22</td><td style = \"text-align: left;\">natural_gas_fired_combustion_turbine</td><td style = \"text-align: left;\">WEC_SDGE</td><td style = \"text-align: right;\">200.0</td><td style = \"text-align: right;\">1</td><td style = \"text-align: right;\">51.3</td><td style = \"text-align: right;\">10.8</td><td style = \"text-align: right;\">0</td><td style = \"text-align: left;\">pacific_naturalgas</td><td style = \"text-align: right;\">11.12</td><td style = \"text-align: right;\">0.409</td><td style = \"text-align: right;\">3.78</td><td style = \"text-align: right;\">3.78</td><td style = \"text-align: right;\">40</td><td style = \"text-align: right;\">3.5</td><td style = \"text-align: right;\">1</td><td style = \"text-align: right;\">1</td><td style = \"text-align: right;\">1.0</td><td style = \"text-align: right;\">1.0</td><td style = \"text-align: right;\">1.0</td><td style = \"text-align: right;\">0</td><td style = \"text-align: right;\">0</td><td style = \"text-align: right;\">14</td><td style = \"text-align: right;\">1</td><td style = \"text-align: right;\">0</td><td style = \"text-align: right;\">1</td><td style = \"text-align: right;\">2.57</td><td style = \"text-align: right;\">0.05306</td><td style = \"text-align: right;\">false</td><td style = \"text-align: left;\">wec_sdge_natural_gas_fired_combustion_turbine_14.0</td></tr><tr><td class = \"rowNumber\" style = \"font-weight: bold; text-align: right;\">17</td><td style = \"text-align: right;\">23</td><td style = \"text-align: left;\">natural_gas_fired_combustion_turbine</td><td style = \"text-align: left;\">WEC_SDGE</td><td style = \"text-align: right;\">200.0</td><td style = \"text-align: right;\">2</td><td style = \"text-align: right;\">49.1</td><td style = \"text-align: right;\">10.8</td><td style = \"text-align: right;\">0</td><td style = \"text-align: left;\">pacific_naturalgas</td><td style = \"text-align: right;\">10.55</td><td style = \"text-align: right;\">0.329</td><td style = \"text-align: right;\">3.78</td><td style = \"text-align: right;\">3.78</td><td style = \"text-align: right;\">40</td><td style = \"text-align: right;\">3.5</td><td style = \"text-align: right;\">1</td><td style = \"text-align: right;\">1</td><td style = \"text-align: right;\">1.0</td><td style = \"text-align: right;\">1.0</td><td style = \"text-align: right;\">1.0</td><td style = \"text-align: right;\">0</td><td style = \"text-align: right;\">0</td><td style = \"text-align: right;\">15</td><td style = \"text-align: right;\">1</td><td style = \"text-align: right;\">0</td><td style = \"text-align: right;\">1</td><td style = \"text-align: right;\">2.57</td><td style = \"text-align: right;\">0.05306</td><td style = \"text-align: right;\">false</td><td style = \"text-align: left;\">wec_sdge_natural_gas_fired_combustion_turbine_15.0</td></tr><tr><td class = \"rowNumber\" style = \"font-weight: bold; text-align: right;\">18</td><td style = \"text-align: right;\">24</td><td style = \"text-align: left;\">natural_gas_fired_combustion_turbine</td><td style = \"text-align: left;\">WEC_SDGE</td><td style = \"text-align: right;\">200.0</td><td style = \"text-align: right;\">2</td><td style = \"text-align: right;\">49.1</td><td style = \"text-align: right;\">10.8</td><td style = \"text-align: right;\">0</td><td style = \"text-align: left;\">pacific_naturalgas</td><td style = \"text-align: right;\">10.55</td><td style = \"text-align: right;\">0.33</td><td style = \"text-align: right;\">3.78</td><td style = \"text-align: right;\">3.78</td><td style = \"text-align: right;\">40</td><td style = \"text-align: right;\">3.5</td><td style = \"text-align: right;\">1</td><td style = \"text-align: right;\">1</td><td style = \"text-align: right;\">1.0</td><td style = \"text-align: right;\">1.0</td><td style = \"text-align: right;\">1.0</td><td style = \"text-align: right;\">0</td><td style = \"text-align: right;\">0</td><td style = \"text-align: right;\">16</td><td style = \"text-align: right;\">1</td><td style = \"text-align: right;\">0</td><td style = \"text-align: right;\">1</td><td style = \"text-align: right;\">2.57</td><td style = \"text-align: right;\">0.05306</td><td style = \"text-align: right;\">false</td><td style = \"text-align: left;\">wec_sdge_natural_gas_fired_combustion_turbine_16.0</td></tr><tr><td class = \"rowNumber\" style = \"font-weight: bold; text-align: right;\">19</td><td style = \"text-align: right;\">25</td><td style = \"text-align: left;\">natural_gas_fired_combustion_turbine</td><td style = \"text-align: left;\">WEC_SDGE</td><td style = \"text-align: right;\">200.0</td><td style = \"text-align: right;\">2</td><td style = \"text-align: right;\">49.1</td><td style = \"text-align: right;\">10.8</td><td style = \"text-align: right;\">0</td><td style = \"text-align: left;\">pacific_naturalgas</td><td style = \"text-align: right;\">10.55</td><td style = \"text-align: right;\">0.34</td><td style = \"text-align: right;\">3.78</td><td style = \"text-align: right;\">3.78</td><td style = \"text-align: right;\">40</td><td style = \"text-align: right;\">3.5</td><td style = \"text-align: right;\">1</td><td style = \"text-align: right;\">1</td><td style = \"text-align: right;\">1.0</td><td style = \"text-align: right;\">1.0</td><td style = \"text-align: right;\">1.0</td><td style = \"text-align: right;\">0</td><td style = \"text-align: right;\">0</td><td style = \"text-align: right;\">17</td><td style = \"text-align: right;\">1</td><td style = \"text-align: right;\">0</td><td style = \"text-align: right;\">1</td><td style = \"text-align: right;\">2.57</td><td style = \"text-align: right;\">0.05306</td><td style = \"text-align: right;\">false</td><td style = \"text-align: left;\">wec_sdge_natural_gas_fired_combustion_turbine_17.0</td></tr><tr><td class = \"rowNumber\" style = \"font-weight: bold; text-align: right;\">20</td><td style = \"text-align: right;\">26</td><td style = \"text-align: left;\">natural_gas_fired_combustion_turbine</td><td style = \"text-align: left;\">WEC_SDGE</td><td style = \"text-align: right;\">200.0</td><td style = \"text-align: right;\">2</td><td style = \"text-align: right;\">49.1</td><td style = \"text-align: right;\">10.8</td><td style = \"text-align: right;\">0</td><td style = \"text-align: left;\">pacific_naturalgas</td><td style = \"text-align: right;\">10.6</td><td style = \"text-align: right;\">0.35</td><td style = \"text-align: right;\">3.78</td><td style = \"text-align: right;\">3.78</td><td style = \"text-align: right;\">40</td><td style = \"text-align: right;\">3.5</td><td style = \"text-align: right;\">1</td><td style = \"text-align: right;\">1</td><td style = \"text-align: right;\">1.0</td><td style = \"text-align: right;\">1.0</td><td style = \"text-align: right;\">1.0</td><td style = \"text-align: right;\">0</td><td style = \"text-align: right;\">0</td><td style = \"text-align: right;\">18</td><td style = \"text-align: right;\">1</td><td style = \"text-align: right;\">0</td><td style = \"text-align: right;\">1</td><td style = \"text-align: right;\">2.57</td><td style = \"text-align: right;\">0.05306</td><td style = \"text-align: right;\">false</td><td style = \"text-align: left;\">wec_sdge_natural_gas_fired_combustion_turbine_18.0</td></tr><tr><td class = \"rowNumber\" style = \"font-weight: bold; text-align: right;\">21</td><td style = \"text-align: right;\">27</td><td style = \"text-align: left;\">natural_gas_fired_combustion_turbine</td><td style = \"text-align: left;\">WEC_SDGE</td><td style = \"text-align: right;\">200.0</td><td style = \"text-align: right;\">2</td><td style = \"text-align: right;\">49.1</td><td style = \"text-align: right;\">10.8</td><td style = \"text-align: right;\">0</td><td style = \"text-align: left;\">pacific_naturalgas</td><td style = \"text-align: right;\">10.6</td><td style = \"text-align: right;\">0.36</td><td style = \"text-align: right;\">3.78</td><td style = \"text-align: right;\">3.78</td><td style = \"text-align: right;\">40</td><td style = \"text-align: right;\">3.5</td><td style = \"text-align: right;\">1</td><td style = \"text-align: right;\">1</td><td style = \"text-align: right;\">1.0</td><td style = \"text-align: right;\">1.0</td><td style = \"text-align: right;\">1.0</td><td style = \"text-align: right;\">0</td><td style = \"text-align: right;\">0</td><td style = \"text-align: right;\">19</td><td style = \"text-align: right;\">1</td><td style = \"text-align: right;\">0</td><td style = \"text-align: right;\">1</td><td style = \"text-align: right;\">2.57</td><td style = \"text-align: right;\">0.05306</td><td style = \"text-align: right;\">false</td><td style = \"text-align: left;\">wec_sdge_natural_gas_fired_combustion_turbine_19.0</td></tr><tr><td class = \"rowNumber\" style = \"font-weight: bold; text-align: right;\">22</td><td style = \"text-align: right;\">28</td><td style = \"text-align: left;\">natural_gas_fired_combustion_turbine</td><td style = \"text-align: left;\">WEC_SDGE</td><td style = \"text-align: right;\">200.0</td><td style = \"text-align: right;\">2</td><td style = \"text-align: right;\">49.1</td><td style = \"text-align: right;\">10.8</td><td style = \"text-align: right;\">0</td><td style = \"text-align: left;\">pacific_naturalgas</td><td style = \"text-align: right;\">10.6</td><td style = \"text-align: right;\">0.37</td><td style = \"text-align: right;\">3.78</td><td style = \"text-align: right;\">3.78</td><td style = \"text-align: right;\">40</td><td style = \"text-align: right;\">3.5</td><td style = \"text-align: right;\">1</td><td style = \"text-align: right;\">1</td><td style = \"text-align: right;\">1.0</td><td style = \"text-align: right;\">1.0</td><td style = \"text-align: right;\">1.0</td><td style = \"text-align: right;\">0</td><td style = \"text-align: right;\">0</td><td style = \"text-align: right;\">20</td><td style = \"text-align: right;\">1</td><td style = \"text-align: right;\">0</td><td style = \"text-align: right;\">1</td><td style = \"text-align: right;\">2.57</td><td style = \"text-align: right;\">0.05306</td><td style = \"text-align: right;\">false</td><td style = \"text-align: left;\">wec_sdge_natural_gas_fired_combustion_turbine_20.0</td></tr><tr><td class = \"rowNumber\" style = \"font-weight: bold; text-align: right;\">23</td><td style = \"text-align: right;\">29</td><td style = \"text-align: left;\">natural_gas_fired_combustion_turbine</td><td style = \"text-align: left;\">WEC_SDGE</td><td style = \"text-align: right;\">200.0</td><td style = \"text-align: right;\">2</td><td style = \"text-align: right;\">49.1</td><td style = \"text-align: right;\">10.8</td><td style = \"text-align: right;\">0</td><td style = \"text-align: left;\">pacific_naturalgas</td><td style = \"text-align: right;\">10.65</td><td style = \"text-align: right;\">0.38</td><td style = \"text-align: right;\">3.78</td><td style = \"text-align: right;\">3.78</td><td style = \"text-align: right;\">40</td><td style = \"text-align: right;\">3.5</td><td style = \"text-align: right;\">1</td><td style = \"text-align: right;\">1</td><td style = \"text-align: right;\">1.0</td><td style = \"text-align: right;\">1.0</td><td style = \"text-align: right;\">1.0</td><td style = \"text-align: right;\">0</td><td style = \"text-align: right;\">0</td><td style = \"text-align: right;\">21</td><td style = \"text-align: right;\">1</td><td style = \"text-align: right;\">0</td><td style = \"text-align: right;\">1</td><td style = \"text-align: right;\">2.57</td><td style = \"text-align: right;\">0.05306</td><td style = \"text-align: right;\">false</td><td style = \"text-align: left;\">wec_sdge_natural_gas_fired_combustion_turbine_21.0</td></tr><tr><td class = \"rowNumber\" style = \"font-weight: bold; text-align: right;\">24</td><td style = \"text-align: right;\">30</td><td style = \"text-align: left;\">natural_gas_fired_combustion_turbine</td><td style = \"text-align: left;\">WEC_SDGE</td><td style = \"text-align: right;\">200.0</td><td style = \"text-align: right;\">2</td><td style = \"text-align: right;\">49.1</td><td style = \"text-align: right;\">10.8</td><td style = \"text-align: right;\">0</td><td style = \"text-align: left;\">pacific_naturalgas</td><td style = \"text-align: right;\">10.65</td><td style = \"text-align: right;\">0.39</td><td style = \"text-align: right;\">3.78</td><td style = \"text-align: right;\">3.78</td><td style = \"text-align: right;\">40</td><td style = \"text-align: right;\">3.5</td><td style = \"text-align: right;\">1</td><td style = \"text-align: right;\">1</td><td style = \"text-align: right;\">1.0</td><td style = \"text-align: right;\">1.0</td><td style = \"text-align: right;\">1.0</td><td style = \"text-align: right;\">0</td><td style = \"text-align: right;\">0</td><td style = \"text-align: right;\">22</td><td style = \"text-align: right;\">1</td><td style = \"text-align: right;\">0</td><td style = \"text-align: right;\">1</td><td style = \"text-align: right;\">2.57</td><td style = \"text-align: right;\">0.05306</td><td style = \"text-align: right;\">false</td><td style = \"text-align: left;\">wec_sdge_natural_gas_fired_combustion_turbine_22.0</td></tr><tr><td class = \"rowNumber\" style = \"font-weight: bold; text-align: right;\">25</td><td style = \"text-align: right;\">31</td><td style = \"text-align: left;\">onshore_wind_turbine</td><td style = \"text-align: left;\">WEC_SDGE</td><td style = \"text-align: right;\">217.6</td><td style = \"text-align: right;\">3</td><td style = \"text-align: right;\">64.67</td><td style = \"text-align: right;\">0.0</td><td style = \"text-align: right;\">0</td><td style = \"text-align: left;\">None</td><td style = \"text-align: right;\">9.12</td><td style = \"text-align: right;\">0.0</td><td style = \"text-align: right;\">1.0</td><td style = \"text-align: right;\">1.0</td><td style = \"text-align: right;\">0</td><td style = \"text-align: right;\">0.0</td><td style = \"text-align: right;\">0</td><td style = \"text-align: right;\">0</td><td style = \"text-align: right;\">1.0</td><td style = \"text-align: right;\">1.0</td><td style = \"text-align: right;\">1.0</td><td style = \"text-align: right;\">0</td><td style = \"text-align: right;\">0</td><td style = \"text-align: right;\">1</td><td style = \"text-align: right;\">1</td><td style = \"text-align: right;\">0</td><td style = \"text-align: right;\">0</td><td style = \"text-align: right;\">0.0</td><td style = \"text-align: right;\">0.0</td><td style = \"text-align: right;\">true</td><td style = \"text-align: left;\">wec_sdge_onshore_wind_turbine_1.0</td></tr><tr><td class = \"rowNumber\" style = \"font-weight: bold; text-align: right;\">26</td><td style = \"text-align: right;\">32</td><td style = \"text-align: left;\">small_hydroelectric</td><td style = \"text-align: left;\">WEC_SDGE</td><td style = \"text-align: right;\">7.32</td><td style = \"text-align: right;\">6</td><td style = \"text-align: right;\">1.22</td><td style = \"text-align: right;\">0.0</td><td style = \"text-align: right;\">0</td><td style = \"text-align: left;\">None</td><td style = \"text-align: right;\">9.12</td><td style = \"text-align: right;\">0.385</td><td style = \"text-align: right;\">1.0</td><td style = \"text-align: right;\">1.0</td><td style = \"text-align: right;\">0</td><td style = \"text-align: right;\">0.0</td><td style = \"text-align: right;\">0</td><td style = \"text-align: right;\">0</td><td style = \"text-align: right;\">1.0</td><td style = \"text-align: right;\">1.0</td><td style = \"text-align: right;\">1.0</td><td style = \"text-align: right;\">0</td><td style = \"text-align: right;\">0</td><td style = \"text-align: right;\">1</td><td style = \"text-align: right;\">1</td><td style = \"text-align: right;\">0</td><td style = \"text-align: right;\">0</td><td style = \"text-align: right;\">0.0</td><td style = \"text-align: right;\">0.0</td><td style = \"text-align: right;\">true</td><td style = \"text-align: left;\">wec_sdge_small_hydroelectric_1.0</td></tr><tr><td class = \"rowNumber\" style = \"font-weight: bold; text-align: right;\">27</td><td style = \"text-align: right;\">33</td><td style = \"text-align: left;\">solar_photovoltaic</td><td style = \"text-align: left;\">WEC_SDGE</td><td style = \"text-align: right;\">0.0</td><td style = \"text-align: right;\">20</td><td style = \"text-align: right;\">8.48</td><td style = \"text-align: right;\">0.0</td><td style = \"text-align: right;\">0</td><td style = \"text-align: left;\">None</td><td style = \"text-align: right;\">9.16</td><td style = \"text-align: right;\">0.0</td><td style = \"text-align: right;\">1.0</td><td style = \"text-align: right;\">1.0</td><td style = \"text-align: right;\">0</td><td style = \"text-align: right;\">0.0</td><td style = \"text-align: right;\">0</td><td style = \"text-align: right;\">0</td><td style = \"text-align: right;\">1.0</td><td style = \"text-align: right;\">1.0</td><td style = \"text-align: right;\">1.0</td><td style = \"text-align: right;\">0</td><td style = \"text-align: right;\">0</td><td style = \"text-align: right;\">1</td><td style = \"text-align: right;\">1</td><td style = \"text-align: right;\">0</td><td style = \"text-align: right;\">0</td><td style = \"text-align: right;\">0.0</td><td style = \"text-align: right;\">0.0</td><td style = \"text-align: right;\">true</td><td style = \"text-align: left;\">wec_sdge_solar_photovoltaic_1.0</td></tr></tbody></table></div>"
      ],
      "text/latex": [
       "\\begin{tabular}{r|ccccccccc}\n",
       "\t& r\\_id & resource & region & existing\\_cap\\_mw & num\\_units & cap\\_size & var\\_om\\_cost\\_per\\_mwh & var\\_om\\_cost\\_per\\_mwh\\_in & \\\\\n",
       "\t\\hline\n",
       "\t& Int64? & String? & String15? & Float64? & Int64? & Float64? & Float64? & Int64? & \\\\\n",
       "\t\\hline\n",
       "\t1 & 1 & biomass & WEC\\_SDGE & 21.4 & 20 & 1.07 & 5.234 & 0 & $\\dots$ \\\\\n",
       "\t2 & 2 & hydroelectric\\_pumped\\_storage & WEC\\_SDGE & 42.0 & 2 & 21.0 & 0.0 & 0 & $\\dots$ \\\\\n",
       "\t3 & 3 & natural\\_gas\\_fired\\_combined\\_cycle & WEC\\_SDGE & 607.1 & 1 & 607.1 & 3.4 & 0 & $\\dots$ \\\\\n",
       "\t4 & 4 & natural\\_gas\\_fired\\_combined\\_cycle & WEC\\_SDGE & 30.0 & 1 & 30.0 & 4.3 & 0 & $\\dots$ \\\\\n",
       "\t5 & 5 & natural\\_gas\\_fired\\_combined\\_cycle & WEC\\_SDGE & 49.4 & 1 & 49.4 & 4.3 & 0 & $\\dots$ \\\\\n",
       "\t6 & 6 & natural\\_gas\\_fired\\_combined\\_cycle & WEC\\_SDGE & 570.0 & 1 & 570.0 & 3.4 & 0 & $\\dots$ \\\\\n",
       "\t7 & 7 & natural\\_gas\\_fired\\_combined\\_cycle & WEC\\_SDGE & 336.0 & 3 & 112.0 & 10.8 & 0 & $\\dots$ \\\\\n",
       "\t8 & 8 & natural\\_gas\\_fired\\_combined\\_cycle & WEC\\_SDGE & 336.0 & 3 & 112.0 & 10.8 & 0 & $\\dots$ \\\\\n",
       "\t9 & 9 & natural\\_gas\\_fired\\_combustion\\_turbine & WEC\\_SDGE & 200.0 & 2 & 45.8 & 10.8 & 0 & $\\dots$ \\\\\n",
       "\t10 & 10 & natural\\_gas\\_fired\\_combustion\\_turbine & WEC\\_SDGE & 200.0 & 1 & 49.9 & 10.8 & 0 & $\\dots$ \\\\\n",
       "\t11 & 11 & natural\\_gas\\_fired\\_combustion\\_turbine & WEC\\_SDGE & 200.0 & 1 & 48.1 & 10.8 & 0 & $\\dots$ \\\\\n",
       "\t12 & 12 & natural\\_gas\\_fired\\_combustion\\_turbine & WEC\\_SDGE & 200.0 & 1 & 34.6 & 10.8 & 0 & $\\dots$ \\\\\n",
       "\t13 & 13 & natural\\_gas\\_fired\\_combustion\\_turbine & WEC\\_SDGE & 200.0 & 3 & 32.2 & 10.8 & 0 & $\\dots$ \\\\\n",
       "\t14 & 20 & natural\\_gas\\_fired\\_combustion\\_turbine & WEC\\_SDGE & 200.0 & 1 & 48.9 & 10.8 & 0 & $\\dots$ \\\\\n",
       "\t15 & 21 & natural\\_gas\\_fired\\_combustion\\_turbine & WEC\\_SDGE & 200.0 & 1 & 51.3 & 10.8 & 0 & $\\dots$ \\\\\n",
       "\t16 & 22 & natural\\_gas\\_fired\\_combustion\\_turbine & WEC\\_SDGE & 200.0 & 1 & 51.3 & 10.8 & 0 & $\\dots$ \\\\\n",
       "\t17 & 23 & natural\\_gas\\_fired\\_combustion\\_turbine & WEC\\_SDGE & 200.0 & 2 & 49.1 & 10.8 & 0 & $\\dots$ \\\\\n",
       "\t18 & 24 & natural\\_gas\\_fired\\_combustion\\_turbine & WEC\\_SDGE & 200.0 & 2 & 49.1 & 10.8 & 0 & $\\dots$ \\\\\n",
       "\t19 & 25 & natural\\_gas\\_fired\\_combustion\\_turbine & WEC\\_SDGE & 200.0 & 2 & 49.1 & 10.8 & 0 & $\\dots$ \\\\\n",
       "\t20 & 26 & natural\\_gas\\_fired\\_combustion\\_turbine & WEC\\_SDGE & 200.0 & 2 & 49.1 & 10.8 & 0 & $\\dots$ \\\\\n",
       "\t21 & 27 & natural\\_gas\\_fired\\_combustion\\_turbine & WEC\\_SDGE & 200.0 & 2 & 49.1 & 10.8 & 0 & $\\dots$ \\\\\n",
       "\t22 & 28 & natural\\_gas\\_fired\\_combustion\\_turbine & WEC\\_SDGE & 200.0 & 2 & 49.1 & 10.8 & 0 & $\\dots$ \\\\\n",
       "\t23 & 29 & natural\\_gas\\_fired\\_combustion\\_turbine & WEC\\_SDGE & 200.0 & 2 & 49.1 & 10.8 & 0 & $\\dots$ \\\\\n",
       "\t24 & 30 & natural\\_gas\\_fired\\_combustion\\_turbine & WEC\\_SDGE & 200.0 & 2 & 49.1 & 10.8 & 0 & $\\dots$ \\\\\n",
       "\t$\\dots$ & $\\dots$ & $\\dots$ & $\\dots$ & $\\dots$ & $\\dots$ & $\\dots$ & $\\dots$ & $\\dots$ &  \\\\\n",
       "\\end{tabular}\n"
      ],
      "text/plain": [
       "\u001b[1m27×30 DataFrame\u001b[0m\n",
       "\u001b[1m Row \u001b[0m│\u001b[1m r_id   \u001b[0m\u001b[1m resource                          \u001b[0m\u001b[1m region    \u001b[0m\u001b[1m existing_cap_mw \u001b[0m\u001b[1m num_units \u001b[0m\u001b[1m cap_size \u001b[0m\u001b[1m var_om_cost_per_mwh\u001b[0m ⋯\n",
       "     │\u001b[90m Int64? \u001b[0m\u001b[90m String?                           \u001b[0m\u001b[90m String15? \u001b[0m\u001b[90m Float64?        \u001b[0m\u001b[90m Int64?    \u001b[0m\u001b[90m Float64? \u001b[0m\u001b[90m Float64?           \u001b[0m ⋯\n",
       "─────┼──────────────────────────────────────────────────────────────────────────────────────────────────────────────────\n",
       "   1 │      1  biomass                            WEC_SDGE             21.4          20      1.07                5.234 ⋯\n",
       "   2 │      2  hydroelectric_pumped_storage       WEC_SDGE             42.0           2     21.0                 0.0\n",
       "   3 │      3  natural_gas_fired_combined_cycle   WEC_SDGE            607.1           1    607.1                 3.4\n",
       "   4 │      4  natural_gas_fired_combined_cycle   WEC_SDGE             30.0           1     30.0                 4.3\n",
       "   5 │      5  natural_gas_fired_combined_cycle   WEC_SDGE             49.4           1     49.4                 4.3   ⋯\n",
       "   6 │      6  natural_gas_fired_combined_cycle   WEC_SDGE            570.0           1    570.0                 3.4\n",
       "   7 │      7  natural_gas_fired_combined_cycle   WEC_SDGE            336.0           3    112.0                10.8\n",
       "   8 │      8  natural_gas_fired_combined_cycle   WEC_SDGE            336.0           3    112.0                10.8\n",
       "  ⋮  │   ⋮                     ⋮                      ⋮             ⋮             ⋮         ⋮               ⋮          ⋱\n",
       "  21 │     27  natural_gas_fired_combustion_tur…  WEC_SDGE            200.0           2     49.1                10.8   ⋯\n",
       "  22 │     28  natural_gas_fired_combustion_tur…  WEC_SDGE            200.0           2     49.1                10.8\n",
       "  23 │     29  natural_gas_fired_combustion_tur…  WEC_SDGE            200.0           2     49.1                10.8\n",
       "  24 │     30  natural_gas_fired_combustion_tur…  WEC_SDGE            200.0           2     49.1                10.8\n",
       "  25 │     31  onshore_wind_turbine               WEC_SDGE            217.6           3     64.67                0.0   ⋯\n",
       "  26 │     32  small_hydroelectric                WEC_SDGE              7.32          6      1.22                0.0\n",
       "  27 │     33  solar_photovoltaic                 WEC_SDGE              0.0          20      8.48                0.0\n",
       "\u001b[36m                                                                                          23 columns and 12 rows omitted\u001b[0m"
      ]
     },
     "metadata": {},
     "output_type": "display_data"
    }
   ],
   "source": [
    "\n",
    "gen_df_sens[gen_df_sens.resource .== \"natural_gas_fired_combustion_turbine\", :existing_cap_mw] .= 200\n",
    "gen_df_sens"
   ]
  },
  {
   "cell_type": "code",
   "execution_count": 18,
   "metadata": {},
   "outputs": [
    {
     "name": "stdout",
     "output_type": "stream",
     "text": [
      "Running HiGHS 1.7.2 (git hash: 5ce7a2753): Copyright (c) 2024 HiGHS under MIT licence terms\n",
      "Coefficient ranges:\n",
      "  Matrix [1e+00, 6e+02]\n",
      "  Cost   [5e+00, 5e+04]\n",
      "  Bound  [1e+00, 1e+00]\n",
      "  RHS    [1e+00, 3e+03]\n",
      "Presolving model\n",
      "5334 rows, 3748 cols, 16908 nonzeros  0s\n",
      "3795 rows, 2737 cols, 13786 nonzeros  0s\n",
      "2805 rows, 2575 cols, 13290 nonzeros  0s\n",
      "2194 rows, 2004 cols, 12003 nonzeros  0s\n",
      "2179 rows, 2000 cols, 11839 nonzeros  0s\n",
      "\n",
      "Solving MIP model with:\n",
      "   2179 rows\n",
      "   2000 cols (1232 binary, 0 integer, 0 implied int., 768 continuous)\n",
      "   11839 nonzeros\n",
      "\n",
      "        Nodes      |    B&B Tree     |            Objective Bounds              |  Dynamic Constraints |       Work      \n",
      "     Proc. InQueue |  Leaves   Expl. | BestBound       BestSol              Gap |   Cuts   InLp Confl. | LpIters     Time\n",
      "\n",
      "         0       0         0   0.00%   -33450.079232   inf                  inf        0      0      0         0     0.1s\n",
      "         0       0         0   0.00%   1460535.01306   inf                  inf        0      0      0       648     0.1s\n",
      " R       0       0         0   0.00%   1466941.179417  1467895.036923     0.06%      320     26      0       753     0.2s\n",
      "\n",
      "Solving report\n",
      "  Status            Optimal\n",
      "  Primal bound      1467895.03692\n",
      "  Dual bound        1466941.17942\n",
      "  Gap               0.065% (tolerance: 2%)\n",
      "  Solution status   feasible\n",
      "                    1467895.03692 (objective)\n",
      "                    0 (bound viol.)\n",
      "                    0 (int. viol.)\n",
      "                    0 (row viol.)\n",
      "  Timing            0.17 (total)\n",
      "                    0.08 (presolve)\n",
      "                    0.00 (postsolve)\n",
      "  Nodes             1\n",
      "  LP iterations     753 (total)\n",
      "                    0 (strong br.)\n",
      "                    105 (separation)\n",
      "                    0 (heuristics)\n"
     ]
    },
    {
     "data": {
      "application/vnd.vegalite.v5+json": {
       "data": {
        "values": [
         {
          "gen_sum": 21.4,
          "hour": 0,
          "resource": "biomass"
         },
         {
          "gen_sum": 42,
          "hour": 0,
          "resource": "hydroelectric_pumped_storage"
         },
         {
          "gen_sum": 969.306268,
          "hour": 0,
          "resource": "natural_gas_fired_combined_cycle"
         },
         {
          "gen_sum": 415.8,
          "hour": 0,
          "resource": "natural_gas_fired_combustion_turbine"
         },
         {
          "gen_sum": 163.3088,
          "hour": 0,
          "resource": "_onshore_wind_turbine"
         },
         {
          "gen_sum": 3.184932,
          "hour": 0,
          "resource": "_small_hydroelectric"
         },
         {
          "gen_sum": 0,
          "hour": 0,
          "resource": "_solar_photovoltaic"
         },
         {
          "gen_sum": 21.4,
          "hour": 1,
          "resource": "biomass"
         },
         {
          "gen_sum": 42,
          "hour": 1,
          "resource": "hydroelectric_pumped_storage"
         },
         {
          "gen_sum": 900.821788,
          "hour": 1,
          "resource": "natural_gas_fired_combined_cycle"
         },
         {
          "gen_sum": 415.8,
          "hour": 1,
          "resource": "natural_gas_fired_combustion_turbine"
         },
         {
          "gen_sum": 169.79327999999998,
          "hour": 1,
          "resource": "_onshore_wind_turbine"
         },
         {
          "gen_sum": 3.184932,
          "hour": 1,
          "resource": "_small_hydroelectric"
         },
         {
          "gen_sum": 0,
          "hour": 1,
          "resource": "_solar_photovoltaic"
         },
         {
          "gen_sum": 21.4,
          "hour": 2,
          "resource": "biomass"
         },
         {
          "gen_sum": 42,
          "hour": 2,
          "resource": "hydroelectric_pumped_storage"
         },
         {
          "gen_sum": 920.504668,
          "hour": 2,
          "resource": "natural_gas_fired_combined_cycle"
         },
         {
          "gen_sum": 415.8,
          "hour": 2,
          "resource": "natural_gas_fired_combustion_turbine"
         },
         {
          "gen_sum": 115.1104,
          "hour": 2,
          "resource": "_onshore_wind_turbine"
         },
         {
          "gen_sum": 3.184932,
          "hour": 2,
          "resource": "_small_hydroelectric"
         },
         {
          "gen_sum": 0,
          "hour": 2,
          "resource": "_solar_photovoltaic"
         },
         {
          "gen_sum": 21.4,
          "hour": 3,
          "resource": "biomass"
         },
         {
          "gen_sum": 41.999999999999986,
          "hour": 3,
          "resource": "hydroelectric_pumped_storage"
         },
         {
          "gen_sum": 979.0621080000001,
          "hour": 3,
          "resource": "natural_gas_fired_combined_cycle"
         },
         {
          "gen_sum": 415.8,
          "hour": 3,
          "resource": "natural_gas_fired_combustion_turbine"
         },
         {
          "gen_sum": 100.55296,
          "hour": 3,
          "resource": "_onshore_wind_turbine"
         },
         {
          "gen_sum": 3.184932,
          "hour": 3,
          "resource": "_small_hydroelectric"
         },
         {
          "gen_sum": 0,
          "hour": 3,
          "resource": "_solar_photovoltaic"
         },
         {
          "gen_sum": 21.4,
          "hour": 4,
          "resource": "biomass"
         },
         {
          "gen_sum": 42,
          "hour": 4,
          "resource": "hydroelectric_pumped_storage"
         },
         {
          "gen_sum": 1170.037788,
          "hour": 4,
          "resource": "natural_gas_fired_combined_cycle"
         },
         {
          "gen_sum": 415.8,
          "hour": 4,
          "resource": "natural_gas_fired_combustion_turbine"
         },
         {
          "gen_sum": 80.57728,
          "hour": 4,
          "resource": "_onshore_wind_turbine"
         },
         {
          "gen_sum": 3.184932,
          "hour": 4,
          "resource": "_small_hydroelectric"
         },
         {
          "gen_sum": 0,
          "hour": 4,
          "resource": "_solar_photovoltaic"
         },
         {
          "gen_sum": 21.4,
          "hour": 5,
          "resource": "biomass"
         },
         {
          "gen_sum": 42,
          "hour": 5,
          "resource": "hydroelectric_pumped_storage"
         },
         {
          "gen_sum": 1354.438108,
          "hour": 5,
          "resource": "natural_gas_fired_combined_cycle"
         },
         {
          "gen_sum": 415.8,
          "hour": 5,
          "resource": "natural_gas_fired_combustion_turbine"
         },
         {
          "gen_sum": 139.17695999999998,
          "hour": 5,
          "resource": "_onshore_wind_turbine"
         },
         {
          "gen_sum": 3.184932,
          "hour": 5,
          "resource": "_small_hydroelectric"
         },
         {
          "gen_sum": 0,
          "hour": 5,
          "resource": "_solar_photovoltaic"
         },
         {
          "gen_sum": 21.4,
          "hour": 6,
          "resource": "biomass"
         },
         {
          "gen_sum": 42,
          "hour": 6,
          "resource": "hydroelectric_pumped_storage"
         },
         {
          "gen_sum": 1717.4352280000003,
          "hour": 6,
          "resource": "natural_gas_fired_combined_cycle"
         },
         {
          "gen_sum": 415.8,
          "hour": 6,
          "resource": "natural_gas_fired_combustion_turbine"
         },
         {
          "gen_sum": 74.17984,
          "hour": 6,
          "resource": "_onshore_wind_turbine"
         },
         {
          "gen_sum": 3.184932,
          "hour": 6,
          "resource": "_small_hydroelectric"
         },
         {
          "gen_sum": 0,
          "hour": 6,
          "resource": "_solar_photovoltaic"
         },
         {
          "gen_sum": 21.4,
          "hour": 7,
          "resource": "biomass"
         },
         {
          "gen_sum": 41.99999999999999,
          "hour": 7,
          "resource": "hydroelectric_pumped_storage"
         },
         {
          "gen_sum": 1928.5,
          "hour": 7,
          "resource": "natural_gas_fired_combined_cycle"
         },
         {
          "gen_sum": 552.5416280000002,
          "hour": 7,
          "resource": "natural_gas_fired_combustion_turbine"
         },
         {
          "gen_sum": 49.373439999999995,
          "hour": 7,
          "resource": "_onshore_wind_turbine"
         },
         {
          "gen_sum": 3.184932,
          "hour": 7,
          "resource": "_small_hydroelectric"
         },
         {
          "gen_sum": 0,
          "hour": 7,
          "resource": "_solar_photovoltaic"
         },
         {
          "gen_sum": 21.4,
          "hour": 8,
          "resource": "biomass"
         },
         {
          "gen_sum": 42,
          "hour": 8,
          "resource": "hydroelectric_pumped_storage"
         },
         {
          "gen_sum": 1904.4589079999998,
          "hour": 8,
          "resource": "natural_gas_fired_combined_cycle"
         },
         {
          "gen_sum": 699.6,
          "hour": 8,
          "resource": "natural_gas_fired_combustion_turbine"
         },
         {
          "gen_sum": 167.35616,
          "hour": 8,
          "resource": "_onshore_wind_turbine"
         },
         {
          "gen_sum": 3.184932,
          "hour": 8,
          "resource": "_small_hydroelectric"
         },
         {
          "gen_sum": 0,
          "hour": 8,
          "resource": "_solar_photovoltaic"
         },
         {
          "gen_sum": 21.4,
          "hour": 9,
          "resource": "biomass"
         },
         {
          "gen_sum": 42,
          "hour": 9,
          "resource": "hydroelectric_pumped_storage"
         },
         {
          "gen_sum": 1928.5,
          "hour": 9,
          "resource": "natural_gas_fired_combined_cycle"
         },
         {
          "gen_sum": 896.3541079999998,
          "hour": 9,
          "resource": "natural_gas_fired_combustion_turbine"
         },
         {
          "gen_sum": 131.56096,
          "hour": 9,
          "resource": "_onshore_wind_turbine"
         },
         {
          "gen_sum": 3.184932,
          "hour": 9,
          "resource": "_small_hydroelectric"
         },
         {
          "gen_sum": 0,
          "hour": 9,
          "resource": "_solar_photovoltaic"
         },
         {
          "gen_sum": 21.4,
          "hour": 10,
          "resource": "biomass"
         },
         {
          "gen_sum": 42,
          "hour": 10,
          "resource": "hydroelectric_pumped_storage"
         },
         {
          "gen_sum": 1928.5,
          "hour": 10,
          "resource": "natural_gas_fired_combined_cycle"
         },
         {
          "gen_sum": 1018.7214679999995,
          "hour": 10,
          "resource": "natural_gas_fired_combustion_turbine"
         },
         {
          "gen_sum": 111.1936,
          "hour": 10,
          "resource": "_onshore_wind_turbine"
         },
         {
          "gen_sum": 3.184932,
          "hour": 10,
          "resource": "_small_hydroelectric"
         },
         {
          "gen_sum": 0,
          "hour": 10,
          "resource": "_solar_photovoltaic"
         },
         {
          "gen_sum": 21.4,
          "hour": 11,
          "resource": "biomass"
         },
         {
          "gen_sum": 41.999999999999986,
          "hour": 11,
          "resource": "hydroelectric_pumped_storage"
         },
         {
          "gen_sum": 1928.5,
          "hour": 11,
          "resource": "natural_gas_fired_combined_cycle"
         },
         {
          "gen_sum": 875.8049880000001,
          "hour": 11,
          "resource": "natural_gas_fired_combustion_turbine"
         },
         {
          "gen_sum": 92.11008,
          "hour": 11,
          "resource": "_onshore_wind_turbine"
         },
         {
          "gen_sum": 3.184932,
          "hour": 11,
          "resource": "_small_hydroelectric"
         },
         {
          "gen_sum": 0,
          "hour": 11,
          "resource": "_solar_photovoltaic"
         },
         {
          "gen_sum": 21.4,
          "hour": 12,
          "resource": "biomass"
         },
         {
          "gen_sum": 42,
          "hour": 12,
          "resource": "hydroelectric_pumped_storage"
         },
         {
          "gen_sum": 1928.5,
          "hour": 12,
          "resource": "natural_gas_fired_combined_cycle"
         },
         {
          "gen_sum": 695.8216279999997,
          "hour": 12,
          "resource": "natural_gas_fired_combustion_turbine"
         },
         {
          "gen_sum": 52.09344,
          "hour": 12,
          "resource": "_onshore_wind_turbine"
         },
         {
          "gen_sum": 3.184932,
          "hour": 12,
          "resource": "_small_hydroelectric"
         },
         {
          "gen_sum": 0,
          "hour": 12,
          "resource": "_solar_photovoltaic"
         },
         {
          "gen_sum": 21.4,
          "hour": 13,
          "resource": "biomass"
         },
         {
          "gen_sum": 42,
          "hour": 13,
          "resource": "hydroelectric_pumped_storage"
         },
         {
          "gen_sum": 1909.122588,
          "hour": 13,
          "resource": "natural_gas_fired_combined_cycle"
         },
         {
          "gen_sum": 625.6,
          "hour": 13,
          "resource": "natural_gas_fired_combustion_turbine"
         },
         {
          "gen_sum": 64.69248,
          "hour": 13,
          "resource": "_onshore_wind_turbine"
         },
         {
          "gen_sum": 3.184932,
          "hour": 13,
          "resource": "_small_hydroelectric"
         },
         {
          "gen_sum": 0,
          "hour": 13,
          "resource": "_solar_photovoltaic"
         },
         {
          "gen_sum": 21.4,
          "hour": 14,
          "resource": "biomass"
         },
         {
          "gen_sum": 42,
          "hour": 14,
          "resource": "hydroelectric_pumped_storage"
         },
         {
          "gen_sum": 1836.593948,
          "hour": 14,
          "resource": "natural_gas_fired_combined_cycle"
         },
         {
          "gen_sum": 625.6,
          "hour": 14,
          "resource": "natural_gas_fired_combustion_turbine"
         },
         {
          "gen_sum": 49.22112,
          "hour": 14,
          "resource": "_onshore_wind_turbine"
         },
         {
          "gen_sum": 3.184932,
          "hour": 14,
          "resource": "_small_hydroelectric"
         },
         {
          "gen_sum": 0,
          "hour": 14,
          "resource": "_solar_photovoltaic"
         },
         {
          "gen_sum": 21.4,
          "hour": 15,
          "resource": "biomass"
         },
         {
          "gen_sum": 42,
          "hour": 15,
          "resource": "hydroelectric_pumped_storage"
         },
         {
          "gen_sum": 1928.5,
          "hour": 15,
          "resource": "natural_gas_fired_combined_cycle"
         },
         {
          "gen_sum": 421.5045079999998,
          "hour": 15,
          "resource": "natural_gas_fired_combustion_turbine"
         },
         {
          "gen_sum": 65.41055999999999,
          "hour": 15,
          "resource": "_onshore_wind_turbine"
         },
         {
          "gen_sum": 3.184932,
          "hour": 15,
          "resource": "_small_hydroelectric"
         },
         {
          "gen_sum": 0,
          "hour": 15,
          "resource": "_solar_photovoltaic"
         },
         {
          "gen_sum": 21.4,
          "hour": 16,
          "resource": "biomass"
         },
         {
          "gen_sum": 42,
          "hour": 16,
          "resource": "hydroelectric_pumped_storage"
         },
         {
          "gen_sum": 1928.5,
          "hour": 16,
          "resource": "natural_gas_fired_combined_cycle"
         },
         {
          "gen_sum": 369.7297880000004,
          "hour": 16,
          "resource": "natural_gas_fired_combustion_turbine"
         },
         {
          "gen_sum": 57.18527999999999,
          "hour": 16,
          "resource": "_onshore_wind_turbine"
         },
         {
          "gen_sum": 3.184932,
          "hour": 16,
          "resource": "_small_hydroelectric"
         },
         {
          "gen_sum": 0,
          "hour": 16,
          "resource": "_solar_photovoltaic"
         },
         {
          "gen_sum": 21.4,
          "hour": 17,
          "resource": "biomass"
         },
         {
          "gen_sum": 42,
          "hour": 17,
          "resource": "hydroelectric_pumped_storage"
         },
         {
          "gen_sum": 1886.9961880000003,
          "hour": 17,
          "resource": "natural_gas_fired_combined_cycle"
         },
         {
          "gen_sum": 341.8,
          "hour": 17,
          "resource": "natural_gas_fired_combustion_turbine"
         },
         {
          "gen_sum": 78.61888,
          "hour": 17,
          "resource": "_onshore_wind_turbine"
         },
         {
          "gen_sum": 3.184932,
          "hour": 17,
          "resource": "_small_hydroelectric"
         },
         {
          "gen_sum": 0,
          "hour": 17,
          "resource": "_solar_photovoltaic"
         },
         {
          "gen_sum": 21.4,
          "hour": 18,
          "resource": "biomass"
         },
         {
          "gen_sum": 42,
          "hour": 18,
          "resource": "hydroelectric_pumped_storage"
         },
         {
          "gen_sum": 1916.9993879999995,
          "hour": 18,
          "resource": "natural_gas_fired_combined_cycle"
         },
         {
          "gen_sum": 341.8,
          "hour": 18,
          "resource": "natural_gas_fired_combustion_turbine"
         },
         {
          "gen_sum": 52.61568,
          "hour": 18,
          "resource": "_onshore_wind_turbine"
         },
         {
          "gen_sum": 3.184932,
          "hour": 18,
          "resource": "_small_hydroelectric"
         },
         {
          "gen_sum": 0,
          "hour": 18,
          "resource": "_solar_photovoltaic"
         },
         {
          "gen_sum": 21.4,
          "hour": 19,
          "resource": "biomass"
         },
         {
          "gen_sum": 42.00000000000001,
          "hour": 19,
          "resource": "hydroelectric_pumped_storage"
         },
         {
          "gen_sum": 1928.5,
          "hour": 19,
          "resource": "natural_gas_fired_combined_cycle"
         },
         {
          "gen_sum": 444.4865879999996,
          "hour": 19,
          "resource": "natural_gas_fired_combustion_turbine"
         },
         {
          "gen_sum": 61.42848,
          "hour": 19,
          "resource": "_onshore_wind_turbine"
         },
         {
          "gen_sum": 3.184932,
          "hour": 19,
          "resource": "_small_hydroelectric"
         },
         {
          "gen_sum": 0,
          "hour": 19,
          "resource": "_solar_photovoltaic"
         },
         {
          "gen_sum": 21.4,
          "hour": 20,
          "resource": "biomass"
         },
         {
          "gen_sum": 42,
          "hour": 20,
          "resource": "hydroelectric_pumped_storage"
         },
         {
          "gen_sum": 1928.5,
          "hour": 20,
          "resource": "natural_gas_fired_combined_cycle"
         },
         {
          "gen_sum": 438.9982680000001,
          "hour": 20,
          "resource": "natural_gas_fired_combustion_turbine"
         },
         {
          "gen_sum": 71.9168,
          "hour": 20,
          "resource": "_onshore_wind_turbine"
         },
         {
          "gen_sum": 3.184932,
          "hour": 20,
          "resource": "_small_hydroelectric"
         },
         {
          "gen_sum": 0,
          "hour": 20,
          "resource": "_solar_photovoltaic"
         },
         {
          "gen_sum": 21.4,
          "hour": 21,
          "resource": "biomass"
         },
         {
          "gen_sum": 42,
          "hour": 21,
          "resource": "hydroelectric_pumped_storage"
         },
         {
          "gen_sum": 1895.5664280000003,
          "hour": 21,
          "resource": "natural_gas_fired_combined_cycle"
         },
         {
          "gen_sum": 199.8,
          "hour": 21,
          "resource": "natural_gas_fired_combustion_turbine"
         },
         {
          "gen_sum": 96.04864,
          "hour": 21,
          "resource": "_onshore_wind_turbine"
         },
         {
          "gen_sum": 3.184932,
          "hour": 21,
          "resource": "_small_hydroelectric"
         },
         {
          "gen_sum": 0,
          "hour": 21,
          "resource": "_solar_photovoltaic"
         },
         {
          "gen_sum": 21.4,
          "hour": 22,
          "resource": "biomass"
         },
         {
          "gen_sum": 42,
          "hour": 22,
          "resource": "hydroelectric_pumped_storage"
         },
         {
          "gen_sum": 1663.145948,
          "hour": 22,
          "resource": "natural_gas_fired_combined_cycle"
         },
         {
          "gen_sum": 131.8,
          "hour": 22,
          "resource": "natural_gas_fired_combustion_turbine"
         },
         {
          "gen_sum": 126.46912,
          "hour": 22,
          "resource": "_onshore_wind_turbine"
         },
         {
          "gen_sum": 3.184932,
          "hour": 22,
          "resource": "_small_hydroelectric"
         },
         {
          "gen_sum": 0,
          "hour": 22,
          "resource": "_solar_photovoltaic"
         },
         {
          "gen_sum": 21.4,
          "hour": 23,
          "resource": "biomass"
         },
         {
          "gen_sum": 42,
          "hour": 23,
          "resource": "hydroelectric_pumped_storage"
         },
         {
          "gen_sum": 1417.193948,
          "hour": 23,
          "resource": "natural_gas_fired_combined_cycle"
         },
         {
          "gen_sum": 131.8,
          "hour": 23,
          "resource": "natural_gas_fired_combustion_turbine"
         },
         {
          "gen_sum": 144.42111999999997,
          "hour": 23,
          "resource": "_onshore_wind_turbine"
         },
         {
          "gen_sum": 3.184932,
          "hour": 23,
          "resource": "_small_hydroelectric"
         },
         {
          "gen_sum": 0,
          "hour": 23,
          "resource": "_solar_photovoltaic"
         },
         {
          "gen_sum": 0,
          "hour": 0,
          "resource": "_solar_photovoltaic_btm"
         },
         {
          "gen_sum": 0,
          "hour": 1,
          "resource": "_solar_photovoltaic_btm"
         },
         {
          "gen_sum": 0,
          "hour": 2,
          "resource": "_solar_photovoltaic_btm"
         },
         {
          "gen_sum": 0,
          "hour": 3,
          "resource": "_solar_photovoltaic_btm"
         },
         {
          "gen_sum": 0,
          "hour": 4,
          "resource": "_solar_photovoltaic_btm"
         },
         {
          "gen_sum": 0,
          "hour": 5,
          "resource": "_solar_photovoltaic_btm"
         },
         {
          "gen_sum": 33.18,
          "hour": 6,
          "resource": "_solar_photovoltaic_btm"
         },
         {
          "gen_sum": 132.66,
          "hour": 7,
          "resource": "_solar_photovoltaic_btm"
         },
         {
          "gen_sum": 286.56,
          "hour": 8,
          "resource": "_solar_photovoltaic_btm"
         },
         {
          "gen_sum": 345.42,
          "hour": 9,
          "resource": "_solar_photovoltaic_btm"
         },
         {
          "gen_sum": 362.34,
          "hour": 10,
          "resource": "_solar_photovoltaic_btm"
         },
         {
          "gen_sum": 368.34,
          "hour": 11,
          "resource": "_solar_photovoltaic_btm"
         },
         {
          "gen_sum": 386.76,
          "hour": 12,
          "resource": "_solar_photovoltaic_btm"
         },
         {
          "gen_sum": 387.29999999999995,
          "hour": 13,
          "resource": "_solar_photovoltaic_btm"
         },
         {
          "gen_sum": 374.46,
          "hour": 14,
          "resource": "_solar_photovoltaic_btm"
         },
         {
          "gen_sum": 341.7,
          "hour": 15,
          "resource": "_solar_photovoltaic_btm"
         },
         {
          "gen_sum": 280.68,
          "hour": 16,
          "resource": "_solar_photovoltaic_btm"
         },
         {
          "gen_sum": 194.16,
          "hour": 17,
          "resource": "_solar_photovoltaic_btm"
         },
         {
          "gen_sum": 28.62,
          "hour": 18,
          "resource": "_solar_photovoltaic_btm"
         },
         {
          "gen_sum": 0,
          "hour": 19,
          "resource": "_solar_photovoltaic_btm"
         },
         {
          "gen_sum": 0,
          "hour": 20,
          "resource": "_solar_photovoltaic_btm"
         },
         {
          "gen_sum": 0,
          "hour": 21,
          "resource": "_solar_photovoltaic_btm"
         },
         {
          "gen_sum": 0,
          "hour": 22,
          "resource": "_solar_photovoltaic_btm"
         },
         {
          "gen_sum": 0,
          "hour": 23,
          "resource": "_solar_photovoltaic_btm"
         },
         {
          "gen_sum": 0,
          "hour": 0,
          "resource": "_curtailment"
         },
         {
          "gen_sum": 0,
          "hour": 1,
          "resource": "_curtailment"
         },
         {
          "gen_sum": 0,
          "hour": 2,
          "resource": "_curtailment"
         },
         {
          "gen_sum": 0,
          "hour": 3,
          "resource": "_curtailment"
         },
         {
          "gen_sum": 0,
          "hour": 4,
          "resource": "_curtailment"
         },
         {
          "gen_sum": 0,
          "hour": 5,
          "resource": "_curtailment"
         },
         {
          "gen_sum": 0,
          "hour": 6,
          "resource": "_curtailment"
         },
         {
          "gen_sum": 0,
          "hour": 7,
          "resource": "_curtailment"
         },
         {
          "gen_sum": 0,
          "hour": 8,
          "resource": "_curtailment"
         },
         {
          "gen_sum": 0,
          "hour": 9,
          "resource": "_curtailment"
         },
         {
          "gen_sum": 0,
          "hour": 10,
          "resource": "_curtailment"
         },
         {
          "gen_sum": 0,
          "hour": 11,
          "resource": "_curtailment"
         },
         {
          "gen_sum": 0,
          "hour": 12,
          "resource": "_curtailment"
         },
         {
          "gen_sum": 0,
          "hour": 13,
          "resource": "_curtailment"
         },
         {
          "gen_sum": 0,
          "hour": 14,
          "resource": "_curtailment"
         },
         {
          "gen_sum": 0,
          "hour": 15,
          "resource": "_curtailment"
         },
         {
          "gen_sum": 0,
          "hour": 16,
          "resource": "_curtailment"
         },
         {
          "gen_sum": 0,
          "hour": 17,
          "resource": "_curtailment"
         },
         {
          "gen_sum": 0,
          "hour": 18,
          "resource": "_curtailment"
         },
         {
          "gen_sum": 0,
          "hour": 19,
          "resource": "_curtailment"
         },
         {
          "gen_sum": 0,
          "hour": 20,
          "resource": "_curtailment"
         },
         {
          "gen_sum": 0,
          "hour": 21,
          "resource": "_curtailment"
         },
         {
          "gen_sum": 0,
          "hour": 22,
          "resource": "_curtailment"
         },
         {
          "gen_sum": 0,
          "hour": 23,
          "resource": "_curtailment"
         }
        ]
       },
       "encoding": {
        "color": {
         "field": "resource",
         "scale": {
          "scheme": "category10"
         },
         "type": "nominal"
        },
        "x": {
         "field": "hour",
         "type": "quantitative"
        },
        "y": {
         "field": "gen_sum",
         "stack": "zero",
         "type": "quantitative"
        }
       },
       "mark": "area"
      },
      "image/png": "[encoded data removed]",
      "image/svg+xml": [
       "<svg xmlns=\"http://www.w3.org/2000/svg\" xmlns:xlink=\"http://www.w3.org/1999/xlink\" version=\"1.1\" class=\"marks\" width=\"449\" height=\"247\" viewBox=\"0 0 449 247\"><rect width=\"449\" height=\"247\" fill=\"white\"/><g fill=\"none\" stroke-miterlimit=\"10\" transform=\"translate(52,10)\"><g class=\"mark-group role-frame root\" role=\"graphics-object\" aria-roledescription=\"group mark container\"><g transform=\"translate(0,0)\"><path class=\"background\" aria-hidden=\"true\" d=\"M0.5,0.5h200v200h-200Z\" stroke=\"#ddd\"/><g><g class=\"mark-group role-axis\" aria-hidden=\"true\"><g transform=\"translate(0.5,200.5)\"><path class=\"background\" aria-hidden=\"true\" d=\"M0,0h0v0h0Z\" pointer-events=\"none\"/><g><g class=\"mark-rule role-axis-grid\" pointer-events=\"none\"><line transform=\"translate(0,-200)\" x2=\"0\" y2=\"200\" stroke=\"#ddd\" stroke-width=\"1\" opacity=\"1\"/><line transform=\"translate(42,-200)\" x2=\"0\" y2=\"200\" stroke=\"#ddd\" stroke-width=\"1\" opacity=\"1\"/><line transform=\"translate(83,-200)\" x2=\"0\" y2=\"200\" stroke=\"#ddd\" stroke-width=\"1\" opacity=\"1\"/><line transform=\"translate(125,-200)\" x2=\"0\" y2=\"200\" stroke=\"#ddd\" stroke-width=\"1\" opacity=\"1\"/><line transform=\"translate(167,-200)\" x2=\"0\" y2=\"200\" stroke=\"#ddd\" stroke-width=\"1\" opacity=\"1\"/></g></g><path class=\"foreground\" aria-hidden=\"true\" d=\"\" pointer-events=\"none\" display=\"none\"/></g></g><g class=\"mark-group role-axis\" aria-hidden=\"true\"><g transform=\"translate(0.5,0.5)\"><path class=\"background\" aria-hidden=\"true\" d=\"M0,0h0v0h0Z\" pointer-events=\"none\"/><g><g class=\"mark-rule role-axis-grid\" pointer-events=\"none\"><line transform=\"translate(0,200)\" x2=\"200\" y2=\"0\" stroke=\"#ddd\" stroke-width=\"1\" opacity=\"1\"/><line transform=\"translate(0,171)\" x2=\"200\" y2=\"0\" stroke=\"#ddd\" stroke-width=\"1\" opacity=\"1\"/><line transform=\"translate(0,143)\" x2=\"200\" y2=\"0\" stroke=\"#ddd\" stroke-width=\"1\" opacity=\"1\"/><line transform=\"translate(0,114)\" x2=\"200\" y2=\"0\" stroke=\"#ddd\" stroke-width=\"1\" opacity=\"1\"/><line transform=\"translate(0,86)\" x2=\"200\" y2=\"0\" stroke=\"#ddd\" stroke-width=\"1\" opacity=\"1\"/><line transform=\"translate(0,57)\" x2=\"200\" y2=\"0\" stroke=\"#ddd\" stroke-width=\"1\" opacity=\"1\"/><line transform=\"translate(0,29)\" x2=\"200\" y2=\"0\" stroke=\"#ddd\" stroke-width=\"1\" opacity=\"1\"/><line transform=\"translate(0,0)\" x2=\"200\" y2=\"0\" stroke=\"#ddd\" stroke-width=\"1\" opacity=\"1\"/></g></g><path class=\"foreground\" aria-hidden=\"true\" d=\"\" pointer-events=\"none\" display=\"none\"/></g></g><g class=\"mark-group role-axis\" role=\"graphics-symbol\" aria-roledescription=\"axis\" aria-label=\"X-axis titled 'hour' for a linear scale with values from 0 to 24\"><g transform=\"translate(0.5,200.5)\"><path class=\"background\" aria-hidden=\"true\" d=\"M0,0h0v0h0Z\" pointer-events=\"none\"/><g><g class=\"mark-rule role-axis-tick\" pointer-events=\"none\"><line transform=\"translate(0,0)\" x2=\"0\" y2=\"5\" stroke=\"#888\" stroke-width=\"1\" opacity=\"1\"/><line transform=\"translate(42,0)\" x2=\"0\" y2=\"5\" stroke=\"#888\" stroke-width=\"1\" opacity=\"1\"/><line transform=\"translate(83,0)\" x2=\"0\" y2=\"5\" stroke=\"#888\" stroke-width=\"1\" opacity=\"1\"/><line transform=\"translate(125,0)\" x2=\"0\" y2=\"5\" stroke=\"#888\" stroke-width=\"1\" opacity=\"1\"/><line transform=\"translate(167,0)\" x2=\"0\" y2=\"5\" stroke=\"#888\" stroke-width=\"1\" opacity=\"1\"/></g><g class=\"mark-text role-axis-label\" pointer-events=\"none\"><text text-anchor=\"start\" transform=\"translate(0,15)\" font-family=\"sans-serif\" font-size=\"10px\" fill=\"#000\" opacity=\"1\">0</text><text text-anchor=\"middle\" transform=\"translate(41.66666666666667,15)\" font-family=\"sans-serif\" font-size=\"10px\" fill=\"#000\" opacity=\"1\">5</text><text text-anchor=\"middle\" transform=\"translate(83.33333333333334,15)\" font-family=\"sans-serif\" font-size=\"10px\" fill=\"#000\" opacity=\"1\">10</text><text text-anchor=\"middle\" transform=\"translate(125,15)\" font-family=\"sans-serif\" font-size=\"10px\" fill=\"#000\" opacity=\"1\">15</text><text text-anchor=\"middle\" transform=\"translate(166.66666666666669,15)\" font-family=\"sans-serif\" font-size=\"10px\" fill=\"#000\" opacity=\"1\">20</text></g><g class=\"mark-rule role-axis-domain\" pointer-events=\"none\"><line transform=\"translate(0,0)\" x2=\"200\" y2=\"0\" stroke=\"#888\" stroke-width=\"1\" opacity=\"1\"/></g><g class=\"mark-text role-axis-title\" pointer-events=\"none\"><text text-anchor=\"middle\" transform=\"translate(100,30)\" font-family=\"sans-serif\" font-size=\"11px\" font-weight=\"bold\" fill=\"#000\" opacity=\"1\">hour</text></g></g><path class=\"foreground\" aria-hidden=\"true\" d=\"\" pointer-events=\"none\" display=\"none\"/></g></g><g class=\"mark-group role-axis\" role=\"graphics-symbol\" aria-roledescription=\"axis\" aria-label=\"Y-axis titled 'gen_sum' for a linear scale with values from 0 to 3,500\"><g transform=\"translate(0.5,0.5)\"><path class=\"background\" aria-hidden=\"true\" d=\"M0,0h0v0h0Z\" pointer-events=\"none\"/><g><g class=\"mark-rule role-axis-tick\" pointer-events=\"none\"><line transform=\"translate(0,200)\" x2=\"-5\" y2=\"0\" stroke=\"#888\" stroke-width=\"1\" opacity=\"1\"/><line transform=\"translate(0,171)\" x2=\"-5\" y2=\"0\" stroke=\"#888\" stroke-width=\"1\" opacity=\"1\"/><line transform=\"translate(0,143)\" x2=\"-5\" y2=\"0\" stroke=\"#888\" stroke-width=\"1\" opacity=\"1\"/><line transform=\"translate(0,114)\" x2=\"-5\" y2=\"0\" stroke=\"#888\" stroke-width=\"1\" opacity=\"1\"/><line transform=\"translate(0,86)\" x2=\"-5\" y2=\"0\" stroke=\"#888\" stroke-width=\"1\" opacity=\"1\"/><line transform=\"translate(0,57)\" x2=\"-5\" y2=\"0\" stroke=\"#888\" stroke-width=\"1\" opacity=\"1\"/><line transform=\"translate(0,29)\" x2=\"-5\" y2=\"0\" stroke=\"#888\" stroke-width=\"1\" opacity=\"1\"/><line transform=\"translate(0,0)\" x2=\"-5\" y2=\"0\" stroke=\"#888\" stroke-width=\"1\" opacity=\"1\"/></g><g class=\"mark-text role-axis-label\" pointer-events=\"none\"><text text-anchor=\"end\" transform=\"translate(-7,203)\" font-family=\"sans-serif\" font-size=\"10px\" fill=\"#000\" opacity=\"1\">0</text><text text-anchor=\"end\" transform=\"translate(-7,174.42857142857144)\" font-family=\"sans-serif\" font-size=\"10px\" fill=\"#000\" opacity=\"1\">500</text><text text-anchor=\"end\" transform=\"translate(-7,145.85714285714286)\" font-family=\"sans-serif\" font-size=\"10px\" fill=\"#000\" opacity=\"1\">1,000</text><text text-anchor=\"end\" transform=\"translate(-7,117.28571428571428)\" font-family=\"sans-serif\" font-size=\"10px\" fill=\"#000\" opacity=\"1\">1,500</text><text text-anchor=\"end\" transform=\"translate(-7,88.71428571428572)\" font-family=\"sans-serif\" font-size=\"10px\" fill=\"#000\" opacity=\"1\">2,000</text><text text-anchor=\"end\" transform=\"translate(-7,60.14285714285714)\" font-family=\"sans-serif\" font-size=\"10px\" fill=\"#000\" opacity=\"1\">2,500</text><text text-anchor=\"end\" transform=\"translate(-7,31.57142857142858)\" font-family=\"sans-serif\" font-size=\"10px\" fill=\"#000\" opacity=\"1\">3,000</text><text text-anchor=\"end\" transform=\"translate(-7,3)\" font-family=\"sans-serif\" font-size=\"10px\" fill=\"#000\" opacity=\"1\">3,500</text></g><g class=\"mark-rule role-axis-domain\" pointer-events=\"none\"><line transform=\"translate(0,200)\" x2=\"0\" y2=\"-200\" stroke=\"#888\" stroke-width=\"1\" opacity=\"1\"/></g><g class=\"mark-text role-axis-title\" pointer-events=\"none\"><text text-anchor=\"middle\" transform=\"translate(-35.86328125,100) rotate(-90) translate(0,-2)\" font-family=\"sans-serif\" font-size=\"11px\" font-weight=\"bold\" fill=\"#000\" opacity=\"1\">gen_sum</text></g></g><path class=\"foreground\" aria-hidden=\"true\" d=\"\" pointer-events=\"none\" display=\"none\"/></g></g><g class=\"mark-group role-scope pathgroup\" role=\"graphics-object\" aria-roledescription=\"group mark container\"><g transform=\"translate(0,0)\"><path class=\"background\" aria-hidden=\"true\" d=\"M0,0h200v200h-200Z\"/><g><g class=\"mark-area role-mark marks\" role=\"graphics-object\" aria-roledescription=\"area mark container\"><path aria-label=\"hour: 0; gen_sum: 21.4; resource: biomass\" role=\"graphics-symbol\" aria-roledescription=\"area mark\" d=\"M0,117.228L8.333,121.142L16.667,120.017L25,116.671L33.333,105.758L41.667,95.221L50,74.478L58.333,54.603L66.667,47.574L75,34.957L83.333,27.964L91.667,36.131L100,46.416L108.333,51.536L116.667,55.68L125,62.091L133.333,65.05L141.667,69.017L150,67.303L158.333,60.778L166.667,61.092L175,76.642L183.333,93.809L191.667,107.863L191.667,109.086L183.333,95.032L175,77.865L166.667,62.314L158.333,62.001L150,68.526L141.667,70.24L133.333,66.273L125,63.314L116.667,56.903L108.333,52.759L100,47.639L91.667,37.354L83.333,29.187L75,36.18L66.667,48.797L58.333,55.826L50,75.701L41.667,96.444L33.333,106.981L25,117.894L16.667,121.24L8.333,122.364L0,118.451Z\" fill=\"#8c564b\"/></g></g><path class=\"foreground\" aria-hidden=\"true\" d=\"\" display=\"none\"/></g><g transform=\"translate(0,0)\"><path class=\"background\" aria-hidden=\"true\" d=\"M0,0h200v200h-200Z\"/><g><g class=\"mark-area role-mark marks\" role=\"graphics-object\" aria-roledescription=\"area mark container\"><path aria-label=\"hour: 0; gen_sum: 42; resource: hydroelectric_pumped_storage\" role=\"graphics-symbol\" aria-roledescription=\"area mark\" d=\"M0,118.451L8.333,122.364L16.667,121.24L25,117.894L33.333,106.981L41.667,96.444L50,75.701L58.333,55.826L66.667,48.797L75,36.18L83.333,29.187L91.667,37.354L100,47.639L108.333,52.759L116.667,56.903L125,63.314L133.333,66.273L141.667,70.24L150,68.526L158.333,62.001L166.667,62.314L175,77.865L183.333,95.032L191.667,109.086L191.667,111.486L183.333,97.432L175,80.265L166.667,64.714L158.333,64.401L150,70.926L141.667,72.64L133.333,68.673L125,65.714L116.667,59.303L108.333,55.159L100,50.039L91.667,39.754L83.333,31.587L75,38.58L66.667,51.197L58.333,58.226L50,78.101L41.667,98.844L33.333,109.381L25,120.294L16.667,123.64L8.333,124.764L0,120.851Z\" fill=\"#e377c2\"/></g></g><path class=\"foreground\" aria-hidden=\"true\" d=\"\" display=\"none\"/></g><g transform=\"translate(0,0)\"><path class=\"background\" aria-hidden=\"true\" d=\"M0,0h200v200h-200Z\"/><g><g class=\"mark-area role-mark marks\" role=\"graphics-object\" aria-roledescription=\"area mark container\"><path aria-label=\"hour: 0; gen_sum: 969.306268; resource: natural_gas_fired_combined_cycle\" role=\"graphics-symbol\" aria-roledescription=\"area mark\" d=\"M0,120.851L8.333,124.764L16.667,123.64L25,120.294L33.333,109.381L41.667,98.844L50,78.101L58.333,58.226L66.667,51.197L75,38.58L83.333,31.587L91.667,39.754L100,50.039L108.333,55.159L116.667,59.303L125,65.714L133.333,68.673L141.667,72.64L150,70.926L158.333,64.401L166.667,64.714L175,80.265L183.333,97.432L191.667,111.486L191.667,192.469L183.333,192.469L175,188.583L166.667,174.914L158.333,174.601L150,180.469L141.667,180.469L133.333,178.873L125,175.914L116.667,164.251L108.333,164.251L100,160.239L91.667,149.954L83.333,141.787L75,148.78L66.667,160.023L58.333,168.426L50,176.24L41.667,176.24L33.333,176.24L25,176.24L16.667,176.24L8.333,176.24L0,176.24Z\" fill=\"#7f7f7f\"/></g></g><path class=\"foreground\" aria-hidden=\"true\" d=\"\" display=\"none\"/></g><g transform=\"translate(0,0)\"><path class=\"background\" aria-hidden=\"true\" d=\"M0,0h200v200h-200Z\"/><g><g class=\"mark-area role-mark marks\" role=\"graphics-object\" aria-roledescription=\"area mark container\"><path aria-label=\"hour: 0; gen_sum: 415.8; resource: natural_gas_fired_combustion_turbine\" role=\"graphics-symbol\" aria-roledescription=\"area mark\" d=\"M0,176.24L8.333,176.24L16.667,176.24L25,176.24L33.333,176.24L41.667,176.24L50,176.24L58.333,168.426L66.667,160.023L75,148.78L83.333,141.787L91.667,149.954L100,160.239L108.333,164.251L116.667,164.251L125,175.914L133.333,178.873L141.667,180.469L150,180.469L158.333,174.601L166.667,174.914L175,188.583L183.333,192.469L191.667,192.469L191.667,200L183.333,200L175,200L166.667,200L158.333,200L150,200L141.667,200L133.333,200L125,200L116.667,200L108.333,200L100,200L91.667,200L83.333,200L75,200L66.667,200L58.333,200L50,200L41.667,200L33.333,200L25,200L16.667,200L8.333,200L0,200Z\" fill=\"#bcbd22\"/></g></g><path class=\"foreground\" aria-hidden=\"true\" d=\"\" display=\"none\"/></g><g transform=\"translate(0,0)\"><path class=\"background\" aria-hidden=\"true\" d=\"M0,0h200v200h-200Z\"/><g><g class=\"mark-area role-mark marks\" role=\"graphics-object\" aria-roledescription=\"area mark container\"><path aria-label=\"hour: 0; gen_sum: 163.3088; resource: _onshore_wind_turbine\" role=\"graphics-symbol\" aria-roledescription=\"area mark\" d=\"M0,107.714L8.333,111.257L16.667,113.257L25,110.743L33.333,100.971L41.667,87.086L50,68.161L58.333,44.019L66.667,21.454L75,7.519L83.333,0.723L91.667,9.638L100,21.157L108.333,25.526L116.667,31.288L125,38.646L133.333,45.561L141.667,53.248L150,62.479L158.333,57.086L166.667,56.8L175,70.971L183.333,86.4L191.667,99.429L191.667,107.681L183.333,93.627L175,76.46L166.667,60.91L158.333,60.596L150,65.485L141.667,57.741L133.333,48.829L125,42.383L116.667,34.101L108.333,29.222L100,24.133L91.667,14.901L83.333,7.077L75,15.037L66.667,31.017L58.333,46.841L50,72.4L41.667,95.039L33.333,105.576L25,116.489L16.667,119.835L8.333,120.96L0,117.046Z\" fill=\"#ff7f0e\"/></g></g><path class=\"foreground\" aria-hidden=\"true\" d=\"\" display=\"none\"/></g><g transform=\"translate(0,0)\"><path class=\"background\" aria-hidden=\"true\" d=\"M0,0h200v200h-200Z\"/><g><g class=\"mark-area role-mark marks\" role=\"graphics-object\" aria-roledescription=\"area mark container\"><path aria-label=\"hour: 0; gen_sum: 3.184932; resource: _small_hydroelectric\" role=\"graphics-symbol\" aria-roledescription=\"area mark\" d=\"M0,117.046L8.333,120.96L16.667,119.835L25,116.489L33.333,105.576L41.667,95.039L50,72.4L58.333,46.841L66.667,31.017L75,15.037L83.333,7.077L91.667,14.901L100,24.133L108.333,29.222L116.667,34.101L125,42.383L133.333,48.829L141.667,57.741L150,65.485L158.333,60.596L166.667,60.91L175,76.46L183.333,93.627L191.667,107.681L191.667,107.863L183.333,93.809L175,76.642L166.667,61.092L158.333,60.778L150,65.667L141.667,57.923L133.333,49.011L125,42.565L116.667,34.283L108.333,29.404L100,24.315L91.667,15.083L83.333,7.259L75,15.219L66.667,31.199L58.333,47.023L50,72.582L41.667,95.221L33.333,105.758L25,116.671L16.667,120.017L8.333,121.142L0,117.228Z\" fill=\"#2ca02c\"/></g></g><path class=\"foreground\" aria-hidden=\"true\" d=\"\" display=\"none\"/></g><g transform=\"translate(0,0)\"><path class=\"background\" aria-hidden=\"true\" d=\"M0,0h200v200h-200Z\"/><g><g class=\"mark-area role-mark marks\" role=\"graphics-object\" aria-roledescription=\"area mark container\"><path aria-label=\"hour: 0; gen_sum: 0; resource: _solar_photovoltaic\" role=\"graphics-symbol\" aria-roledescription=\"area mark\" d=\"M0,117.228L8.333,121.142L16.667,120.017L25,116.671L33.333,105.758L41.667,95.221L50,72.582L58.333,47.023L66.667,31.199L75,15.219L83.333,7.259L91.667,15.083L100,24.315L108.333,29.404L116.667,34.283L125,42.565L133.333,49.011L141.667,57.923L150,65.667L158.333,60.778L166.667,61.092L175,76.642L183.333,93.809L191.667,107.863L191.667,107.863L183.333,93.809L175,76.642L166.667,61.092L158.333,60.778L150,65.667L141.667,57.923L133.333,49.011L125,42.565L116.667,34.283L108.333,29.404L100,24.315L91.667,15.083L83.333,7.259L75,15.219L66.667,31.199L58.333,47.023L50,72.582L41.667,95.221L33.333,105.758L25,116.671L16.667,120.017L8.333,121.142L0,117.228Z\" fill=\"#d62728\"/></g></g><path class=\"foreground\" aria-hidden=\"true\" d=\"\" display=\"none\"/></g><g transform=\"translate(0,0)\"><path class=\"background\" aria-hidden=\"true\" d=\"M0,0h200v200h-200Z\"/><g><g class=\"mark-area role-mark marks\" role=\"graphics-object\" aria-roledescription=\"area mark container\"><path aria-label=\"hour: 0; gen_sum: 0; resource: _solar_photovoltaic_btm\" role=\"graphics-symbol\" aria-roledescription=\"area mark\" d=\"M0,117.228L8.333,121.142L16.667,120.017L25,116.671L33.333,105.758L41.667,95.221L50,72.582L58.333,47.023L66.667,31.199L75,15.219L83.333,7.259L91.667,15.083L100,24.315L108.333,29.404L116.667,34.283L125,42.565L133.333,49.011L141.667,57.923L150,65.667L158.333,60.778L166.667,61.092L175,76.642L183.333,93.809L191.667,107.863L191.667,107.863L183.333,93.809L175,76.642L166.667,61.092L158.333,60.778L150,67.303L141.667,69.017L133.333,65.05L125,62.091L116.667,55.68L108.333,51.536L100,46.416L91.667,36.131L83.333,27.964L75,34.957L66.667,47.574L58.333,54.603L50,74.478L41.667,95.221L33.333,105.758L25,116.671L16.667,120.017L8.333,121.142L0,117.228Z\" fill=\"#9467bd\"/></g></g><path class=\"foreground\" aria-hidden=\"true\" d=\"\" display=\"none\"/></g><g transform=\"translate(0,0)\"><path class=\"background\" aria-hidden=\"true\" d=\"M0,0h200v200h-200Z\"/><g><g class=\"mark-area role-mark marks\" role=\"graphics-object\" aria-roledescription=\"area mark container\"><path aria-label=\"hour: 0; gen_sum: 0; resource: _curtailment\" role=\"graphics-symbol\" aria-roledescription=\"area mark\" d=\"M0,107.714L8.333,111.257L16.667,113.257L25,110.743L33.333,100.971L41.667,87.086L50,68.161L58.333,44.019L66.667,21.454L75,7.519L83.333,0.723L91.667,9.638L100,21.157L108.333,25.526L116.667,31.288L125,38.646L133.333,45.561L141.667,53.248L150,62.479L158.333,57.086L166.667,56.8L175,70.971L183.333,86.4L191.667,99.429L191.667,99.429L183.333,86.4L175,70.971L166.667,56.8L158.333,57.086L150,62.479L141.667,53.248L133.333,45.561L125,38.646L116.667,31.288L108.333,25.526L100,21.157L91.667,9.638L83.333,0.723L75,7.519L66.667,21.454L58.333,44.019L50,68.161L41.667,87.086L33.333,100.971L25,110.743L16.667,113.257L8.333,111.257L0,107.714Z\" fill=\"#1f77b4\"/></g></g><path class=\"foreground\" aria-hidden=\"true\" d=\"\" display=\"none\"/></g></g><g class=\"mark-group role-legend\" role=\"graphics-symbol\" aria-roledescription=\"legend\" aria-label=\"Symbol legend titled 'resource' for fill color with 9 values: _curtailment, _onshore_wind_turbine, _small_hydroelectric, _solar_photovoltaic, _solar_photovoltaic_btm, ending with natural_gas_fired_combustion_turbine\"><g transform=\"translate(218,0)\"><path class=\"background\" aria-hidden=\"true\" d=\"M0,0h174v131h-174Z\" pointer-events=\"none\"/><g><g class=\"mark-group role-legend-entry\"><g transform=\"translate(0,16)\"><path class=\"background\" aria-hidden=\"true\" d=\"M0,0h0v0h0Z\" pointer-events=\"none\"/><g><g class=\"mark-group role-scope\" role=\"graphics-object\" aria-roledescription=\"group mark container\"><g transform=\"translate(0,0)\"><path class=\"background\" aria-hidden=\"true\" d=\"M0,0h173.59765625v11h-173.59765625Z\" pointer-events=\"none\" opacity=\"1\"/><g><g class=\"mark-symbol role-legend-symbol\" pointer-events=\"none\"><path transform=\"translate(6,6)\" d=\"M5,0A5,5,0,1,1,-5,0A5,5,0,1,1,5,0\" fill=\"#1f77b4\" stroke-width=\"1.5\" opacity=\"1\"/></g><g class=\"mark-text role-legend-label\" pointer-events=\"none\"><text text-anchor=\"start\" transform=\"translate(16,9)\" font-family=\"sans-serif\" font-size=\"10px\" fill=\"#000\" opacity=\"1\">_curtailment</text></g></g><path class=\"foreground\" aria-hidden=\"true\" d=\"\" pointer-events=\"none\" display=\"none\"/></g><g transform=\"translate(0,13)\"><path class=\"background\" aria-hidden=\"true\" d=\"M0,0h173.59765625v11h-173.59765625Z\" pointer-events=\"none\" opacity=\"1\"/><g><g class=\"mark-symbol role-legend-symbol\" pointer-events=\"none\"><path transform=\"translate(6,6)\" d=\"M5,0A5,5,0,1,1,-5,0A5,5,0,1,1,5,0\" fill=\"#ff7f0e\" stroke-width=\"1.5\" opacity=\"1\"/></g><g class=\"mark-text role-legend-label\" pointer-events=\"none\"><text text-anchor=\"start\" transform=\"translate(16,9)\" font-family=\"sans-serif\" font-size=\"10px\" fill=\"#000\" opacity=\"1\">_onshore_wind_turbine</text></g></g><path class=\"foreground\" aria-hidden=\"true\" d=\"\" pointer-events=\"none\" display=\"none\"/></g><g transform=\"translate(0,26)\"><path class=\"background\" aria-hidden=\"true\" d=\"M0,0h173.59765625v11h-173.59765625Z\" pointer-events=\"none\" opacity=\"1\"/><g><g class=\"mark-symbol role-legend-symbol\" pointer-events=\"none\"><path transform=\"translate(6,6)\" d=\"M5,0A5,5,0,1,1,-5,0A5,5,0,1,1,5,0\" fill=\"#2ca02c\" stroke-width=\"1.5\" opacity=\"1\"/></g><g class=\"mark-text role-legend-label\" pointer-events=\"none\"><text text-anchor=\"start\" transform=\"translate(16,9)\" font-family=\"sans-serif\" font-size=\"10px\" fill=\"#000\" opacity=\"1\">_small_hydroelectric</text></g></g><path class=\"foreground\" aria-hidden=\"true\" d=\"\" pointer-events=\"none\" display=\"none\"/></g><g transform=\"translate(0,39)\"><path class=\"background\" aria-hidden=\"true\" d=\"M0,0h173.59765625v11h-173.59765625Z\" pointer-events=\"none\" opacity=\"1\"/><g><g class=\"mark-symbol role-legend-symbol\" pointer-events=\"none\"><path transform=\"translate(6,6)\" d=\"M5,0A5,5,0,1,1,-5,0A5,5,0,1,1,5,0\" fill=\"#d62728\" stroke-width=\"1.5\" opacity=\"1\"/></g><g class=\"mark-text role-legend-label\" pointer-events=\"none\"><text text-anchor=\"start\" transform=\"translate(16,9)\" font-family=\"sans-serif\" font-size=\"10px\" fill=\"#000\" opacity=\"1\">_solar_photovoltaic</text></g></g><path class=\"foreground\" aria-hidden=\"true\" d=\"\" pointer-events=\"none\" display=\"none\"/></g><g transform=\"translate(0,52)\"><path class=\"background\" aria-hidden=\"true\" d=\"M0,0h173.59765625v11h-173.59765625Z\" pointer-events=\"none\" opacity=\"1\"/><g><g class=\"mark-symbol role-legend-symbol\" pointer-events=\"none\"><path transform=\"translate(6,6)\" d=\"M5,0A5,5,0,1,1,-5,0A5,5,0,1,1,5,0\" fill=\"#9467bd\" stroke-width=\"1.5\" opacity=\"1\"/></g><g class=\"mark-text role-legend-label\" pointer-events=\"none\"><text text-anchor=\"start\" transform=\"translate(16,9)\" font-family=\"sans-serif\" font-size=\"10px\" fill=\"#000\" opacity=\"1\">_solar_photovoltaic_btm</text></g></g><path class=\"foreground\" aria-hidden=\"true\" d=\"\" pointer-events=\"none\" display=\"none\"/></g><g transform=\"translate(0,65)\"><path class=\"background\" aria-hidden=\"true\" d=\"M0,0h173.59765625v11h-173.59765625Z\" pointer-events=\"none\" opacity=\"1\"/><g><g class=\"mark-symbol role-legend-symbol\" pointer-events=\"none\"><path transform=\"translate(6,6)\" d=\"M5,0A5,5,0,1,1,-5,0A5,5,0,1,1,5,0\" fill=\"#8c564b\" stroke-width=\"1.5\" opacity=\"1\"/></g><g class=\"mark-text role-legend-label\" pointer-events=\"none\"><text text-anchor=\"start\" transform=\"translate(16,9)\" font-family=\"sans-serif\" font-size=\"10px\" fill=\"#000\" opacity=\"1\">biomass</text></g></g><path class=\"foreground\" aria-hidden=\"true\" d=\"\" pointer-events=\"none\" display=\"none\"/></g><g transform=\"translate(0,78)\"><path class=\"background\" aria-hidden=\"true\" d=\"M0,0h173.59765625v11h-173.59765625Z\" pointer-events=\"none\" opacity=\"1\"/><g><g class=\"mark-symbol role-legend-symbol\" pointer-events=\"none\"><path transform=\"translate(6,6)\" d=\"M5,0A5,5,0,1,1,-5,0A5,5,0,1,1,5,0\" fill=\"#e377c2\" stroke-width=\"1.5\" opacity=\"1\"/></g><g class=\"mark-text role-legend-label\" pointer-events=\"none\"><text text-anchor=\"start\" transform=\"translate(16,9)\" font-family=\"sans-serif\" font-size=\"10px\" fill=\"#000\" opacity=\"1\">hydroelectric_pumped_storage</text></g></g><path class=\"foreground\" aria-hidden=\"true\" d=\"\" pointer-events=\"none\" display=\"none\"/></g><g transform=\"translate(0,91)\"><path class=\"background\" aria-hidden=\"true\" d=\"M0,0h173.59765625v11h-173.59765625Z\" pointer-events=\"none\" opacity=\"1\"/><g><g class=\"mark-symbol role-legend-symbol\" pointer-events=\"none\"><path transform=\"translate(6,6)\" d=\"M5,0A5,5,0,1,1,-5,0A5,5,0,1,1,5,0\" fill=\"#7f7f7f\" stroke-width=\"1.5\" opacity=\"1\"/></g><g class=\"mark-text role-legend-label\" pointer-events=\"none\"><text text-anchor=\"start\" transform=\"translate(16,9)\" font-family=\"sans-serif\" font-size=\"10px\" fill=\"#000\" opacity=\"1\">natural_gas_fired_combined_cycle</text></g></g><path class=\"foreground\" aria-hidden=\"true\" d=\"\" pointer-events=\"none\" display=\"none\"/></g><g transform=\"translate(0,104)\"><path class=\"background\" aria-hidden=\"true\" d=\"M0,0h173.59765625v11h-173.59765625Z\" pointer-events=\"none\" opacity=\"1\"/><g><g class=\"mark-symbol role-legend-symbol\" pointer-events=\"none\"><path transform=\"translate(6,6)\" d=\"M5,0A5,5,0,1,1,-5,0A5,5,0,1,1,5,0\" fill=\"#bcbd22\" stroke-width=\"1.5\" opacity=\"1\"/></g><g class=\"mark-text role-legend-label\" pointer-events=\"none\"><text text-anchor=\"start\" transform=\"translate(16,9)\" font-family=\"sans-serif\" font-size=\"10px\" fill=\"#000\" opacity=\"1\">natural_gas_fired_combustion_tur…</text></g></g><path class=\"foreground\" aria-hidden=\"true\" d=\"\" pointer-events=\"none\" display=\"none\"/></g></g></g><path class=\"foreground\" aria-hidden=\"true\" d=\"\" pointer-events=\"none\" display=\"none\"/></g></g><g class=\"mark-text role-legend-title\" pointer-events=\"none\"><text text-anchor=\"start\" transform=\"translate(0,9)\" font-family=\"sans-serif\" font-size=\"11px\" font-weight=\"bold\" fill=\"#000\" opacity=\"1\">resource</text></g></g><path class=\"foreground\" aria-hidden=\"true\" d=\"\" pointer-events=\"none\" display=\"none\"/></g></g></g><path class=\"foreground\" aria-hidden=\"true\" d=\"\" display=\"none\"/></g></g></g></svg>"
      ],
      "text/plain": [
       "@vlplot(\n",
       "    mark=\"area\",\n",
       "    encoding={\n",
       "        x={\n",
       "            field=\"hour\"\n",
       "        },\n",
       "        y={\n",
       "            stack=\"zero\",\n",
       "            field=\"gen_sum\"\n",
       "        },\n",
       "        color={\n",
       "            scale={\n",
       "                scheme=\"category10\"\n",
       "            },\n",
       "            field=\"resource\",\n",
       "            type=\"nominal\"\n",
       "        }\n",
       "    },\n",
       "    data={\n",
       "        values=...\n",
       "    }\n",
       ")"
      ]
     },
     "metadata": {},
     "output_type": "display_data"
    }
   ],
   "source": [
    "solution = unit_commitment_full(gen_df_sens, loads_multi, gen_variable_multi, 0.02);\n",
    " # To keep solve times to a few minutes, we increase the MIP gap tolerance\n",
    " # in this more complex case to 2% (mip_gap=0.02). You can play with this setting to see \n",
    " # how the MIP gap affects solve times on your computer.\n",
    "   \n",
    "\n",
    "# Add in BTM solar and curtailment and plot results\n",
    "\n",
    "sol_gen = innerjoin(solution.gen, \n",
    "                    gen_df[!, [:r_id, :resource]], \n",
    "                    on = :r_id)\n",
    "sol_gen = combine(groupby(sol_gen, [:resource, :hour]), \n",
    "            :gen => sum)\n",
    "\n",
    "# Rename generators (for plotting purposes)\n",
    "sol_gen[sol_gen.resource .== \"solar_photovoltaic\", :resource] .= \"_solar_photovoltaic\"\n",
    "sol_gen[sol_gen.resource .== \"onshore_wind_turbine\", :resource] .= \"_onshore_wind_turbine\"\n",
    "sol_gen[sol_gen.resource .== \"small_hydroelectric\", :resource] .= \"_small_hydroelectric\"\n",
    "\n",
    "# BTM solar\n",
    "btm = DataFrame(resource = repeat([\"_solar_photovoltaic_btm\"]; outer=length(T_period)), \n",
    "    hour = T_period,\n",
    "    gen_sum = gen_variable_multi[gen_variable_multi.gen_full .== \"wec_sdge_solar_photovoltaic_1.0\",:cf] * 600)\n",
    "append!(sol_gen, btm)\n",
    "\n",
    "# Curtailment\n",
    "curtail = combine(groupby(solution.curtail, [:hour]),\n",
    "            :curt => sum)\n",
    "curtail[!, :resource] .= \"_curtailment\"\n",
    "rename!(curtail, :curt_sum => :gen_sum)\n",
    "append!(sol_gen, curtail[:,[:resource, :hour, :gen_sum]])\n",
    "\n",
    "# Rescale hours\n",
    "sol_gen.hour = sol_gen.hour .- T_period[1]\n",
    "\n",
    "sol_gen |>\n",
    "@vlplot(:area, \n",
    "    x=:hour, y={:gen_sum, stack=:zero}, \n",
    "    color={\"resource:n\", scale={scheme=\"category10\"}})"
   ]
  },
  {
   "cell_type": "markdown",
   "metadata": {},
   "source": [
    "We can now see that the need to maintain reserve requirements leads to greater commitment of natural gas units throughout the day. The addition of CCGTs and GTs to meet reserve requirements leads to greater curtailment of wind and solar in the afternoon hours. We also see more CT units committed during the morning ramp as well as the afternoon hours to help provide reserves."
   ]
  },
  {
   "cell_type": "code",
   "execution_count": 19,
   "metadata": {},
   "outputs": [
    {
     "data": {
      "text/html": [
       "<div><div style = \"float: left;\"><span>9×2 DataFrame</span></div><div style = \"clear: both;\"></div></div><div class = \"data-frame\" style = \"overflow-x: scroll;\"><table class = \"data-frame\" style = \"margin-bottom: 6px;\"><thead><tr class = \"header\"><th class = \"rowNumber\" style = \"font-weight: bold; text-align: right;\">Row</th><th style = \"text-align: left;\">resource</th><th style = \"text-align: left;\">gen_sum_sum</th></tr><tr class = \"subheader headerLastRow\"><th class = \"rowNumber\" style = \"font-weight: bold; text-align: right;\"></th><th title = \"Union{Missing, String}\" style = \"text-align: left;\">String?</th><th title = \"Float64\" style = \"text-align: left;\">Float64</th></tr></thead><tbody><tr><td class = \"rowNumber\" style = \"font-weight: bold; text-align: right;\">1</td><td style = \"text-align: left;\">biomass</td><td style = \"text-align: right;\">513.6</td></tr><tr><td class = \"rowNumber\" style = \"font-weight: bold; text-align: right;\">2</td><td style = \"text-align: left;\">hydroelectric_pumped_storage</td><td style = \"text-align: right;\">1008.0</td></tr><tr><td class = \"rowNumber\" style = \"font-weight: bold; text-align: right;\">3</td><td style = \"text-align: left;\">natural_gas_fired_combined_cycle</td><td style = \"text-align: right;\">39798.2</td></tr><tr><td class = \"rowNumber\" style = \"font-weight: bold; text-align: right;\">4</td><td style = \"text-align: left;\">natural_gas_fired_combustion_turbine</td><td style = \"text-align: right;\">11722.4</td></tr><tr><td class = \"rowNumber\" style = \"font-weight: bold; text-align: right;\">5</td><td style = \"text-align: left;\">_onshore_wind_turbine</td><td style = \"text-align: right;\">2314.42</td></tr><tr><td class = \"rowNumber\" style = \"font-weight: bold; text-align: right;\">6</td><td style = \"text-align: left;\">_small_hydroelectric</td><td style = \"text-align: right;\">76.4384</td></tr><tr><td class = \"rowNumber\" style = \"font-weight: bold; text-align: right;\">7</td><td style = \"text-align: left;\">_solar_photovoltaic</td><td style = \"text-align: right;\">0.0</td></tr><tr><td class = \"rowNumber\" style = \"font-weight: bold; text-align: right;\">8</td><td style = \"text-align: left;\">_solar_photovoltaic_btm</td><td style = \"text-align: right;\">3522.18</td></tr><tr><td class = \"rowNumber\" style = \"font-weight: bold; text-align: right;\">9</td><td style = \"text-align: left;\">_curtailment</td><td style = \"text-align: right;\">0.0</td></tr></tbody></table></div>"
      ],
      "text/latex": [
       "\\begin{tabular}{r|cc}\n",
       "\t& resource & gen\\_sum\\_sum\\\\\n",
       "\t\\hline\n",
       "\t& String? & Float64\\\\\n",
       "\t\\hline\n",
       "\t1 & biomass & 513.6 \\\\\n",
       "\t2 & hydroelectric\\_pumped\\_storage & 1008.0 \\\\\n",
       "\t3 & natural\\_gas\\_fired\\_combined\\_cycle & 39798.2 \\\\\n",
       "\t4 & natural\\_gas\\_fired\\_combustion\\_turbine & 11722.4 \\\\\n",
       "\t5 & \\_onshore\\_wind\\_turbine & 2314.42 \\\\\n",
       "\t6 & \\_small\\_hydroelectric & 76.4384 \\\\\n",
       "\t7 & \\_solar\\_photovoltaic & 0.0 \\\\\n",
       "\t8 & \\_solar\\_photovoltaic\\_btm & 3522.18 \\\\\n",
       "\t9 & \\_curtailment & 0.0 \\\\\n",
       "\\end{tabular}\n"
      ],
      "text/plain": [
       "\u001b[1m9×2 DataFrame\u001b[0m\n",
       "\u001b[1m Row \u001b[0m│\u001b[1m resource                          \u001b[0m\u001b[1m gen_sum_sum \u001b[0m\n",
       "     │\u001b[90m String?                           \u001b[0m\u001b[90m Float64     \u001b[0m\n",
       "─────┼────────────────────────────────────────────────\n",
       "   1 │ biomass                               513.6\n",
       "   2 │ hydroelectric_pumped_storage         1008.0\n",
       "   3 │ natural_gas_fired_combined_cycle    39798.2\n",
       "   4 │ natural_gas_fired_combustion_tur…   11722.4\n",
       "   5 │ _onshore_wind_turbine                2314.42\n",
       "   6 │ _small_hydroelectric                   76.4384\n",
       "   7 │ _solar_photovoltaic                     0.0\n",
       "   8 │ _solar_photovoltaic_btm              3522.18\n",
       "   9 │ _curtailment                            0.0"
      ]
     },
     "metadata": {},
     "output_type": "display_data"
    }
   ],
   "source": [
    "sol_gen\n",
    "sol_gen_summary = combine(groupby(sol_gen, :resource), :gen_sum => sum)\n",
    "sol_gen_summary"
   ]
  },
  {
   "cell_type": "code",
   "execution_count": 20,
   "metadata": {},
   "outputs": [
    {
     "data": {
      "text/html": [
       "<div><div style = \"float: left;\"><span>528×3 DataFrame</span></div><div style = \"float: right;\"><span style = \"font-style: italic;\">503 rows omitted</span></div><div style = \"clear: both;\"></div></div><div class = \"data-frame\" style = \"overflow-x: scroll;\"><table class = \"data-frame\" style = \"margin-bottom: 6px;\"><thead><tr class = \"header\"><th class = \"rowNumber\" style = \"font-weight: bold; text-align: right;\">Row</th><th style = \"text-align: left;\">r_id</th><th style = \"text-align: left;\">hour</th><th style = \"text-align: left;\">gen</th></tr><tr class = \"subheader headerLastRow\"><th class = \"rowNumber\" style = \"font-weight: bold; text-align: right;\"></th><th title = \"Union{Missing, Int64}\" style = \"text-align: left;\">Int64?</th><th title = \"Int64\" style = \"text-align: left;\">Int64</th><th title = \"Float64\" style = \"text-align: left;\">Float64</th></tr></thead><tbody><tr><td class = \"rowNumber\" style = \"font-weight: bold; text-align: right;\">1</td><td style = \"text-align: right;\">3</td><td style = \"text-align: right;\">2401</td><td style = \"text-align: right;\">0.0</td></tr><tr><td class = \"rowNumber\" style = \"font-weight: bold; text-align: right;\">2</td><td style = \"text-align: right;\">4</td><td style = \"text-align: right;\">2401</td><td style = \"text-align: right;\">0.0</td></tr><tr><td class = \"rowNumber\" style = \"font-weight: bold; text-align: right;\">3</td><td style = \"text-align: right;\">5</td><td style = \"text-align: right;\">2401</td><td style = \"text-align: right;\">0.0</td></tr><tr><td class = \"rowNumber\" style = \"font-weight: bold; text-align: right;\">4</td><td style = \"text-align: right;\">6</td><td style = \"text-align: right;\">2401</td><td style = \"text-align: right;\">0.0</td></tr><tr><td class = \"rowNumber\" style = \"font-weight: bold; text-align: right;\">5</td><td style = \"text-align: right;\">7</td><td style = \"text-align: right;\">2401</td><td style = \"text-align: right;\">0.0</td></tr><tr><td class = \"rowNumber\" style = \"font-weight: bold; text-align: right;\">6</td><td style = \"text-align: right;\">8</td><td style = \"text-align: right;\">2401</td><td style = \"text-align: right;\">0.0</td></tr><tr><td class = \"rowNumber\" style = \"font-weight: bold; text-align: right;\">7</td><td style = \"text-align: right;\">9</td><td style = \"text-align: right;\">2401</td><td style = \"text-align: right;\">0.0</td></tr><tr><td class = \"rowNumber\" style = \"font-weight: bold; text-align: right;\">8</td><td style = \"text-align: right;\">10</td><td style = \"text-align: right;\">2401</td><td style = \"text-align: right;\">0.0</td></tr><tr><td class = \"rowNumber\" style = \"font-weight: bold; text-align: right;\">9</td><td style = \"text-align: right;\">11</td><td style = \"text-align: right;\">2401</td><td style = \"text-align: right;\">0.0</td></tr><tr><td class = \"rowNumber\" style = \"font-weight: bold; text-align: right;\">10</td><td style = \"text-align: right;\">12</td><td style = \"text-align: right;\">2401</td><td style = \"text-align: right;\">0.0</td></tr><tr><td class = \"rowNumber\" style = \"font-weight: bold; text-align: right;\">11</td><td style = \"text-align: right;\">13</td><td style = \"text-align: right;\">2401</td><td style = \"text-align: right;\">0.0</td></tr><tr><td class = \"rowNumber\" style = \"font-weight: bold; text-align: right;\">12</td><td style = \"text-align: right;\">20</td><td style = \"text-align: right;\">2401</td><td style = \"text-align: right;\">0.0</td></tr><tr><td class = \"rowNumber\" style = \"font-weight: bold; text-align: right;\">13</td><td style = \"text-align: right;\">21</td><td style = \"text-align: right;\">2401</td><td style = \"text-align: right;\">0.0</td></tr><tr><td style = \"text-align: right;\">&vellip;</td><td style = \"text-align: right;\">&vellip;</td><td style = \"text-align: right;\">&vellip;</td><td style = \"text-align: right;\">&vellip;</td></tr><tr><td class = \"rowNumber\" style = \"font-weight: bold; text-align: right;\">517</td><td style = \"text-align: right;\">13</td><td style = \"text-align: right;\">2424</td><td style = \"text-align: right;\">0.0</td></tr><tr><td class = \"rowNumber\" style = \"font-weight: bold; text-align: right;\">518</td><td style = \"text-align: right;\">20</td><td style = \"text-align: right;\">2424</td><td style = \"text-align: right;\">0.0</td></tr><tr><td class = \"rowNumber\" style = \"font-weight: bold; text-align: right;\">519</td><td style = \"text-align: right;\">21</td><td style = \"text-align: right;\">2424</td><td style = \"text-align: right;\">0.0</td></tr><tr><td class = \"rowNumber\" style = \"font-weight: bold; text-align: right;\">520</td><td style = \"text-align: right;\">22</td><td style = \"text-align: right;\">2424</td><td style = \"text-align: right;\">0.0</td></tr><tr><td class = \"rowNumber\" style = \"font-weight: bold; text-align: right;\">521</td><td style = \"text-align: right;\">23</td><td style = \"text-align: right;\">2424</td><td style = \"text-align: right;\">0.0</td></tr><tr><td class = \"rowNumber\" style = \"font-weight: bold; text-align: right;\">522</td><td style = \"text-align: right;\">24</td><td style = \"text-align: right;\">2424</td><td style = \"text-align: right;\">0.0</td></tr><tr><td class = \"rowNumber\" style = \"font-weight: bold; text-align: right;\">523</td><td style = \"text-align: right;\">25</td><td style = \"text-align: right;\">2424</td><td style = \"text-align: right;\">0.0</td></tr><tr><td class = \"rowNumber\" style = \"font-weight: bold; text-align: right;\">524</td><td style = \"text-align: right;\">26</td><td style = \"text-align: right;\">2424</td><td style = \"text-align: right;\">0.0</td></tr><tr><td class = \"rowNumber\" style = \"font-weight: bold; text-align: right;\">525</td><td style = \"text-align: right;\">27</td><td style = \"text-align: right;\">2424</td><td style = \"text-align: right;\">0.0</td></tr><tr><td class = \"rowNumber\" style = \"font-weight: bold; text-align: right;\">526</td><td style = \"text-align: right;\">28</td><td style = \"text-align: right;\">2424</td><td style = \"text-align: right;\">0.0</td></tr><tr><td class = \"rowNumber\" style = \"font-weight: bold; text-align: right;\">527</td><td style = \"text-align: right;\">29</td><td style = \"text-align: right;\">2424</td><td style = \"text-align: right;\">0.0</td></tr><tr><td class = \"rowNumber\" style = \"font-weight: bold; text-align: right;\">528</td><td style = \"text-align: right;\">30</td><td style = \"text-align: right;\">2424</td><td style = \"text-align: right;\">0.0</td></tr></tbody></table></div>"
      ],
      "text/latex": [
       "\\begin{tabular}{r|ccc}\n",
       "\t& r\\_id & hour & gen\\\\\n",
       "\t\\hline\n",
       "\t& Int64? & Int64 & Float64\\\\\n",
       "\t\\hline\n",
       "\t1 & 3 & 2401 & 0.0 \\\\\n",
       "\t2 & 4 & 2401 & 0.0 \\\\\n",
       "\t3 & 5 & 2401 & 0.0 \\\\\n",
       "\t4 & 6 & 2401 & 0.0 \\\\\n",
       "\t5 & 7 & 2401 & 0.0 \\\\\n",
       "\t6 & 8 & 2401 & 0.0 \\\\\n",
       "\t7 & 9 & 2401 & 0.0 \\\\\n",
       "\t8 & 10 & 2401 & 0.0 \\\\\n",
       "\t9 & 11 & 2401 & 0.0 \\\\\n",
       "\t10 & 12 & 2401 & 0.0 \\\\\n",
       "\t11 & 13 & 2401 & 0.0 \\\\\n",
       "\t12 & 20 & 2401 & 0.0 \\\\\n",
       "\t13 & 21 & 2401 & 0.0 \\\\\n",
       "\t14 & 22 & 2401 & 0.0 \\\\\n",
       "\t15 & 23 & 2401 & 0.0 \\\\\n",
       "\t16 & 24 & 2401 & 0.0 \\\\\n",
       "\t17 & 25 & 2401 & 0.0 \\\\\n",
       "\t18 & 26 & 2401 & 0.0 \\\\\n",
       "\t19 & 27 & 2401 & 0.0 \\\\\n",
       "\t20 & 28 & 2401 & 0.0 \\\\\n",
       "\t21 & 29 & 2401 & 0.0 \\\\\n",
       "\t22 & 30 & 2401 & 0.0 \\\\\n",
       "\t23 & 3 & 2402 & 0.0 \\\\\n",
       "\t24 & 4 & 2402 & 0.0 \\\\\n",
       "\t$\\dots$ & $\\dots$ & $\\dots$ & $\\dots$ \\\\\n",
       "\\end{tabular}\n"
      ],
      "text/plain": [
       "\u001b[1m528×3 DataFrame\u001b[0m\n",
       "\u001b[1m Row \u001b[0m│\u001b[1m r_id   \u001b[0m\u001b[1m hour  \u001b[0m\u001b[1m gen     \u001b[0m\n",
       "     │\u001b[90m Int64? \u001b[0m\u001b[90m Int64 \u001b[0m\u001b[90m Float64 \u001b[0m\n",
       "─────┼────────────────────────\n",
       "   1 │      3   2401      0.0\n",
       "   2 │      4   2401      0.0\n",
       "   3 │      5   2401      0.0\n",
       "   4 │      6   2401      0.0\n",
       "   5 │      7   2401      0.0\n",
       "   6 │      8   2401      0.0\n",
       "   7 │      9   2401      0.0\n",
       "   8 │     10   2401      0.0\n",
       "  ⋮  │   ⋮       ⋮       ⋮\n",
       " 522 │     24   2424      0.0\n",
       " 523 │     25   2424      0.0\n",
       " 524 │     26   2424      0.0\n",
       " 525 │     27   2424      0.0\n",
       " 526 │     28   2424      0.0\n",
       " 527 │     29   2424      0.0\n",
       " 528 │     30   2424      0.0\n",
       "\u001b[36m              513 rows omitted\u001b[0m"
      ]
     },
     "metadata": {},
     "output_type": "display_data"
    }
   ],
   "source": [
    "solution.start"
   ]
  },
  {
   "cell_type": "code",
   "execution_count": 21,
   "metadata": {},
   "outputs": [
    {
     "data": {
      "application/vnd.vegalite.v5+json": {
       "data": {
        "values": [
         {
          "gen_sum": 6,
          "hour": 0,
          "resource": "natural_gas_fired_combined_cycle"
         },
         {
          "gen_sum": 6,
          "hour": 0,
          "resource": "natural_gas_fired_combustion_turbine"
         },
         {
          "gen_sum": 6,
          "hour": 1,
          "resource": "natural_gas_fired_combined_cycle"
         },
         {
          "gen_sum": 6,
          "hour": 1,
          "resource": "natural_gas_fired_combustion_turbine"
         },
         {
          "gen_sum": 6,
          "hour": 2,
          "resource": "natural_gas_fired_combined_cycle"
         },
         {
          "gen_sum": 6,
          "hour": 2,
          "resource": "natural_gas_fired_combustion_turbine"
         },
         {
          "gen_sum": 6,
          "hour": 3,
          "resource": "natural_gas_fired_combined_cycle"
         },
         {
          "gen_sum": 6,
          "hour": 3,
          "resource": "natural_gas_fired_combustion_turbine"
         },
         {
          "gen_sum": 6,
          "hour": 4,
          "resource": "natural_gas_fired_combined_cycle"
         },
         {
          "gen_sum": 6,
          "hour": 4,
          "resource": "natural_gas_fired_combustion_turbine"
         },
         {
          "gen_sum": 6,
          "hour": 5,
          "resource": "natural_gas_fired_combined_cycle"
         },
         {
          "gen_sum": 6,
          "hour": 5,
          "resource": "natural_gas_fired_combustion_turbine"
         },
         {
          "gen_sum": 6,
          "hour": 6,
          "resource": "natural_gas_fired_combined_cycle"
         },
         {
          "gen_sum": 6,
          "hour": 6,
          "resource": "natural_gas_fired_combustion_turbine"
         },
         {
          "gen_sum": 6,
          "hour": 7,
          "resource": "natural_gas_fired_combined_cycle"
         },
         {
          "gen_sum": 7,
          "hour": 7,
          "resource": "natural_gas_fired_combustion_turbine"
         },
         {
          "gen_sum": 6,
          "hour": 8,
          "resource": "natural_gas_fired_combined_cycle"
         },
         {
          "gen_sum": 8,
          "hour": 8,
          "resource": "natural_gas_fired_combustion_turbine"
         },
         {
          "gen_sum": 6,
          "hour": 9,
          "resource": "natural_gas_fired_combined_cycle"
         },
         {
          "gen_sum": 8,
          "hour": 9,
          "resource": "natural_gas_fired_combustion_turbine"
         },
         {
          "gen_sum": 6,
          "hour": 10,
          "resource": "natural_gas_fired_combined_cycle"
         },
         {
          "gen_sum": 8,
          "hour": 10,
          "resource": "natural_gas_fired_combustion_turbine"
         },
         {
          "gen_sum": 6,
          "hour": 11,
          "resource": "natural_gas_fired_combined_cycle"
         },
         {
          "gen_sum": 7,
          "hour": 11,
          "resource": "natural_gas_fired_combustion_turbine"
         },
         {
          "gen_sum": 6,
          "hour": 12,
          "resource": "natural_gas_fired_combined_cycle"
         },
         {
          "gen_sum": 7,
          "hour": 12,
          "resource": "natural_gas_fired_combustion_turbine"
         },
         {
          "gen_sum": 6,
          "hour": 13,
          "resource": "natural_gas_fired_combined_cycle"
         },
         {
          "gen_sum": 7,
          "hour": 13,
          "resource": "natural_gas_fired_combustion_turbine"
         },
         {
          "gen_sum": 6,
          "hour": 14,
          "resource": "natural_gas_fired_combined_cycle"
         },
         {
          "gen_sum": 7,
          "hour": 14,
          "resource": "natural_gas_fired_combustion_turbine"
         },
         {
          "gen_sum": 6,
          "hour": 15,
          "resource": "natural_gas_fired_combined_cycle"
         },
         {
          "gen_sum": 5,
          "hour": 15,
          "resource": "natural_gas_fired_combustion_turbine"
         },
         {
          "gen_sum": 6,
          "hour": 16,
          "resource": "natural_gas_fired_combined_cycle"
         },
         {
          "gen_sum": 5,
          "hour": 16,
          "resource": "natural_gas_fired_combustion_turbine"
         },
         {
          "gen_sum": 6,
          "hour": 17,
          "resource": "natural_gas_fired_combined_cycle"
         },
         {
          "gen_sum": 5,
          "hour": 17,
          "resource": "natural_gas_fired_combustion_turbine"
         },
         {
          "gen_sum": 6,
          "hour": 18,
          "resource": "natural_gas_fired_combined_cycle"
         },
         {
          "gen_sum": 5,
          "hour": 18,
          "resource": "natural_gas_fired_combustion_turbine"
         },
         {
          "gen_sum": 6,
          "hour": 19,
          "resource": "natural_gas_fired_combined_cycle"
         },
         {
          "gen_sum": 5,
          "hour": 19,
          "resource": "natural_gas_fired_combustion_turbine"
         },
         {
          "gen_sum": 6,
          "hour": 20,
          "resource": "natural_gas_fired_combined_cycle"
         },
         {
          "gen_sum": 5,
          "hour": 20,
          "resource": "natural_gas_fired_combustion_turbine"
         },
         {
          "gen_sum": 6,
          "hour": 21,
          "resource": "natural_gas_fired_combined_cycle"
         },
         {
          "gen_sum": 3,
          "hour": 21,
          "resource": "natural_gas_fired_combustion_turbine"
         },
         {
          "gen_sum": 6,
          "hour": 22,
          "resource": "natural_gas_fired_combined_cycle"
         },
         {
          "gen_sum": 2,
          "hour": 22,
          "resource": "natural_gas_fired_combustion_turbine"
         },
         {
          "gen_sum": 5,
          "hour": 23,
          "resource": "natural_gas_fired_combined_cycle"
         },
         {
          "gen_sum": 2,
          "hour": 23,
          "resource": "natural_gas_fired_combustion_turbine"
         }
        ]
       },
       "encoding": {
        "color": {
         "field": "resource",
         "scale": {
          "scheme": "category10"
         },
         "type": "nominal"
        },
        "x": {
         "field": "hour",
         "type": "quantitative"
        },
        "y": {
         "field": "gen_sum",
         "stack": "zero",
         "type": "quantitative"
        }
       },
       "mark": "area"
      },
      "image/png": "[encoded data removed]",
      "image/svg+xml": [
       "<svg xmlns=\"http://www.w3.org/2000/svg\" xmlns:xlink=\"http://www.w3.org/1999/xlink\" version=\"1.1\" class=\"marks\" width=\"435\" height=\"247\" viewBox=\"0 0 435 247\"><rect width=\"435\" height=\"247\" fill=\"white\"/><g fill=\"none\" stroke-miterlimit=\"10\" transform=\"translate(38,10)\"><g class=\"mark-group role-frame root\" role=\"graphics-object\" aria-roledescription=\"group mark container\"><g transform=\"translate(0,0)\"><path class=\"background\" aria-hidden=\"true\" d=\"M0.5,0.5h200v200h-200Z\" stroke=\"#ddd\"/><g><g class=\"mark-group role-axis\" aria-hidden=\"true\"><g transform=\"translate(0.5,200.5)\"><path class=\"background\" aria-hidden=\"true\" d=\"M0,0h0v0h0Z\" pointer-events=\"none\"/><g><g class=\"mark-rule role-axis-grid\" pointer-events=\"none\"><line transform=\"translate(0,-200)\" x2=\"0\" y2=\"200\" stroke=\"#ddd\" stroke-width=\"1\" opacity=\"1\"/><line transform=\"translate(42,-200)\" x2=\"0\" y2=\"200\" stroke=\"#ddd\" stroke-width=\"1\" opacity=\"1\"/><line transform=\"translate(83,-200)\" x2=\"0\" y2=\"200\" stroke=\"#ddd\" stroke-width=\"1\" opacity=\"1\"/><line transform=\"translate(125,-200)\" x2=\"0\" y2=\"200\" stroke=\"#ddd\" stroke-width=\"1\" opacity=\"1\"/><line transform=\"translate(167,-200)\" x2=\"0\" y2=\"200\" stroke=\"#ddd\" stroke-width=\"1\" opacity=\"1\"/></g></g><path class=\"foreground\" aria-hidden=\"true\" d=\"\" pointer-events=\"none\" display=\"none\"/></g></g><g class=\"mark-group role-axis\" aria-hidden=\"true\"><g transform=\"translate(0.5,0.5)\"><path class=\"background\" aria-hidden=\"true\" d=\"M0,0h0v0h0Z\" pointer-events=\"none\"/><g><g class=\"mark-rule role-axis-grid\" pointer-events=\"none\"><line transform=\"translate(0,200)\" x2=\"200\" y2=\"0\" stroke=\"#ddd\" stroke-width=\"1\" opacity=\"1\"/><line transform=\"translate(0,171)\" x2=\"200\" y2=\"0\" stroke=\"#ddd\" stroke-width=\"1\" opacity=\"1\"/><line transform=\"translate(0,143)\" x2=\"200\" y2=\"0\" stroke=\"#ddd\" stroke-width=\"1\" opacity=\"1\"/><line transform=\"translate(0,114)\" x2=\"200\" y2=\"0\" stroke=\"#ddd\" stroke-width=\"1\" opacity=\"1\"/><line transform=\"translate(0,86)\" x2=\"200\" y2=\"0\" stroke=\"#ddd\" stroke-width=\"1\" opacity=\"1\"/><line transform=\"translate(0,57)\" x2=\"200\" y2=\"0\" stroke=\"#ddd\" stroke-width=\"1\" opacity=\"1\"/><line transform=\"translate(0,29)\" x2=\"200\" y2=\"0\" stroke=\"#ddd\" stroke-width=\"1\" opacity=\"1\"/><line transform=\"translate(0,0)\" x2=\"200\" y2=\"0\" stroke=\"#ddd\" stroke-width=\"1\" opacity=\"1\"/></g></g><path class=\"foreground\" aria-hidden=\"true\" d=\"\" pointer-events=\"none\" display=\"none\"/></g></g><g class=\"mark-group role-axis\" role=\"graphics-symbol\" aria-roledescription=\"axis\" aria-label=\"X-axis titled 'hour' for a linear scale with values from 0 to 24\"><g transform=\"translate(0.5,200.5)\"><path class=\"background\" aria-hidden=\"true\" d=\"M0,0h0v0h0Z\" pointer-events=\"none\"/><g><g class=\"mark-rule role-axis-tick\" pointer-events=\"none\"><line transform=\"translate(0,0)\" x2=\"0\" y2=\"5\" stroke=\"#888\" stroke-width=\"1\" opacity=\"1\"/><line transform=\"translate(42,0)\" x2=\"0\" y2=\"5\" stroke=\"#888\" stroke-width=\"1\" opacity=\"1\"/><line transform=\"translate(83,0)\" x2=\"0\" y2=\"5\" stroke=\"#888\" stroke-width=\"1\" opacity=\"1\"/><line transform=\"translate(125,0)\" x2=\"0\" y2=\"5\" stroke=\"#888\" stroke-width=\"1\" opacity=\"1\"/><line transform=\"translate(167,0)\" x2=\"0\" y2=\"5\" stroke=\"#888\" stroke-width=\"1\" opacity=\"1\"/></g><g class=\"mark-text role-axis-label\" pointer-events=\"none\"><text text-anchor=\"start\" transform=\"translate(0,15)\" font-family=\"sans-serif\" font-size=\"10px\" fill=\"#000\" opacity=\"1\">0</text><text text-anchor=\"middle\" transform=\"translate(41.66666666666667,15)\" font-family=\"sans-serif\" font-size=\"10px\" fill=\"#000\" opacity=\"1\">5</text><text text-anchor=\"middle\" transform=\"translate(83.33333333333334,15)\" font-family=\"sans-serif\" font-size=\"10px\" fill=\"#000\" opacity=\"1\">10</text><text text-anchor=\"middle\" transform=\"translate(125,15)\" font-family=\"sans-serif\" font-size=\"10px\" fill=\"#000\" opacity=\"1\">15</text><text text-anchor=\"middle\" transform=\"translate(166.66666666666669,15)\" font-family=\"sans-serif\" font-size=\"10px\" fill=\"#000\" opacity=\"1\">20</text></g><g class=\"mark-rule role-axis-domain\" pointer-events=\"none\"><line transform=\"translate(0,0)\" x2=\"200\" y2=\"0\" stroke=\"#888\" stroke-width=\"1\" opacity=\"1\"/></g><g class=\"mark-text role-axis-title\" pointer-events=\"none\"><text text-anchor=\"middle\" transform=\"translate(100,30)\" font-family=\"sans-serif\" font-size=\"11px\" font-weight=\"bold\" fill=\"#000\" opacity=\"1\">hour</text></g></g><path class=\"foreground\" aria-hidden=\"true\" d=\"\" pointer-events=\"none\" display=\"none\"/></g></g><g class=\"mark-group role-axis\" role=\"graphics-symbol\" aria-roledescription=\"axis\" aria-label=\"Y-axis titled 'gen_sum' for a linear scale with values from 0 to 14\"><g transform=\"translate(0.5,0.5)\"><path class=\"background\" aria-hidden=\"true\" d=\"M0,0h0v0h0Z\" pointer-events=\"none\"/><g><g class=\"mark-rule role-axis-tick\" pointer-events=\"none\"><line transform=\"translate(0,200)\" x2=\"-5\" y2=\"0\" stroke=\"#888\" stroke-width=\"1\" opacity=\"1\"/><line transform=\"translate(0,171)\" x2=\"-5\" y2=\"0\" stroke=\"#888\" stroke-width=\"1\" opacity=\"1\"/><line transform=\"translate(0,143)\" x2=\"-5\" y2=\"0\" stroke=\"#888\" stroke-width=\"1\" opacity=\"1\"/><line transform=\"translate(0,114)\" x2=\"-5\" y2=\"0\" stroke=\"#888\" stroke-width=\"1\" opacity=\"1\"/><line transform=\"translate(0,86)\" x2=\"-5\" y2=\"0\" stroke=\"#888\" stroke-width=\"1\" opacity=\"1\"/><line transform=\"translate(0,57)\" x2=\"-5\" y2=\"0\" stroke=\"#888\" stroke-width=\"1\" opacity=\"1\"/><line transform=\"translate(0,29)\" x2=\"-5\" y2=\"0\" stroke=\"#888\" stroke-width=\"1\" opacity=\"1\"/><line transform=\"translate(0,0)\" x2=\"-5\" y2=\"0\" stroke=\"#888\" stroke-width=\"1\" opacity=\"1\"/></g><g class=\"mark-text role-axis-label\" pointer-events=\"none\"><text text-anchor=\"end\" transform=\"translate(-7,203)\" font-family=\"sans-serif\" font-size=\"10px\" fill=\"#000\" opacity=\"1\">0</text><text text-anchor=\"end\" transform=\"translate(-7,174.42857142857144)\" font-family=\"sans-serif\" font-size=\"10px\" fill=\"#000\" opacity=\"1\">2</text><text text-anchor=\"end\" transform=\"translate(-7,145.85714285714286)\" font-family=\"sans-serif\" font-size=\"10px\" fill=\"#000\" opacity=\"1\">4</text><text text-anchor=\"end\" transform=\"translate(-7,117.28571428571428)\" font-family=\"sans-serif\" font-size=\"10px\" fill=\"#000\" opacity=\"1\">6</text><text text-anchor=\"end\" transform=\"translate(-7,88.71428571428572)\" font-family=\"sans-serif\" font-size=\"10px\" fill=\"#000\" opacity=\"1\">8</text><text text-anchor=\"end\" transform=\"translate(-7,60.14285714285714)\" font-family=\"sans-serif\" font-size=\"10px\" fill=\"#000\" opacity=\"1\">10</text><text text-anchor=\"end\" transform=\"translate(-7,31.57142857142858)\" font-family=\"sans-serif\" font-size=\"10px\" fill=\"#000\" opacity=\"1\">12</text><text text-anchor=\"end\" transform=\"translate(-7,3)\" font-family=\"sans-serif\" font-size=\"10px\" fill=\"#000\" opacity=\"1\">14</text></g><g class=\"mark-rule role-axis-domain\" pointer-events=\"none\"><line transform=\"translate(0,200)\" x2=\"0\" y2=\"-200\" stroke=\"#888\" stroke-width=\"1\" opacity=\"1\"/></g><g class=\"mark-text role-axis-title\" pointer-events=\"none\"><text text-anchor=\"middle\" transform=\"translate(-21.91796875,100) rotate(-90) translate(0,-2)\" font-family=\"sans-serif\" font-size=\"11px\" font-weight=\"bold\" fill=\"#000\" opacity=\"1\">gen_sum</text></g></g><path class=\"foreground\" aria-hidden=\"true\" d=\"\" pointer-events=\"none\" display=\"none\"/></g></g><g class=\"mark-group role-scope pathgroup\" role=\"graphics-object\" aria-roledescription=\"group mark container\"><g transform=\"translate(0,0)\"><path class=\"background\" aria-hidden=\"true\" d=\"M0,0h200v200h-200Z\"/><g><g class=\"mark-area role-mark marks\" role=\"graphics-object\" aria-roledescription=\"area mark container\"><path aria-label=\"hour: 0; gen_sum: 6; resource: natural_gas_fired_combined_cycle\" role=\"graphics-symbol\" aria-roledescription=\"area mark\" d=\"M0,28.571L8.333,28.571L16.667,28.571L25,28.571L33.333,28.571L41.667,28.571L50,28.571L58.333,14.286L66.667,0L75,0L83.333,0L91.667,14.286L100,14.286L108.333,14.286L116.667,14.286L125,42.857L133.333,42.857L141.667,42.857L150,42.857L158.333,42.857L166.667,42.857L175,71.429L183.333,85.714L191.667,100L191.667,171.429L183.333,171.429L175,157.143L166.667,128.571L158.333,128.571L150,128.571L141.667,128.571L133.333,128.571L125,128.571L116.667,100L108.333,100L100,100L91.667,100L83.333,85.714L75,85.714L66.667,85.714L58.333,100L50,114.286L41.667,114.286L33.333,114.286L25,114.286L16.667,114.286L8.333,114.286L0,114.286Z\" fill=\"#1f77b4\"/></g></g><path class=\"foreground\" aria-hidden=\"true\" d=\"\" display=\"none\"/></g><g transform=\"translate(0,0)\"><path class=\"background\" aria-hidden=\"true\" d=\"M0,0h200v200h-200Z\"/><g><g class=\"mark-area role-mark marks\" role=\"graphics-object\" aria-roledescription=\"area mark container\"><path aria-label=\"hour: 0; gen_sum: 6; resource: natural_gas_fired_combustion_turbine\" role=\"graphics-symbol\" aria-roledescription=\"area mark\" d=\"M0,114.286L8.333,114.286L16.667,114.286L25,114.286L33.333,114.286L41.667,114.286L50,114.286L58.333,100L66.667,85.714L75,85.714L83.333,85.714L91.667,100L100,100L108.333,100L116.667,100L125,128.571L133.333,128.571L141.667,128.571L150,128.571L158.333,128.571L166.667,128.571L175,157.143L183.333,171.429L191.667,171.429L191.667,200L183.333,200L175,200L166.667,200L158.333,200L150,200L141.667,200L133.333,200L125,200L116.667,200L108.333,200L100,200L91.667,200L83.333,200L75,200L66.667,200L58.333,200L50,200L41.667,200L33.333,200L25,200L16.667,200L8.333,200L0,200Z\" fill=\"#ff7f0e\"/></g></g><path class=\"foreground\" aria-hidden=\"true\" d=\"\" display=\"none\"/></g></g><g class=\"mark-group role-legend\" role=\"graphics-symbol\" aria-roledescription=\"legend\" aria-label=\"Symbol legend titled 'resource' for fill color with 2 values: natural_gas_fired_combined_cycle, natural_gas_fired_combustion_turbine\"><g transform=\"translate(218,0)\"><path class=\"background\" aria-hidden=\"true\" d=\"M0,0h174v40h-174Z\" pointer-events=\"none\"/><g><g class=\"mark-group role-legend-entry\"><g transform=\"translate(0,16)\"><path class=\"background\" aria-hidden=\"true\" d=\"M0,0h0v0h0Z\" pointer-events=\"none\"/><g><g class=\"mark-group role-scope\" role=\"graphics-object\" aria-roledescription=\"group mark container\"><g transform=\"translate(0,0)\"><path class=\"background\" aria-hidden=\"true\" d=\"M0,0h173.59765625v11h-173.59765625Z\" pointer-events=\"none\" opacity=\"1\"/><g><g class=\"mark-symbol role-legend-symbol\" pointer-events=\"none\"><path transform=\"translate(6,6)\" d=\"M5,0A5,5,0,1,1,-5,0A5,5,0,1,1,5,0\" fill=\"#1f77b4\" stroke-width=\"1.5\" opacity=\"1\"/></g><g class=\"mark-text role-legend-label\" pointer-events=\"none\"><text text-anchor=\"start\" transform=\"translate(16,9)\" font-family=\"sans-serif\" font-size=\"10px\" fill=\"#000\" opacity=\"1\">natural_gas_fired_combined_cycle</text></g></g><path class=\"foreground\" aria-hidden=\"true\" d=\"\" pointer-events=\"none\" display=\"none\"/></g><g transform=\"translate(0,13)\"><path class=\"background\" aria-hidden=\"true\" d=\"M0,0h173.59765625v11h-173.59765625Z\" pointer-events=\"none\" opacity=\"1\"/><g><g class=\"mark-symbol role-legend-symbol\" pointer-events=\"none\"><path transform=\"translate(6,6)\" d=\"M5,0A5,5,0,1,1,-5,0A5,5,0,1,1,5,0\" fill=\"#ff7f0e\" stroke-width=\"1.5\" opacity=\"1\"/></g><g class=\"mark-text role-legend-label\" pointer-events=\"none\"><text text-anchor=\"start\" transform=\"translate(16,9)\" font-family=\"sans-serif\" font-size=\"10px\" fill=\"#000\" opacity=\"1\">natural_gas_fired_combustion_tur…</text></g></g><path class=\"foreground\" aria-hidden=\"true\" d=\"\" pointer-events=\"none\" display=\"none\"/></g></g></g><path class=\"foreground\" aria-hidden=\"true\" d=\"\" pointer-events=\"none\" display=\"none\"/></g></g><g class=\"mark-text role-legend-title\" pointer-events=\"none\"><text text-anchor=\"start\" transform=\"translate(0,9)\" font-family=\"sans-serif\" font-size=\"11px\" font-weight=\"bold\" fill=\"#000\" opacity=\"1\">resource</text></g></g><path class=\"foreground\" aria-hidden=\"true\" d=\"\" pointer-events=\"none\" display=\"none\"/></g></g></g><path class=\"foreground\" aria-hidden=\"true\" d=\"\" display=\"none\"/></g></g></g></svg>"
      ],
      "text/plain": [
       "@vlplot(\n",
       "    mark=\"area\",\n",
       "    encoding={\n",
       "        x={\n",
       "            field=\"hour\"\n",
       "        },\n",
       "        y={\n",
       "            stack=\"zero\",\n",
       "            field=\"gen_sum\"\n",
       "        },\n",
       "        color={\n",
       "            scale={\n",
       "                scheme=\"category10\"\n",
       "            },\n",
       "            field=\"resource\",\n",
       "            type=\"nominal\"\n",
       "        }\n",
       "    },\n",
       "    data={\n",
       "        values=...\n",
       "    }\n",
       ")"
      ]
     },
     "metadata": {},
     "output_type": "display_data"
    }
   ],
   "source": [
    "sol_commit = innerjoin(solution.commit, \n",
    "                    gen_df[!, [:r_id, :resource]], \n",
    "                    on = :r_id)\n",
    "sol_commit = combine(groupby(sol_commit, [:resource, :hour]), \n",
    "            :gen => sum)\n",
    "sol_commit.hour = sol_commit.hour .- T_period[1]\n",
    "\n",
    "sol_commit |>\n",
    "@vlplot(:area, \n",
    "    x=:hour, y={:gen_sum, stack=:zero}, \n",
    "    color={\"resource:n\", scale={scheme=\"category10\"}})"
   ]
  },
  {
   "cell_type": "code",
   "execution_count": 22,
   "metadata": {},
   "outputs": [
    {
     "data": {
      "text/html": [
       "<div><div style = \"float: left;\"><span>2×2 DataFrame</span></div><div style = \"clear: both;\"></div></div><div class = \"data-frame\" style = \"overflow-x: scroll;\"><table class = \"data-frame\" style = \"margin-bottom: 6px;\"><thead><tr class = \"header\"><th class = \"rowNumber\" style = \"font-weight: bold; text-align: right;\">Row</th><th style = \"text-align: left;\">resource</th><th style = \"text-align: left;\">gen_sum_sum</th></tr><tr class = \"subheader headerLastRow\"><th class = \"rowNumber\" style = \"font-weight: bold; text-align: right;\"></th><th title = \"Union{Missing, String}\" style = \"text-align: left;\">String?</th><th title = \"Float64\" style = \"text-align: left;\">Float64</th></tr></thead><tbody><tr><td class = \"rowNumber\" style = \"font-weight: bold; text-align: right;\">1</td><td style = \"text-align: left;\">natural_gas_fired_combined_cycle</td><td style = \"text-align: right;\">143.0</td></tr><tr><td class = \"rowNumber\" style = \"font-weight: bold; text-align: right;\">2</td><td style = \"text-align: left;\">natural_gas_fired_combustion_turbine</td><td style = \"text-align: right;\">138.0</td></tr></tbody></table></div>"
      ],
      "text/latex": [
       "\\begin{tabular}{r|cc}\n",
       "\t& resource & gen\\_sum\\_sum\\\\\n",
       "\t\\hline\n",
       "\t& String? & Float64\\\\\n",
       "\t\\hline\n",
       "\t1 & natural\\_gas\\_fired\\_combined\\_cycle & 143.0 \\\\\n",
       "\t2 & natural\\_gas\\_fired\\_combustion\\_turbine & 138.0 \\\\\n",
       "\\end{tabular}\n"
      ],
      "text/plain": [
       "\u001b[1m2×2 DataFrame\u001b[0m\n",
       "\u001b[1m Row \u001b[0m│\u001b[1m resource                          \u001b[0m\u001b[1m gen_sum_sum \u001b[0m\n",
       "     │\u001b[90m String?                           \u001b[0m\u001b[90m Float64     \u001b[0m\n",
       "─────┼────────────────────────────────────────────────\n",
       "   1 │ natural_gas_fired_combined_cycle         143.0\n",
       "   2 │ natural_gas_fired_combustion_tur…        138.0"
      ]
     },
     "metadata": {},
     "output_type": "display_data"
    }
   ],
   "source": [
    "# plot the hourly commit status \n",
    "sol_commit_summary = combine(groupby(sol_commit, :resource), :gen_sum => sum)"
   ]
  },
  {
   "cell_type": "code",
   "execution_count": 23,
   "metadata": {},
   "outputs": [
    {
     "data": {
      "application/vnd.vegalite.v5+json": {
       "data": {
        "values": [
         {
          "gen_sum": 0,
          "hour": 0,
          "resource": "natural_gas_fired_combined_cycle"
         },
         {
          "gen_sum": 0,
          "hour": 0,
          "resource": "natural_gas_fired_combustion_turbine"
         },
         {
          "gen_sum": 0,
          "hour": 1,
          "resource": "natural_gas_fired_combined_cycle"
         },
         {
          "gen_sum": 0,
          "hour": 1,
          "resource": "natural_gas_fired_combustion_turbine"
         },
         {
          "gen_sum": 0,
          "hour": 2,
          "resource": "natural_gas_fired_combined_cycle"
         },
         {
          "gen_sum": 0,
          "hour": 2,
          "resource": "natural_gas_fired_combustion_turbine"
         },
         {
          "gen_sum": 0,
          "hour": 3,
          "resource": "natural_gas_fired_combined_cycle"
         },
         {
          "gen_sum": 0,
          "hour": 3,
          "resource": "natural_gas_fired_combustion_turbine"
         },
         {
          "gen_sum": 0,
          "hour": 4,
          "resource": "natural_gas_fired_combined_cycle"
         },
         {
          "gen_sum": 0,
          "hour": 4,
          "resource": "natural_gas_fired_combustion_turbine"
         },
         {
          "gen_sum": 0,
          "hour": 5,
          "resource": "natural_gas_fired_combined_cycle"
         },
         {
          "gen_sum": 0,
          "hour": 5,
          "resource": "natural_gas_fired_combustion_turbine"
         },
         {
          "gen_sum": 0,
          "hour": 6,
          "resource": "natural_gas_fired_combined_cycle"
         },
         {
          "gen_sum": 0,
          "hour": 6,
          "resource": "natural_gas_fired_combustion_turbine"
         },
         {
          "gen_sum": 0,
          "hour": 7,
          "resource": "natural_gas_fired_combined_cycle"
         },
         {
          "gen_sum": 1,
          "hour": 7,
          "resource": "natural_gas_fired_combustion_turbine"
         },
         {
          "gen_sum": 0,
          "hour": 8,
          "resource": "natural_gas_fired_combined_cycle"
         },
         {
          "gen_sum": 1,
          "hour": 8,
          "resource": "natural_gas_fired_combustion_turbine"
         },
         {
          "gen_sum": 0,
          "hour": 9,
          "resource": "natural_gas_fired_combined_cycle"
         },
         {
          "gen_sum": 0,
          "hour": 9,
          "resource": "natural_gas_fired_combustion_turbine"
         },
         {
          "gen_sum": 0,
          "hour": 10,
          "resource": "natural_gas_fired_combined_cycle"
         },
         {
          "gen_sum": 0,
          "hour": 10,
          "resource": "natural_gas_fired_combustion_turbine"
         },
         {
          "gen_sum": 0,
          "hour": 11,
          "resource": "natural_gas_fired_combined_cycle"
         },
         {
          "gen_sum": 0,
          "hour": 11,
          "resource": "natural_gas_fired_combustion_turbine"
         },
         {
          "gen_sum": 0,
          "hour": 12,
          "resource": "natural_gas_fired_combined_cycle"
         },
         {
          "gen_sum": 0,
          "hour": 12,
          "resource": "natural_gas_fired_combustion_turbine"
         },
         {
          "gen_sum": 0,
          "hour": 13,
          "resource": "natural_gas_fired_combined_cycle"
         },
         {
          "gen_sum": 0,
          "hour": 13,
          "resource": "natural_gas_fired_combustion_turbine"
         },
         {
          "gen_sum": 0,
          "hour": 14,
          "resource": "natural_gas_fired_combined_cycle"
         },
         {
          "gen_sum": 0,
          "hour": 14,
          "resource": "natural_gas_fired_combustion_turbine"
         },
         {
          "gen_sum": 0,
          "hour": 15,
          "resource": "natural_gas_fired_combined_cycle"
         },
         {
          "gen_sum": 0,
          "hour": 15,
          "resource": "natural_gas_fired_combustion_turbine"
         },
         {
          "gen_sum": 0,
          "hour": 16,
          "resource": "natural_gas_fired_combined_cycle"
         },
         {
          "gen_sum": 0,
          "hour": 16,
          "resource": "natural_gas_fired_combustion_turbine"
         },
         {
          "gen_sum": 0,
          "hour": 17,
          "resource": "natural_gas_fired_combined_cycle"
         },
         {
          "gen_sum": 0,
          "hour": 17,
          "resource": "natural_gas_fired_combustion_turbine"
         },
         {
          "gen_sum": 0,
          "hour": 18,
          "resource": "natural_gas_fired_combined_cycle"
         },
         {
          "gen_sum": 0,
          "hour": 18,
          "resource": "natural_gas_fired_combustion_turbine"
         },
         {
          "gen_sum": 0,
          "hour": 19,
          "resource": "natural_gas_fired_combined_cycle"
         },
         {
          "gen_sum": 0,
          "hour": 19,
          "resource": "natural_gas_fired_combustion_turbine"
         },
         {
          "gen_sum": 0,
          "hour": 20,
          "resource": "natural_gas_fired_combined_cycle"
         },
         {
          "gen_sum": 0,
          "hour": 20,
          "resource": "natural_gas_fired_combustion_turbine"
         },
         {
          "gen_sum": 0,
          "hour": 21,
          "resource": "natural_gas_fired_combined_cycle"
         },
         {
          "gen_sum": 0,
          "hour": 21,
          "resource": "natural_gas_fired_combustion_turbine"
         },
         {
          "gen_sum": 0,
          "hour": 22,
          "resource": "natural_gas_fired_combined_cycle"
         },
         {
          "gen_sum": 0,
          "hour": 22,
          "resource": "natural_gas_fired_combustion_turbine"
         },
         {
          "gen_sum": 0,
          "hour": 23,
          "resource": "natural_gas_fired_combined_cycle"
         },
         {
          "gen_sum": 0,
          "hour": 23,
          "resource": "natural_gas_fired_combustion_turbine"
         }
        ]
       },
       "encoding": {
        "color": {
         "field": "resource",
         "scale": {
          "scheme": "category10"
         },
         "type": "nominal"
        },
        "x": {
         "field": "hour",
         "type": "quantitative"
        },
        "y": {
         "field": "gen_sum",
         "stack": "zero",
         "type": "quantitative"
        }
       },
       "mark": "area"
      },
      "image/png": "[encoded data removed]",
      "image/svg+xml": [
       "<svg xmlns=\"http://www.w3.org/2000/svg\" xmlns:xlink=\"http://www.w3.org/1999/xlink\" version=\"1.1\" class=\"marks\" width=\"438\" height=\"247\" viewBox=\"0 0 438 247\"><rect width=\"438\" height=\"247\" fill=\"white\"/><g fill=\"none\" stroke-miterlimit=\"10\" transform=\"translate(41,10)\"><g class=\"mark-group role-frame root\" role=\"graphics-object\" aria-roledescription=\"group mark container\"><g transform=\"translate(0,0)\"><path class=\"background\" aria-hidden=\"true\" d=\"M0.5,0.5h200v200h-200Z\" stroke=\"#ddd\"/><g><g class=\"mark-group role-axis\" aria-hidden=\"true\"><g transform=\"translate(0.5,200.5)\"><path class=\"background\" aria-hidden=\"true\" d=\"M0,0h0v0h0Z\" pointer-events=\"none\"/><g><g class=\"mark-rule role-axis-grid\" pointer-events=\"none\"><line transform=\"translate(0,-200)\" x2=\"0\" y2=\"200\" stroke=\"#ddd\" stroke-width=\"1\" opacity=\"1\"/><line transform=\"translate(42,-200)\" x2=\"0\" y2=\"200\" stroke=\"#ddd\" stroke-width=\"1\" opacity=\"1\"/><line transform=\"translate(83,-200)\" x2=\"0\" y2=\"200\" stroke=\"#ddd\" stroke-width=\"1\" opacity=\"1\"/><line transform=\"translate(125,-200)\" x2=\"0\" y2=\"200\" stroke=\"#ddd\" stroke-width=\"1\" opacity=\"1\"/><line transform=\"translate(167,-200)\" x2=\"0\" y2=\"200\" stroke=\"#ddd\" stroke-width=\"1\" opacity=\"1\"/></g></g><path class=\"foreground\" aria-hidden=\"true\" d=\"\" pointer-events=\"none\" display=\"none\"/></g></g><g class=\"mark-group role-axis\" aria-hidden=\"true\"><g transform=\"translate(0.5,0.5)\"><path class=\"background\" aria-hidden=\"true\" d=\"M0,0h0v0h0Z\" pointer-events=\"none\"/><g><g class=\"mark-rule role-axis-grid\" pointer-events=\"none\"><line transform=\"translate(0,200)\" x2=\"200\" y2=\"0\" stroke=\"#ddd\" stroke-width=\"1\" opacity=\"1\"/><line transform=\"translate(0,160)\" x2=\"200\" y2=\"0\" stroke=\"#ddd\" stroke-width=\"1\" opacity=\"1\"/><line transform=\"translate(0,120)\" x2=\"200\" y2=\"0\" stroke=\"#ddd\" stroke-width=\"1\" opacity=\"1\"/><line transform=\"translate(0,80)\" x2=\"200\" y2=\"0\" stroke=\"#ddd\" stroke-width=\"1\" opacity=\"1\"/><line transform=\"translate(0,40)\" x2=\"200\" y2=\"0\" stroke=\"#ddd\" stroke-width=\"1\" opacity=\"1\"/><line transform=\"translate(0,0)\" x2=\"200\" y2=\"0\" stroke=\"#ddd\" stroke-width=\"1\" opacity=\"1\"/></g></g><path class=\"foreground\" aria-hidden=\"true\" d=\"\" pointer-events=\"none\" display=\"none\"/></g></g><g class=\"mark-group role-axis\" role=\"graphics-symbol\" aria-roledescription=\"axis\" aria-label=\"X-axis titled 'hour' for a linear scale with values from 0 to 24\"><g transform=\"translate(0.5,200.5)\"><path class=\"background\" aria-hidden=\"true\" d=\"M0,0h0v0h0Z\" pointer-events=\"none\"/><g><g class=\"mark-rule role-axis-tick\" pointer-events=\"none\"><line transform=\"translate(0,0)\" x2=\"0\" y2=\"5\" stroke=\"#888\" stroke-width=\"1\" opacity=\"1\"/><line transform=\"translate(42,0)\" x2=\"0\" y2=\"5\" stroke=\"#888\" stroke-width=\"1\" opacity=\"1\"/><line transform=\"translate(83,0)\" x2=\"0\" y2=\"5\" stroke=\"#888\" stroke-width=\"1\" opacity=\"1\"/><line transform=\"translate(125,0)\" x2=\"0\" y2=\"5\" stroke=\"#888\" stroke-width=\"1\" opacity=\"1\"/><line transform=\"translate(167,0)\" x2=\"0\" y2=\"5\" stroke=\"#888\" stroke-width=\"1\" opacity=\"1\"/></g><g class=\"mark-text role-axis-label\" pointer-events=\"none\"><text text-anchor=\"start\" transform=\"translate(0,15)\" font-family=\"sans-serif\" font-size=\"10px\" fill=\"#000\" opacity=\"1\">0</text><text text-anchor=\"middle\" transform=\"translate(41.66666666666667,15)\" font-family=\"sans-serif\" font-size=\"10px\" fill=\"#000\" opacity=\"1\">5</text><text text-anchor=\"middle\" transform=\"translate(83.33333333333334,15)\" font-family=\"sans-serif\" font-size=\"10px\" fill=\"#000\" opacity=\"1\">10</text><text text-anchor=\"middle\" transform=\"translate(125,15)\" font-family=\"sans-serif\" font-size=\"10px\" fill=\"#000\" opacity=\"1\">15</text><text text-anchor=\"middle\" transform=\"translate(166.66666666666669,15)\" font-family=\"sans-serif\" font-size=\"10px\" fill=\"#000\" opacity=\"1\">20</text></g><g class=\"mark-rule role-axis-domain\" pointer-events=\"none\"><line transform=\"translate(0,0)\" x2=\"200\" y2=\"0\" stroke=\"#888\" stroke-width=\"1\" opacity=\"1\"/></g><g class=\"mark-text role-axis-title\" pointer-events=\"none\"><text text-anchor=\"middle\" transform=\"translate(100,30)\" font-family=\"sans-serif\" font-size=\"11px\" font-weight=\"bold\" fill=\"#000\" opacity=\"1\">hour</text></g></g><path class=\"foreground\" aria-hidden=\"true\" d=\"\" pointer-events=\"none\" display=\"none\"/></g></g><g class=\"mark-group role-axis\" role=\"graphics-symbol\" aria-roledescription=\"axis\" aria-label=\"Y-axis titled 'gen_sum' for a linear scale with values from 0.0 to 1.0\"><g transform=\"translate(0.5,0.5)\"><path class=\"background\" aria-hidden=\"true\" d=\"M0,0h0v0h0Z\" pointer-events=\"none\"/><g><g class=\"mark-rule role-axis-tick\" pointer-events=\"none\"><line transform=\"translate(0,200)\" x2=\"-5\" y2=\"0\" stroke=\"#888\" stroke-width=\"1\" opacity=\"1\"/><line transform=\"translate(0,160)\" x2=\"-5\" y2=\"0\" stroke=\"#888\" stroke-width=\"1\" opacity=\"1\"/><line transform=\"translate(0,120)\" x2=\"-5\" y2=\"0\" stroke=\"#888\" stroke-width=\"1\" opacity=\"1\"/><line transform=\"translate(0,80)\" x2=\"-5\" y2=\"0\" stroke=\"#888\" stroke-width=\"1\" opacity=\"1\"/><line transform=\"translate(0,40)\" x2=\"-5\" y2=\"0\" stroke=\"#888\" stroke-width=\"1\" opacity=\"1\"/><line transform=\"translate(0,0)\" x2=\"-5\" y2=\"0\" stroke=\"#888\" stroke-width=\"1\" opacity=\"1\"/></g><g class=\"mark-text role-axis-label\" pointer-events=\"none\"><text text-anchor=\"end\" transform=\"translate(-7,203)\" font-family=\"sans-serif\" font-size=\"10px\" fill=\"#000\" opacity=\"1\">0.0</text><text text-anchor=\"end\" transform=\"translate(-7,163)\" font-family=\"sans-serif\" font-size=\"10px\" fill=\"#000\" opacity=\"1\">0.2</text><text text-anchor=\"end\" transform=\"translate(-7,123)\" font-family=\"sans-serif\" font-size=\"10px\" fill=\"#000\" opacity=\"1\">0.4</text><text text-anchor=\"end\" transform=\"translate(-7,83)\" font-family=\"sans-serif\" font-size=\"10px\" fill=\"#000\" opacity=\"1\">0.6</text><text text-anchor=\"end\" transform=\"translate(-7,42.99999999999999)\" font-family=\"sans-serif\" font-size=\"10px\" fill=\"#000\" opacity=\"1\">0.8</text><text text-anchor=\"end\" transform=\"translate(-7,3)\" font-family=\"sans-serif\" font-size=\"10px\" fill=\"#000\" opacity=\"1\">1.0</text></g><g class=\"mark-rule role-axis-domain\" pointer-events=\"none\"><line transform=\"translate(0,200)\" x2=\"0\" y2=\"-200\" stroke=\"#888\" stroke-width=\"1\" opacity=\"1\"/></g><g class=\"mark-text role-axis-title\" pointer-events=\"none\"><text text-anchor=\"middle\" transform=\"translate(-24.9453125,100) rotate(-90) translate(0,-2)\" font-family=\"sans-serif\" font-size=\"11px\" font-weight=\"bold\" fill=\"#000\" opacity=\"1\">gen_sum</text></g></g><path class=\"foreground\" aria-hidden=\"true\" d=\"\" pointer-events=\"none\" display=\"none\"/></g></g><g class=\"mark-group role-scope pathgroup\" role=\"graphics-object\" aria-roledescription=\"group mark container\"><g transform=\"translate(0,0)\"><path class=\"background\" aria-hidden=\"true\" d=\"M0,0h200v200h-200Z\"/><g><g class=\"mark-area role-mark marks\" role=\"graphics-object\" aria-roledescription=\"area mark container\"><path aria-label=\"hour: 0; gen_sum: 0; resource: natural_gas_fired_combined_cycle\" role=\"graphics-symbol\" aria-roledescription=\"area mark\" d=\"M0,200L8.333,200L16.667,200L25,200L33.333,200L41.667,200L50,200L58.333,0L66.667,0L75,200L83.333,200L91.667,200L100,200L108.333,200L116.667,200L125,200L133.333,200L141.667,200L150,200L158.333,200L166.667,200L175,200L183.333,200L191.667,200L191.667,200L183.333,200L175,200L166.667,200L158.333,200L150,200L141.667,200L133.333,200L125,200L116.667,200L108.333,200L100,200L91.667,200L83.333,200L75,200L66.667,0L58.333,0L50,200L41.667,200L33.333,200L25,200L16.667,200L8.333,200L0,200Z\" fill=\"#1f77b4\"/></g></g><path class=\"foreground\" aria-hidden=\"true\" d=\"\" display=\"none\"/></g><g transform=\"translate(0,0)\"><path class=\"background\" aria-hidden=\"true\" d=\"M0,0h200v200h-200Z\"/><g><g class=\"mark-area role-mark marks\" role=\"graphics-object\" aria-roledescription=\"area mark container\"><path aria-label=\"hour: 0; gen_sum: 0; resource: natural_gas_fired_combustion_turbine\" role=\"graphics-symbol\" aria-roledescription=\"area mark\" d=\"M0,200L8.333,200L16.667,200L25,200L33.333,200L41.667,200L50,200L58.333,0L66.667,0L75,200L83.333,200L91.667,200L100,200L108.333,200L116.667,200L125,200L133.333,200L141.667,200L150,200L158.333,200L166.667,200L175,200L183.333,200L191.667,200L191.667,200L183.333,200L175,200L166.667,200L158.333,200L150,200L141.667,200L133.333,200L125,200L116.667,200L108.333,200L100,200L91.667,200L83.333,200L75,200L66.667,200L58.333,200L50,200L41.667,200L33.333,200L25,200L16.667,200L8.333,200L0,200Z\" fill=\"#ff7f0e\"/></g></g><path class=\"foreground\" aria-hidden=\"true\" d=\"\" display=\"none\"/></g></g><g class=\"mark-group role-legend\" role=\"graphics-symbol\" aria-roledescription=\"legend\" aria-label=\"Symbol legend titled 'resource' for fill color with 2 values: natural_gas_fired_combined_cycle, natural_gas_fired_combustion_turbine\"><g transform=\"translate(218,0)\"><path class=\"background\" aria-hidden=\"true\" d=\"M0,0h174v40h-174Z\" pointer-events=\"none\"/><g><g class=\"mark-group role-legend-entry\"><g transform=\"translate(0,16)\"><path class=\"background\" aria-hidden=\"true\" d=\"M0,0h0v0h0Z\" pointer-events=\"none\"/><g><g class=\"mark-group role-scope\" role=\"graphics-object\" aria-roledescription=\"group mark container\"><g transform=\"translate(0,0)\"><path class=\"background\" aria-hidden=\"true\" d=\"M0,0h173.59765625v11h-173.59765625Z\" pointer-events=\"none\" opacity=\"1\"/><g><g class=\"mark-symbol role-legend-symbol\" pointer-events=\"none\"><path transform=\"translate(6,6)\" d=\"M5,0A5,5,0,1,1,-5,0A5,5,0,1,1,5,0\" fill=\"#1f77b4\" stroke-width=\"1.5\" opacity=\"1\"/></g><g class=\"mark-text role-legend-label\" pointer-events=\"none\"><text text-anchor=\"start\" transform=\"translate(16,9)\" font-family=\"sans-serif\" font-size=\"10px\" fill=\"#000\" opacity=\"1\">natural_gas_fired_combined_cycle</text></g></g><path class=\"foreground\" aria-hidden=\"true\" d=\"\" pointer-events=\"none\" display=\"none\"/></g><g transform=\"translate(0,13)\"><path class=\"background\" aria-hidden=\"true\" d=\"M0,0h173.59765625v11h-173.59765625Z\" pointer-events=\"none\" opacity=\"1\"/><g><g class=\"mark-symbol role-legend-symbol\" pointer-events=\"none\"><path transform=\"translate(6,6)\" d=\"M5,0A5,5,0,1,1,-5,0A5,5,0,1,1,5,0\" fill=\"#ff7f0e\" stroke-width=\"1.5\" opacity=\"1\"/></g><g class=\"mark-text role-legend-label\" pointer-events=\"none\"><text text-anchor=\"start\" transform=\"translate(16,9)\" font-family=\"sans-serif\" font-size=\"10px\" fill=\"#000\" opacity=\"1\">natural_gas_fired_combustion_tur…</text></g></g><path class=\"foreground\" aria-hidden=\"true\" d=\"\" pointer-events=\"none\" display=\"none\"/></g></g></g><path class=\"foreground\" aria-hidden=\"true\" d=\"\" pointer-events=\"none\" display=\"none\"/></g></g><g class=\"mark-text role-legend-title\" pointer-events=\"none\"><text text-anchor=\"start\" transform=\"translate(0,9)\" font-family=\"sans-serif\" font-size=\"11px\" font-weight=\"bold\" fill=\"#000\" opacity=\"1\">resource</text></g></g><path class=\"foreground\" aria-hidden=\"true\" d=\"\" pointer-events=\"none\" display=\"none\"/></g></g></g><path class=\"foreground\" aria-hidden=\"true\" d=\"\" display=\"none\"/></g></g></g></svg>"
      ],
      "text/plain": [
       "@vlplot(\n",
       "    mark=\"area\",\n",
       "    encoding={\n",
       "        x={\n",
       "            field=\"hour\"\n",
       "        },\n",
       "        y={\n",
       "            stack=\"zero\",\n",
       "            field=\"gen_sum\"\n",
       "        },\n",
       "        color={\n",
       "            scale={\n",
       "                scheme=\"category10\"\n",
       "            },\n",
       "            field=\"resource\",\n",
       "            type=\"nominal\"\n",
       "        }\n",
       "    },\n",
       "    data={\n",
       "        values=...\n",
       "    }\n",
       ")"
      ]
     },
     "metadata": {},
     "output_type": "display_data"
    }
   ],
   "source": [
    "sol_start = innerjoin(solution.start, \n",
    "                    gen_df[!, [:r_id, :resource]], \n",
    "                    on = :r_id)\n",
    "sol_start = combine(groupby(sol_start, [:resource, :hour]), \n",
    "            :gen => sum)\n",
    "sol_start.hour = sol_start.hour .- T_period[1]\n",
    "\n",
    "sol_start |>\n",
    "@vlplot(:area, \n",
    "    x=:hour, y={:gen_sum, stack=:zero}, \n",
    "    color={\"resource:n\", scale={scheme=\"category10\"}})"
   ]
  },
  {
   "cell_type": "markdown",
   "metadata": {},
   "source": [
    "### Further resources\n",
    "\n",
    "Knueven, B., Ostrowski, J., & Watson, J.-P. (2019). On Mixed Integer Programming Formulations for the Unit Commitment Problem. Optimization Online, 91. http://www.optimization-online.org/DB_FILE/2018/11/6930.pdf\n",
    "\n",
    "Morales-Espana, G., Latorre, J. M., & Ramos, A. (2013). Tight and Compact MILP Formulation of Start-Up and Shut-Down Ramping in Unit Commitment. IEEE Transactions on Power Systems, 28(2), 1288–1296. https://doi.org/10.1109/TPWRS.2012.2222938\n",
    "\n",
    "Morales-España, G., Ramírez-Elizondo, L., & Hobbs, B. F. (2017). Hidden power system inflexibilities imposed by traditional unit commitment formulations. Applied Energy, 191, 223–238. https://doi.org/10.1016/j.apenergy.2017.01.089\n",
    "\n",
    "Ostrowski, J., Anjos, M. F., & Vannelli, A. (2012). Tight Mixed Integer Linear Programming Formulations for the Unit Commitment Problem. IEEE Transactions on Power Systems, 27(1), 39–46. https://doi.org/10.1109/TPWRS.2011.2162008"
   ]
  }
 ],
 "metadata": {
  "@webio": {
   "lastCommId": null,
   "lastKernelId": null
  },
  "kernelspec": {
   "display_name": "Julia 1.8.0",
   "language": "julia",
   "name": "julia-1.8"
  },
  "language_info": {
   "file_extension": ".jl",
   "mimetype": "application/julia",
   "name": "julia",
   "version": "1.8.0"
  }
 },
 "nbformat": 4,
 "nbformat_minor": 2
}
